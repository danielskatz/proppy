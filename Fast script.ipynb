{
 "cells": [
  {
   "cell_type": "code",
   "execution_count": 1,
   "id": "6cf36f3f",
   "metadata": {},
   "outputs": [],
   "source": [
    "from numba import jit\n",
    "import numpy as np\n",
    "from numba import jit, int32, float32, types, typed\n",
    "from numba.typed import List\n",
    "from numba.experimental import jitclass\n",
    "import matplotlib.pyplot as plt"
   ]
  },
  {
   "cell_type": "code",
   "execution_count": 23,
   "id": "3831a4c7",
   "metadata": {},
   "outputs": [],
   "source": [
    "gyro_radius = 3.086*10**17 # 10 PeV proton in 1 mucro Gauss B field\n",
    "steps_per_gyration = 50\n",
    "c = 3*10**8"
   ]
  },
  {
   "cell_type": "code",
   "execution_count": 61,
   "id": "5654d09c",
   "metadata": {},
   "outputs": [],
   "source": [
    "@jit(nopython=True, fastmath=True)\n",
    "def propagate(particle_id, spheres):\n",
    "    pos = [0.0, 0.0, 0.0]\n",
    "    phi = 0.0\n",
    "    particle_info = []\n",
    "    direction = [1,1,1]\n",
    "    isotrop = False\n",
    "    distance = 0.0\n",
    "    \n",
    "    for i in range(1,10**5): \n",
    "        pos_prev = pos\n",
    "        \n",
    "        ### change direction #############################################################\n",
    "        if np.random.random() < 0.0002:\n",
    "            direction[0] = -1*direction[0]\n",
    "        if np.random.random() < 0.003:\n",
    "            direction[1] = -1*direction[1]\n",
    "        if np.random.random() < 0.003:\n",
    "            direction[2] = -1*direction[2]\n",
    "            \n",
    "        ### move in updated direction ####################################################\n",
    "        if isotrop:\n",
    "            normalize = (direction[0]**2+direction[1]**2+direction[2]**2)**0.5\n",
    "            time = i # ToDo change this (need to incooperate steplength)\n",
    "            for j in range(3):\n",
    "                pos[j] = pos[j] + direction[j]/normalize\n",
    "        else:\n",
    "            phi_old = phi\n",
    "            phi = phi_old + 2 * np.pi / steps_per_gyration\n",
    "            ### move in phi direction \n",
    "            ### distance_travelled = 2*pi*gyro_radius / steps_per_gyration (only for small phi)\n",
    "            delta_x = gyro_radius * (np.cos(phi) - np.cos(phi_old)) * direction[0]\n",
    "            delta_y = gyro_radius * (np.sin(phi) - np.sin(phi_old)) * direction[0]\n",
    "            ### move in rho direction\n",
    "            ### distance_travelled = 2*pi*gyro_radius / steps_per_gyration\n",
    "            delta_x = delta_x + np.cos(phi) * gyro_radius * direction[1] * 2 * np.pi / steps_per_gyration\n",
    "            delta_y = delta_y + np.sin(phi) * gyro_radius * direction[1] * 2 * np.pi / steps_per_gyration\n",
    "            ### move in z direction as much as in the x or y-direction\n",
    "            delta_z = direction[2] * ((delta_x**2+delta_y**2)/2)**0.5\n",
    "            ### move !!!\n",
    "            pos[0] = pos[0] + delta_x\n",
    "            pos[1] = pos[1] + delta_y\n",
    "            pos[2] = pos[2] + delta_z\n",
    "            ### distance_travelled\n",
    "            distance_in_step = (delta_x**2+delta_y**2+delta_z**2)**0.5\n",
    "            distance = distance + distance_in_step\n",
    "\n",
    "        \n",
    "        ### observer ####################################################################\n",
    "        r2_prev = pos_prev[0]**2+pos_prev[1]**2+pos_prev[2]**2\n",
    "        r2 = pos[0]**2+pos[1]**2+pos[2]**2\n",
    "        if i<1000 or i%500 == 0:\n",
    "            particle_info.append([particle_id, i, distance, pos[0], pos[1], pos[2], -1.0])\n",
    "        for r2_sphere in spheres:\n",
    "            if r2_prev > r2_sphere and r2 <= r2_sphere or r2_prev < r2_sphere and r2 >= r2_sphere:\n",
    "                particle_info.append([particle_id, i, distance, pos[0], pos[1], pos[2], r2_sphere*1.0])\n",
    "        \n",
    "    return particle_info"
   ]
  },
  {
   "cell_type": "code",
   "execution_count": 62,
   "id": "1f563685",
   "metadata": {},
   "outputs": [],
   "source": [
    "@jit(nopython=True)\n",
    "def many_particles(observer_spheres):\n",
    "    data = [[0.0, 0.0, 0.0, 0.0, -1.0]]\n",
    "    for i in range(10**2):\n",
    "        particle_id = i\n",
    "        data_new = propagate(particle_id, observer_spheres)\n",
    "        data = data + data_new\n",
    "\n",
    "    print('finished')\n",
    "    return data"
   ]
  },
  {
   "cell_type": "code",
   "execution_count": null,
   "id": "7a085f54",
   "metadata": {},
   "outputs": [],
   "source": [
    "observer_spheres = np.array([-1.0]) \n",
    "%time data = many_particles(observer_spheres)"
   ]
  },
  {
   "cell_type": "code",
   "execution_count": null,
   "id": "79f9f0e7",
   "metadata": {},
   "outputs": [],
   "source": [
    "import pandas as pd\n",
    "df = pd.DataFrame(data[1:])\n",
    "df.columns = ['id', 'i', 'd', 'x', 'y', 'z', 'radius']\n",
    "df"
   ]
  },
  {
   "cell_type": "code",
   "execution_count": null,
   "id": "f19bddb4",
   "metadata": {},
   "outputs": [],
   "source": [
    "# remove duplicated elements from list of times \n",
    "steps = []\n",
    "[steps.append(i) for i in df['i'] if i not in steps]\n",
    "kappa_perp = []\n",
    "kappa_para = []\n",
    "for i in steps:\n",
    "    df_i = df.loc[df['i'] == i] # all particles per step\n",
    "    kappa_perp.append(np.mean(np.array((df_i['x'].values**2+df_i['y'].values**2))/(4*np.array(df_i['d'].values))*c))\n",
    "    kappa_para.append(np.mean(np.array(df_i['z'].values**2)/(2*np.array(df_i['d'].values))*c))"
   ]
  },
  {
   "cell_type": "code",
   "execution_count": null,
   "id": "59cef480",
   "metadata": {},
   "outputs": [],
   "source": [
    "from modules.Plotter import Plotter\n",
    "import matplotlib.pyplot as plt\n",
    "### each step is one second -> times = steps\n",
    "plt.plot(np.array(steps)/steps_per_gyration, np.array(kappa_perp)*10**4, label='$\\kappa_\\perp$')\n",
    "plt.plot(np.array(steps)/steps_per_gyration, np.array(kappa_para)*10**4, label='$\\kappa_\\parallel$')\n",
    "plt.xlabel('distance [gyroorbit]')\n",
    "plt.ylabel('$\\kappa$ [cm$^2$/s]')\n",
    "plt.legend()\n",
    "plt.loglog()\n",
    "plt.show()"
   ]
  },
  {
   "cell_type": "code",
   "execution_count": 235,
   "id": "f4e60128",
   "metadata": {},
   "outputs": [
    {
     "name": "stdout",
     "output_type": "stream",
     "text": [
      "4.080085153263209\n"
     ]
    }
   ],
   "source": [
    "print(np.log10(np.mean(kappa_para[-10:]))-np.log10(np.mean(kappa_perp[-10:])))"
   ]
  },
  {
   "cell_type": "markdown",
   "id": "244c14f7",
   "metadata": {},
   "source": [
    "### Lessons learned\n",
    "\n",
    "The parameter steps_per_gyration moves the first minimum linearly, which is expected -> increasing by 10 moves minima by factor 10 to right"
   ]
  },
  {
   "cell_type": "code",
   "execution_count": null,
   "id": "abe9d3b4",
   "metadata": {},
   "outputs": [],
   "source": []
  }
 ],
 "metadata": {
  "kernelspec": {
   "display_name": "Python 3",
   "language": "python",
   "name": "python3"
  },
  "language_info": {
   "codemirror_mode": {
    "name": "ipython",
    "version": 3
   },
   "file_extension": ".py",
   "mimetype": "text/x-python",
   "name": "python",
   "nbconvert_exporter": "python",
   "pygments_lexer": "ipython3",
   "version": "3.9.5"
  }
 },
 "nbformat": 4,
 "nbformat_minor": 5
}
