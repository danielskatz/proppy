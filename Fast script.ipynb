{
 "cells": [
  {
   "cell_type": "code",
   "execution_count": 185,
   "id": "9fbf6c8f",
   "metadata": {},
   "outputs": [],
   "source": [
    "from numba import jit\n",
    "import numpy as np\n",
    "from numba import jit, int32, float32, types, typed\n",
    "from numba.typed import List\n",
    "from numba.experimental import jitclass\n",
    "import matplotlib.pyplot as plt"
   ]
  },
  {
   "cell_type": "code",
   "execution_count": 186,
   "id": "2d7a665a",
   "metadata": {},
   "outputs": [],
   "source": [
    "@jit(nopython=True)\n",
    "def propagate(particle_id, spheres):\n",
    "    pos = [0.0, 0.0, 0.0]\n",
    "    particle_info = []\n",
    "    direction = [1,1,1]\n",
    "    \n",
    "    for i in range(1,10**5): \n",
    "        pos_prev = pos\n",
    "        \n",
    "        ### change direction ############################################################\n",
    "        if np.random.random() < 0.1:\n",
    "            direction[0] = -1*direction[0]\n",
    "        if np.random.random() < 0.1:\n",
    "            direction[1] = -1*direction[1]\n",
    "        if np.random.random() < 0.01:\n",
    "            direction[2] = -1*direction[2]\n",
    "            \n",
    "        ### move in direction ###########################################################\n",
    "        normalize = (direction[0]**2+direction[1]**2+direction[2]**2)**0.5\n",
    "        for j in range(3):\n",
    "            pos[j] = pos[j] + direction[j]/normalize\n",
    "        r2_prev = pos_prev[0]**2+pos_prev[1]**2+pos_prev[2]**2\n",
    "        r2 = pos[0]**2+pos[1]**2+pos[2]**2\n",
    "        \n",
    "        ### observer ####################################################################\n",
    "        if i<500 or i%500 == 0:\n",
    "            particle_info.append([particle_id, i, pos[0], pos[1], pos[2], -1.0])\n",
    "        for r2_sphere in spheres:\n",
    "            if r2_prev > r2_sphere and r2 <= r2_sphere or r2_prev < r2_sphere and r2 >= r2_sphere:\n",
    "                particle_info.append([particle_id, i, pos[0], pos[1], pos[2], r2_sphere*1.0])\n",
    "        \n",
    "    return particle_info"
   ]
  },
  {
   "cell_type": "code",
   "execution_count": 187,
   "id": "ba4f38b5",
   "metadata": {},
   "outputs": [],
   "source": [
    "@jit(nopython=True)\n",
    "def many_particles():\n",
    "    data = [[0.0, 0.0, 0.0, 0.0, -1.0]]\n",
    "    for i in range(10**3):\n",
    "        particle_id = i\n",
    "        data_new = propagate(particle_id, np.array([-1.0]))\n",
    "        data = data + data_new\n",
    "\n",
    "    print('finished')\n",
    "    return data"
   ]
  },
  {
   "cell_type": "code",
   "execution_count": 189,
   "id": "ac05acb7",
   "metadata": {},
   "outputs": [
    {
     "name": "stdout",
     "output_type": "stream",
     "text": [
      "finished\n",
      "Wall time: 16 s\n"
     ]
    }
   ],
   "source": [
    "%time data = many_particles()"
   ]
  },
  {
   "cell_type": "code",
   "execution_count": 190,
   "id": "dc3528a7",
   "metadata": {},
   "outputs": [
    {
     "data": {
      "text/html": [
       "<div>\n",
       "<style scoped>\n",
       "    .dataframe tbody tr th:only-of-type {\n",
       "        vertical-align: middle;\n",
       "    }\n",
       "\n",
       "    .dataframe tbody tr th {\n",
       "        vertical-align: top;\n",
       "    }\n",
       "\n",
       "    .dataframe thead th {\n",
       "        text-align: right;\n",
       "    }\n",
       "</style>\n",
       "<table border=\"1\" class=\"dataframe\">\n",
       "  <thead>\n",
       "    <tr style=\"text-align: right;\">\n",
       "      <th></th>\n",
       "      <th>id</th>\n",
       "      <th>t</th>\n",
       "      <th>x</th>\n",
       "      <th>y</th>\n",
       "      <th>z</th>\n",
       "      <th>radius</th>\n",
       "    </tr>\n",
       "  </thead>\n",
       "  <tbody>\n",
       "    <tr>\n",
       "      <th>0</th>\n",
       "      <td>0.0</td>\n",
       "      <td>1.0</td>\n",
       "      <td>0.577350</td>\n",
       "      <td>0.577350</td>\n",
       "      <td>0.577350</td>\n",
       "      <td>-1.0</td>\n",
       "    </tr>\n",
       "    <tr>\n",
       "      <th>1</th>\n",
       "      <td>0.0</td>\n",
       "      <td>2.0</td>\n",
       "      <td>1.154701</td>\n",
       "      <td>1.154701</td>\n",
       "      <td>1.154701</td>\n",
       "      <td>-1.0</td>\n",
       "    </tr>\n",
       "    <tr>\n",
       "      <th>2</th>\n",
       "      <td>0.0</td>\n",
       "      <td>3.0</td>\n",
       "      <td>1.732051</td>\n",
       "      <td>1.732051</td>\n",
       "      <td>1.732051</td>\n",
       "      <td>-1.0</td>\n",
       "    </tr>\n",
       "    <tr>\n",
       "      <th>3</th>\n",
       "      <td>0.0</td>\n",
       "      <td>4.0</td>\n",
       "      <td>2.309401</td>\n",
       "      <td>2.309401</td>\n",
       "      <td>2.309401</td>\n",
       "      <td>-1.0</td>\n",
       "    </tr>\n",
       "    <tr>\n",
       "      <th>4</th>\n",
       "      <td>0.0</td>\n",
       "      <td>5.0</td>\n",
       "      <td>2.886751</td>\n",
       "      <td>2.886751</td>\n",
       "      <td>2.886751</td>\n",
       "      <td>-1.0</td>\n",
       "    </tr>\n",
       "    <tr>\n",
       "      <th>...</th>\n",
       "      <td>...</td>\n",
       "      <td>...</td>\n",
       "      <td>...</td>\n",
       "      <td>...</td>\n",
       "      <td>...</td>\n",
       "      <td>...</td>\n",
       "    </tr>\n",
       "    <tr>\n",
       "      <th>697995</th>\n",
       "      <td>999.0</td>\n",
       "      <td>97500.0</td>\n",
       "      <td>-565.803264</td>\n",
       "      <td>-344.100760</td>\n",
       "      <td>38.105118</td>\n",
       "      <td>-1.0</td>\n",
       "    </tr>\n",
       "    <tr>\n",
       "      <th>697996</th>\n",
       "      <td>999.0</td>\n",
       "      <td>98000.0</td>\n",
       "      <td>-513.841740</td>\n",
       "      <td>-360.266568</td>\n",
       "      <td>72.746134</td>\n",
       "      <td>-1.0</td>\n",
       "    </tr>\n",
       "    <tr>\n",
       "      <th>697997</th>\n",
       "      <td>999.0</td>\n",
       "      <td>98500.0</td>\n",
       "      <td>-433.012702</td>\n",
       "      <td>-352.183664</td>\n",
       "      <td>-2.309401</td>\n",
       "      <td>-1.0</td>\n",
       "    </tr>\n",
       "    <tr>\n",
       "      <th>697998</th>\n",
       "      <td>999.0</td>\n",
       "      <td>99000.0</td>\n",
       "      <td>-357.957167</td>\n",
       "      <td>-385.669980</td>\n",
       "      <td>-167.431578</td>\n",
       "      <td>-1.0</td>\n",
       "    </tr>\n",
       "    <tr>\n",
       "      <th>697999</th>\n",
       "      <td>999.0</td>\n",
       "      <td>99500.0</td>\n",
       "      <td>-366.040071</td>\n",
       "      <td>-422.620397</td>\n",
       "      <td>-1.154701</td>\n",
       "      <td>-1.0</td>\n",
       "    </tr>\n",
       "  </tbody>\n",
       "</table>\n",
       "<p>698000 rows × 6 columns</p>\n",
       "</div>"
      ],
      "text/plain": [
       "           id        t           x           y           z  radius\n",
       "0         0.0      1.0    0.577350    0.577350    0.577350    -1.0\n",
       "1         0.0      2.0    1.154701    1.154701    1.154701    -1.0\n",
       "2         0.0      3.0    1.732051    1.732051    1.732051    -1.0\n",
       "3         0.0      4.0    2.309401    2.309401    2.309401    -1.0\n",
       "4         0.0      5.0    2.886751    2.886751    2.886751    -1.0\n",
       "...       ...      ...         ...         ...         ...     ...\n",
       "697995  999.0  97500.0 -565.803264 -344.100760   38.105118    -1.0\n",
       "697996  999.0  98000.0 -513.841740 -360.266568   72.746134    -1.0\n",
       "697997  999.0  98500.0 -433.012702 -352.183664   -2.309401    -1.0\n",
       "697998  999.0  99000.0 -357.957167 -385.669980 -167.431578    -1.0\n",
       "697999  999.0  99500.0 -366.040071 -422.620397   -1.154701    -1.0\n",
       "\n",
       "[698000 rows x 6 columns]"
      ]
     },
     "execution_count": 190,
     "metadata": {},
     "output_type": "execute_result"
    }
   ],
   "source": [
    "import pandas as pd\n",
    "df = pd.DataFrame(data[1:])\n",
    "df.columns = ['id', 't', 'x', 'y', 'z', 'radius']\n",
    "df"
   ]
  },
  {
   "cell_type": "code",
   "execution_count": 191,
   "id": "0813cbda",
   "metadata": {},
   "outputs": [],
   "source": [
    "nr_particles = 100\n",
    "# remove duplicated elements from list of times \n",
    "times = []\n",
    "[times.append(t) for t in df['t'] if t not in times]\n",
    "kappa_perp = []\n",
    "kappa_para = []\n",
    "for t in times:\n",
    "    df_t = df.loc[df['t'] ==  t]\n",
    "    kappa_perp.append(np.mean((df_t['x'].values**2+df_t['y'].values**2))/(4*t))\n",
    "    kappa_para.append(np.mean(df_t['z'].values**2)/(2*t))\n",
    "    "
   ]
  },
  {
   "cell_type": "code",
   "execution_count": 192,
   "id": "4b5ba1ac",
   "metadata": {},
   "outputs": [
    {
     "data": {
      "image/png": "[encoded data removed]",
      "text/plain": [
       "<Figure size 432x288 with 1 Axes>"
      ]
     },
     "metadata": {
      "needs_background": "light"
     },
     "output_type": "display_data"
    }
   ],
   "source": [
    "from modules.Plotter import Plotter\n",
    "import matplotlib.pyplot as plt\n",
    "plt.scatter(times, kappa_perp, label='$\\kappa_\\perp$')\n",
    "plt.scatter(times, kappa_para, label='$\\kappa_\\parallel$')\n",
    "plt.legend()\n",
    "plt.loglog()\n",
    "plt.show()"
   ]
  },
  {
   "cell_type": "code",
   "execution_count": null,
   "id": "00b1b912",
   "metadata": {},
   "outputs": [],
   "source": []
  }
 ],
 "metadata": {
  "kernelspec": {
   "display_name": "Python 3",
   "language": "python",
   "name": "python3"
  },
  "language_info": {
   "codemirror_mode": {
    "name": "ipython",
    "version": 3
   },
   "file_extension": ".py",
   "mimetype": "text/x-python",
   "name": "python",
   "nbconvert_exporter": "python",
   "pygments_lexer": "ipython3",
   "version": "3.9.5"
  }
 },
 "nbformat": 4,
 "nbformat_minor": 5
}
