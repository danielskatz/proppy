{
 "cells": [
  {
   "cell_type": "code",
   "execution_count": 1,
   "id": "97104886",
   "metadata": {},
   "outputs": [],
   "source": [
    "from numba import jit\n",
    "import numpy as np\n",
    "from numba import jit, int32, float32, types, typed\n",
    "from numba.typed import List\n",
    "from numba.experimental import jitclass\n",
    "import matplotlib.pyplot as plt\n",
    "import pandas as pd\n",
    "from modules.Plotter import Plotter"
   ]
  },
  {
   "cell_type": "markdown",
   "id": "43ccbca8",
   "metadata": {},
   "source": [
    "### Constants"
   ]
  },
  {
   "cell_type": "code",
   "execution_count": 2,
   "id": "c4b774a1",
   "metadata": {},
   "outputs": [],
   "source": [
    "c = 3*10**8 # [m^2/s]"
   ]
  },
  {
   "cell_type": "code",
   "execution_count": 3,
   "id": "f3b38a32",
   "metadata": {},
   "outputs": [],
   "source": [
    "@jit(nopython=True, fastmath=True, parallel = True)\n",
    "def propagate(particle_id, gyro_radius, v, delta_rho_div_phi, mean_free_path, spheres):\n",
    "    pos = [0.0, 0.0, 0.0]\n",
    "    phi = 0.0\n",
    "    particle_info = []\n",
    "    direction = [1,1,1]\n",
    "    isotrop = False\n",
    "    distance = 0.0\n",
    "    tau_step = gyro_radius / v\n",
    "    tau = [1.0*mean_free_path[0] / v, 1.0*mean_free_path[1] / v] # [s] time needed to reach plateau\n",
    "    xi = [1.0 / tau[0], 1.0 / tau[1]] # [1/s] frequency of change\n",
    "    prob = [xi[0] * tau_step, xi[1] * tau_step]\n",
    "    \n",
    "    for i in range(1,10**5): \n",
    "        pos_prev = pos\n",
    "        \n",
    "        ### change direction #############################################################\n",
    "        if np.random.random() < prob[0]:\n",
    "            direction[0] = -1*direction[0]\n",
    "        if np.random.random() < prob[0]:\n",
    "            direction[1] = -1*direction[1]\n",
    "        if np.random.random() < prob[1]:\n",
    "            direction[2] = -1*direction[2]\n",
    "            \n",
    "        ### move in updated direction ####################################################\n",
    "        if isotrop:\n",
    "            normalize = (direction[0]**2 + direction[1]**2 + direction[2]**2)**0.5\n",
    "            time = i # ToDo change this (need to incooperate steplength)\n",
    "            for j in range(3):\n",
    "                pos[j] = pos[j] + direction[j]/normalize\n",
    "        else:\n",
    "            ### move in z direction as much as in the x or y-direction (in average)\n",
    "            distance_in_step = v * tau_step\n",
    "            distance = distance + distance_in_step\n",
    "            chi_z = direction[2] * distance_in_step / 3**0.5\n",
    "            delta_r_squared = 2/3 * v**2 * tau_step**2  # delta_r_squared = delta_phi_squared + delta_rho_squared\n",
    "                 \n",
    "            ### move in phi direction \n",
    "            phi_old = phi\n",
    "            delta_r_phi = (delta_r_squared / (1 + delta_rho_div_phi**2))**0.5\n",
    "            delta_phi = np.arccos(1 - delta_r_phi**2 / (2 * gyro_radius**2))\n",
    "            phi = phi_old + delta_phi * direction[0]\n",
    "            chi_x = gyro_radius * (np.cos(phi) - np.cos(phi_old)) \n",
    "            chi_y = gyro_radius * (np.sin(phi) - np.sin(phi_old))\n",
    "             \n",
    "            ### move in rho direction\n",
    "            delta_rho = delta_rho_div_phi * delta_r_phi\n",
    "            chi_x = chi_x + np.cos(phi) * direction[1] * delta_rho\n",
    "            chi_y = chi_y + np.sin(phi) * direction[1] * delta_rho\n",
    "            \n",
    " \n",
    "            ### move !!!\n",
    "            pos[0] = pos[0] + chi_x\n",
    "            pos[1] = pos[1] + chi_y\n",
    "            pos[2] = pos[2] + chi_z\n",
    "            \n",
    "\n",
    "        \n",
    "        ### observer ####################################################################\n",
    "        r2_prev = pos_prev[0]**2+pos_prev[1]**2+pos_prev[2]**2\n",
    "        r2 = pos[0]**2+pos[1]**2+pos[2]**2\n",
    "        if i<1000 or i%500 == 0:\n",
    "            particle_info.append([particle_id, i, distance, pos[0], pos[1], pos[2], -1.0])\n",
    "        for r2_sphere in spheres:\n",
    "            if r2_prev > r2_sphere and r2 <= r2_sphere or r2_prev < r2_sphere and r2 >= r2_sphere:\n",
    "                particle_info.append([particle_id, i, distance, pos[0], pos[1], pos[2], r2_sphere*1.0])\n",
    "        \n",
    "    return particle_info"
   ]
  },
  {
   "cell_type": "code",
   "execution_count": 4,
   "id": "b8f69a43",
   "metadata": {},
   "outputs": [],
   "source": [
    "@jit(nopython=True, fastmath=True, parallel = True)\n",
    "def many_particles(gyro_radius, v, delta_rho_div_phi, mean_free_path, observer_spheres):\n",
    "    data = [[0.0, 0.0, 0.0, 0.0, -1.0]]\n",
    "    for i in range(10**2):\n",
    "        particle_id = i\n",
    "        data_new = propagate(particle_id, gyro_radius, v, delta_rho_div_phi, mean_free_path, observer_spheres)\n",
    "        data = data + data_new\n",
    "\n",
    "    print('finished')\n",
    "    return data"
   ]
  },
  {
   "cell_type": "code",
   "execution_count": 5,
   "id": "e6ffb3f9",
   "metadata": {},
   "outputs": [],
   "source": [
    "def plot_kappa(df):\n",
    "    # remove duplicated elements from list of times \n",
    "    steps = []\n",
    "    [steps.append(i) for i in df['i'] if i not in steps]\n",
    "    kappa_perp = []\n",
    "    kappa_para = []\n",
    "    distance = []\n",
    "    for i in steps:\n",
    "        df_i = df.loc[df['i'] == i] # all particles per step\n",
    "        kappa_perp.append(np.mean(np.array((df_i['x'].values**2+df_i['y'].values**2))/(4*np.array(df_i['d'].values))*c))\n",
    "        kappa_para.append(np.mean(np.array(df_i['z'].values**2)/(2*np.array(df_i['d'].values))*c))\n",
    "        distance.append(np.mean(df_i['d'].values))\n",
    "        \n",
    "    print(np.log10(np.mean(kappa_para[-10:]))-np.log10(np.mean(kappa_perp[-10:])))\n",
    "        \n",
    "    plt.plot(np.array(distance) / (2 * np.pi * gyro_radius), np.array(kappa_perp)*10**4, label='$\\kappa_\\perp$')\n",
    "    plt.plot(np.array(distance) / (2 * np.pi * gyro_radius), np.array(kappa_para)*10**4, label='$\\kappa_\\parallel$')\n",
    "    plt.xlabel('distance [gyration]')\n",
    "    plt.ylabel('$\\kappa$ [cm$^2$/s]')\n",
    "    plt.legend()\n",
    "    plt.loglog()\n",
    "    plt.show()\n",
    "    \n",
    "    plt.axvline(x=mean_free_path[1], c='grey', ls='--', label='$\\lambda_\\parallel$')\n",
    "    plt.plot(distance, np.array(kappa_perp)*10**4, label='$\\kappa_\\perp$')\n",
    "    plt.plot(distance, np.array(kappa_para)*10**4, label='$\\kappa_\\parallel$')\n",
    "    plt.xlabel('distance [m]')\n",
    "    plt.ylabel('$\\kappa$ [cm$^2$/s]')\n",
    "    plt.legend()\n",
    "    plt.loglog()\n",
    "    plt.show()"
   ]
  },
  {
   "cell_type": "markdown",
   "id": "c2e60014",
   "metadata": {},
   "source": [
    "### Parameters"
   ]
  },
  {
   "cell_type": "code",
   "execution_count": 6,
   "id": "24d9d3a0",
   "metadata": {},
   "outputs": [],
   "source": [
    "gyro_radius = 3.086*10**17 # [m]; 10 PeV proton in 1 mucro Gauss B field\n",
    "v = c\n",
    "delta_rho_div_phi = 1.0 # (delta_rho / delta_phi)\n",
    "mean_free_path = [1.0*10**21, 1.0*10**21] # [m]\n",
    "observer_spheres = np.array([-1.0]) # just a time evolution observer"
   ]
  },
  {
   "cell_type": "code",
   "execution_count": 7,
   "id": "5d4c9c45",
   "metadata": {},
   "outputs": [
    {
     "name": "stderr",
     "output_type": "stream",
     "text": [
      "<ipython-input-4-6e95aa853b3c>:6: NumbaPendingDeprecationWarning: \u001b[1m\u001b[1m\n",
      "Encountered the use of a type that is scheduled for deprecation: type 'reflected list' found for argument 'mean_free_path' of function 'propagate'.\n",
      "\n",
      "For more information visit https://numba.pydata.org/numba-doc/latest/reference/deprecation.html#deprecation-of-reflection-for-list-and-set-types\n",
      "\u001b[1m\n",
      "File \"<ipython-input-3-888a01715ab2>\", line 2:\u001b[0m\n",
      "\u001b[1m@jit(nopython=True, fastmath=True, parallel = True)\n",
      "\u001b[1mdef propagate(particle_id, gyro_radius, v, delta_rho_div_phi, mean_free_path, spheres):\n",
      "\u001b[0m\u001b[1m^\u001b[0m\u001b[0m\n",
      "\u001b[0m\u001b[0m\n",
      "  data_new = propagate(particle_id, gyro_radius, v, delta_rho_div_phi, mean_free_path, observer_spheres)\n",
      "<ipython-input-4-6e95aa853b3c>:6: NumbaPerformanceWarning: \u001b[1m\u001b[1m\n",
      "The keyword argument 'parallel=True' was specified but no transformation for parallel execution was possible.\n",
      "\n",
      "To find out why, try turning on parallel diagnostics, see https://numba.pydata.org/numba-doc/latest/user/parallel.html#diagnostics for help.\n",
      "\u001b[1m\n",
      "File \"<ipython-input-3-888a01715ab2>\", line 2:\u001b[0m\n",
      "\u001b[1m@jit(nopython=True, fastmath=True, parallel = True)\n",
      "\u001b[1mdef propagate(particle_id, gyro_radius, v, delta_rho_div_phi, mean_free_path, spheres):\n",
      "\u001b[0m\u001b[1m^\u001b[0m\u001b[0m\n",
      "\u001b[0m\u001b[0m\n",
      "  data_new = propagate(particle_id, gyro_radius, v, delta_rho_div_phi, mean_free_path, observer_spheres)\n",
      "c:\\users\\patrick\\appdata\\local\\programs\\python\\python39\\lib\\site-packages\\numba\\core\\typed_passes.py:326: NumbaPerformanceWarning: \u001b[1m\n",
      "The keyword argument 'parallel=True' was specified but no transformation for parallel execution was possible.\n",
      "\n",
      "To find out why, try turning on parallel diagnostics, see https://numba.pydata.org/numba-doc/latest/user/parallel.html#diagnostics for help.\n",
      "\u001b[1m\n",
      "File \"<ipython-input-4-6e95aa853b3c>\", line 2:\u001b[0m\n",
      "\u001b[1m@jit(nopython=True, fastmath=True, parallel = True)\n",
      "\u001b[1mdef many_particles(gyro_radius, v, delta_rho_div_phi, mean_free_path, observer_spheres):\n",
      "\u001b[0m\u001b[1m^\u001b[0m\u001b[0m\n",
      "\u001b[0m\n",
      "  warnings.warn(errors.NumbaPerformanceWarning(msg,\n",
      "c:\\users\\patrick\\appdata\\local\\programs\\python\\python39\\lib\\site-packages\\numba\\core\\ir_utils.py:2119: NumbaPendingDeprecationWarning: \u001b[1m\n",
      "Encountered the use of a type that is scheduled for deprecation: type 'reflected list' found for argument 'mean_free_path' of function 'many_particles'.\n",
      "\n",
      "For more information visit https://numba.pydata.org/numba-doc/latest/reference/deprecation.html#deprecation-of-reflection-for-list-and-set-types\n",
      "\u001b[1m\n",
      "File \"<ipython-input-4-6e95aa853b3c>\", line 2:\u001b[0m\n",
      "\u001b[1m@jit(nopython=True, fastmath=True, parallel = True)\n",
      "\u001b[1mdef many_particles(gyro_radius, v, delta_rho_div_phi, mean_free_path, observer_spheres):\n",
      "\u001b[0m\u001b[1m^\u001b[0m\u001b[0m\n",
      "\u001b[0m\n",
      "  warnings.warn(NumbaPendingDeprecationWarning(msg, loc=loc))\n"
     ]
    },
    {
     "name": "stdout",
     "output_type": "stream",
     "text": [
      "finished\n",
      "Wall time: 2.86 s\n"
     ]
    }
   ],
   "source": [
    "%time data = many_particles(gyro_radius, v, delta_rho_div_phi, mean_free_path, observer_spheres)"
   ]
  },
  {
   "cell_type": "code",
   "execution_count": 90,
   "id": "be7e1b71",
   "metadata": {},
   "outputs": [
    {
     "data": {
      "image/png": "[encoded data removed]",
      "text/plain": [
       "<Figure size 432x288 with 1 Axes>"
      ]
     },
     "metadata": {
      "needs_background": "light"
     },
     "output_type": "display_data"
    },
    {
     "name": "stdout",
     "output_type": "stream",
     "text": [
      "5.963847994534664\n"
     ]
    },
    {
     "data": {
      "image/png": "[encoded data removed]",
      "text/plain": [
       "<Figure size 432x288 with 1 Axes>"
      ]
     },
     "metadata": {
      "needs_background": "light"
     },
     "output_type": "display_data"
    },
    {
     "data": {
      "image/png": "[encoded data removed]",
      "text/plain": [
       "<Figure size 432x288 with 1 Axes>"
      ]
     },
     "metadata": {
      "needs_background": "light"
     },
     "output_type": "display_data"
    },
    {
     "data": {
      "text/html": [
       "<div>\n",
       "<style scoped>\n",
       "    .dataframe tbody tr th:only-of-type {\n",
       "        vertical-align: middle;\n",
       "    }\n",
       "\n",
       "    .dataframe tbody tr th {\n",
       "        vertical-align: top;\n",
       "    }\n",
       "\n",
       "    .dataframe thead th {\n",
       "        text-align: right;\n",
       "    }\n",
       "</style>\n",
       "<table border=\"1\" class=\"dataframe\">\n",
       "  <thead>\n",
       "    <tr style=\"text-align: right;\">\n",
       "      <th></th>\n",
       "      <th>id</th>\n",
       "      <th>i</th>\n",
       "      <th>d</th>\n",
       "      <th>x</th>\n",
       "      <th>y</th>\n",
       "      <th>z</th>\n",
       "      <th>radius</th>\n",
       "    </tr>\n",
       "  </thead>\n",
       "  <tbody>\n",
       "    <tr>\n",
       "      <th>0</th>\n",
       "      <td>0.0</td>\n",
       "      <td>1.0</td>\n",
       "      <td>3.086000e+17</td>\n",
       "      <td>9.704191e+16</td>\n",
       "      <td>2.690724e+17</td>\n",
       "      <td>1.781703e+17</td>\n",
       "      <td>-1.0</td>\n",
       "    </tr>\n",
       "    <tr>\n",
       "      <th>1</th>\n",
       "      <td>0.0</td>\n",
       "      <td>2.0</td>\n",
       "      <td>6.172000e+17</td>\n",
       "      <td>2.917480e+16</td>\n",
       "      <td>5.469413e+17</td>\n",
       "      <td>3.563406e+17</td>\n",
       "      <td>-1.0</td>\n",
       "    </tr>\n",
       "    <tr>\n",
       "      <th>2</th>\n",
       "      <td>0.0</td>\n",
       "      <td>3.0</td>\n",
       "      <td>9.258000e+17</td>\n",
       "      <td>-1.809790e+17</td>\n",
       "      <td>7.409838e+17</td>\n",
       "      <td>5.345109e+17</td>\n",
       "      <td>-1.0</td>\n",
       "    </tr>\n",
       "    <tr>\n",
       "      <th>3</th>\n",
       "      <td>0.0</td>\n",
       "      <td>4.0</td>\n",
       "      <td>1.234400e+18</td>\n",
       "      <td>-4.633681e+17</td>\n",
       "      <td>7.865190e+17</td>\n",
       "      <td>7.126812e+17</td>\n",
       "      <td>-1.0</td>\n",
       "    </tr>\n",
       "    <tr>\n",
       "      <th>4</th>\n",
       "      <td>0.0</td>\n",
       "      <td>5.0</td>\n",
       "      <td>1.543000e+18</td>\n",
       "      <td>-7.238629e+17</td>\n",
       "      <td>6.683686e+17</td>\n",
       "      <td>8.908515e+17</td>\n",
       "      <td>-1.0</td>\n",
       "    </tr>\n",
       "    <tr>\n",
       "      <th>...</th>\n",
       "      <td>...</td>\n",
       "      <td>...</td>\n",
       "      <td>...</td>\n",
       "      <td>...</td>\n",
       "      <td>...</td>\n",
       "      <td>...</td>\n",
       "      <td>...</td>\n",
       "    </tr>\n",
       "    <tr>\n",
       "      <th>119695</th>\n",
       "      <td>99.0</td>\n",
       "      <td>97500.0</td>\n",
       "      <td>3.008850e+22</td>\n",
       "      <td>-1.157504e+18</td>\n",
       "      <td>-7.059450e+17</td>\n",
       "      <td>6.147588e+21</td>\n",
       "      <td>-1.0</td>\n",
       "    </tr>\n",
       "    <tr>\n",
       "      <th>119696</th>\n",
       "      <td>99.0</td>\n",
       "      <td>98000.0</td>\n",
       "      <td>3.024280e+22</td>\n",
       "      <td>-5.135610e+17</td>\n",
       "      <td>-1.383881e+18</td>\n",
       "      <td>6.171463e+21</td>\n",
       "      <td>-1.0</td>\n",
       "    </tr>\n",
       "    <tr>\n",
       "      <th>119697</th>\n",
       "      <td>99.0</td>\n",
       "      <td>98500.0</td>\n",
       "      <td>3.039710e+22</td>\n",
       "      <td>2.311988e+17</td>\n",
       "      <td>-1.200406e+18</td>\n",
       "      <td>6.082377e+21</td>\n",
       "      <td>-1.0</td>\n",
       "    </tr>\n",
       "    <tr>\n",
       "      <th>119698</th>\n",
       "      <td>99.0</td>\n",
       "      <td>99000.0</td>\n",
       "      <td>3.055140e+22</td>\n",
       "      <td>-3.461821e+17</td>\n",
       "      <td>-8.141333e+17</td>\n",
       "      <td>5.993292e+21</td>\n",
       "      <td>-1.0</td>\n",
       "    </tr>\n",
       "    <tr>\n",
       "      <th>119699</th>\n",
       "      <td>99.0</td>\n",
       "      <td>99500.0</td>\n",
       "      <td>3.070570e+22</td>\n",
       "      <td>1.840340e+17</td>\n",
       "      <td>-5.352551e+17</td>\n",
       "      <td>5.904207e+21</td>\n",
       "      <td>-1.0</td>\n",
       "    </tr>\n",
       "  </tbody>\n",
       "</table>\n",
       "<p>119700 rows × 7 columns</p>\n",
       "</div>"
      ],
      "text/plain": [
       "          id        i             d             x             y             z  \\\n",
       "0        0.0      1.0  3.086000e+17  9.704191e+16  2.690724e+17  1.781703e+17   \n",
       "1        0.0      2.0  6.172000e+17  2.917480e+16  5.469413e+17  3.563406e+17   \n",
       "2        0.0      3.0  9.258000e+17 -1.809790e+17  7.409838e+17  5.345109e+17   \n",
       "3        0.0      4.0  1.234400e+18 -4.633681e+17  7.865190e+17  7.126812e+17   \n",
       "4        0.0      5.0  1.543000e+18 -7.238629e+17  6.683686e+17  8.908515e+17   \n",
       "...      ...      ...           ...           ...           ...           ...   \n",
       "119695  99.0  97500.0  3.008850e+22 -1.157504e+18 -7.059450e+17  6.147588e+21   \n",
       "119696  99.0  98000.0  3.024280e+22 -5.135610e+17 -1.383881e+18  6.171463e+21   \n",
       "119697  99.0  98500.0  3.039710e+22  2.311988e+17 -1.200406e+18  6.082377e+21   \n",
       "119698  99.0  99000.0  3.055140e+22 -3.461821e+17 -8.141333e+17  5.993292e+21   \n",
       "119699  99.0  99500.0  3.070570e+22  1.840340e+17 -5.352551e+17  5.904207e+21   \n",
       "\n",
       "        radius  \n",
       "0         -1.0  \n",
       "1         -1.0  \n",
       "2         -1.0  \n",
       "3         -1.0  \n",
       "4         -1.0  \n",
       "...        ...  \n",
       "119695    -1.0  \n",
       "119696    -1.0  \n",
       "119697    -1.0  \n",
       "119698    -1.0  \n",
       "119699    -1.0  \n",
       "\n",
       "[119700 rows x 7 columns]"
      ]
     },
     "execution_count": 90,
     "metadata": {},
     "output_type": "execute_result"
    }
   ],
   "source": [
    "df = pd.DataFrame(data[1:])\n",
    "df.columns = ['id', 'i', 'd', 'x', 'y', 'z', 'radius']\n",
    "plt.scatter(df['x'], df['y'])\n",
    "plt.plot(df['x'], df['y'])\n",
    "plt.show()\n",
    "plot_kappa(df)\n",
    "df"
   ]
  },
  {
   "cell_type": "code",
   "execution_count": 85,
   "id": "2ca55484",
   "metadata": {},
   "outputs": [
    {
     "data": {
      "image/png": "[encoded data removed]",
      "text/plain": [
       "<Figure size 432x288 with 1 Axes>"
      ]
     },
     "metadata": {
      "needs_background": "light"
     },
     "output_type": "display_data"
    }
   ],
   "source": [
    "\n",
    "### each step is one second -> times = steps\n",
    "plt.axvline(x=mean_free_path[1], c='grey', ls='--', label='$\\lambda_\\parallel$')\n",
    "plt.plot(distance, np.array(kappa_perp)*10**4, label='$\\kappa_\\perp$')\n",
    "plt.plot(distance, np.array(kappa_para)*10**4, label='$\\kappa_\\parallel$')\n",
    "plt.xlabel('distance [m]')\n",
    "plt.ylabel('$\\kappa$ [cm$^2$/s]')\n",
    "plt.legend()\n",
    "plt.loglog()\n",
    "plt.show()"
   ]
  },
  {
   "cell_type": "code",
   "execution_count": 86,
   "id": "07e08c69",
   "metadata": {},
   "outputs": [
    {
     "name": "stdout",
     "output_type": "stream",
     "text": [
      "5.858576029469635\n"
     ]
    }
   ],
   "source": [
    "print(np.log10(np.mean(kappa_para[-10:]))-np.log10(np.mean(kappa_perp[-10:])))"
   ]
  },
  {
   "cell_type": "markdown",
   "id": "361838fa",
   "metadata": {},
   "source": [
    "### Lessons learned\n",
    "\n",
    "The parameter steps_per_gyration moves the first minimum linearly, which is expected -> increasing by 10 moves minima by factor 10 to right"
   ]
  }
 ],
 "metadata": {
  "kernelspec": {
   "display_name": "Python 3",
   "language": "python",
   "name": "python3"
  },
  "language_info": {
   "codemirror_mode": {
    "name": "ipython",
    "version": 3
   },
   "file_extension": ".py",
   "mimetype": "text/x-python",
   "name": "python",
   "nbconvert_exporter": "python",
   "pygments_lexer": "ipython3",
   "version": "3.9.5"
  }
 },
 "nbformat": 4,
 "nbformat_minor": 5
}
