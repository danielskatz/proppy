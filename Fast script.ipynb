{
 "cells": [
  {
   "cell_type": "code",
   "execution_count": 29,
   "id": "6d9ee30e",
   "metadata": {},
   "outputs": [],
   "source": [
    "from numba import jit\n",
    "import numpy as np\n",
    "from numba import jit, int32, float32, types, typed\n",
    "from numba.typed import List\n",
    "from numba.experimental import jitclass\n",
    "import matplotlib.pyplot as plt"
   ]
  },
  {
   "cell_type": "code",
   "execution_count": 49,
   "id": "7c8218fe",
   "metadata": {},
   "outputs": [],
   "source": [
    "gyro_radius = 3.086*10**16*10**-4 #10^-4pc\n",
    "steps_per_gyration = 1/0.05\n",
    "c = 3*10**8"
   ]
  },
  {
   "cell_type": "code",
   "execution_count": 57,
   "id": "cc1c509c",
   "metadata": {},
   "outputs": [],
   "source": [
    "@jit(nopython=True, fastmath=True)\n",
    "def propagate(particle_id, spheres):\n",
    "    pos = [0.0, 0.0, 0.0]\n",
    "    phi = 0.0\n",
    "    particle_info = []\n",
    "    direction = [1,1,1]\n",
    "    isotrop = False\n",
    "    \n",
    "    for i in range(1,10**5): \n",
    "        pos_prev = pos\n",
    "        \n",
    "        ### change direction ############################################################\n",
    "        if np.random.random() < 0.001:\n",
    "            direction[0] = -1*direction[0]\n",
    "        if np.random.random() < 0.001:\n",
    "            direction[1] = -1*direction[1]\n",
    "        if np.random.random() < 0.001:\n",
    "            direction[2] = -1*direction[2]\n",
    "            \n",
    "        ### move in updated direction ###########################################################\n",
    "        if isotrop:\n",
    "            normalize = (direction[0]**2+direction[1]**2+direction[2]**2)**0.5\n",
    "            for j in range(3):\n",
    "                pos[j] = pos[j] + direction[j]/normalize\n",
    "        else:\n",
    "            phi_old = phi\n",
    "            phi = phi_old + 2 * np.pi / steps_per_gyration\n",
    "            ### move in phi direction\n",
    "            delta_x = gyro_radius * (np.cos(phi) - np.cos(phi_old)) * direction[0]\n",
    "            delta_y = gyro_radius * (np.sin(phi) - np.sin(phi_old)) * direction[0]\n",
    "            ### move in rho direction\n",
    "            delta_x = delta_x + np.cos(phi) * gyro_radius * direction[1]\n",
    "            delta_y = delta_y + np.sin(phi) * gyro_radius * direction[1]\n",
    "            normalize = ((delta_x**2 + delta_y**2) * 3)**0.5\n",
    "            pos[0] = pos[0] + delta_x / normalize * c * steps_per_gyration \n",
    "            pos[1] = pos[1] + delta_y / normalize * c * steps_per_gyration \n",
    "            pos[2] = pos[2] + direction[2] / 3**0.5 * c * steps_per_gyration \n",
    "\n",
    "        \n",
    "        ### observer ####################################################################\n",
    "        r2_prev = pos_prev[0]**2+pos_prev[1]**2+pos_prev[2]**2\n",
    "        r2 = pos[0]**2+pos[1]**2+pos[2]**2\n",
    "        if i<1000 or i%500 == 0:\n",
    "            particle_info.append([particle_id, i, pos[0], pos[1], pos[2], -1.0])\n",
    "        for r2_sphere in spheres:\n",
    "            if r2_prev > r2_sphere and r2 <= r2_sphere or r2_prev < r2_sphere and r2 >= r2_sphere:\n",
    "                particle_info.append([particle_id, i, pos[0], pos[1], pos[2], r2_sphere*1.0])\n",
    "        \n",
    "    return particle_info"
   ]
  },
  {
   "cell_type": "code",
   "execution_count": 58,
   "id": "10c087b1",
   "metadata": {},
   "outputs": [],
   "source": [
    "@jit(nopython=True)\n",
    "def many_particles(observer_spheres):\n",
    "    data = [[0.0, 0.0, 0.0, 0.0, -1.0]]\n",
    "    for i in range(10**2):\n",
    "        particle_id = i\n",
    "        data_new = propagate(particle_id, observer_spheres)\n",
    "        data = data + data_new\n",
    "\n",
    "    print('finished')\n",
    "    return data"
   ]
  },
  {
   "cell_type": "code",
   "execution_count": 59,
   "id": "bdd39015",
   "metadata": {},
   "outputs": [
    {
     "name": "stdout",
     "output_type": "stream",
     "text": [
      "finished\n",
      "Wall time: 2.11 s\n"
     ]
    }
   ],
   "source": [
    "observer_spheres = np.array([-1.0]) \n",
    "%time data = many_particles(observer_spheres)"
   ]
  },
  {
   "cell_type": "code",
   "execution_count": 60,
   "id": "19362a33",
   "metadata": {},
   "outputs": [
    {
     "data": {
      "text/html": [
       "<div>\n",
       "<style scoped>\n",
       "    .dataframe tbody tr th:only-of-type {\n",
       "        vertical-align: middle;\n",
       "    }\n",
       "\n",
       "    .dataframe tbody tr th {\n",
       "        vertical-align: top;\n",
       "    }\n",
       "\n",
       "    .dataframe thead th {\n",
       "        text-align: right;\n",
       "    }\n",
       "</style>\n",
       "<table border=\"1\" class=\"dataframe\">\n",
       "  <thead>\n",
       "    <tr style=\"text-align: right;\">\n",
       "      <th></th>\n",
       "      <th>id</th>\n",
       "      <th>t</th>\n",
       "      <th>x</th>\n",
       "      <th>y</th>\n",
       "      <th>z</th>\n",
       "      <th>radius</th>\n",
       "    </tr>\n",
       "  </thead>\n",
       "  <tbody>\n",
       "    <tr>\n",
       "      <th>0</th>\n",
       "      <td>0.0</td>\n",
       "      <td>1.0</td>\n",
       "      <td>2.857768e+09</td>\n",
       "      <td>1.957846e+09</td>\n",
       "      <td>3.464102e+09</td>\n",
       "      <td>-1.0</td>\n",
       "    </tr>\n",
       "    <tr>\n",
       "      <th>1</th>\n",
       "      <td>0.0</td>\n",
       "      <td>2.0</td>\n",
       "      <td>4.970660e+09</td>\n",
       "      <td>4.702966e+09</td>\n",
       "      <td>6.928203e+09</td>\n",
       "      <td>-1.0</td>\n",
       "    </tr>\n",
       "    <tr>\n",
       "      <th>2</th>\n",
       "      <td>0.0</td>\n",
       "      <td>3.0</td>\n",
       "      <td>6.131851e+09</td>\n",
       "      <td>7.966651e+09</td>\n",
       "      <td>1.039230e+10</td>\n",
       "      <td>-1.0</td>\n",
       "    </tr>\n",
       "    <tr>\n",
       "      <th>3</th>\n",
       "      <td>0.0</td>\n",
       "      <td>4.0</td>\n",
       "      <td>6.227674e+09</td>\n",
       "      <td>1.142943e+10</td>\n",
       "      <td>1.385641e+10</td>\n",
       "      <td>-1.0</td>\n",
       "    </tr>\n",
       "    <tr>\n",
       "      <th>4</th>\n",
       "      <td>0.0</td>\n",
       "      <td>5.0</td>\n",
       "      <td>5.248752e+09</td>\n",
       "      <td>1.475233e+10</td>\n",
       "      <td>1.732051e+10</td>\n",
       "      <td>-1.0</td>\n",
       "    </tr>\n",
       "    <tr>\n",
       "      <th>...</th>\n",
       "      <td>...</td>\n",
       "      <td>...</td>\n",
       "      <td>...</td>\n",
       "      <td>...</td>\n",
       "      <td>...</td>\n",
       "      <td>...</td>\n",
       "    </tr>\n",
       "    <tr>\n",
       "      <th>119695</th>\n",
       "      <td>99.0</td>\n",
       "      <td>97500.0</td>\n",
       "      <td>1.843892e+11</td>\n",
       "      <td>2.778764e+10</td>\n",
       "      <td>-2.106867e+13</td>\n",
       "      <td>-1.0</td>\n",
       "    </tr>\n",
       "    <tr>\n",
       "      <th>119696</th>\n",
       "      <td>99.0</td>\n",
       "      <td>98000.0</td>\n",
       "      <td>1.843892e+11</td>\n",
       "      <td>2.778764e+10</td>\n",
       "      <td>-2.280072e+13</td>\n",
       "      <td>-1.0</td>\n",
       "    </tr>\n",
       "    <tr>\n",
       "      <th>119697</th>\n",
       "      <td>99.0</td>\n",
       "      <td>98500.0</td>\n",
       "      <td>1.833204e+11</td>\n",
       "      <td>3.529823e+10</td>\n",
       "      <td>-2.453277e+13</td>\n",
       "      <td>-1.0</td>\n",
       "    </tr>\n",
       "    <tr>\n",
       "      <th>119698</th>\n",
       "      <td>99.0</td>\n",
       "      <td>99000.0</td>\n",
       "      <td>1.833204e+11</td>\n",
       "      <td>3.529823e+10</td>\n",
       "      <td>-2.626482e+13</td>\n",
       "      <td>-1.0</td>\n",
       "    </tr>\n",
       "    <tr>\n",
       "      <th>119699</th>\n",
       "      <td>99.0</td>\n",
       "      <td>99500.0</td>\n",
       "      <td>2.071848e+11</td>\n",
       "      <td>1.076422e+10</td>\n",
       "      <td>-2.799687e+13</td>\n",
       "      <td>-1.0</td>\n",
       "    </tr>\n",
       "  </tbody>\n",
       "</table>\n",
       "<p>119700 rows × 6 columns</p>\n",
       "</div>"
      ],
      "text/plain": [
       "          id        t             x             y             z  radius\n",
       "0        0.0      1.0  2.857768e+09  1.957846e+09  3.464102e+09    -1.0\n",
       "1        0.0      2.0  4.970660e+09  4.702966e+09  6.928203e+09    -1.0\n",
       "2        0.0      3.0  6.131851e+09  7.966651e+09  1.039230e+10    -1.0\n",
       "3        0.0      4.0  6.227674e+09  1.142943e+10  1.385641e+10    -1.0\n",
       "4        0.0      5.0  5.248752e+09  1.475233e+10  1.732051e+10    -1.0\n",
       "...      ...      ...           ...           ...           ...     ...\n",
       "119695  99.0  97500.0  1.843892e+11  2.778764e+10 -2.106867e+13    -1.0\n",
       "119696  99.0  98000.0  1.843892e+11  2.778764e+10 -2.280072e+13    -1.0\n",
       "119697  99.0  98500.0  1.833204e+11  3.529823e+10 -2.453277e+13    -1.0\n",
       "119698  99.0  99000.0  1.833204e+11  3.529823e+10 -2.626482e+13    -1.0\n",
       "119699  99.0  99500.0  2.071848e+11  1.076422e+10 -2.799687e+13    -1.0\n",
       "\n",
       "[119700 rows x 6 columns]"
      ]
     },
     "execution_count": 60,
     "metadata": {},
     "output_type": "execute_result"
    }
   ],
   "source": [
    "import pandas as pd\n",
    "df = pd.DataFrame(data[1:])\n",
    "df.columns = ['id', 't', 'x', 'y', 'z', 'radius']\n",
    "df"
   ]
  },
  {
   "cell_type": "code",
   "execution_count": 61,
   "id": "a6523ab2",
   "metadata": {},
   "outputs": [],
   "source": [
    "# remove duplicated elements from list of times \n",
    "times = []\n",
    "[times.append(t) for t in df['t'] if t not in times]\n",
    "kappa_perp = []\n",
    "kappa_para = []\n",
    "for t in times:\n",
    "    df_t = df.loc[df['t'] ==  t]\n",
    "    kappa_perp.append(np.mean((df_t['x'].values**2+df_t['y'].values**2))/(2*t))\n",
    "    kappa_para.append(np.mean(df_t['z'].values**2)/(2*t))"
   ]
  },
  {
   "cell_type": "code",
   "execution_count": 62,
   "id": "b9fbea59",
   "metadata": {},
   "outputs": [
    {
     "data": {
      "image/png": "[encoded data removed]",
      "text/plain": [
       "<Figure size 432x288 with 1 Axes>"
      ]
     },
     "metadata": {
      "needs_background": "light"
     },
     "output_type": "display_data"
    }
   ],
   "source": [
    "from modules.Plotter import Plotter\n",
    "import matplotlib.pyplot as plt\n",
    "### each step is one second -> times = steps\n",
    "plt.plot(np.array(times) / steps_per_gyration, kappa_perp, label='$\\kappa_\\perp$')\n",
    "plt.plot(np.array(times) / steps_per_gyration, kappa_para, label='$\\kappa_\\parallel$')\n",
    "plt.xlabel('distance [gyroorbit]')\n",
    "plt.ylabel('$\\kappa$ [m$^2$/s]')\n",
    "plt.legend()\n",
    "plt.loglog()\n",
    "plt.show()"
   ]
  },
  {
   "cell_type": "code",
   "execution_count": 63,
   "id": "cd1a4080",
   "metadata": {},
   "outputs": [
    {
     "name": "stdout",
     "output_type": "stream",
     "text": [
      "4.471911465420579\n"
     ]
    }
   ],
   "source": [
    "print(np.log10(np.mean(kappa_para[-10:]))-np.log10(np.mean(kappa_perp[-10:])))"
   ]
  },
  {
   "cell_type": "markdown",
   "id": "826510c1",
   "metadata": {},
   "source": [
    "### Lessons learned\n",
    "\n",
    "The parameter steps_per_gyration moves the first minimum linearly, which is expected -> increasing by 10 moves minima by factor 10 to right"
   ]
  },
  {
   "cell_type": "code",
   "execution_count": null,
   "id": "3af485e9",
   "metadata": {},
   "outputs": [],
   "source": []
  }
 ],
 "metadata": {
  "kernelspec": {
   "display_name": "Python 3",
   "language": "python",
   "name": "python3"
  },
  "language_info": {
   "codemirror_mode": {
    "name": "ipython",
    "version": 3
   },
   "file_extension": ".py",
   "mimetype": "text/x-python",
   "name": "python",
   "nbconvert_exporter": "python",
   "pygments_lexer": "ipython3",
   "version": "3.9.5"
  }
 },
 "nbformat": 4,
 "nbformat_minor": 5
}
