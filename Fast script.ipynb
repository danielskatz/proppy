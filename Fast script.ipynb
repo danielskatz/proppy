{
 "cells": [
  {
   "cell_type": "code",
   "execution_count": 1,
   "id": "c25b274e",
   "metadata": {},
   "outputs": [],
   "source": [
    "from numba import jit\n",
    "import numpy as np\n",
    "from numba import jit, int32, float32, types, typed\n",
    "from numba.typed import List\n",
    "from numba.experimental import jitclass\n",
    "import matplotlib.pyplot as plt\n",
    "import pandas as pd\n",
    "from modules.Plotter import Plotter"
   ]
  },
  {
   "cell_type": "markdown",
   "id": "85e976e7",
   "metadata": {},
   "source": [
    "### Constants"
   ]
  },
  {
   "cell_type": "code",
   "execution_count": 2,
   "id": "4ab0d6cf",
   "metadata": {},
   "outputs": [],
   "source": [
    "c = 3*10**8 # [m^2/s]"
   ]
  },
  {
   "cell_type": "markdown",
   "id": "33f4dfd6",
   "metadata": {},
   "source": [
    "### Simulation code"
   ]
  },
  {
   "cell_type": "code",
   "execution_count": 3,
   "id": "09835b22",
   "metadata": {},
   "outputs": [],
   "source": [
    "@jit(nopython=True, fastmath=True, parallel = True)\n",
    "def propagate(particle_id, gyro_radius, v, delta_rho_div_phi, mean_free_path, spheres):\n",
    "    pos = [0.0, 0.0, 0.0]\n",
    "    phi = 0.0\n",
    "    particle_info = []\n",
    "    direction = [1,1,1]\n",
    "    isotrop = False\n",
    "    distance = 0.0\n",
    "    tau_step = gyro_radius / v\n",
    "    tau = [1.0*mean_free_path[0] / v, 1.0*mean_free_path[1] / v] # [s] time needed to reach plateau\n",
    "    xi = [1.0 / tau[0], 1.0 / tau[1]] # [1/s] frequency of change\n",
    "    prob = [xi[0] * tau_step, xi[1] * tau_step]\n",
    "    \n",
    "    for i in range(1,10**5): \n",
    "        pos_prev = pos\n",
    "        \n",
    "        ### change direction #############################################################\n",
    "        if np.random.random() < prob[0]:\n",
    "            direction[0] = -1*direction[0]\n",
    "        if np.random.random() < prob[0]:\n",
    "            direction[1] = -1*direction[1]\n",
    "        if np.random.random() < prob[1]:\n",
    "            direction[2] = -1*direction[2]\n",
    "            \n",
    "        ### move in updated direction ####################################################\n",
    "        if isotrop:\n",
    "            normalize = (direction[0]**2 + direction[1]**2 + direction[2]**2)**0.5\n",
    "            time = i # ToDo change this (need to incooperate steplength)\n",
    "            for j in range(3):\n",
    "                pos[j] = pos[j] + direction[j]/normalize\n",
    "        else:\n",
    "            ### move in z direction as much as in the x or y-direction (in average)\n",
    "            distance_in_step = v * tau_step\n",
    "            distance = distance + distance_in_step\n",
    "            chi_z = direction[2] * distance_in_step / 3**0.5\n",
    "            delta_r_squared = 2/3 * v**2 * tau_step**2  # delta_r_squared = delta_phi_squared + delta_rho_squared\n",
    "                 \n",
    "            ### move in phi direction \n",
    "            phi_old = phi\n",
    "            delta_r_phi = (delta_r_squared / (1 + delta_rho_div_phi**2))**0.5\n",
    "            delta_phi = np.arccos(1 - delta_r_phi**2 / (2 * gyro_radius**2))\n",
    "            phi = phi_old + delta_phi * direction[0]\n",
    "            chi_x = gyro_radius * (np.cos(phi) - np.cos(phi_old)) \n",
    "            chi_y = gyro_radius * (np.sin(phi) - np.sin(phi_old))\n",
    "             \n",
    "            ### move in rho direction\n",
    "            delta_rho = delta_rho_div_phi * delta_r_phi\n",
    "            chi_x = chi_x + np.cos(phi) * direction[1] * delta_rho\n",
    "            chi_y = chi_y + np.sin(phi) * direction[1] * delta_rho\n",
    "            \n",
    " \n",
    "            ### move !!!\n",
    "            pos[0] = pos[0] + chi_x\n",
    "            pos[1] = pos[1] + chi_y\n",
    "            pos[2] = pos[2] + chi_z\n",
    "            \n",
    "\n",
    "        \n",
    "        ### observer ####################################################################\n",
    "        r2_prev = pos_prev[0]**2+pos_prev[1]**2+pos_prev[2]**2\n",
    "        r2 = pos[0]**2+pos[1]**2+pos[2]**2\n",
    "        if i<1000 or i%500 == 0:\n",
    "            particle_info.append([particle_id, i, distance, pos[0], pos[1], pos[2], -1.0])\n",
    "        for r2_sphere in spheres:\n",
    "            if r2_prev > r2_sphere and r2 <= r2_sphere or r2_prev < r2_sphere and r2 >= r2_sphere:\n",
    "                particle_info.append([particle_id, i, distance, pos[0], pos[1], pos[2], r2_sphere*1.0])\n",
    "        \n",
    "    return particle_info"
   ]
  },
  {
   "cell_type": "markdown",
   "id": "1fbce5a7",
   "metadata": {},
   "source": [
    "### Simulate many particles"
   ]
  },
  {
   "cell_type": "code",
   "execution_count": 92,
   "id": "d9d71f6e",
   "metadata": {},
   "outputs": [],
   "source": [
    "@jit(nopython=True, fastmath=True, parallel = True)\n",
    "def many_particles(gyro_radius, v, delta_rho_div_phi, mean_free_path, observer_spheres):\n",
    "    data = [[0.0, 0.0, 0.0, 0.0, -1.0]]\n",
    "    for i in range(10**2):\n",
    "        particle_id = i\n",
    "        data_new = propagate(particle_id, gyro_radius, v, delta_rho_div_phi, mean_free_path, observer_spheres)\n",
    "        data = data + data_new\n",
    "\n",
    "    return data"
   ]
  },
  {
   "cell_type": "markdown",
   "id": "154516b4",
   "metadata": {},
   "source": [
    "### Plotting function"
   ]
  },
  {
   "cell_type": "code",
   "execution_count": 71,
   "id": "b4f9d63d",
   "metadata": {},
   "outputs": [],
   "source": [
    "def plot_kappa(df):\n",
    "    # remove duplicated elements from list of times \n",
    "    steps = []\n",
    "    [steps.append(i) for i in df['i'] if i not in steps]\n",
    "    kappa_perp = []\n",
    "    kappa_para = []\n",
    "    distance = []\n",
    "    for i in steps:\n",
    "        df_i = df.loc[df['i'] == i] # all particles per step\n",
    "        kappa_perp.append(np.mean(np.array((df_i['x'].values**2+df_i['y'].values**2))/(4*np.array(df_i['d'].values))*c))\n",
    "        kappa_para.append(np.mean(np.array(df_i['z'].values**2)/(2*np.array(df_i['d'].values))*c))\n",
    "        distance.append(np.mean(df_i['d'].values))\n",
    "    \n",
    "    print('kappa_perp: ', np.mean(kappa_perp[-10:]))\n",
    "    print('kappa_para: ', np.mean(kappa_para[-10:]))\n",
    "    print(np.log10(np.mean(kappa_para[-10:]))-np.log10(np.mean(kappa_perp[-10:])))\n",
    "        \n",
    "    plt.plot(np.array(distance) / (2 * np.pi * gyro_radius), np.array(kappa_perp)*10**4, label='$\\kappa_\\perp$')\n",
    "    plt.plot(np.array(distance) / (2 * np.pi * gyro_radius), np.array(kappa_para)*10**4, label='$\\kappa_\\parallel$')\n",
    "    plt.xlabel('distance [gyration]')\n",
    "    plt.ylabel('$\\kappa$ [cm$^2$/s]')\n",
    "    plt.legend()\n",
    "    plt.loglog()\n",
    "    plt.show()\n",
    "    \n",
    "    plt.axvline(x=mean_free_path[1], c='grey', ls='--', label='$\\lambda_\\parallel$')\n",
    "    plt.plot(distance, np.array(kappa_perp)*10**4, label='$\\kappa_\\perp$')\n",
    "    plt.plot(distance, np.array(kappa_para)*10**4, label='$\\kappa_\\parallel$')\n",
    "    plt.xlabel('distance [m]')\n",
    "    plt.ylabel('$\\kappa$ [cm$^2$/s]')\n",
    "    plt.legend()\n",
    "    plt.loglog()\n",
    "    plt.show()\n",
    "    return np.mean(kappa_perp[-10:]), np.mean(kappa_para[-10:])"
   ]
  },
  {
   "cell_type": "markdown",
   "id": "e5ffc0e8",
   "metadata": {},
   "source": [
    "### Parameters"
   ]
  },
  {
   "cell_type": "code",
   "execution_count": 84,
   "id": "6a443367",
   "metadata": {},
   "outputs": [],
   "source": [
    "gyro_radius = 0.1*3.086*10**17 # [m]; 10 PeV proton in 1 micro Gauss B field\n",
    "v = c # speed of particle\n",
    "delta_rho_div_phi = 1.0 # (delta_r_rho / delta_r_phi)\n",
    "mean_free_path = [1.15*10**20, 1.15*10**20] # [m]\n",
    "observer_spheres = np.array([-1.0]) # just a time evolution observer"
   ]
  },
  {
   "cell_type": "code",
   "execution_count": 85,
   "id": "57a55858",
   "metadata": {},
   "outputs": [
    {
     "name": "stdout",
     "output_type": "stream",
     "text": [
      "finished\n",
      "Wall time: 1.12 s\n"
     ]
    }
   ],
   "source": [
    "%time data = many_particles(gyro_radius, v, delta_rho_div_phi, mean_free_path, observer_spheres)"
   ]
  },
  {
   "cell_type": "code",
   "execution_count": 86,
   "id": "4ac74923",
   "metadata": {
    "scrolled": false
   },
   "outputs": [
    {
     "data": {
      "image/png": "[encoded data removed]",
      "text/plain": [
       "<Figure size 432x288 with 1 Axes>"
      ]
     },
     "metadata": {
      "needs_background": "light"
     },
     "output_type": "display_data"
    },
    {
     "name": "stdout",
     "output_type": "stream",
     "text": [
      "kappa_perp:  4.3470775613318806e+21\n",
      "kappa_para:  4.4657197887670454e+27\n",
      "6.011694079825663\n"
     ]
    },
    {
     "data": {
      "image/png": "[encoded data removed]",
      "text/plain": [
       "<Figure size 432x288 with 1 Axes>"
      ]
     },
     "metadata": {
      "needs_background": "light"
     },
     "output_type": "display_data"
    },
    {
     "data": {
      "image/png": "[encoded data removed]",
      "text/plain": [
       "<Figure size 432x288 with 1 Axes>"
      ]
     },
     "metadata": {
      "needs_background": "light"
     },
     "output_type": "display_data"
    },
    {
     "data": {
      "text/html": [
       "<div>\n",
       "<style scoped>\n",
       "    .dataframe tbody tr th:only-of-type {\n",
       "        vertical-align: middle;\n",
       "    }\n",
       "\n",
       "    .dataframe tbody tr th {\n",
       "        vertical-align: top;\n",
       "    }\n",
       "\n",
       "    .dataframe thead th {\n",
       "        text-align: right;\n",
       "    }\n",
       "</style>\n",
       "<table border=\"1\" class=\"dataframe\">\n",
       "  <thead>\n",
       "    <tr style=\"text-align: right;\">\n",
       "      <th></th>\n",
       "      <th>id</th>\n",
       "      <th>i</th>\n",
       "      <th>d</th>\n",
       "      <th>x</th>\n",
       "      <th>y</th>\n",
       "      <th>z</th>\n",
       "      <th>radius</th>\n",
       "    </tr>\n",
       "  </thead>\n",
       "  <tbody>\n",
       "    <tr>\n",
       "      <th>0</th>\n",
       "      <td>0.0</td>\n",
       "      <td>1.0</td>\n",
       "      <td>3.086000e+16</td>\n",
       "      <td>9.704191e+15</td>\n",
       "      <td>2.690724e+16</td>\n",
       "      <td>1.781703e+16</td>\n",
       "      <td>-1.0</td>\n",
       "    </tr>\n",
       "    <tr>\n",
       "      <th>1</th>\n",
       "      <td>0.0</td>\n",
       "      <td>2.0</td>\n",
       "      <td>6.172000e+16</td>\n",
       "      <td>2.917480e+15</td>\n",
       "      <td>5.469413e+16</td>\n",
       "      <td>3.563406e+16</td>\n",
       "      <td>-1.0</td>\n",
       "    </tr>\n",
       "    <tr>\n",
       "      <th>2</th>\n",
       "      <td>0.0</td>\n",
       "      <td>3.0</td>\n",
       "      <td>9.258000e+16</td>\n",
       "      <td>-1.809790e+16</td>\n",
       "      <td>7.409838e+16</td>\n",
       "      <td>5.345109e+16</td>\n",
       "      <td>-1.0</td>\n",
       "    </tr>\n",
       "    <tr>\n",
       "      <th>3</th>\n",
       "      <td>0.0</td>\n",
       "      <td>4.0</td>\n",
       "      <td>1.234400e+17</td>\n",
       "      <td>-4.633681e+16</td>\n",
       "      <td>7.865190e+16</td>\n",
       "      <td>7.126812e+16</td>\n",
       "      <td>-1.0</td>\n",
       "    </tr>\n",
       "    <tr>\n",
       "      <th>4</th>\n",
       "      <td>0.0</td>\n",
       "      <td>5.0</td>\n",
       "      <td>1.543000e+17</td>\n",
       "      <td>-7.238629e+16</td>\n",
       "      <td>6.683686e+16</td>\n",
       "      <td>8.908515e+16</td>\n",
       "      <td>-1.0</td>\n",
       "    </tr>\n",
       "    <tr>\n",
       "      <th>...</th>\n",
       "      <td>...</td>\n",
       "      <td>...</td>\n",
       "      <td>...</td>\n",
       "      <td>...</td>\n",
       "      <td>...</td>\n",
       "      <td>...</td>\n",
       "      <td>...</td>\n",
       "    </tr>\n",
       "    <tr>\n",
       "      <th>119695</th>\n",
       "      <td>99.0</td>\n",
       "      <td>97500.0</td>\n",
       "      <td>3.008850e+21</td>\n",
       "      <td>-1.429694e+17</td>\n",
       "      <td>1.894314e+17</td>\n",
       "      <td>3.731599e+20</td>\n",
       "      <td>-1.0</td>\n",
       "    </tr>\n",
       "    <tr>\n",
       "      <th>119696</th>\n",
       "      <td>99.0</td>\n",
       "      <td>98000.0</td>\n",
       "      <td>3.024280e+21</td>\n",
       "      <td>-1.204212e+17</td>\n",
       "      <td>2.551378e+17</td>\n",
       "      <td>3.642513e+20</td>\n",
       "      <td>-1.0</td>\n",
       "    </tr>\n",
       "    <tr>\n",
       "      <th>119697</th>\n",
       "      <td>99.0</td>\n",
       "      <td>98500.0</td>\n",
       "      <td>3.039710e+21</td>\n",
       "      <td>-1.891167e+17</td>\n",
       "      <td>2.013894e+17</td>\n",
       "      <td>3.553428e+20</td>\n",
       "      <td>-1.0</td>\n",
       "    </tr>\n",
       "    <tr>\n",
       "      <th>119698</th>\n",
       "      <td>99.0</td>\n",
       "      <td>99000.0</td>\n",
       "      <td>3.055140e+21</td>\n",
       "      <td>-1.138837e+17</td>\n",
       "      <td>2.308886e+17</td>\n",
       "      <td>3.607592e+20</td>\n",
       "      <td>-1.0</td>\n",
       "    </tr>\n",
       "    <tr>\n",
       "      <th>119699</th>\n",
       "      <td>99.0</td>\n",
       "      <td>99500.0</td>\n",
       "      <td>3.070570e+21</td>\n",
       "      <td>-1.784379e+17</td>\n",
       "      <td>1.632473e+17</td>\n",
       "      <td>3.696677e+20</td>\n",
       "      <td>-1.0</td>\n",
       "    </tr>\n",
       "  </tbody>\n",
       "</table>\n",
       "<p>119700 rows × 7 columns</p>\n",
       "</div>"
      ],
      "text/plain": [
       "          id        i             d             x             y             z  \\\n",
       "0        0.0      1.0  3.086000e+16  9.704191e+15  2.690724e+16  1.781703e+16   \n",
       "1        0.0      2.0  6.172000e+16  2.917480e+15  5.469413e+16  3.563406e+16   \n",
       "2        0.0      3.0  9.258000e+16 -1.809790e+16  7.409838e+16  5.345109e+16   \n",
       "3        0.0      4.0  1.234400e+17 -4.633681e+16  7.865190e+16  7.126812e+16   \n",
       "4        0.0      5.0  1.543000e+17 -7.238629e+16  6.683686e+16  8.908515e+16   \n",
       "...      ...      ...           ...           ...           ...           ...   \n",
       "119695  99.0  97500.0  3.008850e+21 -1.429694e+17  1.894314e+17  3.731599e+20   \n",
       "119696  99.0  98000.0  3.024280e+21 -1.204212e+17  2.551378e+17  3.642513e+20   \n",
       "119697  99.0  98500.0  3.039710e+21 -1.891167e+17  2.013894e+17  3.553428e+20   \n",
       "119698  99.0  99000.0  3.055140e+21 -1.138837e+17  2.308886e+17  3.607592e+20   \n",
       "119699  99.0  99500.0  3.070570e+21 -1.784379e+17  1.632473e+17  3.696677e+20   \n",
       "\n",
       "        radius  \n",
       "0         -1.0  \n",
       "1         -1.0  \n",
       "2         -1.0  \n",
       "3         -1.0  \n",
       "4         -1.0  \n",
       "...        ...  \n",
       "119695    -1.0  \n",
       "119696    -1.0  \n",
       "119697    -1.0  \n",
       "119698    -1.0  \n",
       "119699    -1.0  \n",
       "\n",
       "[119700 rows x 7 columns]"
      ]
     },
     "execution_count": 86,
     "metadata": {},
     "output_type": "execute_result"
    }
   ],
   "source": [
    "df = pd.DataFrame(data[1:])\n",
    "df.columns = ['id', 'i', 'd', 'x', 'y', 'z', 'radius']\n",
    "plt.scatter(df['x'], df['y'])\n",
    "plt.plot(df['x'], df['y'])\n",
    "plt.show()\n",
    "plot_kappa(df)\n",
    "df"
   ]
  },
  {
   "cell_type": "markdown",
   "id": "b2762c46",
   "metadata": {},
   "source": [
    "### Lessons learned\n",
    "\n",
    "- **mean_free_path**: parallel diffusion coefficient scales linearly with it. Perp scales inverse proportional to it\n",
    "- **delta_rho_div_phi**: 1 seems reasenable, while smaller values decrease the numerical errors because more steps per gyrorobit\n",
    "- **gyro_radius**: only influences the perp diffusion. $\\kappa_\\perp \\propto r_g^2$ for $r_g \\ll \\lambda_\\perp$"
   ]
  },
  {
   "cell_type": "code",
   "execution_count": null,
   "id": "3a5195cf",
   "metadata": {},
   "outputs": [],
   "source": []
  },
  {
   "cell_type": "code",
   "execution_count": 98,
   "id": "9fe782ec",
   "metadata": {},
   "outputs": [],
   "source": [
    "def sim_ana(gyro_radius, mean_free_path):\n",
    "    v = c # speed of particle\n",
    "    delta_rho_div_phi = 1.0 # (delta_r_rho / delta_r_phi)\n",
    "    observer_spheres = np.array([-1.0]) # just a time evolution observer\n",
    "    \n",
    "    data = many_particles(gyro_radius, v, delta_rho_div_phi, mean_free_path, observer_spheres)\n",
    "    df = pd.DataFrame(data[1:])\n",
    "    df.columns = ['id', 'i', 'd', 'x', 'y', 'z', 'radius']\n",
    "    \n",
    "    # remove duplicated elements from list of times \n",
    "    steps = []\n",
    "    for i in df['i']:\n",
    "        if i not in steps:\n",
    "            steps.append(i)\n",
    "    #[steps.append(i) for i in df['i'] if i not in steps]\n",
    "    kappa_perp = []\n",
    "    kappa_para = []\n",
    "    distance = []\n",
    "    for i in steps:\n",
    "        df_i = df.loc[df['i'] == i] # all particles per step\n",
    "        kappa_perp.append(np.mean(np.array((df_i['x'].values**2+df_i['y'].values**2))/(4*np.array(df_i['d'].values))*c))\n",
    "        kappa_para.append(np.mean(np.array(df_i['z'].values**2)/(2*np.array(df_i['d'].values))*c))\n",
    "        distance.append(np.mean(df_i['d'].values))\n",
    "    \n",
    "\n",
    "    return np.mean(kappa_perp[-10:]), np.mean(kappa_para[-10:])"
   ]
  },
  {
   "cell_type": "markdown",
   "id": "5244c413",
   "metadata": {},
   "source": [
    "### Investigating the influence of the gyro radius"
   ]
  },
  {
   "cell_type": "code",
   "execution_count": 120,
   "id": "2dd1d7c0",
   "metadata": {},
   "outputs": [],
   "source": [
    "mean_free_path = [1.15*10**20, 1.15*10**20] # [m]\n",
    "kappa_perp = []\n",
    "kappa_para = []\n",
    "gyro_radius = np.logspace(15, 20.1, 10) # 0.1*3.086*10**17 # [m]; 10 PeV proton in 1 micro Gauss B field\n",
    "for r_g in gyro_radius:\n",
    "    kappa = sim_ana(r_g, mean_free_path)\n",
    "    kappa_perp.append(kappa[0])\n",
    "    kappa_para.append(kappa[1])"
   ]
  },
  {
   "cell_type": "code",
   "execution_count": 122,
   "id": "c74d65e2",
   "metadata": {},
   "outputs": [
    {
     "data": {
      "image/png": "[encoded data removed]",
      "text/plain": [
       "<Figure size 432x288 with 1 Axes>"
      ]
     },
     "metadata": {
      "needs_background": "light"
     },
     "output_type": "display_data"
    }
   ],
   "source": [
    "plt.scatter(gyro_radius, kappa_perp, label='$\\kappa_\\perp$')\n",
    "plt.scatter(gyro_radius, kappa_para, label='$\\kappa_\\parallel$')\n",
    "plt.axvline(x=mean_free_path[0], c='grey', ls='--', label='$\\lambda_\\perp$')\n",
    "plt.loglog()\n",
    "plt.xlabel('gyro radius [m]')\n",
    "plt.ylabel('$\\kappa$ [cm$^2$/s]')\n",
    "plt.legend()\n",
    "plt.show()"
   ]
  },
  {
   "cell_type": "code",
   "execution_count": null,
   "id": "0fe625e5",
   "metadata": {},
   "outputs": [],
   "source": []
  },
  {
   "cell_type": "code",
   "execution_count": 123,
   "id": "f689f044",
   "metadata": {},
   "outputs": [],
   "source": [
    "mean_free_path = np.logspace(18.1, 20.1, 5) # [m]\n",
    "kappa_perp = []\n",
    "kappa_para = []\n",
    "gyro_radius = 0.01*3.086*10**17 # [m]; 10 PeV proton in 1 micro Gauss B field\n",
    "for mfp in mean_free_path:\n",
    "    kappa = sim_ana(gyro_radius, [mfp, mfp])\n",
    "    kappa_perp.append(kappa[0])\n",
    "    kappa_para.append(kappa[1])"
   ]
  },
  {
   "cell_type": "code",
   "execution_count": 124,
   "id": "cdf2e8fd",
   "metadata": {},
   "outputs": [
    {
     "data": {
      "image/png": "[encoded data removed]",
      "text/plain": [
       "<Figure size 432x288 with 1 Axes>"
      ]
     },
     "metadata": {
      "needs_background": "light"
     },
     "output_type": "display_data"
    }
   ],
   "source": [
    "plt.scatter(mean_free_path, kappa_perp, label='$\\kappa_\\perp$')\n",
    "plt.scatter(mean_free_path, kappa_para, label='$\\kappa_\\parallel$')\n",
    "plt.axvline(x=gyro_radius, c='grey', ls='--', label='$r_g$')\n",
    "plt.loglog()\n",
    "plt.xlabel('mean free path [m]')\n",
    "plt.ylabel('$\\kappa$ [cm$^2$/s]')\n",
    "plt.legend()\n",
    "plt.show()"
   ]
  },
  {
   "cell_type": "code",
   "execution_count": null,
   "id": "cc39ee82",
   "metadata": {},
   "outputs": [],
   "source": []
  }
 ],
 "metadata": {
  "kernelspec": {
   "display_name": "Python 3",
   "language": "python",
   "name": "python3"
  },
  "language_info": {
   "codemirror_mode": {
    "name": "ipython",
    "version": 3
   },
   "file_extension": ".py",
   "mimetype": "text/x-python",
   "name": "python",
   "nbconvert_exporter": "python",
   "pygments_lexer": "ipython3",
   "version": "3.9.5"
  }
 },
 "nbformat": 4,
 "nbformat_minor": 5
}
