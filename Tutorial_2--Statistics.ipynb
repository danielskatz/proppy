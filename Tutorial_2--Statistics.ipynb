{
 "cells": [
  {
   "cell_type": "code",
   "execution_count": 1,
   "id": "5045552e",
   "metadata": {},
   "outputs": [],
   "source": [
    "import numpy as np\n",
    "import matplotlib.pyplot as plt\n",
    "import pandas as pd\n",
    "from files.Simulation import Simulation\n",
    "from files.Source import Source\n",
    "from files.Observer import Observer"
   ]
  },
  {
   "cell_type": "markdown",
   "id": "612c2b8f",
   "metadata": {},
   "source": [
    "## Simulation setup"
   ]
  },
  {
   "cell_type": "markdown",
   "id": "95bb1fd1",
   "metadata": {},
   "source": [
    "#### Parameters"
   ]
  },
  {
   "cell_type": "code",
   "execution_count": 21,
   "id": "753756c3",
   "metadata": {},
   "outputs": [],
   "source": [
    "nr_particles = 3*10**2\n",
    "nr_steps = 1*10**4\n",
    "source_pos = np.array([0.0, 0.0, 0.0], dtype=np.float32)\n",
    "delta_rho_div_phi = 1.0 # (delta_r_rho / delta_r_phi)\n",
    "gyro_radius = 10**11 # [m]\n",
    "observer_substeps = np.array([False, False, True]) # observe only steps (no substeps)\n",
    "mean_free_path = np.array([2.13*10**12/2.0, 2.13*10**12/2.0, 2.1078*10**12])  # [m]\n",
    "all_steps = False"
   ]
  },
  {
   "cell_type": "code",
   "execution_count": 22,
   "id": "f1541944",
   "metadata": {},
   "outputs": [
    {
     "name": "stdout",
     "output_type": "stream",
     "text": [
      "start simulation\n",
      "source\n",
      "observer\n",
      "CPU times: user 6.35 s, sys: 80.3 ms, total: 6.43 s\n",
      "Wall time: 6.44 s\n"
     ]
    }
   ],
   "source": [
    "sim = Simulation()\n",
    "\n",
    "source = Source(gyro_radius, mean_free_path, source_pos, nr_particles)\n",
    "sim.add_source(source)\n",
    "\n",
    "observer = Observer(observer_substeps, all_steps)\n",
    "sim.add_observer(observer)\n",
    "\n",
    "%time sim.run_simulation(nr_steps)\n",
    "sim.save_data('data')"
   ]
  },
  {
   "cell_type": "markdown",
   "id": "523b23ff",
   "metadata": {},
   "source": [
    "## Analyze statistics\n"
   ]
  },
  {
   "cell_type": "code",
   "execution_count": 48,
   "id": "5e24cd2c",
   "metadata": {},
   "outputs": [],
   "source": [
    "class Statistics():\n",
    "    def __init__(self, df, dimensions):\n",
    "        print('init statistics plotting class')\n",
    "        self.df = df\n",
    "        self.dimensions = dimensions\n",
    "    \n",
    "    def plot_distribution(self, axis, step, bins, file_name):\n",
    "        df_i = self.df[self.df['i'] == step]\n",
    "        plt.figure(figsize=(4,4))\n",
    "        plt.hist(df_i[axis], bins)\n",
    "        plt.xlabel(axis + ' [m]')\n",
    "        plt.ylabel('# particles')\n",
    "        #plt.legend()\n",
    "        if file_name is not None:\n",
    "            plt.tight_layout()\n",
    "            plt.savefig(file_name)\n",
    "        plt.show()"
   ]
  },
  {
   "cell_type": "code",
   "execution_count": 49,
   "id": "10e57f70",
   "metadata": {},
   "outputs": [
    {
     "name": "stdout",
     "output_type": "stream",
     "text": [
      "init statistics plotting class\n"
     ]
    }
   ],
   "source": [
    "#from plot.Trajectory import Trajectory\n",
    "\n",
    "df = pd.read_pickle(\"data.pkl\")\n",
    "df_time_evolution_observer = df.loc[df['radius'] == -1.0]\n",
    "dimensions = 3\n",
    "sta = Statistics(df_time_evolution_observer, dimensions)"
   ]
  },
  {
   "cell_type": "code",
   "execution_count": 50,
   "id": "394b7760",
   "metadata": {},
   "outputs": [
    {
     "data": {
      "image/png": "[encoded data removed]",
      "text/plain": [
       "<Figure size 288x288 with 1 Axes>"
      ]
     },
     "metadata": {
      "needs_background": "light"
     },
     "output_type": "display_data"
    }
   ],
   "source": [
    "bins = 20\n",
    "file_name = None\n",
    "sta.plot_distribution('x', 9990, bins, file_name)"
   ]
  },
  {
   "cell_type": "code",
   "execution_count": null,
   "id": "9095f697",
   "metadata": {},
   "outputs": [],
   "source": []
  }
 ],
 "metadata": {
  "kernelspec": {
   "display_name": "Python 3",
   "language": "python",
   "name": "python3"
  },
  "language_info": {
   "codemirror_mode": {
    "name": "ipython",
    "version": 3
   },
   "file_extension": ".py",
   "mimetype": "text/x-python",
   "name": "python",
   "nbconvert_exporter": "python",
   "pygments_lexer": "ipython3",
   "version": "3.8.5"
  }
 },
 "nbformat": 4,
 "nbformat_minor": 5
}
