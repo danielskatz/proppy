{
 "cells": [
  {
   "cell_type": "code",
   "execution_count": 1,
   "id": "5045552e",
   "metadata": {},
   "outputs": [],
   "source": [
    "import numpy as np\n",
    "import matplotlib.pyplot as plt\n",
    "import pandas as pd\n",
    "from files.Simulation import Simulation\n",
    "from files.Source import Source\n",
    "from files.Observer import Observer\n",
    "from plot.Trajectory import Trajectory\n",
    "from plot.Statistics import Statistics"
   ]
  },
  {
   "cell_type": "markdown",
   "id": "612c2b8f",
   "metadata": {},
   "source": [
    "## Simulation setup"
   ]
  },
  {
   "cell_type": "markdown",
   "id": "95bb1fd1",
   "metadata": {},
   "source": [
    "#### Parameters"
   ]
  },
  {
   "cell_type": "code",
   "execution_count": 2,
   "id": "753756c3",
   "metadata": {},
   "outputs": [],
   "source": [
    "nr_particles = 10**2\n",
    "nr_steps = 10**5\n",
    "source_pos = np.array([0.0, 0.0, 0.0], dtype=np.float32)\n",
    "observer_substeps = np.array([False, False, True]) # observe only steps (no substeps)\n",
    "mfp = [3.75*10**13/4.0, 3.75*10**13/4.0, 7.2*10**13]  # [m]\n",
    "delta_rho_div_phi = 1 # (delta_r_rho / delta_r_phi)\n",
    "gyro_radius = 10**11 # [m]; 1pc\n",
    "all_steps = False"
   ]
  },
  {
   "cell_type": "code",
   "execution_count": null,
   "id": "f1541944",
   "metadata": {},
   "outputs": [
    {
     "name": "stdout",
     "output_type": "stream",
     "text": [
      "start simulation\n",
      "source\n"
     ]
    },
    {
     "name": "stderr",
     "output_type": "stream",
     "text": [
      "<string>:3: NumbaPendingDeprecationWarning: \u001b[1m\u001b[1m\n",
      "Encountered the use of a type that is scheduled for deprecation: type 'reflected list' found for argument 'mean_free_path' of function 'Particle.__init__'.\n",
      "\n",
      "For more information visit https://numba.pydata.org/numba-doc/latest/reference/deprecation.html#deprecation-of-reflection-for-list-and-set-types\n",
      "\u001b[1m\n",
      "File \"files/Particle.py\", line 26:\u001b[0m\n",
      "\u001b[1mclass Particle():\n",
      "\u001b[1m    def __init__(self, particle_id, gyro_radius, mean_free_path, pos):\n",
      "\u001b[0m    \u001b[1m^\u001b[0m\u001b[0m\n",
      "\u001b[0m\u001b[0m\n",
      "/home/patrick/.local/lib/python3.8/site-packages/numba/core/ir_utils.py:2119: NumbaPendingDeprecationWarning: \u001b[1m\n",
      "Encountered the use of a type that is scheduled for deprecation: type 'reflected list' found for argument 'mean_free_path' of function 'ctor'.\n",
      "\n",
      "For more information visit https://numba.pydata.org/numba-doc/latest/reference/deprecation.html#deprecation-of-reflection-for-list-and-set-types\n",
      "\u001b[1m\n",
      "File \"<string>\", line 2:\u001b[0m\n",
      "\u001b[1m<source missing, REPL/exec in use?>\u001b[0m\n",
      "\u001b[0m\n",
      "  warnings.warn(NumbaPendingDeprecationWarning(msg, loc=loc))\n"
     ]
    },
    {
     "name": "stdout",
     "output_type": "stream",
     "text": [
      "observer\n"
     ]
    }
   ],
   "source": [
    "sim = Simulation()\n",
    "\n",
    "source = Source(gyro_radius, mfp, source_pos, nr_particles)\n",
    "sim.add_source(source)\n",
    "\n",
    "observer = Observer(observer_substeps, all_steps)\n",
    "sim.add_observer(observer)\n",
    "\n",
    "%time sim.run_simulation(nr_steps)\n",
    "sim.save_data('data')"
   ]
  },
  {
   "cell_type": "markdown",
   "id": "523b23ff",
   "metadata": {},
   "source": [
    "## Analyze statistics\n"
   ]
  },
  {
   "cell_type": "code",
   "execution_count": null,
   "id": "8e483e3a",
   "metadata": {},
   "outputs": [],
   "source": []
  },
  {
   "cell_type": "code",
   "execution_count": null,
   "id": "afd3f178",
   "metadata": {},
   "outputs": [],
   "source": []
  },
  {
   "cell_type": "code",
   "execution_count": null,
   "id": "10e57f70",
   "metadata": {},
   "outputs": [],
   "source": [
    "#from plot.Trajectory import Trajectory\n",
    "\n",
    "df = pd.read_pickle(\"data.pkl\")\n",
    "df_time_evolution_observer = df.loc[df['radius'] == -1.0]\n",
    "dimensions = 3\n",
    "sta = Statistics(df_time_evolution_observer, dimensions)\n",
    "tra = Trajectory(df_time_evolution_observer, dimensions)\n",
    "particle_ids = tra.get_particle_ids()"
   ]
  },
  {
   "cell_type": "code",
   "execution_count": null,
   "id": "fe0f9138",
   "metadata": {},
   "outputs": [],
   "source": [
    "nr_steps = 3*10**4\n",
    "tra.plot_trajectory('x', 'y', 'd', particle_ids[0], nr_steps, None)"
   ]
  },
  {
   "cell_type": "code",
   "execution_count": null,
   "id": "b4ffbda5",
   "metadata": {},
   "outputs": [],
   "source": [
    "bins = 20\n",
    "file_name = None\n",
    "sta.plot_distribution('z', -1, bins, file_name)"
   ]
  },
  {
   "cell_type": "code",
   "execution_count": null,
   "id": "ba54fca9",
   "metadata": {},
   "outputs": [],
   "source": [
    "df_kappas = sta.plot_diffusion_coefficients()"
   ]
  },
  {
   "cell_type": "code",
   "execution_count": null,
   "id": "bebe4ef0",
   "metadata": {},
   "outputs": [],
   "source": [
    "df_kappas"
   ]
  },
  {
   "cell_type": "code",
   "execution_count": null,
   "id": "a2f1b63e",
   "metadata": {},
   "outputs": [],
   "source": []
  },
  {
   "cell_type": "code",
   "execution_count": null,
   "id": "fa893072",
   "metadata": {},
   "outputs": [],
   "source": []
  },
  {
   "cell_type": "code",
   "execution_count": 139,
   "id": "5e5ea9b5",
   "metadata": {},
   "outputs": [
    {
     "data": {
      "image/png": "[encoded data removed]",
      "text/plain": [
       "<Figure size 432x288 with 1 Axes>"
      ]
     },
     "metadata": {
      "needs_background": "light"
     },
     "output_type": "display_data"
    }
   ],
   "source": [
    "import numpy as np\n",
    "from scipy.stats import norm\n",
    "import matplotlib.pyplot as plt\n",
    "\n",
    "\n",
    "# Generate some data for this demonstration.\n",
    "data = norm.rvs(10.0, 2.5, size=500)\n",
    "\n",
    "# Fit a normal distribution to the data:\n",
    "mu, std = norm.fit(data)\n",
    "\n",
    "# Plot the PDF.\n",
    "xmin, xmax = plt.xlim()\n",
    "x = np.linspace(xmin, xmax, 100)\n",
    "p = norm.pdf(x, mu, std)\n",
    "plt.plot(x, p, 'k', linewidth=2)\n",
    "title = \"Fit results: mu = %.2f,  std = %.2f\" % (mu, std)\n",
    "plt.title(title)\n",
    "\n",
    "plt.show()"
   ]
  }
 ],
 "metadata": {
  "kernelspec": {
   "display_name": "Python 3",
   "language": "python",
   "name": "python3"
  },
  "language_info": {
   "codemirror_mode": {
    "name": "ipython",
    "version": 3
   },
   "file_extension": ".py",
   "mimetype": "text/x-python",
   "name": "python",
   "nbconvert_exporter": "python",
   "pygments_lexer": "ipython3",
   "version": "3.8.5"
  }
 },
 "nbformat": 4,
 "nbformat_minor": 5
}
