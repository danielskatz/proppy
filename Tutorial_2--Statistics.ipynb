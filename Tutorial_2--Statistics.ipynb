{
 "cells": [
  {
   "cell_type": "code",
   "execution_count": 1,
   "id": "5045552e",
   "metadata": {},
   "outputs": [],
   "source": [
    "import numpy as np\n",
    "import matplotlib.pyplot as plt\n",
    "import pandas as pd\n",
    "from files.Simulation import Simulation\n",
    "from files.Source import Source\n",
    "from files.Observer import Observer\n",
    "from plot.Trajectory import Trajectory"
   ]
  },
  {
   "cell_type": "markdown",
   "id": "612c2b8f",
   "metadata": {},
   "source": [
    "## Simulation setup"
   ]
  },
  {
   "cell_type": "markdown",
   "id": "95bb1fd1",
   "metadata": {},
   "source": [
    "#### Parameters"
   ]
  },
  {
   "cell_type": "code",
   "execution_count": 46,
   "id": "753756c3",
   "metadata": {},
   "outputs": [],
   "source": [
    "nr_particles = 3*10**2\n",
    "nr_steps = 3*10**4\n",
    "source_pos = np.array([0.0, 0.0, 0.0], dtype=np.float32)\n",
    "observer_substeps = np.array([False, False, True]) # observe only steps (no substeps)\n",
    "mfp = [3.75*10**13/4.0, 3.75*10**13/4.0, 7.2*10**13]  # [m]\n",
    "delta_rho_div_phi = 1 # (delta_r_rho / delta_r_phi)\n",
    "gyro_radius = 10**11 # [m]; 1pc\n",
    "all_steps = False"
   ]
  },
  {
   "cell_type": "code",
   "execution_count": 47,
   "id": "f1541944",
   "metadata": {},
   "outputs": [
    {
     "name": "stdout",
     "output_type": "stream",
     "text": [
      "start simulation\n",
      "source\n",
      "observer\n",
      "CPU times: user 25.7 s, sys: 220 ms, total: 25.9 s\n",
      "Wall time: 25.9 s\n"
     ]
    }
   ],
   "source": [
    "sim = Simulation()\n",
    "\n",
    "source = Source(gyro_radius, mfp, source_pos, nr_particles)\n",
    "sim.add_source(source)\n",
    "\n",
    "observer = Observer(observer_substeps, all_steps)\n",
    "sim.add_observer(observer)\n",
    "\n",
    "%time sim.run_simulation(nr_steps)\n",
    "sim.save_data('data')"
   ]
  },
  {
   "cell_type": "markdown",
   "id": "523b23ff",
   "metadata": {},
   "source": [
    "## Analyze statistics\n"
   ]
  },
  {
   "cell_type": "code",
   "execution_count": 106,
   "id": "830e7e0c",
   "metadata": {},
   "outputs": [],
   "source": [
    "class Statistics():\n",
    "    def __init__(self, df, dimensions):\n",
    "        print('init statistics plotting class')\n",
    "        self.df = df\n",
    "        self.dimensions = dimensions\n",
    "    \n",
    "    def plot_distribution(self, axis, step, bins, file_name):\n",
    "        df_i = self.df[self.df['i'] == step]\n",
    "        plt.figure(figsize=(4,4))\n",
    "        plt.hist(df_i[axis], bins)\n",
    "        plt.xlabel(axis + ' [m]')\n",
    "        plt.ylabel('# particles')\n",
    "        #plt.legend()\n",
    "        if file_name is not None:\n",
    "            plt.tight_layout()\n",
    "            plt.savefig(file_name)\n",
    "        plt.show()\n",
    "        \n",
    "    def plot_diffusion_coefficients(self):\n",
    "        nr_particle = len(list(map(int, (set(self.df['id'])))))\n",
    "        df = self.df.sort_values('d')\n",
    "        x = df['x'].values[1:]\n",
    "        y = df['y'].values[1:]\n",
    "        z = df['z'].values[1:]\n",
    "        t = df['d'].values[1:]\n",
    "        print(t[:100])\n",
    "        times = []\n",
    "        kappa_xx = []\n",
    "        kappa_yy = []\n",
    "        kappa_perp = []\n",
    "        kappa_zz = []\n",
    "        for j in range(int(len(x)/nr_particles)):\n",
    "            t_j = t[j*nr_particles]\n",
    "            kappa_xx_current = 0\n",
    "            kappa_yy_current = 0\n",
    "            kappa_zz_current = 0\n",
    "            for i in range(nr_particles):\n",
    "                x_i = x[j*nr_particles+i]\n",
    "                y_i = y[j*nr_particles+i]\n",
    "                z_i = z[j*nr_particles+i]\n",
    "                kappa_xx_current = kappa_xx_current + x_i**2\n",
    "                kappa_yy_current = kappa_yy_current + y_i**2\n",
    "                kappa_zz_current = kappa_zz_current + z_i**2\n",
    "            kappa_xx.append(kappa_xx_current/(2*t_j))\n",
    "            kappa_yy.append(kappa_yy_current/(2*t_j))\n",
    "            kappa_perp.append((kappa_xx_current+kappa_yy_current)/(4*t_j))\n",
    "            kappa_zz.append(kappa_zz_current/(2*t_j))\n",
    "            times.append(t_j)\n",
    "        plt.figure(figsize=(4,4))\n",
    "        plt.plot(times, kappa_xx, label='$\\kappa_{xx}$')\n",
    "        plt.plot(times, kappa_yy, label='$\\kappa_{yy}$')\n",
    "        plt.plot(times, kappa_perp, label='$\\kappa_\\perp$')\n",
    "        plt.plot(times, kappa_zz, label='$\\kappa_\\parallel$')\n",
    "        plt.loglog()\n",
    "        plt.legend()\n",
    "        plt.show()\n",
    "        \n",
    "        d = {'kappa_perp':kappa_perp,'kappa_para':kappa_zz}\n",
    "        return pd.DataFrame(d)\n",
    "           "
   ]
  },
  {
   "cell_type": "code",
   "execution_count": null,
   "id": "464fe95c",
   "metadata": {},
   "outputs": [],
   "source": []
  },
  {
   "cell_type": "code",
   "execution_count": 107,
   "id": "10e57f70",
   "metadata": {},
   "outputs": [
    {
     "name": "stdout",
     "output_type": "stream",
     "text": [
      "init statistics plotting class\n",
      "init trajectory plotting class\n"
     ]
    }
   ],
   "source": [
    "#from plot.Trajectory import Trajectory\n",
    "\n",
    "df = pd.read_pickle(\"data.pkl\")\n",
    "df_time_evolution_observer = df.loc[df['radius'] == -1.0]\n",
    "dimensions = 3\n",
    "sta = Statistics(df_time_evolution_observer, dimensions)\n",
    "tra = Trajectory(df_time_evolution_observer, dimensions)\n",
    "particle_ids = tra.get_particle_ids()"
   ]
  },
  {
   "cell_type": "code",
   "execution_count": null,
   "id": "768b8baf",
   "metadata": {},
   "outputs": [],
   "source": [
    "nr_steps = 3*10**4\n",
    "tra.plot_trajectory('x', 'y', 'd', particle_ids[0], nr_steps, None)"
   ]
  },
  {
   "cell_type": "code",
   "execution_count": null,
   "id": "a08e52b8",
   "metadata": {},
   "outputs": [],
   "source": [
    "bins = 20\n",
    "file_name = None\n",
    "sta.plot_distribution('x', 9990, bins, file_name)"
   ]
  },
  {
   "cell_type": "code",
   "execution_count": null,
   "id": "03cafc4a",
   "metadata": {},
   "outputs": [],
   "source": [
    "df_kappas = sta.plot_diffusion_coefficients()"
   ]
  },
  {
   "cell_type": "code",
   "execution_count": 105,
   "id": "7558f6c0",
   "metadata": {},
   "outputs": [
    {
     "data": {
      "text/html": [
       "<div>\n",
       "<style scoped>\n",
       "    .dataframe tbody tr th:only-of-type {\n",
       "        vertical-align: middle;\n",
       "    }\n",
       "\n",
       "    .dataframe tbody tr th {\n",
       "        vertical-align: top;\n",
       "    }\n",
       "\n",
       "    .dataframe thead th {\n",
       "        text-align: right;\n",
       "    }\n",
       "</style>\n",
       "<table border=\"1\" class=\"dataframe\">\n",
       "  <thead>\n",
       "    <tr style=\"text-align: right;\">\n",
       "      <th></th>\n",
       "      <th>kappa_perp</th>\n",
       "      <th>kappa_para</th>\n",
       "    </tr>\n",
       "  </thead>\n",
       "  <tbody>\n",
       "    <tr>\n",
       "      <th>0</th>\n",
       "      <td>inf</td>\n",
       "      <td>inf</td>\n",
       "    </tr>\n",
       "    <tr>\n",
       "      <th>1</th>\n",
       "      <td>2.588103e+11</td>\n",
       "      <td>2.525000e+11</td>\n",
       "    </tr>\n",
       "    <tr>\n",
       "      <th>2</th>\n",
       "      <td>5.143099e+11</td>\n",
       "      <td>5.020833e+11</td>\n",
       "    </tr>\n",
       "    <tr>\n",
       "      <th>3</th>\n",
       "      <td>7.694526e+11</td>\n",
       "      <td>7.519444e+11</td>\n",
       "    </tr>\n",
       "    <tr>\n",
       "      <th>4</th>\n",
       "      <td>1.023706e+12</td>\n",
       "      <td>1.001875e+12</td>\n",
       "    </tr>\n",
       "    <tr>\n",
       "      <th>...</th>\n",
       "      <td>...</td>\n",
       "      <td>...</td>\n",
       "    </tr>\n",
       "    <tr>\n",
       "      <th>3174</th>\n",
       "      <td>1.133075e+11</td>\n",
       "      <td>4.145733e+15</td>\n",
       "    </tr>\n",
       "    <tr>\n",
       "      <th>3175</th>\n",
       "      <td>1.101045e+11</td>\n",
       "      <td>4.123770e+15</td>\n",
       "    </tr>\n",
       "    <tr>\n",
       "      <th>3176</th>\n",
       "      <td>1.100855e+11</td>\n",
       "      <td>4.121090e+15</td>\n",
       "    </tr>\n",
       "    <tr>\n",
       "      <th>3177</th>\n",
       "      <td>1.085953e+11</td>\n",
       "      <td>4.153059e+15</td>\n",
       "    </tr>\n",
       "    <tr>\n",
       "      <th>3178</th>\n",
       "      <td>1.087598e+11</td>\n",
       "      <td>4.106902e+15</td>\n",
       "    </tr>\n",
       "  </tbody>\n",
       "</table>\n",
       "<p>3179 rows × 2 columns</p>\n",
       "</div>"
      ],
      "text/plain": [
       "        kappa_perp    kappa_para\n",
       "0              inf           inf\n",
       "1     2.588103e+11  2.525000e+11\n",
       "2     5.143099e+11  5.020833e+11\n",
       "3     7.694526e+11  7.519444e+11\n",
       "4     1.023706e+12  1.001875e+12\n",
       "...            ...           ...\n",
       "3174  1.133075e+11  4.145733e+15\n",
       "3175  1.101045e+11  4.123770e+15\n",
       "3176  1.100855e+11  4.121090e+15\n",
       "3177  1.085953e+11  4.153059e+15\n",
       "3178  1.087598e+11  4.106902e+15\n",
       "\n",
       "[3179 rows x 2 columns]"
      ]
     },
     "execution_count": 105,
     "metadata": {},
     "output_type": "execute_result"
    }
   ],
   "source": [
    "df_kappas"
   ]
  },
  {
   "cell_type": "code",
   "execution_count": null,
   "id": "4c0c91f6",
   "metadata": {},
   "outputs": [],
   "source": []
  }
 ],
 "metadata": {
  "kernelspec": {
   "display_name": "Python 3",
   "language": "python",
   "name": "python3"
  },
  "language_info": {
   "codemirror_mode": {
    "name": "ipython",
    "version": 3
   },
   "file_extension": ".py",
   "mimetype": "text/x-python",
   "name": "python",
   "nbconvert_exporter": "python",
   "pygments_lexer": "ipython3",
   "version": "3.8.5"
  }
 },
 "nbformat": 4,
 "nbformat_minor": 5
}
