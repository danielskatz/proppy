{
 "cells": [
  {
   "cell_type": "code",
   "execution_count": 120,
   "id": "5045552e",
   "metadata": {},
   "outputs": [],
   "source": [
    "import numpy as np\n",
    "import matplotlib.pyplot as plt\n",
    "import pandas as pd\n",
    "from files.Simulation import Simulation\n",
    "from files.Source import Source\n",
    "from files.Observer import Observer"
   ]
  },
  {
   "cell_type": "markdown",
   "id": "612c2b8f",
   "metadata": {},
   "source": [
    "## Simulation setup"
   ]
  },
  {
   "cell_type": "markdown",
   "id": "95bb1fd1",
   "metadata": {},
   "source": [
    "#### Parameters"
   ]
  },
  {
   "cell_type": "code",
   "execution_count": 121,
   "id": "753756c3",
   "metadata": {},
   "outputs": [],
   "source": [
    "nr_particles = 3*10**2\n",
    "nr_steps = 1*10**4\n",
    "source_pos = np.array([0.0, 0.0, 0.0], dtype=np.float32)\n",
    "delta_rho_div_phi = 1.0 # (delta_r_rho / delta_r_phi)\n",
    "gyro_radius = 10**11 # [m]\n",
    "observer_substeps = np.array([False, False, True]) # observe only steps (no substeps)\n",
    "mean_free_path = np.array([2.13*10**12/2.0, 2.13*10**12/2.0, 2.1078*10**12])  # [m]\n",
    "all_steps = False"
   ]
  },
  {
   "cell_type": "code",
   "execution_count": 122,
   "id": "f1541944",
   "metadata": {},
   "outputs": [
    {
     "name": "stdout",
     "output_type": "stream",
     "text": [
      "start simulation\n",
      "source\n",
      "observer\n",
      "CPU times: user 7.43 s, sys: 41.3 ms, total: 7.47 s\n",
      "Wall time: 7.47 s\n"
     ]
    }
   ],
   "source": [
    "sim = Simulation()\n",
    "\n",
    "source = Source(gyro_radius, mean_free_path, source_pos, nr_particles)\n",
    "sim.add_source(source)\n",
    "\n",
    "observer = Observer(observer_substeps, all_steps)\n",
    "sim.add_observer(observer)\n",
    "\n",
    "%time sim.run_simulation(nr_steps)\n",
    "sim.save_data('data')"
   ]
  },
  {
   "cell_type": "markdown",
   "id": "523b23ff",
   "metadata": {},
   "source": [
    "## Analyze statistics\n"
   ]
  },
  {
   "cell_type": "code",
   "execution_count": 131,
   "id": "683b9011",
   "metadata": {},
   "outputs": [],
   "source": [
    "class Statistics():\n",
    "    def __init__(self, df, dimensions):\n",
    "        print('init statistics plotting class')\n",
    "        self.df = df\n",
    "        self.dimensions = dimensions\n",
    "    \n",
    "    def plot_distribution(self, axis, step, bins, file_name):\n",
    "        df_i = self.df[self.df['i'] == step]\n",
    "        plt.figure(figsize=(4,4))\n",
    "        plt.hist(df_i[axis], bins)\n",
    "        plt.xlabel(axis + ' [m]')\n",
    "        plt.ylabel('# particles')\n",
    "        #plt.legend()\n",
    "        if file_name is not None:\n",
    "            plt.tight_layout()\n",
    "            plt.savefig(file_name)\n",
    "        plt.show()\n",
    "        \n",
    "    def plot_diffusion_coefficients(self, axis_list):\n",
    "        nr_particle = len(list(map(int, (set(self.df['id'])))))\n",
    "        if isinstance(axis_list, int):\n",
    "            # create a list if only one axis was passed to axis variable\n",
    "            axis_list = [axis_list]\n",
    "        df = self.df.sort_values('d')\n",
    "        x = df['x'].values\n",
    "        z = df['z'].values\n",
    "        t = df['d'].values\n",
    "        times = []\n",
    "        kappa_xx = []\n",
    "        kappa_zz = []\n",
    "        for j in range(int(len(x)/nr_particles)):\n",
    "            t_j = t[j*nr_particles]\n",
    "            kappa_xx_current = 0\n",
    "            kappa_zz_current = 0\n",
    "            for i in range(nr_particles):\n",
    "                x_i = x[j*nr_particles+i]\n",
    "                z_i = z[j*nr_particles+i]\n",
    "                kappa_xx_current = kappa_xx_current + x_i**2\n",
    "                kappa_zz_current = kappa_zz_current + z_i**2\n",
    "            kappa_xx.append(kappa_xx_current/(2*t_j))\n",
    "            kappa_zz.append(kappa_zz_current/(2*t_j))\n",
    "            times.append(t_j)\n",
    "        plt.figure(figsize=(4,4))\n",
    "        plt.plot(times, kappa_xx, label='$x$')\n",
    "        plt.plot(times, kappa_zz, label='$z$')\n",
    "        plt.loglog()\n",
    "        plt.show()\n",
    "        #for axis in axis_list:\n",
    "        #    df_axis = self.df[self.df[axis] == step]\n",
    "           "
   ]
  },
  {
   "cell_type": "code",
   "execution_count": 132,
   "id": "10e57f70",
   "metadata": {},
   "outputs": [
    {
     "name": "stdout",
     "output_type": "stream",
     "text": [
      "init statistics plotting class\n"
     ]
    }
   ],
   "source": [
    "#from plot.Trajectory import Trajectory\n",
    "\n",
    "df = pd.read_pickle(\"data.pkl\")\n",
    "df_time_evolution_observer = df.loc[df['radius'] == -1.0]\n",
    "dimensions = 3\n",
    "sta = Statistics(df_time_evolution_observer, dimensions)"
   ]
  },
  {
   "cell_type": "code",
   "execution_count": 133,
   "id": "d2a887d4",
   "metadata": {},
   "outputs": [
    {
     "data": {
      "image/png": "[encoded data removed]",
      "text/plain": [
       "<Figure size 288x288 with 1 Axes>"
      ]
     },
     "metadata": {
      "needs_background": "light"
     },
     "output_type": "display_data"
    }
   ],
   "source": [
    "bins = 20\n",
    "file_name = None\n",
    "sta.plot_distribution('x', 9990, bins, file_name)"
   ]
  },
  {
   "cell_type": "code",
   "execution_count": 134,
   "id": "d6b4c398",
   "metadata": {},
   "outputs": [
    {
     "name": "stderr",
     "output_type": "stream",
     "text": [
      "<ipython-input-131-71299b720379>:40: RuntimeWarning: invalid value encountered in double_scalars\n",
      "  kappa_xx.append(kappa_xx_current/(2*t_j))\n",
      "<ipython-input-131-71299b720379>:41: RuntimeWarning: invalid value encountered in double_scalars\n",
      "  kappa_zz.append(kappa_zz_current/(2*t_j))\n"
     ]
    },
    {
     "data": {
      "image/png": "[encoded data removed]",
      "text/plain": [
       "<Figure size 288x288 with 1 Axes>"
      ]
     },
     "metadata": {
      "needs_background": "light"
     },
     "output_type": "display_data"
    }
   ],
   "source": [
    "sta.plot_diffusion_coefficients(['x'])"
   ]
  },
  {
   "cell_type": "code",
   "execution_count": null,
   "id": "ad32ae5b",
   "metadata": {},
   "outputs": [],
   "source": []
  },
  {
   "cell_type": "code",
   "execution_count": null,
   "id": "8d7107ce",
   "metadata": {},
   "outputs": [],
   "source": []
  }
 ],
 "metadata": {
  "kernelspec": {
   "display_name": "Python 3",
   "language": "python",
   "name": "python3"
  },
  "language_info": {
   "codemirror_mode": {
    "name": "ipython",
    "version": 3
   },
   "file_extension": ".py",
   "mimetype": "text/x-python",
   "name": "python",
   "nbconvert_exporter": "python",
   "pygments_lexer": "ipython3",
   "version": "3.8.5"
  }
 },
 "nbformat": 4,
 "nbformat_minor": 5
}
