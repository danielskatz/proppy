{
 "cells": [
  {
   "cell_type": "code",
   "execution_count": 1,
   "id": "5045552e",
   "metadata": {},
   "outputs": [],
   "source": [
    "import numpy as np\n",
    "import matplotlib.pyplot as plt\n",
    "import pandas as pd\n",
    "import os\n",
    "os.chdir('..')\n",
    "import proppy as pp"
   ]
  },
  {
   "cell_type": "code",
   "execution_count": 20,
   "id": "77a3a801",
   "metadata": {},
   "outputs": [],
   "source": [
    "step_size = 1.0*10**11 # [m]\n",
    "sphere = 10**14 # [m]\n",
    "nr_steps = 1*10**4\n",
    "nr_particles = 2*10**4"
   ]
  },
  {
   "cell_type": "markdown",
   "id": "de583ea0",
   "metadata": {},
   "source": [
    "### Running diffusion coefficient for $\\kappa = 1.5\\cdot10^{21}$cm$^2$/s"
   ]
  },
  {
   "cell_type": "code",
   "execution_count": 26,
   "id": "2cd2a49d",
   "metadata": {},
   "outputs": [
    {
     "name": "stdout",
     "output_type": "stream",
     "text": [
      "mfp_ios 200133422281521.0\n",
      "simulate with a diffusion coefficient of  20000000000000000000000 m²/s\n",
      "start simulation\n",
      "Propagator initialized\n",
      "Observer initialized\n",
      "saved data file isotropic.pkl\n",
      "CPU times: user 20.9 s, sys: 84 ms, total: 21 s\n",
      "Wall time: 21.1 s\n"
     ]
    }
   ],
   "source": [
    "kappa = 2*10**22\n",
    "energy = 10**12 # eV\n",
    "sim = pp.IsotropicSimulation(nr_particles = 10**3, energy = energy, nr_steps = nr_steps, diffusion_coefficient_para = kappa, nr_obs_steps = 600)\n",
    "%time sim.simulate()"
   ]
  },
  {
   "cell_type": "code",
   "execution_count": 28,
   "id": "b1220323",
   "metadata": {},
   "outputs": [
    {
     "name": "stdout",
     "output_type": "stream",
     "text": [
      "init statistics plotting class\n"
     ]
    },
    {
     "data": {
      "image/png": "[encoded data removed]",
      "text/plain": [
       "<Figure size 216x144 with 1 Axes>"
      ]
     },
     "metadata": {
      "needs_background": "light"
     },
     "output_type": "display_data"
    },
    {
     "name": "stdout",
     "output_type": "stream",
     "text": [
      "diffusion coefficients computed between 2.18e+15m and 1.00e+16m with 100 data points\n",
      "kappa_{xx}: 2.03e+22 m²/s +- 4.51e+20 m²/s\n",
      "kappa_{yy}: 1.93e+22 m²/s +- 1.25e+21 m²/s\n",
      "kappa_{zz}: 1.9e+22 m²/s +- 5.14e+20 m²/s\n"
     ]
    }
   ],
   "source": [
    "df = pd.read_pickle(\"isotropic.pkl\")\n",
    "sta = pp.Statistics(df)\n",
    "df_kappas = sta.plot_diffusion_coefficients(n_points_plateau=100)"
   ]
  },
  {
   "cell_type": "markdown",
   "id": "9a37fce7",
   "metadata": {},
   "source": [
    "### Running diffusion coefficient for $\\kappa = 1.5\\cdot10^{20}$cm$^2$/s"
   ]
  },
  {
   "cell_type": "code",
   "execution_count": 29,
   "id": "147ee06a",
   "metadata": {},
   "outputs": [
    {
     "name": "stdout",
     "output_type": "stream",
     "text": [
      "mfp_ios 1501000667111.4077\n",
      "simulate with a diffusion coefficient of  1.5e+20 m²/s\n",
      "start simulation\n",
      "Propagator initialized\n",
      "Observer initialized\n",
      "saved data file isotropic.pkl\n",
      "CPU times: user 21.7 s, sys: 76 ms, total: 21.8 s\n",
      "Wall time: 21.8 s\n"
     ]
    }
   ],
   "source": [
    "kappa = 1.5*10**20\n",
    "sim = pp.IsotropicSimulation(nr_particles = 10**3, energy = energy, nr_steps = nr_steps, step_size = 1*10**11, diffusion_coefficient_para = kappa, nr_obs_steps = 600)\n",
    "%time sim.simulate()"
   ]
  },
  {
   "cell_type": "code",
   "execution_count": 30,
   "id": "9eb29662",
   "metadata": {},
   "outputs": [
    {
     "name": "stdout",
     "output_type": "stream",
     "text": [
      "init statistics plotting class\n"
     ]
    },
    {
     "data": {
      "image/png": "[encoded data removed]",
      "text/plain": [
       "<Figure size 216x144 with 1 Axes>"
      ]
     },
     "metadata": {
      "needs_background": "light"
     },
     "output_type": "display_data"
    },
    {
     "name": "stdout",
     "output_type": "stream",
     "text": [
      "diffusion coefficients computed between 2.18e+14m and 1.00e+15m with 100 data points\n",
      "kappa_{xx}: 1.35e+20 m²/s +- 4.64e+18 m²/s\n",
      "kappa_{yy}: 1.48e+20 m²/s +- 7.11e+18 m²/s\n",
      "kappa_{zz}: 1.48e+20 m²/s +- 2.13e+18 m²/s\n"
     ]
    }
   ],
   "source": [
    "df = pd.read_pickle(\"isotropic.pkl\")\n",
    "sta = pp.Statistics(df)\n",
    "df_kappas = sta.plot_diffusion_coefficients(n_points_plateau=100)"
   ]
  },
  {
   "cell_type": "markdown",
   "id": "298f90a7",
   "metadata": {},
   "source": [
    "### Running diffusion coefficient for $\\kappa = 1.5\\cdot10^{19}$cm$^2$/s"
   ]
  },
  {
   "cell_type": "code",
   "execution_count": 31,
   "id": "43e0db90",
   "metadata": {},
   "outputs": [
    {
     "name": "stdout",
     "output_type": "stream",
     "text": [
      "mfp_ios 150100066711.14075\n",
      "simulate with a diffusion coefficient of  1.5e+19 m²/s\n",
      "start simulation\n",
      "Propagator initialized\n",
      "Observer initialized\n",
      "saved data file isotropic.pkl\n",
      "CPU times: user 26.9 s, sys: 112 ms, total: 27 s\n",
      "Wall time: 27.1 s\n"
     ]
    }
   ],
   "source": [
    "kappa = 1.5*10**19\n",
    "sim = pp.IsotropicSimulation(nr_particles = 10**3, energy = energy, nr_steps = nr_steps, diffusion_coefficient_para = kappa, nr_obs_steps = 600,  step_size = 1*10**10)\n",
    "%time sim.simulate()"
   ]
  },
  {
   "cell_type": "code",
   "execution_count": 32,
   "id": "ed03ef4d",
   "metadata": {},
   "outputs": [
    {
     "name": "stdout",
     "output_type": "stream",
     "text": [
      "init statistics plotting class\n"
     ]
    },
    {
     "data": {
      "image/png": "[encoded data removed]",
      "text/plain": [
       "<Figure size 216x144 with 1 Axes>"
      ]
     },
     "metadata": {
      "needs_background": "light"
     },
     "output_type": "display_data"
    },
    {
     "name": "stdout",
     "output_type": "stream",
     "text": [
      "diffusion coefficients computed between 2.18e+13m and 1.00e+14m with 100 data points\n",
      "kappa_{xx}: 1.4e+19 m²/s +- 3.99e+17 m²/s\n",
      "kappa_{yy}: 1.46e+19 m²/s +- 4.48e+17 m²/s\n",
      "kappa_{zz}: 1.43e+19 m²/s +- 2.37e+17 m²/s\n"
     ]
    }
   ],
   "source": [
    "df = pd.read_pickle(\"isotropic.pkl\")\n",
    "sta = pp.Statistics(df)\n",
    "df_kappas = sta.plot_diffusion_coefficients(n_points_plateau=100)"
   ]
  },
  {
   "cell_type": "markdown",
   "id": "612c2b8f",
   "metadata": {},
   "source": [
    "## Plasmoid simulations with escaping particles"
   ]
  },
  {
   "cell_type": "code",
   "execution_count": 9,
   "id": "c61225b9",
   "metadata": {},
   "outputs": [],
   "source": [
    "def simulation(diffusion_coefficient):\n",
    "    sim = pp.Simulation()\n",
    "    source_pos = np.array([0.0, 0.0, 0.0], dtype=np.float32)\n",
    "    energy = 10**12 # eV\n",
    "    radius = sphere\n",
    "    source = pp.SphereSourceIsotropic(energy, source_pos, nr_particles, radius)\n",
    "    sim.add_source(source)\n",
    "\n",
    "    speed_of_light = 3*10**8 # [m/s]\n",
    "    mfp_iso = 3*diffusion_coefficient/speed_of_light\n",
    "    mfp = np.array([mfp_iso, mfp_iso, mfp_iso], dtype=np.float32)  # [m]\n",
    "    propagator = pp.IsotropicPropagator(mfp, nr_steps, step_size)\n",
    "    sim.add_propagator(propagator)\n",
    "\n",
    "    substeps = [False, False, True] # observe only steps (no substeps)\n",
    "    spheres = [sphere]\n",
    "    observer = pp.SphericalObserver(substeps, spheres, on_detection_deactivate=True)\n",
    "    sim.add_observer(observer)\n",
    "    return sim"
   ]
  },
  {
   "cell_type": "markdown",
   "id": "2efdc656",
   "metadata": {},
   "source": [
    "### For $\\kappa = 1.5\\cdot10^{21}$cm$^2$/s"
   ]
  },
  {
   "cell_type": "code",
   "execution_count": 10,
   "id": "d705e055",
   "metadata": {},
   "outputs": [
    {
     "name": "stdout",
     "output_type": "stream",
     "text": [
      "start simulation\n",
      "Propagator initialized\n",
      "Observer initialized\n"
     ]
    }
   ],
   "source": [
    "diffusion_coefficient = 1.5*10**21 # [m^2/s]\n",
    "sim = simulation(diffusion_coefficient)"
   ]
  },
  {
   "cell_type": "code",
   "execution_count": 12,
   "id": "6568c48b",
   "metadata": {},
   "outputs": [
    {
     "name": "stdout",
     "output_type": "stream",
     "text": [
      "CPU times: user 47.6 s, sys: 16.1 ms, total: 47.6 s\n",
      "Wall time: 47.6 s\n",
      "saved data file data/data_tut_5_sphere.pkl\n"
     ]
    }
   ],
   "source": [
    "%time sim.run_simulation()\n",
    "sim.save_data('data/data_tut_5_sphere')"
   ]
  },
  {
   "cell_type": "markdown",
   "id": "19fcdc6b",
   "metadata": {},
   "source": [
    "### For $\\kappa = 1.5\\cdot10^{20}$cm$^2$/s"
   ]
  },
  {
   "cell_type": "code",
   "execution_count": 14,
   "id": "4db7f2f7",
   "metadata": {},
   "outputs": [
    {
     "name": "stdout",
     "output_type": "stream",
     "text": [
      "start simulation\n",
      "Propagator initialized\n",
      "Observer initialized\n"
     ]
    }
   ],
   "source": [
    "diffusion_coefficient = 1.5*10**20 # [m^2/s]\n",
    "sim = simulation(diffusion_coefficient)"
   ]
  },
  {
   "cell_type": "code",
   "execution_count": 15,
   "id": "641d7565",
   "metadata": {},
   "outputs": [
    {
     "name": "stdout",
     "output_type": "stream",
     "text": [
      "CPU times: user 2min 34s, sys: 16.2 ms, total: 2min 34s\n",
      "Wall time: 2min 34s\n",
      "saved data file data/data_tut_5_sphere_20.pkl\n"
     ]
    }
   ],
   "source": [
    "%time sim.run_simulation()\n",
    "sim.save_data('data/data_tut_5_sphere_20')"
   ]
  },
  {
   "cell_type": "markdown",
   "id": "b8182e85",
   "metadata": {},
   "source": [
    "### For $\\kappa = 1.5\\cdot10^{19}$cm$^2$/s"
   ]
  },
  {
   "cell_type": "code",
   "execution_count": 16,
   "id": "f99f5e70",
   "metadata": {},
   "outputs": [
    {
     "name": "stdout",
     "output_type": "stream",
     "text": [
      "start simulation\n",
      "Propagator initialized\n",
      "Observer initialized\n"
     ]
    }
   ],
   "source": [
    "diffusion_coefficient = 1.5*10**19 # [m^2/s]\n",
    "sim = simulation(diffusion_coefficient)"
   ]
  },
  {
   "cell_type": "code",
   "execution_count": 17,
   "id": "714f1bbe",
   "metadata": {},
   "outputs": [
    {
     "name": "stdout",
     "output_type": "stream",
     "text": [
      "CPU times: user 3min 56s, sys: 36 ms, total: 3min 56s\n",
      "Wall time: 3min 56s\n",
      "saved data file data/data_tut_5_sphere_19.pkl\n"
     ]
    }
   ],
   "source": [
    "%time sim.run_simulation()\n",
    "sim.save_data('data/data_tut_5_sphere_19')"
   ]
  },
  {
   "cell_type": "markdown",
   "id": "a5450abc",
   "metadata": {},
   "source": [
    "## Compare the escape times for different diffusion coefficients\n",
    "The transisitons from the ballistic to the diffusive regime can be apprximated in the above figures of the running diffusion coefficients and plotted in the following comparison plot."
   ]
  },
  {
   "cell_type": "code",
   "execution_count": 18,
   "id": "acaef4c5",
   "metadata": {},
   "outputs": [
    {
     "data": {
      "image/png": "[encoded data removed]",
      "text/plain": [
       "<Figure size 432x288 with 1 Axes>"
      ]
     },
     "metadata": {
      "needs_background": "light"
     },
     "output_type": "display_data"
    }
   ],
   "source": [
    "files = [\"data/data_tut_5_sphere.pkl\", \"data/data_tut_5_sphere_20.pkl\", \"data/data_tut_5_sphere_19.pkl\"]\n",
    "colors = ['r', 'dodgerblue', 'green']\n",
    "kappas = [1.5*10**21, 1.5*10**20, 1.5*10**19]\n",
    "transitions = [8*10**13, 8*10**12, 8*10**11]\n",
    "\n",
    "bins = 40\n",
    "logbins = np.logspace(np.log10(step_size/sphere),np.log10(step_size*nr_steps/sphere),bins)\n",
    "\n",
    "for i, file in enumerate(files):\n",
    "    df = pd.read_pickle(file)\n",
    "    trajectory_lengths = df['d']\n",
    "    d = trajectory_lengths/sphere\n",
    "    weights = np.ones_like(d)/nr_particles\n",
    "    plt.hist(d, bins=logbins, weights=weights, histtype=u'step', edgecolor=colors[i], linewidth=1., facecolor=\"None\", label='$\\kappa=$ {:.1e}m$^2$/s'.format(kappas[i]))\n",
    "    plt.axvline(x=transitions[i]/sphere, color=colors[i], ls='--')\n",
    "\n",
    "plt.title('total # particles injected = {:.0e}'.format(nr_particles))\n",
    "plt.xlabel('$l_\\mathrm{traj}$'+' / {:.0e}m'.format(sphere))\n",
    "plt.ylabel('$N$ / $N_\\mathrm{inj}$')\n",
    "plt.loglog()\n",
    "plt.legend(loc = \"lower center\")\n",
    "plt.savefig('traj_lengths_proppy_normalized.pdf')\n",
    "plt.show()"
   ]
  },
  {
   "cell_type": "markdown",
   "id": "18bd142d",
   "metadata": {},
   "source": [
    "The transitions from ballistic to diffusive propagation is evident in this comparison plot, as the slope of the histogram changes from a $N(D) \\propto D^1$ to a $N(D) \\propto D^{1/2}$ behaviour -> Particles leave the plasmoid slower when they reach the diffusive propagation regime!"
   ]
  },
  {
   "cell_type": "code",
   "execution_count": null,
   "id": "875a542a",
   "metadata": {},
   "outputs": [],
   "source": []
  }
 ],
 "metadata": {
  "kernelspec": {
   "display_name": "Python 3",
   "language": "python",
   "name": "python3"
  },
  "language_info": {
   "codemirror_mode": {
    "name": "ipython",
    "version": 3
   },
   "file_extension": ".py",
   "mimetype": "text/x-python",
   "name": "python",
   "nbconvert_exporter": "python",
   "pygments_lexer": "ipython3",
   "version": "3.8.5"
  }
 },
 "nbformat": 4,
 "nbformat_minor": 5
}
