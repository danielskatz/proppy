{
 "cells": [
  {
   "cell_type": "code",
   "execution_count": 115,
   "id": "e38757b0",
   "metadata": {},
   "outputs": [],
   "source": [
    "from numba import jit\n",
    "import numpy as np\n",
    "from numba import jit, int32, float32, types, typed\n",
    "from numba.typed import List\n",
    "from numba.experimental import jitclass\n",
    "import matplotlib.pyplot as plt"
   ]
  },
  {
   "cell_type": "code",
   "execution_count": 127,
   "id": "ebf39b35",
   "metadata": {},
   "outputs": [],
   "source": [
    "@jit(nopython=True)\n",
    "def propagate(spheres):\n",
    "    pos = [0.0, 0.0, 0.0]\n",
    "    particle_info = []\n",
    "    direction = [1,1,1]\n",
    "    \n",
    "    for i in range(1,10**5): \n",
    "        pos_prev = pos\n",
    "        \n",
    "        ### change direction ###########################################################\n",
    "        if np.random.random() < 0.1:\n",
    "            direction[0] = -1*direction[0]\n",
    "        if np.random.random() < 0.1:\n",
    "            direction[1] = -1*direction[1]\n",
    "        if np.random.random() < 0.01:\n",
    "            direction[2] = -1*direction[2]\n",
    "            \n",
    "        ### move in direction ###########################################################\n",
    "        normalize = (direction[0]**2+direction[1]**2+direction[2]**2)**0.5\n",
    "        for j in range(3):\n",
    "            pos[j] = pos[j] + direction[j]/normalize\n",
    "        r2_prev = pos_prev[0]**2+pos_prev[1]**2+pos_prev[2]**2\n",
    "        r2 = pos[0]**2+pos[1]**2+pos[2]**2\n",
    "        \n",
    "        ### observer ####################################################################\n",
    "        if i<500 or i%500 == 0:\n",
    "            particle_info.append([pos[0], pos[1], pos[2], i, -1.0])\n",
    "        for r2_sphere in spheres:\n",
    "            if r2_prev > r2_sphere and r2 <= r2_sphere or r2_prev < r2_sphere and r2 >= r2_sphere:\n",
    "                particle_info.append([pos[0], pos[1], pos[2], i, r2_sphere*1.0])\n",
    "        \n",
    "    return particle_info"
   ]
  },
  {
   "cell_type": "code",
   "execution_count": 137,
   "id": "1928a57a",
   "metadata": {},
   "outputs": [],
   "source": [
    "@jit(nopython=True)\n",
    "def many_particles():\n",
    "    data = [[0.0, 0.0, 0.0, 0.0, -1.0]]\n",
    "    for i in range(10**2):\n",
    "        data_new = propagate(np.array([-1.0]))\n",
    "        #reshaped = [list(x) for x in zip(*data)]\n",
    "        data = data + data_new\n",
    "\n",
    "    print('finished')\n",
    "    return data"
   ]
  },
  {
   "cell_type": "code",
   "execution_count": 138,
   "id": "a64f3e4c",
   "metadata": {},
   "outputs": [
    {
     "name": "stdout",
     "output_type": "stream",
     "text": [
      "finished\n",
      "Wall time: 2.2 s\n"
     ]
    }
   ],
   "source": [
    "%time data = many_particles()"
   ]
  },
  {
   "cell_type": "code",
   "execution_count": 139,
   "id": "99fa2e08",
   "metadata": {},
   "outputs": [
    {
     "data": {
      "text/html": [
       "<div>\n",
       "<style scoped>\n",
       "    .dataframe tbody tr th:only-of-type {\n",
       "        vertical-align: middle;\n",
       "    }\n",
       "\n",
       "    .dataframe tbody tr th {\n",
       "        vertical-align: top;\n",
       "    }\n",
       "\n",
       "    .dataframe thead th {\n",
       "        text-align: right;\n",
       "    }\n",
       "</style>\n",
       "<table border=\"1\" class=\"dataframe\">\n",
       "  <thead>\n",
       "    <tr style=\"text-align: right;\">\n",
       "      <th></th>\n",
       "      <th>0</th>\n",
       "      <th>1</th>\n",
       "      <th>2</th>\n",
       "      <th>3</th>\n",
       "      <th>4</th>\n",
       "    </tr>\n",
       "  </thead>\n",
       "  <tbody>\n",
       "    <tr>\n",
       "      <th>0</th>\n",
       "      <td>0.000000</td>\n",
       "      <td>0.000000</td>\n",
       "      <td>0.000000</td>\n",
       "      <td>0.0</td>\n",
       "      <td>-1.0</td>\n",
       "    </tr>\n",
       "    <tr>\n",
       "      <th>1</th>\n",
       "      <td>0.577350</td>\n",
       "      <td>0.577350</td>\n",
       "      <td>0.577350</td>\n",
       "      <td>1.0</td>\n",
       "      <td>-1.0</td>\n",
       "    </tr>\n",
       "    <tr>\n",
       "      <th>2</th>\n",
       "      <td>1.154701</td>\n",
       "      <td>1.154701</td>\n",
       "      <td>1.154701</td>\n",
       "      <td>2.0</td>\n",
       "      <td>-1.0</td>\n",
       "    </tr>\n",
       "    <tr>\n",
       "      <th>3</th>\n",
       "      <td>1.732051</td>\n",
       "      <td>1.732051</td>\n",
       "      <td>1.732051</td>\n",
       "      <td>3.0</td>\n",
       "      <td>-1.0</td>\n",
       "    </tr>\n",
       "    <tr>\n",
       "      <th>4</th>\n",
       "      <td>2.309401</td>\n",
       "      <td>1.154701</td>\n",
       "      <td>2.309401</td>\n",
       "      <td>4.0</td>\n",
       "      <td>-1.0</td>\n",
       "    </tr>\n",
       "    <tr>\n",
       "      <th>...</th>\n",
       "      <td>...</td>\n",
       "      <td>...</td>\n",
       "      <td>...</td>\n",
       "      <td>...</td>\n",
       "      <td>...</td>\n",
       "    </tr>\n",
       "    <tr>\n",
       "      <th>69796</th>\n",
       "      <td>-932.998035</td>\n",
       "      <td>-290.984536</td>\n",
       "      <td>-658.179307</td>\n",
       "      <td>97500.0</td>\n",
       "      <td>-1.0</td>\n",
       "    </tr>\n",
       "    <tr>\n",
       "      <th>69797</th>\n",
       "      <td>-953.782645</td>\n",
       "      <td>-288.675135</td>\n",
       "      <td>-747.091248</td>\n",
       "      <td>98000.0</td>\n",
       "      <td>-1.0</td>\n",
       "    </tr>\n",
       "    <tr>\n",
       "      <th>69798</th>\n",
       "      <td>-975.721955</td>\n",
       "      <td>-280.592231</td>\n",
       "      <td>-770.185259</td>\n",
       "      <td>98500.0</td>\n",
       "      <td>-1.0</td>\n",
       "    </tr>\n",
       "    <tr>\n",
       "      <th>69799</th>\n",
       "      <td>-960.710848</td>\n",
       "      <td>-376.432376</td>\n",
       "      <td>-690.510922</td>\n",
       "      <td>99000.0</td>\n",
       "      <td>-1.0</td>\n",
       "    </tr>\n",
       "    <tr>\n",
       "      <th>69800</th>\n",
       "      <td>-1003.434768</td>\n",
       "      <td>-311.769145</td>\n",
       "      <td>-595.825478</td>\n",
       "      <td>99500.0</td>\n",
       "      <td>-1.0</td>\n",
       "    </tr>\n",
       "  </tbody>\n",
       "</table>\n",
       "<p>69801 rows × 5 columns</p>\n",
       "</div>"
      ],
      "text/plain": [
       "                 0           1           2        3    4\n",
       "0         0.000000    0.000000    0.000000      0.0 -1.0\n",
       "1         0.577350    0.577350    0.577350      1.0 -1.0\n",
       "2         1.154701    1.154701    1.154701      2.0 -1.0\n",
       "3         1.732051    1.732051    1.732051      3.0 -1.0\n",
       "4         2.309401    1.154701    2.309401      4.0 -1.0\n",
       "...            ...         ...         ...      ...  ...\n",
       "69796  -932.998035 -290.984536 -658.179307  97500.0 -1.0\n",
       "69797  -953.782645 -288.675135 -747.091248  98000.0 -1.0\n",
       "69798  -975.721955 -280.592231 -770.185259  98500.0 -1.0\n",
       "69799  -960.710848 -376.432376 -690.510922  99000.0 -1.0\n",
       "69800 -1003.434768 -311.769145 -595.825478  99500.0 -1.0\n",
       "\n",
       "[69801 rows x 5 columns]"
      ]
     },
     "execution_count": 139,
     "metadata": {},
     "output_type": "execute_result"
    }
   ],
   "source": [
    "import pandas as pd\n",
    "df = pd.DataFrame(data)\n",
    "df"
   ]
  },
  {
   "cell_type": "code",
   "execution_count": 22,
   "id": "26949b2f",
   "metadata": {},
   "outputs": [
    {
     "data": {
      "image/png": "[encoded data removed]",
      "text/plain": [
       "<Figure size 432x288 with 1 Axes>"
      ]
     },
     "metadata": {
      "needs_background": "light"
     },
     "output_type": "display_data"
    }
   ],
   "source": [
    "plt.scatter(data[0], np.array(data[1])/(4*np.array(data[0])))\n",
    "plt.scatter(data[0], np.array(data[2])/(2*np.array(data[0])))\n",
    "plt.loglog()\n",
    "plt.show()"
   ]
  },
  {
   "cell_type": "code",
   "execution_count": null,
   "id": "94f0ed38",
   "metadata": {},
   "outputs": [],
   "source": []
  }
 ],
 "metadata": {
  "kernelspec": {
   "display_name": "Python 3",
   "language": "python",
   "name": "python3"
  },
  "language_info": {
   "codemirror_mode": {
    "name": "ipython",
    "version": 3
   },
   "file_extension": ".py",
   "mimetype": "text/x-python",
   "name": "python",
   "nbconvert_exporter": "python",
   "pygments_lexer": "ipython3",
   "version": "3.9.5"
  }
 },
 "nbformat": 4,
 "nbformat_minor": 5
}
