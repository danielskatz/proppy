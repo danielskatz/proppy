{
 "cells": [
  {
   "cell_type": "code",
   "execution_count": 1,
   "id": "5045552e",
   "metadata": {},
   "outputs": [],
   "source": [
    "import numpy as np\n",
    "import matplotlib.pyplot as plt\n",
    "import pandas as pd\n",
    "from files.Simulation import Simulation\n",
    "from files.Source import Source\n",
    "from files.Observer import Observer"
   ]
  },
  {
   "cell_type": "markdown",
   "id": "95bb1fd1",
   "metadata": {},
   "source": [
    "## Parameters"
   ]
  },
  {
   "cell_type": "code",
   "execution_count": 2,
   "id": "753756c3",
   "metadata": {},
   "outputs": [],
   "source": [
    "nr_particles = 10**0\n",
    "nr_steps = 1*10**3\n",
    "source_pos = np.array([0.0, 0.0, 0.0], dtype=np.float32)\n",
    "delta_rho_div_phi = 1.0 # (delta_r_rho / delta_r_phi)\n",
    "gyro_radius = 10**11 # [m]\n",
    "observer_substeps = np.array([True, True, True]) #np.array([True, True, True])\n",
    "mean_free_path = np.array([2.13*10**12/2.0, 2.13*10**12/2.0, 2.1078*10**12])  # [m]\n",
    "observer_spheres = np.array([-1.0]) # np.array([1.0*10**16, 1.0*10**17, 1.0*10**18, 1.0*10**19, 1.0*10**20]) # np.array([-1.0]) is just a time evolution observer"
   ]
  },
  {
   "cell_type": "markdown",
   "id": "612c2b8f",
   "metadata": {},
   "source": [
    "## Simulation setup"
   ]
  },
  {
   "cell_type": "code",
   "execution_count": 3,
   "id": "f1541944",
   "metadata": {},
   "outputs": [
    {
     "name": "stdout",
     "output_type": "stream",
     "text": [
      "start simulation\n",
      "source\n",
      "observer\n",
      "CPU times: user 1.3 s, sys: 9.03 ms, total: 1.31 s\n",
      "Wall time: 1.3 s\n"
     ]
    }
   ],
   "source": [
    "sim = Simulation()\n",
    "\n",
    "source = Source(gyro_radius, mean_free_path, source_pos, nr_particles)\n",
    "sim.add_source(source)\n",
    "\n",
    "observer = Observer(observer_substeps)\n",
    "sim.add_observer(observer)\n",
    "\n",
    "%time sim.run_simulation(nr_steps)\n",
    "sim.save_data('data')"
   ]
  },
  {
   "cell_type": "code",
   "execution_count": 86,
   "id": "a2099cdc",
   "metadata": {},
   "outputs": [],
   "source": [
    "class Vizualizer():\n",
    "    def __init__(self, df):\n",
    "        print('init vizualizer')\n",
    "        self.df = df\n",
    "        \n",
    "    def get_particle_ids(self):\n",
    "        return list(map(int, (set(self.df['id']))))\n",
    "        \n",
    "    def plot_trajectory(self, x, y, c, particle_ids, n, file_name):\n",
    "        if isinstance(particle_ids, int):\n",
    "            # create a list if only one id was passed to particle_ids\n",
    "            particle_ids = [particle_ids]\n",
    "        plt.figure(figsize=(4.5,4))\n",
    "        for particle_id in particle_ids:\n",
    "            # filter the pandas dataframe for data of the current particle_id\n",
    "            df_ids = self.df[self.df['id'] == particle_id]\n",
    "            plt.scatter(df_ids[x][:n], df_ids[y][:n], s = 4, c=df_ids[c][:n], cmap='viridis')\n",
    "        # plot colorbar next to plot\n",
    "        cbar = plt.colorbar()\n",
    "        cbar.set_label(c + ' [m]')\n",
    "        plt.tight_layout()\n",
    "        plt.xlabel(x + ' [m]')\n",
    "        plt.ylabel(y + ' [m]')\n",
    "        plt.tight_layout()\n",
    "        if file_name is not None:\n",
    "            plt.savefig(file_name)\n",
    "        plt.show()\n",
    "        \n",
    "    def plot_trjectory_substeps(self, substep_0, substep_1, particle_ids, n, file_name):\n",
    "        if isinstance(particle_ids, int):\n",
    "            # create a list if only one id was passed to particle_ids\n",
    "            particle_ids = [particle_ids]\n",
    "        for particle_id in particle_ids:\n",
    "            # filter the pandas dataframe for data of the current particle_id\n",
    "            df_ids = self.df[self.df['id'] == particle_id][:n]\n",
    "            plt.figure(figsize=(4,4))\n",
    "            df_substep_0 = df_ids[df_ids['step'] == substep_0]\n",
    "            df_substep_1 = df_ids[df_ids['step'] == substep_1]\n",
    "            if len(df_substep_0) == 0 or len(df_substep_1) == 0:\n",
    "                print('Error: Data has no substeps. Please observe substeps in simulation. Afterwards you can visualize them.')\n",
    "                return\n",
    "            x_substep_0 = df_substep_0['x']\n",
    "            y_substep_0 = df_substep_0['y']\n",
    "            x_substep_1 = df_substep_1['x']\n",
    "            y_substep_1 = df_substep_1['y']\n",
    "            try:\n",
    "                x_0_1 = np.vstack([x_substep_0[:],x_substep_1[:-1]])\n",
    "                y_0_1 = np.vstack([y_substep_0[:],y_substep_1[:-1]])\n",
    "                x_1_0 = np.vstack([x_substep_1[1:],x_substep_0[2:]])\n",
    "                y_1_0 = np.vstack([y_substep_1[1:],y_substep_0[2:]])\n",
    "            except:\n",
    "                print('except')\n",
    "                x_0_1 = np.vstack([x_substep_0[:],x_substep_1[:]])\n",
    "                y_0_1 = np.vstack([y_substep_0[:],y_substep_1[:]])\n",
    "                x_1_0 = np.vstack([x_substep_1[:-1],x_substep_0[1:]])\n",
    "                y_1_0 = np.vstack([y_substep_1[:-1],y_substep_0[1:]])\n",
    "            # legend for substeps\n",
    "            plt.plot([x_substep_0.tolist()[0]], [y_substep_0.tolist()[0]], 'r', ls='--', label='move '+str(substep_0)+'➔'+str(substep_1))\n",
    "            plt.plot([x_substep_1.tolist()[0]], [y_substep_1.tolist()[0]], 'b', ls=':', label='move '+str(substep_1)+'➔'+str(substep_0))\n",
    "            plt.plot(x_0_1, y_0_1, 'r', ls='--')\n",
    "            plt.plot(x_1_0, y_1_0, 'b', ls=':')\n",
    "            plt.scatter(x_substep_0, y_substep_0, c='r', marker='^', s=15, label='after phi')\n",
    "            plt.scatter(x_substep_1, y_substep_1, c='green', marker='d', s=15, label='after rho')\n",
    "            \n",
    "        plt.xlabel('x [m]')\n",
    "        plt.ylabel('y [m]')\n",
    "        plt.legend()\n",
    "        plt.axis('square')\n",
    "        plt.tight_layout()\n",
    "        if file_name is not None:\n",
    "            plt.savefig(file_name)\n",
    "        plt.show()"
   ]
  },
  {
   "cell_type": "code",
   "execution_count": 87,
   "id": "10e57f70",
   "metadata": {},
   "outputs": [
    {
     "name": "stdout",
     "output_type": "stream",
     "text": [
      "init vizualizer\n",
      "except\n"
     ]
    },
    {
     "data": {
      "image/png": "[encoded data removed]",
      "text/plain": [
       "<Figure size 288x288 with 1 Axes>"
      ]
     },
     "metadata": {
      "needs_background": "light"
     },
     "output_type": "display_data"
    },
    {
     "data": {
      "image/png": "[encoded data removed]",
      "text/plain": [
       "<Figure size 324x288 with 2 Axes>"
      ]
     },
     "metadata": {
      "needs_background": "light"
     },
     "output_type": "display_data"
    },
    {
     "data": {
      "image/png": "[encoded data removed]",
      "text/plain": [
       "<Figure size 324x288 with 2 Axes>"
      ]
     },
     "metadata": {
      "needs_background": "light"
     },
     "output_type": "display_data"
    }
   ],
   "source": [
    "df = pd.read_pickle(\"data.pkl\")\n",
    "\n",
    "df_time_evolution_observer = df.loc[df['radius'] == -1.0]\n",
    "vis = Vizualizer(df_time_evolution_observer)\n",
    "particle_ids = vis.get_particle_ids()\n",
    "vis.plot_trjectory_substeps(0, 1, particle_ids[0], 16, None)\n",
    "vis.plot_trajectory('x', 'y', 'd', particle_ids[:], -1, None)\n",
    "vis.plot_trajectory('d', 'z', 'd', particle_ids[:], -1, None)"
   ]
  },
  {
   "cell_type": "code",
   "execution_count": null,
   "id": "b3a07ef7",
   "metadata": {},
   "outputs": [],
   "source": []
  },
  {
   "cell_type": "code",
   "execution_count": 8,
   "id": "e2027fff",
   "metadata": {},
   "outputs": [
    {
     "data": {
      "text/html": [
       "<div>\n",
       "<style scoped>\n",
       "    .dataframe tbody tr th:only-of-type {\n",
       "        vertical-align: middle;\n",
       "    }\n",
       "\n",
       "    .dataframe tbody tr th {\n",
       "        vertical-align: top;\n",
       "    }\n",
       "\n",
       "    .dataframe thead th {\n",
       "        text-align: right;\n",
       "    }\n",
       "</style>\n",
       "<table border=\"1\" class=\"dataframe\">\n",
       "  <thead>\n",
       "    <tr style=\"text-align: right;\">\n",
       "      <th></th>\n",
       "      <th>id</th>\n",
       "      <th>i</th>\n",
       "      <th>d</th>\n",
       "      <th>x</th>\n",
       "      <th>y</th>\n",
       "      <th>z</th>\n",
       "      <th>radius</th>\n",
       "      <th>step</th>\n",
       "    </tr>\n",
       "  </thead>\n",
       "  <tbody>\n",
       "    <tr>\n",
       "      <th>0</th>\n",
       "      <td>0.0</td>\n",
       "      <td>0.0</td>\n",
       "      <td>0.000000e+00</td>\n",
       "      <td>0.000000e+00</td>\n",
       "      <td>0.000000e+00</td>\n",
       "      <td>0.000000e+00</td>\n",
       "      <td>-1.0</td>\n",
       "      <td>NaN</td>\n",
       "    </tr>\n",
       "    <tr>\n",
       "      <th>1</th>\n",
       "      <td>0.0</td>\n",
       "      <td>2.0</td>\n",
       "      <td>6.666666e+09</td>\n",
       "      <td>2.594650e+09</td>\n",
       "      <td>5.908776e+09</td>\n",
       "      <td>2.886751e+09</td>\n",
       "      <td>-1.0</td>\n",
       "      <td>0.0</td>\n",
       "    </tr>\n",
       "    <tr>\n",
       "      <th>2</th>\n",
       "      <td>0.0</td>\n",
       "      <td>2.0</td>\n",
       "      <td>8.333333e+09</td>\n",
       "      <td>5.466976e+09</td>\n",
       "      <td>6.197000e+09</td>\n",
       "      <td>2.886751e+09</td>\n",
       "      <td>-1.0</td>\n",
       "      <td>1.0</td>\n",
       "    </tr>\n",
       "    <tr>\n",
       "      <th>3</th>\n",
       "      <td>0.0</td>\n",
       "      <td>2.0</td>\n",
       "      <td>1.000000e+10</td>\n",
       "      <td>5.466976e+09</td>\n",
       "      <td>6.197000e+09</td>\n",
       "      <td>5.773502e+09</td>\n",
       "      <td>-1.0</td>\n",
       "      <td>2.0</td>\n",
       "    </tr>\n",
       "    <tr>\n",
       "      <th>4</th>\n",
       "      <td>0.0</td>\n",
       "      <td>10.0</td>\n",
       "      <td>4.666667e+10</td>\n",
       "      <td>1.789440e+10</td>\n",
       "      <td>3.405724e+10</td>\n",
       "      <td>2.598076e+10</td>\n",
       "      <td>-1.0</td>\n",
       "      <td>0.0</td>\n",
       "    </tr>\n",
       "    <tr>\n",
       "      <th>...</th>\n",
       "      <td>...</td>\n",
       "      <td>...</td>\n",
       "      <td>...</td>\n",
       "      <td>...</td>\n",
       "      <td>...</td>\n",
       "      <td>...</td>\n",
       "      <td>...</td>\n",
       "      <td>...</td>\n",
       "    </tr>\n",
       "    <tr>\n",
       "      <th>2996</th>\n",
       "      <td>0.0</td>\n",
       "      <td>9980.0</td>\n",
       "      <td>4.988852e+13</td>\n",
       "      <td>-4.407934e+11</td>\n",
       "      <td>-9.423448e+11</td>\n",
       "      <td>4.996934e+12</td>\n",
       "      <td>-1.0</td>\n",
       "      <td>1.0</td>\n",
       "    </tr>\n",
       "    <tr>\n",
       "      <th>2997</th>\n",
       "      <td>0.0</td>\n",
       "      <td>9980.0</td>\n",
       "      <td>4.989018e+13</td>\n",
       "      <td>-4.407934e+11</td>\n",
       "      <td>-9.423448e+11</td>\n",
       "      <td>4.999821e+12</td>\n",
       "      <td>-1.0</td>\n",
       "      <td>2.0</td>\n",
       "    </tr>\n",
       "    <tr>\n",
       "      <th>2998</th>\n",
       "      <td>0.0</td>\n",
       "      <td>9990.0</td>\n",
       "      <td>4.993681e+13</td>\n",
       "      <td>-4.433406e+11</td>\n",
       "      <td>-9.807323e+11</td>\n",
       "      <td>5.025802e+12</td>\n",
       "      <td>-1.0</td>\n",
       "      <td>0.0</td>\n",
       "    </tr>\n",
       "    <tr>\n",
       "      <th>2999</th>\n",
       "      <td>0.0</td>\n",
       "      <td>9990.0</td>\n",
       "      <td>4.993847e+13</td>\n",
       "      <td>-4.459794e+11</td>\n",
       "      <td>-9.819029e+11</td>\n",
       "      <td>5.025802e+12</td>\n",
       "      <td>-1.0</td>\n",
       "      <td>1.0</td>\n",
       "    </tr>\n",
       "    <tr>\n",
       "      <th>3000</th>\n",
       "      <td>0.0</td>\n",
       "      <td>9990.0</td>\n",
       "      <td>4.994014e+13</td>\n",
       "      <td>-4.459794e+11</td>\n",
       "      <td>-9.819029e+11</td>\n",
       "      <td>5.028688e+12</td>\n",
       "      <td>-1.0</td>\n",
       "      <td>2.0</td>\n",
       "    </tr>\n",
       "  </tbody>\n",
       "</table>\n",
       "<p>3001 rows × 8 columns</p>\n",
       "</div>"
      ],
      "text/plain": [
       "       id       i             d             x             y             z  \\\n",
       "0     0.0     0.0  0.000000e+00  0.000000e+00  0.000000e+00  0.000000e+00   \n",
       "1     0.0     2.0  6.666666e+09  2.594650e+09  5.908776e+09  2.886751e+09   \n",
       "2     0.0     2.0  8.333333e+09  5.466976e+09  6.197000e+09  2.886751e+09   \n",
       "3     0.0     2.0  1.000000e+10  5.466976e+09  6.197000e+09  5.773502e+09   \n",
       "4     0.0    10.0  4.666667e+10  1.789440e+10  3.405724e+10  2.598076e+10   \n",
       "...   ...     ...           ...           ...           ...           ...   \n",
       "2996  0.0  9980.0  4.988852e+13 -4.407934e+11 -9.423448e+11  4.996934e+12   \n",
       "2997  0.0  9980.0  4.989018e+13 -4.407934e+11 -9.423448e+11  4.999821e+12   \n",
       "2998  0.0  9990.0  4.993681e+13 -4.433406e+11 -9.807323e+11  5.025802e+12   \n",
       "2999  0.0  9990.0  4.993847e+13 -4.459794e+11 -9.819029e+11  5.025802e+12   \n",
       "3000  0.0  9990.0  4.994014e+13 -4.459794e+11 -9.819029e+11  5.028688e+12   \n",
       "\n",
       "      radius  step  \n",
       "0       -1.0   NaN  \n",
       "1       -1.0   0.0  \n",
       "2       -1.0   1.0  \n",
       "3       -1.0   2.0  \n",
       "4       -1.0   0.0  \n",
       "...      ...   ...  \n",
       "2996    -1.0   1.0  \n",
       "2997    -1.0   2.0  \n",
       "2998    -1.0   0.0  \n",
       "2999    -1.0   1.0  \n",
       "3000    -1.0   2.0  \n",
       "\n",
       "[3001 rows x 8 columns]"
      ]
     },
     "execution_count": 8,
     "metadata": {},
     "output_type": "execute_result"
    }
   ],
   "source": [
    "df_ids = df[df['id'] == 0]\n",
    "df_ids"
   ]
  },
  {
   "cell_type": "code",
   "execution_count": null,
   "id": "c4aa44ba",
   "metadata": {},
   "outputs": [],
   "source": []
  }
 ],
 "metadata": {
  "kernelspec": {
   "display_name": "Python 3",
   "language": "python",
   "name": "python3"
  },
  "language_info": {
   "codemirror_mode": {
    "name": "ipython",
    "version": 3
   },
   "file_extension": ".py",
   "mimetype": "text/x-python",
   "name": "python",
   "nbconvert_exporter": "python",
   "pygments_lexer": "ipython3",
   "version": "3.8.5"
  }
 },
 "nbformat": 4,
 "nbformat_minor": 5
}
