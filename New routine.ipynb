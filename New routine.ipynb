{
 "cells": [
  {
   "cell_type": "code",
   "execution_count": 7,
   "id": "5045552e",
   "metadata": {},
   "outputs": [],
   "source": [
    "import numpy as np\n",
    "import matplotlib.pyplot as plt\n",
    "import pandas as pd\n",
    "from files.Simulation import Simulation\n",
    "from files.Source import Source\n",
    "from files.Observer import Observer"
   ]
  },
  {
   "cell_type": "markdown",
   "id": "95bb1fd1",
   "metadata": {},
   "source": [
    "## Parameters"
   ]
  },
  {
   "cell_type": "code",
   "execution_count": 16,
   "id": "753756c3",
   "metadata": {},
   "outputs": [],
   "source": [
    "nr_particles = 10**0\n",
    "nr_steps = 1*10**5\n",
    "source_pos = np.array([0.0, 0.0, 0.0], dtype=np.float32)\n",
    "delta_rho_div_phi = 1.0 # (delta_r_rho / delta_r_phi)\n",
    "gyro_radius = 10**11 # [m]\n",
    "observer_substeps = np.array([False, False, True]) #np.array([True, True, True])\n",
    "mean_free_path = np.array([2.13*10**12/2.0, 2.13*10**12/2.0, 2.1078*10**12])  # [m]\n",
    "observer_spheres = np.array([-1.0]) # np.array([1.0*10**16, 1.0*10**17, 1.0*10**18, 1.0*10**19, 1.0*10**20]) # np.array([-1.0]) is just a time evolution observer"
   ]
  },
  {
   "cell_type": "markdown",
   "id": "612c2b8f",
   "metadata": {},
   "source": [
    "## Simulation setup"
   ]
  },
  {
   "cell_type": "code",
   "execution_count": 17,
   "id": "f1541944",
   "metadata": {},
   "outputs": [
    {
     "name": "stdout",
     "output_type": "stream",
     "text": [
      "start simulation\n",
      "source\n",
      "observer\n",
      "CPU times: user 51.5 ms, sys: 0 ns, total: 51.5 ms\n",
      "Wall time: 51.1 ms\n"
     ]
    }
   ],
   "source": [
    "sim = Simulation()\n",
    "\n",
    "source = Source(gyro_radius, mean_free_path, source_pos, nr_particles)\n",
    "sim.add_source(source)\n",
    "\n",
    "observer = Observer(observer_substeps)\n",
    "sim.add_observer(observer)\n",
    "\n",
    "%time sim.run_simulation(nr_steps)\n",
    "sim.save_data('data')"
   ]
  },
  {
   "cell_type": "code",
   "execution_count": 18,
   "id": "f2c0022f",
   "metadata": {},
   "outputs": [],
   "source": [
    "def plot_trajectory_seperated(df):\n",
    "    #n = 35\n",
    "    n = 240\n",
    "    plt.figure(figsize=(4,4))\n",
    "    x_phi = np.vstack([df['x'].tolist()[0:n-2:2],df['x'].tolist()[1:n-1:2]])\n",
    "    y_phi = np.vstack([df['y'].tolist()[0:n-2:2],df['y'].tolist()[1:n-1:2]])\n",
    "    x_rho = np.vstack([df['x'].tolist()[1:n-1:2],df['x'].tolist()[2:n:2]])\n",
    "    y_rho = np.vstack([df['y'].tolist()[1:n-1:2],df['y'].tolist()[2:n:2]])\n",
    "    plt.plot([0], [0], 'r', ls='--', label='move in $\\phi$')\n",
    "    plt.plot([0], [0], 'b', ls=':', label='move in $\\\\rho$')\n",
    "    plt.plot(x_phi,y_phi, 'r', ls='--')\n",
    "    plt.plot(x_rho,y_rho, 'b', ls=':')\n",
    "    plt.scatter(df['x'].tolist()[0:n:2], df['y'].tolist()[0:n:2], c='k', s=15, label='no direction change')\n",
    "    #plt.scatter(df['x'].tolist()[8], df['y'].tolist()[8], c='r', s=15, label='change in $\\phi$')\n",
    "    #plt.scatter(df['x'].tolist()[28], df['y'].tolist()[28], c='b', s=15, label='change in $\\\\rho$')\n",
    "    plt.scatter([df['x'].tolist()[0]], [df['y'].tolist()[0]], c='orange', s=25, label='start')\n",
    "    plt.plot(df['x'].tolist()[0:n:2], df['y'].tolist()[0:n:2], color='k', label='effective trajectory')\n",
    "    #plt.scatter(df['x'][:n], df['y'][:n], s= 4)\n",
    "    #plt.plot(df['x'][:n], df['y'][:n])\n",
    "    #plt.plot(df['x'][n-1:2*n], df['y'][n-1:2*n], color='k')\n",
    "    plt.xlabel('x [m]')\n",
    "    plt.ylabel('y [m]')\n",
    "    plt.legend()\n",
    "    plt.axis('square')\n",
    "    plt.tight_layout()\n",
    "    plt.savefig('single_trajectory_detailed.pdf')\n",
    "    plt.show()"
   ]
  },
  {
   "cell_type": "code",
   "execution_count": 19,
   "id": "a2099cdc",
   "metadata": {},
   "outputs": [],
   "source": [
    "class Vizualizer():\n",
    "    def __init__(self, df):\n",
    "        print('init vizualizer')\n",
    "        self.df = df\n",
    "        print(df)\n",
    "        \n",
    "    def plot_trajectory(self, n):\n",
    "        plt.figure(figsize=(4,4))\n",
    "        plt.scatter(df['x'][:n], df['y'][:n], s= 4)\n",
    "        plt.plot(df['x'][:n], df['y'][:n])\n",
    "        plt.tight_layout()\n",
    "        plt.xlabel('x [m]')\n",
    "        plt.ylabel('y [m]')\n",
    "        plt.tight_layout()\n",
    "        \n",
    "        plt.savefig('single_trajectory.png')\n",
    "        plt.show()\n",
    "\n",
    "        plt.figure(figsize=(4,4))\n",
    "        x = df['d'][:n]\n",
    "        y = df['z'][:n]\n",
    "        plt.plot(x, y)\n",
    "        plt.tight_layout()\n",
    "        plt.xlabel('steps')\n",
    "        plt.ylabel('z [m]')\n",
    "        plt.tight_layout()\n",
    "        plt.savefig('single_trajectory_z.pdf')\n",
    "        plt.show()"
   ]
  },
  {
   "cell_type": "code",
   "execution_count": 20,
   "id": "10e57f70",
   "metadata": {},
   "outputs": [
    {
     "name": "stdout",
     "output_type": "stream",
     "text": [
      "init vizualizer\n",
      "        id        i             d             x             y             z  \\\n",
      "0      0.0      0.0  0.000000e+00  0.000000e+00  0.000000e+00  0.000000e+00   \n",
      "1      0.0      2.0  1.000000e+10  5.466976e+09  6.197000e+09  5.773502e+09   \n",
      "2      0.0     10.0  5.000000e+10  2.042769e+10  3.544135e+10  2.886751e+10   \n",
      "3      0.0     20.0  1.000001e+11  2.136106e+10  7.633765e+10  5.773501e+10   \n",
      "4      0.0     30.0  1.500001e+11  2.571547e+09  1.126741e+11  8.660254e+10   \n",
      "...    ...      ...           ...           ...           ...           ...   \n",
      "9996   0.0  99950.0  5.007941e+14 -5.994756e+11  2.718610e+12 -2.477075e+13   \n",
      "9997   0.0  99960.0  5.008444e+14 -6.238639e+11  2.685768e+12 -2.479963e+13   \n",
      "9998   0.0  99970.0  5.008947e+14 -6.295197e+11  2.645254e+12 -2.482851e+13   \n",
      "9999   0.0  99980.0  5.009451e+14 -6.150586e+11  2.606989e+12 -2.485739e+13   \n",
      "10000  0.0  99990.0  5.009954e+14 -5.840216e+11  2.580342e+12 -2.488626e+13   \n",
      "\n",
      "       radius  \n",
      "0        -1.0  \n",
      "1        -1.0  \n",
      "2        -1.0  \n",
      "3        -1.0  \n",
      "4        -1.0  \n",
      "...       ...  \n",
      "9996     -1.0  \n",
      "9997     -1.0  \n",
      "9998     -1.0  \n",
      "9999     -1.0  \n",
      "10000    -1.0  \n",
      "\n",
      "[10001 rows x 7 columns]\n"
     ]
    },
    {
     "data": {
      "image/png": "[encoded data removed]",
      "text/plain": [
       "<Figure size 288x288 with 1 Axes>"
      ]
     },
     "metadata": {
      "needs_background": "light"
     },
     "output_type": "display_data"
    },
    {
     "data": {
      "image/png": "[encoded data removed]",
      "text/plain": [
       "<Figure size 288x288 with 1 Axes>"
      ]
     },
     "metadata": {
      "needs_background": "light"
     },
     "output_type": "display_data"
    }
   ],
   "source": [
    "df = pd.read_pickle(\"data.pkl\")\n",
    "#print(df)\n",
    "df_time_evolution_observer = df.loc[df['radius'] == -1.0]\n",
    "vis = Vizualizer(df_time_evolution_observer)\n",
    "#plot_trajectory_seperated(df_time_evolution_observer)\n",
    "vis.plot_trajectory(2*10**5)"
   ]
  },
  {
   "cell_type": "code",
   "execution_count": null,
   "id": "b3a07ef7",
   "metadata": {},
   "outputs": [],
   "source": []
  }
 ],
 "metadata": {
  "kernelspec": {
   "display_name": "Python 3",
   "language": "python",
   "name": "python3"
  },
  "language_info": {
   "codemirror_mode": {
    "name": "ipython",
    "version": 3
   },
   "file_extension": ".py",
   "mimetype": "text/x-python",
   "name": "python",
   "nbconvert_exporter": "python",
   "pygments_lexer": "ipython3",
   "version": "3.8.5"
  }
 },
 "nbformat": 4,
 "nbformat_minor": 5
}
