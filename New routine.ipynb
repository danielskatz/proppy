{
 "cells": [
  {
   "cell_type": "code",
   "execution_count": 1,
   "id": "5045552e",
   "metadata": {},
   "outputs": [],
   "source": [
    "import numpy as np\n",
    "import matplotlib.pyplot as plt\n",
    "import pandas as pd\n",
    "from files.Simulation import Simulation\n",
    "from files.Source import Source\n",
    "from files.Observer import Observer"
   ]
  },
  {
   "cell_type": "markdown",
   "id": "95bb1fd1",
   "metadata": {},
   "source": [
    "## Parameters"
   ]
  },
  {
   "cell_type": "code",
   "execution_count": 2,
   "id": "753756c3",
   "metadata": {},
   "outputs": [],
   "source": [
    "nr_particles = 10**1\n",
    "nr_steps = 1*10**5\n",
    "source_pos = np.array([0.0, 0.0, 0.0], dtype=np.float32)\n",
    "delta_rho_div_phi = 1.0 # (delta_r_rho / delta_r_phi)\n",
    "gyro_radius = 10**11 # [m]\n",
    "observer_substeps = np.array([False, False, True]) #np.array([True, True, True])\n",
    "mean_free_path = np.array([2.13*10**12/2.0, 2.13*10**12/2.0, 2.1078*10**12])  # [m]\n",
    "observer_spheres = np.array([-1.0]) # np.array([1.0*10**16, 1.0*10**17, 1.0*10**18, 1.0*10**19, 1.0*10**20]) # np.array([-1.0]) is just a time evolution observer"
   ]
  },
  {
   "cell_type": "markdown",
   "id": "612c2b8f",
   "metadata": {},
   "source": [
    "## Simulation setup"
   ]
  },
  {
   "cell_type": "code",
   "execution_count": 3,
   "id": "f1541944",
   "metadata": {},
   "outputs": [
    {
     "name": "stdout",
     "output_type": "stream",
     "text": [
      "start simulation\n",
      "source\n",
      "observer\n",
      "CPU times: user 1.48 s, sys: 19.1 ms, total: 1.5 s\n",
      "Wall time: 1.5 s\n"
     ]
    }
   ],
   "source": [
    "sim = Simulation()\n",
    "\n",
    "source = Source(gyro_radius, mean_free_path, source_pos, nr_particles)\n",
    "sim.add_source(source)\n",
    "\n",
    "observer = Observer(observer_substeps)\n",
    "sim.add_observer(observer)\n",
    "\n",
    "%time sim.run_simulation(nr_steps)\n",
    "sim.save_data('data')"
   ]
  },
  {
   "cell_type": "code",
   "execution_count": 4,
   "id": "f2c0022f",
   "metadata": {},
   "outputs": [],
   "source": [
    "def plot_trajectory_seperated(df):\n",
    "    #n = 35\n",
    "    n = 240\n",
    "    plt.figure(figsize=(4,4))\n",
    "    x_phi = np.vstack([df['x'].tolist()[0:n-2:2],df['x'].tolist()[1:n-1:2]])\n",
    "    y_phi = np.vstack([df['y'].tolist()[0:n-2:2],df['y'].tolist()[1:n-1:2]])\n",
    "    x_rho = np.vstack([df['x'].tolist()[1:n-1:2],df['x'].tolist()[2:n:2]])\n",
    "    y_rho = np.vstack([df['y'].tolist()[1:n-1:2],df['y'].tolist()[2:n:2]])\n",
    "    plt.plot([0], [0], 'r', ls='--', label='move in $\\phi$')\n",
    "    plt.plot([0], [0], 'b', ls=':', label='move in $\\\\rho$')\n",
    "    plt.plot(x_phi,y_phi, 'r', ls='--')\n",
    "    plt.plot(x_rho,y_rho, 'b', ls=':')\n",
    "    plt.scatter(df['x'].tolist()[0:n:2], df['y'].tolist()[0:n:2], c='k', s=15, label='no direction change')\n",
    "    #plt.scatter(df['x'].tolist()[8], df['y'].tolist()[8], c='r', s=15, label='change in $\\phi$')\n",
    "    #plt.scatter(df['x'].tolist()[28], df['y'].tolist()[28], c='b', s=15, label='change in $\\\\rho$')\n",
    "    plt.scatter([df['x'].tolist()[0]], [df['y'].tolist()[0]], c='orange', s=25, label='start')\n",
    "    plt.plot(df['x'].tolist()[0:n:2], df['y'].tolist()[0:n:2], color='k', label='effective trajectory')\n",
    "    #plt.scatter(df['x'][:n], df['y'][:n], s= 4)\n",
    "    #plt.plot(df['x'][:n], df['y'][:n])\n",
    "    #plt.plot(df['x'][n-1:2*n], df['y'][n-1:2*n], color='k')\n",
    "    plt.xlabel('x [m]')\n",
    "    plt.ylabel('y [m]')\n",
    "    plt.legend()\n",
    "    plt.axis('square')\n",
    "    plt.tight_layout()\n",
    "    plt.savefig('single_trajectory_detailed.pdf')\n",
    "    plt.show()"
   ]
  },
  {
   "cell_type": "code",
   "execution_count": 5,
   "id": "a2099cdc",
   "metadata": {},
   "outputs": [],
   "source": [
    "class Vizualizer():\n",
    "    def __init__(self, df):\n",
    "        print('init vizualizer')\n",
    "        self.df = df\n",
    "        \n",
    "    def plot_trajectory(self, n):\n",
    "        plt.figure(figsize=(4,4))\n",
    "        plt.scatter(df['x'][:n], df['y'][:n], s= 4)\n",
    "        plt.plot(df['x'][:n], df['y'][:n])\n",
    "        plt.tight_layout()\n",
    "        plt.xlabel('x [m]')\n",
    "        plt.ylabel('y [m]')\n",
    "        plt.tight_layout()\n",
    "        plt.savefig('single_trajectory.png')\n",
    "        plt.show()\n",
    "\n",
    "        plt.figure(figsize=(4,4))\n",
    "        z = df['z'][:n]\n",
    "        plt.plot(range(len(z)), z)\n",
    "        plt.tight_layout()\n",
    "        plt.xlabel('steps')\n",
    "        plt.ylabel('z [m]')\n",
    "        plt.tight_layout()\n",
    "        plt.savefig('single_trajectory_z.pdf')\n",
    "        plt.show()"
   ]
  },
  {
   "cell_type": "code",
   "execution_count": 6,
   "id": "10e57f70",
   "metadata": {},
   "outputs": [
    {
     "name": "stdout",
     "output_type": "stream",
     "text": [
      "init vizualizer\n"
     ]
    },
    {
     "data": {
      "image/png": "[encoded data removed]",
      "text/plain": [
       "<Figure size 288x288 with 1 Axes>"
      ]
     },
     "metadata": {
      "needs_background": "light"
     },
     "output_type": "display_data"
    },
    {
     "data": {
      "image/png": "[encoded data removed]",
      "text/plain": [
       "<Figure size 288x288 with 1 Axes>"
      ]
     },
     "metadata": {
      "needs_background": "light"
     },
     "output_type": "display_data"
    }
   ],
   "source": [
    "df = pd.read_pickle(\"data.pkl\")\n",
    "#print(df)\n",
    "df_time_evolution_observer = df.loc[df['radius'] == -1.0]\n",
    "vis = Vizualizer(df_time_evolution_observer)\n",
    "#plot_trajectory_seperated(df_time_evolution_observer)\n",
    "vis.plot_trajectory(2*10**5)"
   ]
  },
  {
   "cell_type": "code",
   "execution_count": null,
   "id": "b3a07ef7",
   "metadata": {},
   "outputs": [],
   "source": []
  }
 ],
 "metadata": {
  "kernelspec": {
   "display_name": "Python 3",
   "language": "python",
   "name": "python3"
  },
  "language_info": {
   "codemirror_mode": {
    "name": "ipython",
    "version": 3
   },
   "file_extension": ".py",
   "mimetype": "text/x-python",
   "name": "python",
   "nbconvert_exporter": "python",
   "pygments_lexer": "ipython3",
   "version": "3.8.5"
  }
 },
 "nbformat": 4,
 "nbformat_minor": 5
}
