{
 "cells": [
  {
   "cell_type": "code",
   "execution_count": 1,
   "id": "39287cb4",
   "metadata": {},
   "outputs": [],
   "source": [
    "import numpy as np\n",
    "import matplotlib.pyplot as plt\n",
    "import pandas as pd"
   ]
  },
  {
   "cell_type": "code",
   "execution_count": 2,
   "id": "8d1f7ff3",
   "metadata": {},
   "outputs": [],
   "source": [
    "import os\n",
    "os.chdir('..')\n",
    "import rwpropa as rw"
   ]
  },
  {
   "cell_type": "code",
   "execution_count": 7,
   "id": "9cc5a523",
   "metadata": {},
   "outputs": [
    {
     "name": "stdout",
     "output_type": "stream",
     "text": [
      "______________________________________________________________\n",
      "simulate with a diffusion coefficient of  2e+22 m²/s\n",
      "start simulation\n",
      "Propagator initialized\n",
      "Observer initialized\n",
      "saved data file comparison/data/rwpropa_0.1.pkl\n",
      "CPU times: user 14 s, sys: 200 ms, total: 14.2 s\n",
      "Wall time: 14.3 s\n",
      "init statistics plotting class\n",
      "______________________________________________________________\n",
      "simulate with a diffusion coefficient of  2e+22 m²/s\n",
      "start simulation\n",
      "Propagator initialized\n",
      "Observer initialized\n",
      "saved data file comparison/data/rwpropa_0.2682695795279727.pkl\n",
      "CPU times: user 5.38 s, sys: 4.35 ms, total: 5.38 s\n",
      "Wall time: 5.38 s\n",
      "init statistics plotting class\n",
      "______________________________________________________________\n",
      "simulate with a diffusion coefficient of  2e+22 m²/s\n",
      "start simulation\n",
      "Propagator initialized\n",
      "Observer initialized\n",
      "saved data file comparison/data/rwpropa_0.7196856730011528.pkl\n",
      "CPU times: user 2.15 s, sys: 108 µs, total: 2.15 s\n",
      "Wall time: 2.15 s\n",
      "init statistics plotting class\n",
      "______________________________________________________________\n",
      "simulate with a diffusion coefficient of  2e+22 m²/s\n",
      "start simulation\n",
      "Propagator initialized\n",
      "Observer initialized\n",
      "saved data file comparison/data/rwpropa_1.9306977288832456.pkl\n",
      "CPU times: user 773 ms, sys: 29 µs, total: 773 ms\n",
      "Wall time: 772 ms\n",
      "init statistics plotting class\n",
      "______________________________________________________________\n",
      "simulate with a diffusion coefficient of  2e+22 m²/s\n",
      "start simulation\n",
      "Propagator initialized\n",
      "Observer initialized\n",
      "saved data file comparison/data/rwpropa_5.179474679231202.pkl\n",
      "CPU times: user 314 ms, sys: 4.03 ms, total: 318 ms\n",
      "Wall time: 317 ms\n",
      "init statistics plotting class\n",
      "______________________________________________________________\n",
      "simulate with a diffusion coefficient of  2e+22 m²/s\n",
      "start simulation\n",
      "Propagator initialized\n",
      "Observer initialized\n",
      "saved data file comparison/data/rwpropa_13.89495494373136.pkl\n",
      "CPU times: user 217 ms, sys: 0 ns, total: 217 ms\n",
      "Wall time: 216 ms\n",
      "init statistics plotting class\n",
      "______________________________________________________________\n",
      "simulate with a diffusion coefficient of  2e+22 m²/s\n",
      "start simulation\n",
      "Propagator initialized\n",
      "Observer initialized\n",
      "saved data file comparison/data/rwpropa_37.27593720314938.pkl\n",
      "CPU times: user 89.7 ms, sys: 0 ns, total: 89.7 ms\n",
      "Wall time: 89.4 ms\n",
      "init statistics plotting class\n",
      "______________________________________________________________\n",
      "simulate with a diffusion coefficient of  2e+22 m²/s\n",
      "start simulation\n",
      "Propagator initialized\n",
      "Observer initialized\n",
      "saved data file comparison/data/rwpropa_100.0.pkl\n",
      "CPU times: user 48.7 ms, sys: 0 ns, total: 48.7 ms\n",
      "Wall time: 48.1 ms\n",
      "init statistics plotting class\n"
     ]
    },
    {
     "data": {
      "image/png": "[encoded data removed]",
      "text/plain": [
       "<Figure size 432x288 with 1 Axes>"
      ]
     },
     "metadata": {
      "needs_background": "light"
     },
     "output_type": "display_data"
    }
   ],
   "source": [
    "kappa = 2.*10**22\n",
    "energy = 3*10**16\n",
    "step_sizes = np.logspace(10, 13, 8)\n",
    "traj_max = 10**15\n",
    "\n",
    "for step_size in step_sizes:\n",
    "    print('______________________________________________________________')\n",
    "    nr_steps = int(traj_max/step_size)\n",
    "    sim = rw.IsotropicSimulation(nr_particles = 10**2, energy = energy, step_size = step_size, nr_steps = nr_steps, diffusion_coefficient_para = kappa, nr_obs_steps = 100)\n",
    "    file_name = 'comparison/data/rwpropa_'+str(step_size/10**11)\n",
    "    %time sim.simulate(file_name)\n",
    "    df = pd.read_pickle(file_name+'.pkl')\n",
    "    sta = rw.Statistics(df)\n",
    "    df_kappas = sta.get_diffusion_coefficients()\n",
    "    plt.plot(df_kappas['l'], (df_kappas['kappa_xx']))"
   ]
  },
  {
   "cell_type": "code",
   "execution_count": null,
   "id": "896ac1e0",
   "metadata": {},
   "outputs": [],
   "source": [
    "### load crpropa data\n",
    "step_sizes = np.logspace(10, 13, 8)\n",
    "\n",
    "fig, ax1 = plt.subplots(figsize=(6,4))\n",
    "\n",
    "# rwpropa \n",
    "plt.plot(df_kappas['d'], ((df_kappas['kappa_xx']**2+df_kappas['kappa_yy']**2+df_kappas['kappa_zz']**2)/3)**0.5*10**4, label='rwpropa', color='k')\n",
    "\n",
    "\n",
    "for step_size in step_sizes:\n",
    "    crp_d = np.load('comparison/data/sim_result_ana_'+str(step_size/10**11)+'_d.npy')\n",
    "    crp_kappa_perp = np.load('comparison/data/sim_result_ana_'+str(step_size/10**11)+'_kappa_perp.npy')\n",
    "    crp_kappa_para = np.load('comparison/data/sim_result_ana_'+str(step_size/10**11)+'_kappa_para.npy')\n",
    "\n",
    "    \n",
    "    n_max = -1\n",
    "    ax1.plot(crp_d[:n_max], np.array(crp_kappa_perp[:n_max])*10**4, ls='--', label=str(\"{:.2e}\".format(step_size))+'m')\n",
    "    #ax1.plot(crp_d[:n_max], np.array(crp_kappa_para[:n_max])*10**4, linestyle=':', label='$\\kappa_\\parallel$ (EOM)', color='r')\n",
    "\n",
    "\n",
    "\n",
    "\n",
    "ax1.set_xlabel('distance [m]')\n",
    "#ax1.axvline(x=mfp[1], c='grey', ls=':')\n",
    "#ax1.axvline(x=mfp[2], c='grey', ls='--')\n",
    "ax1.loglog()\n",
    "ax1.set_ylabel('$\\kappa$ [cm$^2$/s]')\n",
    "\n",
    "plt.legend()\n",
    "    #plt.savefig('kappas_bB_'+str(bB)+'.pdf')\n",
    "plt.show()"
   ]
  },
  {
   "cell_type": "code",
   "execution_count": null,
   "id": "2efecb56",
   "metadata": {},
   "outputs": [],
   "source": []
  },
  {
   "cell_type": "code",
   "execution_count": null,
   "id": "b4866e94",
   "metadata": {},
   "outputs": [],
   "source": []
  },
  {
   "cell_type": "code",
   "execution_count": null,
   "id": "bb10ec6f",
   "metadata": {},
   "outputs": [],
   "source": []
  },
  {
   "cell_type": "code",
   "execution_count": null,
   "id": "30992e30",
   "metadata": {},
   "outputs": [],
   "source": []
  },
  {
   "cell_type": "code",
   "execution_count": 7,
   "id": "9cc7b77f",
   "metadata": {},
   "outputs": [
    {
     "data": {
      "image/png": "[encoded data removed]",
      "text/plain": [
       "<Figure size 288x180 with 1 Axes>"
      ]
     },
     "metadata": {
      "needs_background": "light"
     },
     "output_type": "display_data"
    }
   ],
   "source": [
    "### load crpropa data\n",
    "bB = 0.1\n",
    "crp_d = np.load('sim_result_ana_d.npy')\n",
    "crp_kappa_perp = np.load('sim_result_ana_kappa_perp.npy')\n",
    "crp_kappa_para = np.load('sim_result_ana_kappa_para.npy')\n",
    "\n",
    "fig, ax1 = plt.subplots(figsize=(4,2.5))\n",
    "\n",
    "n_max = -1\n",
    "ax1.plot(crp_d[:n_max], np.array(crp_kappa_perp[:n_max])*10**4, label='$\\kappa_\\perp$ (EOM)', color='k')\n",
    "ax1.plot(crp_d[:n_max], np.array(crp_kappa_para[:n_max])*10**4, linestyle=':', label='$\\kappa_\\parallel$ (EOM)', color='r')\n",
    "\n",
    "\n",
    "ax1.set_xlabel('distance [m]')\n",
    "#ax1.axvline(x=mfp[1], c='grey', ls=':')\n",
    "#ax1.axvline(x=mfp[2], c='grey', ls='--')\n",
    "ax1.loglog()\n",
    "ax1.set_ylabel('$\\kappa$ [cm$^2$/s]')\n",
    "\n",
    "#fig.legend()\n",
    "#plt.savefig('kappas_bB_'+str(bB)+'.pdf')\n",
    "plt.show()"
   ]
  },
  {
   "cell_type": "code",
   "execution_count": 45,
   "id": "08224b33",
   "metadata": {},
   "outputs": [
    {
     "data": {
      "text/plain": [
       "<matplotlib.collections.PathCollection at 0x7fc160d87d30>"
      ]
     },
     "execution_count": 45,
     "metadata": {},
     "output_type": "execute_result"
    },
    {
     "data": {
      "image/png": "[encoded data removed]",
      "text/plain": [
       "<Figure size 432x288 with 1 Axes>"
      ]
     },
     "metadata": {
      "needs_background": "light"
     },
     "output_type": "display_data"
    }
   ],
   "source": [
    "log_list = []\n",
    "dist = 100\n",
    "nr = 100\n",
    "minimum = 1\n",
    "for i in range(nr):\n",
    "    value = minimum + i*dist\n",
    "    log_list.append(value)\n",
    "    \n",
    "plt.scatter(log_list, np.ones(len(log_list)))"
   ]
  },
  {
   "cell_type": "code",
   "execution_count": 88,
   "id": "481d959b",
   "metadata": {},
   "outputs": [
    {
     "data": {
      "text/plain": [
       "[]"
      ]
     },
     "execution_count": 88,
     "metadata": {},
     "output_type": "execute_result"
    },
    {
     "data": {
      "image/png": "[encoded data removed]",
      "text/plain": [
       "<Figure size 432x288 with 1 Axes>"
      ]
     },
     "metadata": {
      "needs_background": "light"
     },
     "output_type": "display_data"
    }
   ],
   "source": [
    "log_list = []\n",
    "dist = 1000\n",
    "nr = 10\n",
    "start = 10**3\n",
    "end = 10**5\n",
    "for i in range(0,nr):\n",
    "    f = start * np.power(end/start*1.0, i/(nr-1.0))\n",
    "    log_list.append(f)\n",
    "    \n",
    "plt.scatter(log_list, np.ones(len(log_list)))\n",
    "plt.loglog()"
   ]
  },
  {
   "cell_type": "code",
   "execution_count": 70,
   "id": "79facaff",
   "metadata": {},
   "outputs": [
    {
     "data": {
      "text/plain": [
       "[]"
      ]
     },
     "execution_count": 70,
     "metadata": {},
     "output_type": "execute_result"
    },
    {
     "data": {
      "image/png": "[encoded data removed]",
      "text/plain": [
       "<Figure size 432x288 with 1 Axes>"
      ]
     },
     "metadata": {
      "needs_background": "light"
     },
     "output_type": "display_data"
    }
   ],
   "source": [
    "plt.scatter(np.logspace(0, 4, nr), np.ones(nr))\n",
    "plt.loglog()"
   ]
  },
  {
   "cell_type": "code",
   "execution_count": null,
   "id": "c58f2b27",
   "metadata": {},
   "outputs": [],
   "source": []
  }
 ],
 "metadata": {
  "kernelspec": {
   "display_name": "Python 3",
   "language": "python",
   "name": "python3"
  },
  "language_info": {
   "codemirror_mode": {
    "name": "ipython",
    "version": 3
   },
   "file_extension": ".py",
   "mimetype": "text/x-python",
   "name": "python",
   "nbconvert_exporter": "python",
   "pygments_lexer": "ipython3",
   "version": "3.8.5"
  }
 },
 "nbformat": 4,
 "nbformat_minor": 5
}
