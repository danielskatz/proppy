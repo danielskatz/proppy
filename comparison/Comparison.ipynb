{
 "cells": [
  {
   "cell_type": "code",
   "execution_count": 1,
   "id": "39287cb4",
   "metadata": {},
   "outputs": [],
   "source": [
    "import numpy as np\n",
    "import matplotlib.pyplot as plt\n",
    "import pandas as pd"
   ]
  },
  {
   "cell_type": "code",
   "execution_count": 2,
   "id": "8d1f7ff3",
   "metadata": {},
   "outputs": [],
   "source": [
    "import os\n",
    "os.chdir('..')\n",
    "import rwpropa as rw"
   ]
  },
  {
   "cell_type": "code",
   "execution_count": 22,
   "id": "4b89d250",
   "metadata": {},
   "outputs": [
    {
     "name": "stdout",
     "output_type": "stream",
     "text": [
      "1.0836400770212218e+22\n"
     ]
    }
   ],
   "source": [
    "step_sizes = np.logspace(10, 13, 12)\n",
    "crp_l = np.load('comparison/data/sim_result_crp_'+str(step_sizes[0]/10**11)+'_l.npy')\n",
    "crp_kappa = np.load('comparison/data/sim_result_crp_'+str(step_sizes[0]/10**11)+'_kappa.npy')\n",
    "kappa = np.mean(crp_kappa[-10:])\n",
    "print(kappa)"
   ]
  },
  {
   "cell_type": "code",
   "execution_count": 23,
   "id": "a64dd8b3",
   "metadata": {
    "scrolled": false
   },
   "outputs": [
    {
     "name": "stdout",
     "output_type": "stream",
     "text": [
      "______________________________________________________________\n",
      "simulate with a diffusion coefficient of  1.0836400770212218e+22 m²/s\n",
      "start simulation\n",
      "Propagator initialized\n",
      "Observer initialized\n",
      "saved data file comparison/data/raw_data/rwpropa_100.0.pkl\n",
      "CPU times: user 74.7 ms, sys: 13 µs, total: 74.7 ms\n",
      "Wall time: 73.8 ms\n",
      "init statistics plotting class\n",
      "______________________________________________________________\n",
      "simulate with a diffusion coefficient of  1.0836400770212218e+22 m²/s\n",
      "start simulation\n",
      "Propagator initialized\n",
      "Observer initialized\n",
      "saved data file comparison/data/raw_data/rwpropa_53.36699231206302.pkl\n",
      "CPU times: user 75.7 ms, sys: 0 ns, total: 75.7 ms\n",
      "Wall time: 75.3 ms\n",
      "init statistics plotting class\n",
      "______________________________________________________________\n",
      "simulate with a diffusion coefficient of  1.0836400770212218e+22 m²/s\n",
      "start simulation\n",
      "Propagator initialized\n",
      "Observer initialized\n",
      "saved data file comparison/data/raw_data/rwpropa_28.48035868435793.pkl\n",
      "CPU times: user 121 ms, sys: 3 µs, total: 121 ms\n",
      "Wall time: 120 ms\n",
      "init statistics plotting class\n",
      "______________________________________________________________\n",
      "simulate with a diffusion coefficient of  1.0836400770212218e+22 m²/s\n",
      "start simulation\n",
      "Propagator initialized\n",
      "Observer initialized\n",
      "saved data file comparison/data/raw_data/rwpropa_15.199110829529332.pkl\n",
      "CPU times: user 195 ms, sys: 0 ns, total: 195 ms\n",
      "Wall time: 194 ms\n",
      "init statistics plotting class\n",
      "______________________________________________________________\n",
      "simulate with a diffusion coefficient of  1.0836400770212218e+22 m²/s\n",
      "start simulation\n",
      "Propagator initialized\n",
      "Observer initialized\n",
      "saved data file comparison/data/raw_data/rwpropa_8.111308307896856.pkl\n",
      "CPU times: user 342 ms, sys: 6 µs, total: 342 ms\n",
      "Wall time: 341 ms\n",
      "init statistics plotting class\n",
      "______________________________________________________________\n",
      "simulate with a diffusion coefficient of  1.0836400770212218e+22 m²/s\n",
      "start simulation\n",
      "Propagator initialized\n",
      "Observer initialized\n",
      "saved data file comparison/data/raw_data/rwpropa_4.328761281083062.pkl\n",
      "CPU times: user 550 ms, sys: 11 µs, total: 550 ms\n",
      "Wall time: 550 ms\n",
      "init statistics plotting class\n",
      "______________________________________________________________\n",
      "simulate with a diffusion coefficient of  1.0836400770212218e+22 m²/s\n",
      "start simulation\n",
      "Propagator initialized\n",
      "Observer initialized\n",
      "saved data file comparison/data/raw_data/rwpropa_2.310129700083158.pkl\n",
      "CPU times: user 1.1 s, sys: 3.98 ms, total: 1.11 s\n",
      "Wall time: 1.12 s\n",
      "init statistics plotting class\n",
      "______________________________________________________________\n",
      "simulate with a diffusion coefficient of  1.0836400770212218e+22 m²/s\n",
      "start simulation\n",
      "Propagator initialized\n",
      "Observer initialized\n",
      "saved data file comparison/data/raw_data/rwpropa_1.2328467394420635.pkl\n",
      "CPU times: user 1.93 s, sys: 4.02 ms, total: 1.94 s\n",
      "Wall time: 1.93 s\n",
      "init statistics plotting class\n",
      "______________________________________________________________\n",
      "simulate with a diffusion coefficient of  1.0836400770212218e+22 m²/s\n",
      "start simulation\n",
      "Propagator initialized\n",
      "Observer initialized\n",
      "saved data file comparison/data/raw_data/rwpropa_0.6579332246575682.pkl\n",
      "CPU times: user 3.42 s, sys: 4 ms, total: 3.42 s\n",
      "Wall time: 3.42 s\n",
      "init statistics plotting class\n",
      "______________________________________________________________\n",
      "simulate with a diffusion coefficient of  1.0836400770212218e+22 m²/s\n",
      "start simulation\n",
      "Propagator initialized\n",
      "Observer initialized\n",
      "saved data file comparison/data/raw_data/rwpropa_0.3511191734215128.pkl\n",
      "CPU times: user 5.91 s, sys: 44 µs, total: 5.91 s\n",
      "Wall time: 5.9 s\n",
      "init statistics plotting class\n",
      "______________________________________________________________\n",
      "simulate with a diffusion coefficient of  1.0836400770212218e+22 m²/s\n",
      "start simulation\n",
      "Propagator initialized\n",
      "Observer initialized\n",
      "saved data file comparison/data/raw_data/rwpropa_0.18738174228603866.pkl\n",
      "CPU times: user 10.8 s, sys: 37 µs, total: 10.8 s\n",
      "Wall time: 10.8 s\n",
      "init statistics plotting class\n",
      "______________________________________________________________\n",
      "simulate with a diffusion coefficient of  1.0836400770212218e+22 m²/s\n",
      "start simulation\n",
      "Propagator initialized\n",
      "Observer initialized\n",
      "saved data file comparison/data/raw_data/rwpropa_0.1.pkl\n",
      "CPU times: user 20.4 s, sys: 16 ms, total: 20.4 s\n",
      "Wall time: 20.4 s\n",
      "init statistics plotting class\n"
     ]
    },
    {
     "data": {
      "text/plain": [
       "[]"
      ]
     },
     "execution_count": 23,
     "metadata": {},
     "output_type": "execute_result"
    },
    {
     "data": {
      "image/png": "[encoded data removed]",
      "text/plain": [
       "<Figure size 432x288 with 1 Axes>"
      ]
     },
     "metadata": {
      "needs_background": "light"
     },
     "output_type": "display_data"
    }
   ],
   "source": [
    "energy = 10**17\n",
    "traj_max = 10**15\n",
    "\n",
    "# test sim:\n",
    "sim = rw.IsotropicSimulation(nr_particles = 10**2, energy = energy, step_size = 10**10, nr_steps = 10, diffusion_coefficient_para = kappa, nr_obs_steps = 1)\n",
    "    \n",
    "\n",
    "for step_size in step_sizes[::-1]:\n",
    "    print('______________________________________________________________')\n",
    "    nr_steps = int(traj_max/step_size)\n",
    "    sim = rw.IsotropicSimulation(nr_particles = 10**2, energy = energy, step_size = step_size, nr_steps = nr_steps, diffusion_coefficient_para = kappa, nr_obs_steps = 100)\n",
    "    file_name = 'comparison/data/raw_data/rwpropa_'+str(step_size/10**11)\n",
    "    %time sim.simulate(file_name)\n",
    "    df = pd.read_pickle(file_name+'.pkl')\n",
    "    sta = rw.Statistics(df)\n",
    "    df_kappas = sta.get_diffusion_coefficients()\n",
    "    plt.plot(df_kappas['l'], (df_kappas['kappa']))\n",
    "    file_name = 'comparison/data/sim_result_rwp_'\n",
    "    np.save(file_name+str(step_size/10**11)+'_l.npy', np.array(df_kappas['l']))\n",
    "    np.save(file_name+str(step_size/10**11)+'_kappa.npy', np.array(df_kappas['kappa']))\n",
    "\n",
    "plt.loglog()"
   ]
  },
  {
   "cell_type": "markdown",
   "id": "67bbfb90",
   "metadata": {},
   "source": [
    "### CRPropa simulations\n",
    "Run **python3 sim.py** in the folder *rwpropa_project/rwpropa/comparison* to generate all relevant CRPropa files for the comparison test. The parameters should be similar to the RWPropa simulations, such as max_traj, diffusion coefficients, step_sizes."
   ]
  },
  {
   "cell_type": "code",
   "execution_count": 24,
   "id": "896ac1e0",
   "metadata": {},
   "outputs": [
    {
     "data": {
      "image/png": "[encoded data removed]",
      "text/plain": [
       "<Figure size 648x432 with 1 Axes>"
      ]
     },
     "metadata": {
      "needs_background": "light"
     },
     "output_type": "display_data"
    },
    {
     "data": {
      "image/png": "[encoded data removed]",
      "text/plain": [
       "<Figure size 648x432 with 1 Axes>"
      ]
     },
     "metadata": {
      "needs_background": "light"
     },
     "output_type": "display_data"
    }
   ],
   "source": [
    "### load crpropa data\n",
    "\n",
    "fig, ax1 = plt.subplots(figsize=(9,6))\n",
    "kappas_crp = []\n",
    "kappas_rwp = []\n",
    "steps_crp = [] \n",
    "steps_rwp = []\n",
    "for step_size in step_sizes:\n",
    "    n_max = -1\n",
    "    try:\n",
    "        rwp_l = np.load('comparison/data/sim_result_rwp_'+str(step_size/10**11)+'_l.npy')\n",
    "        rwp_kappa = np.load('comparison/data/sim_result_rwp_'+str(step_size/10**11)+'_kappa.npy')\n",
    "        kappa = np.mean(rwp_kappa[-10:])\n",
    "        kappas_rwp.append(kappa)\n",
    "        steps_rwp.append(step_size)\n",
    "        ax1.plot(rwp_l[:n_max], np.array(rwp_kappa[:n_max])*10**4, ls='--', label=str(\"rwp:  {:.2e}\".format(step_size))+'m')\n",
    "    except:\n",
    "        print('no data')\n",
    "    \n",
    "    try:\n",
    "        crp_l = np.load('comparison/data/sim_result_crp_'+str(step_size/10**11)+'_l.npy')\n",
    "        crp_kappa = np.load('comparison/data/sim_result_crp_'+str(step_size/10**11)+'_kappa.npy')\n",
    "        kappa = np.mean(crp_kappa[-10:])\n",
    "        kappas_crp.append(kappa)\n",
    "        steps_crp.append(step_size)\n",
    "        #ax1.plot(crp_l[:n_max], np.array(crp_kappa[:n_max])*10**4, ls='-', label=str(\"crp:  {:.2e}\".format(step_size))+'m')\n",
    "    except:\n",
    "        print('no data')\n",
    "        \n",
    "ax1.set_xlabel('distance [m]')\n",
    "ax1.loglog()\n",
    "ax1.set_ylabel('$\\kappa$ [cm$^2$/s]')\n",
    "plt.legend()\n",
    "#plt.xlim(10**12, 10**16)\n",
    "#plt.ylim(6e24, 2e25)\n",
    "plt.show()\n",
    "\n",
    "fig, ax1 = plt.subplots(figsize=(9,6))\n",
    "plt.scatter(steps_rwp, kappas_rwp, c='k', label='rwp')\n",
    "plt.scatter(steps_crp, kappas_crp, c='r', label='crp')\n",
    "l_c = 10**11\n",
    "r_g = l_c/1.6*53.4\n",
    "plt.axvline(x=l_c, label='correlation length')\n",
    "plt.axvline(x=r_g, label='gyroradius')\n",
    "ax1.loglog()\n",
    "plt.legend()\n",
    "plt.show()"
   ]
  },
  {
   "cell_type": "code",
   "execution_count": 9,
   "id": "599010d1",
   "metadata": {},
   "outputs": [
    {
     "name": "stdout",
     "output_type": "stream",
     "text": [
      "[3.3599478204313174e+20, 2.404422560986297e+20, 2.598786540676711e+20, 4.726133578843844e+20, 1.2321006230754353e+21, 3.2873945894648514e+21, 2.9911154544793543e+21, 4.0229471141740455e+21, 3.964336754733299e+21, 3.48257577468378e+21, 3.9524509113559275e+21, 4.829440158965382e+21]\n",
      "[93.0427798878636, 95.0213223855301, 94.6188658413081, 90.21391005317618, 74.48771322307076, 31.930110297316226, 38.06496496438326, 16.69951419305116, 17.91311985978547, 27.8886235246394, 18.15923210025514, 0.0]\n"
     ]
    },
    {
     "data": {
      "image/png": "[encoded data removed]",
      "text/plain": [
       "<Figure size 432x288 with 1 Axes>"
      ]
     },
     "metadata": {
      "needs_background": "light"
     },
     "output_type": "display_data"
    }
   ],
   "source": [
    "print(kappas_crp)\n",
    "kappas_crp_err = []\n",
    "kappas_rwp_err = []\n",
    "kappa_ref = kappas_crp[-1] # kappa for smallest step size\n",
    "for kappa in kappas_crp:\n",
    "    kappa_err = np.abs(kappa - kappa_ref)/kappa_ref*100\n",
    "    kappas_crp_err.append(kappa_err)\n",
    "   \n",
    "print(kappas_crp_err)\n",
    "for kappa in kappas_rwp:\n",
    "    kappa_err = np.abs(kappa - kappa_ref)/kappa_ref*100\n",
    "    kappas_rwp_err.append(kappa_err)\n",
    "    \n",
    "plt.scatter(steps_crp, kappas_crp_err, c='r', label='crp')\n",
    "plt.scatter(steps_rwp, kappas_rwp_err, c='k', label='rwp')\n",
    "plt.loglog()\n",
    "plt.legend()\n",
    "plt.show()"
   ]
  },
  {
   "cell_type": "code",
   "execution_count": null,
   "id": "0d9bd303",
   "metadata": {},
   "outputs": [],
   "source": []
  },
  {
   "cell_type": "code",
   "execution_count": null,
   "id": "da4c2f83",
   "metadata": {},
   "outputs": [],
   "source": []
  },
  {
   "cell_type": "code",
   "execution_count": null,
   "id": "90e9d284",
   "metadata": {},
   "outputs": [],
   "source": []
  },
  {
   "cell_type": "code",
   "execution_count": null,
   "id": "bf1b6a69",
   "metadata": {},
   "outputs": [],
   "source": []
  },
  {
   "cell_type": "code",
   "execution_count": null,
   "id": "1325a570",
   "metadata": {},
   "outputs": [],
   "source": []
  },
  {
   "cell_type": "code",
   "execution_count": null,
   "id": "509dd92f",
   "metadata": {},
   "outputs": [],
   "source": []
  },
  {
   "cell_type": "code",
   "execution_count": null,
   "id": "aad6a62f",
   "metadata": {},
   "outputs": [],
   "source": []
  },
  {
   "cell_type": "code",
   "execution_count": null,
   "id": "a032deb3",
   "metadata": {},
   "outputs": [],
   "source": []
  },
  {
   "cell_type": "code",
   "execution_count": 7,
   "id": "9cc7b77f",
   "metadata": {},
   "outputs": [
    {
     "data": {
      "image/png": "[encoded data removed]",
      "text/plain": [
       "<Figure size 288x180 with 1 Axes>"
      ]
     },
     "metadata": {
      "needs_background": "light"
     },
     "output_type": "display_data"
    }
   ],
   "source": [
    "### load crpropa data\n",
    "bB = 0.1\n",
    "crp_d = np.load('sim_result_ana_d.npy')\n",
    "crp_kappa_perp = np.load('sim_result_ana_kappa_perp.npy')\n",
    "crp_kappa_para = np.load('sim_result_ana_kappa_para.npy')\n",
    "\n",
    "fig, ax1 = plt.subplots(figsize=(4,2.5))\n",
    "\n",
    "n_max = -1\n",
    "ax1.plot(crp_d[:n_max], np.array(crp_kappa_perp[:n_max])*10**4, label='$\\kappa_\\perp$ (EOM)', color='k')\n",
    "ax1.plot(crp_d[:n_max], np.array(crp_kappa_para[:n_max])*10**4, linestyle=':', label='$\\kappa_\\parallel$ (EOM)', color='r')\n",
    "\n",
    "\n",
    "ax1.set_xlabel('distance [m]')\n",
    "#ax1.axvline(x=mfp[1], c='grey', ls=':')\n",
    "#ax1.axvline(x=mfp[2], c='grey', ls='--')\n",
    "ax1.loglog()\n",
    "ax1.set_ylabel('$\\kappa$ [cm$^2$/s]')\n",
    "\n",
    "#fig.legend()\n",
    "#plt.savefig('kappas_bB_'+str(bB)+'.pdf')\n",
    "plt.show()"
   ]
  },
  {
   "cell_type": "code",
   "execution_count": 45,
   "id": "08224b33",
   "metadata": {},
   "outputs": [
    {
     "data": {
      "text/plain": [
       "<matplotlib.collections.PathCollection at 0x7fc160d87d30>"
      ]
     },
     "execution_count": 45,
     "metadata": {},
     "output_type": "execute_result"
    },
    {
     "data": {
      "image/png": "[encoded data removed]",
      "text/plain": [
       "<Figure size 432x288 with 1 Axes>"
      ]
     },
     "metadata": {
      "needs_background": "light"
     },
     "output_type": "display_data"
    }
   ],
   "source": [
    "log_list = []\n",
    "dist = 100\n",
    "nr = 100\n",
    "minimum = 1\n",
    "for i in range(nr):\n",
    "    value = minimum + i*dist\n",
    "    log_list.append(value)\n",
    "    \n",
    "plt.scatter(log_list, np.ones(len(log_list)))"
   ]
  },
  {
   "cell_type": "code",
   "execution_count": 88,
   "id": "481d959b",
   "metadata": {},
   "outputs": [
    {
     "data": {
      "text/plain": [
       "[]"
      ]
     },
     "execution_count": 88,
     "metadata": {},
     "output_type": "execute_result"
    },
    {
     "data": {
      "image/png": "[encoded data removed]",
      "text/plain": [
       "<Figure size 432x288 with 1 Axes>"
      ]
     },
     "metadata": {
      "needs_background": "light"
     },
     "output_type": "display_data"
    }
   ],
   "source": [
    "log_list = []\n",
    "dist = 1000\n",
    "nr = 10\n",
    "start = 10**3\n",
    "end = 10**5\n",
    "for i in range(0,nr):\n",
    "    f = start * np.power(end/start*1.0, i/(nr-1.0))\n",
    "    log_list.append(f)\n",
    "    \n",
    "plt.scatter(log_list, np.ones(len(log_list)))\n",
    "plt.loglog()"
   ]
  },
  {
   "cell_type": "code",
   "execution_count": 70,
   "id": "79facaff",
   "metadata": {},
   "outputs": [
    {
     "data": {
      "text/plain": [
       "[]"
      ]
     },
     "execution_count": 70,
     "metadata": {},
     "output_type": "execute_result"
    },
    {
     "data": {
      "image/png": "[encoded data removed]",
      "text/plain": [
       "<Figure size 432x288 with 1 Axes>"
      ]
     },
     "metadata": {
      "needs_background": "light"
     },
     "output_type": "display_data"
    }
   ],
   "source": [
    "plt.scatter(np.logspace(0, 4, nr), np.ones(nr))\n",
    "plt.loglog()"
   ]
  },
  {
   "cell_type": "code",
   "execution_count": null,
   "id": "c58f2b27",
   "metadata": {},
   "outputs": [],
   "source": []
  }
 ],
 "metadata": {
  "kernelspec": {
   "display_name": "Python 3",
   "language": "python",
   "name": "python3"
  },
  "language_info": {
   "codemirror_mode": {
    "name": "ipython",
    "version": 3
   },
   "file_extension": ".py",
   "mimetype": "text/x-python",
   "name": "python",
   "nbconvert_exporter": "python",
   "pygments_lexer": "ipython3",
   "version": "3.8.5"
  }
 },
 "nbformat": 4,
 "nbformat_minor": 5
}
