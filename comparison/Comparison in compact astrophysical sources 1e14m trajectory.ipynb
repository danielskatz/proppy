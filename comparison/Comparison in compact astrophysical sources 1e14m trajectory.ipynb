{
 "cells": [
  {
   "cell_type": "code",
   "execution_count": 1,
   "id": "39287cb4",
   "metadata": {},
   "outputs": [],
   "source": [
    "import numpy as np\n",
    "import matplotlib.pyplot as plt\n",
    "import matplotlib\n",
    "import pandas as pd\n",
    "import time"
   ]
  },
  {
   "cell_type": "code",
   "execution_count": 2,
   "id": "8d1f7ff3",
   "metadata": {},
   "outputs": [
    {
     "name": "stdout",
     "output_type": "stream",
     "text": [
      "Propagator initialized\n",
      "Propagator initialized\n",
      "Propagator initialized\n"
     ]
    }
   ],
   "source": [
    "import os\n",
    "os.chdir('..')\n",
    "import rwpropa as pp"
   ]
  },
  {
   "cell_type": "code",
   "execution_count": 3,
   "id": "2cbef88f",
   "metadata": {},
   "outputs": [],
   "source": [
    "from pathlib import Path\n",
    "path_figs = 'comparison/compact_sources_1e14m_ballistic/figures'\n",
    "path_data = 'comparison/compact_sources_1e14m_ballistic/data'\n",
    "path_data_raw = 'comparison/compact_sources_1e14m_ballistic/data/raw_data'\n",
    "Path(path_figs).mkdir(parents=True, exist_ok=True)\n",
    "Path(path_data).mkdir(parents=True, exist_ok=True)\n",
    "Path(path_data_raw).mkdir(parents=True, exist_ok=True)"
   ]
  },
  {
   "cell_type": "markdown",
   "id": "77dd501d",
   "metadata": {},
   "source": [
    "### \"Compact\" astrophysical sources\n",
    "\n",
    "Charged particles (comsic rays (CRs)) are accelerated to high energies in astrophysical sources until the gyration radius exceeds the system size according to the Hillas criterion and the CRs can no longer be confined by the accelerator. Since strong magnetic fields with a significant amount of turbulence typically prevail in these sources, the description of particle propagation in the sources is nontrivial and complicate the analytical description of transport. \n",
    "\n",
    "Simulations are used for describing as accurately as possible the particle transport that has an impact on numerous observable mulstimessenger signatures. In the following, we focus on the transport properties in these sources, which are described by the diffusion coefficient (see the introductions in the previous tutorials).\n",
    "\n",
    "There are numerous possible sources covering a large parameter space of physical properties relevant to particle transport. For the comparison between PropPy propagation and CRPropa modules, we use typical parameters used in the literature for AGN plasmoids:\n",
    "- isotropic 3d Kolmogorov turbulence\n",
    "- magnetic field strength: 1 Gaus\n",
    "- correlation length turbulence: $\\sim10^{11}$ m\n",
    "- particle energies: 100 PeV"
   ]
  },
  {
   "cell_type": "code",
   "execution_count": 4,
   "id": "0626eb61",
   "metadata": {},
   "outputs": [],
   "source": [
    "l_c = 1.05*10**11 # [m]\n",
    "energy = 10**17 # [eV]"
   ]
  },
  {
   "cell_type": "markdown",
   "id": "0ca41098",
   "metadata": {},
   "source": [
    "These parameters will result in gyroradii of the charged CRs:\n",
    "\\begin{align}\n",
    "r_\\mathrm{g} = \\frac{E}{q\\,c\\,B} = \\frac{100\\,\\mathrm{PeV}}{q\\,c \\cdot 1\\mathrm{G}} \\approx 3.34\\cdot10^{12}\\,\\mathrm{m}.\n",
    "\\end{align}"
   ]
  },
  {
   "cell_type": "code",
   "execution_count": 5,
   "id": "f04a9480",
   "metadata": {},
   "outputs": [],
   "source": [
    "r_g = 3.34*10**12 # [m]"
   ]
  },
  {
   "cell_type": "markdown",
   "id": "2004a701",
   "metadata": {},
   "source": [
    "Particles are in the quasi-ballistic transport regime ($r_\\mathrm{g} \\gg l_\\mathrm{c}$), where they experience only minor deflections. The expected diffusion coefficient $\\kappa$ is (see e.g. Subedi, P. et al. 2017, ApJ, 837, 140. doi:10.3847/1538-4357/aa603a):\n",
    "\\begin{align}\n",
    "\\kappa_\\mathrm{theory} = \\frac{r_\\mathrm{g}^2 \\cdot c}{2l_\\mathrm{c}} = \\frac{(3.34\\cdot10^{12}\\,\\mathrm{m})^2 \\cdot c}{2\\cdot 1.05 \\cdot 10^{11}\\,m} \\approx 1.59\\cdot10^{23}\\,\\frac{\\mathrm{m^2}}{\\mathrm{s}}.\n",
    "\\end{align}"
   ]
  },
  {
   "cell_type": "code",
   "execution_count": 6,
   "id": "2dffc8dd",
   "metadata": {},
   "outputs": [],
   "source": [
    "kappa_theory = 1.59*10**23 # [m^2/s]"
   ]
  },
  {
   "cell_type": "markdown",
   "id": "cf20a450",
   "metadata": {},
   "source": [
    "This theoretical diffusion coefficient serves as an input for the PropPy simulation and as a reference for the numerical simulations.\n",
    "\n",
    "This diffusion coefficient results in expected mean-free paths of\n",
    "\\begin{align}\n",
    "\\lambda_\\mathrm{theory} = \\frac{3 \\kappa_\\mathrm{theory}}{c} \\approx 1.6\\cdot10^{15}\\,\\mathrm{m}.\n",
    "\\end{align}\n",
    "Particles become diffusive at trajectory lengths of about $\\lambda$. Instead of waiting for particles to be diffusive as it is done in the other comparison notebook, we stop the simulation after trajectory lengths of only $10^{14}\\,$m. Particles are still ballistic."
   ]
  },
  {
   "cell_type": "code",
   "execution_count": 7,
   "id": "567af481",
   "metadata": {},
   "outputs": [],
   "source": [
    "lambda_theory = 1.6*10**15 # [m]\n",
    "traj_max = 10**14 # [m]"
   ]
  },
  {
   "cell_type": "markdown",
   "id": "0df0c435",
   "metadata": {},
   "source": [
    "### Simulations with CRPropa\n",
    "CRPropa is a state of the art propagation code that can propagate CRs by solving both the equation of motion (ballistic) and the transport equation (diffusive) in arbitrary magnetic fields. \n",
    "\n",
    "#### Installation\n",
    "Following the installation of CRPropa in a virtuelenv as described in https://crpropa.github.io/CRPropa3/pages/Installation.html\n",
    "\n",
    "#### Simulation\n",
    "Run the **simulation script** *comparison/crp_sim_compact_sources_1e14m.py* in your CRPropa environment:\n",
    "This starts 15 simulations with varying step sizes of the integration routine. This convergence test is necessary to find the required resolution (step size) of the simulation routine that solves the equation of motion. The simulation results are evaluated by determining the diffusion coefficients, which provide a statistical description of the transport. \n",
    "\n",
    "Run the script with prop_module = 'CK', 'BP', and 'SDE' to get the results for all available CRPropa propagation modules.\n",
    "\n",
    "#### Simulation results\n",
    "The raw data (position, momentum,..) of the simulations are stored in *path_data_raw* (default is */comparison/data/raw_data*). The analyzed data (diffusion coefficients, simulation time,..) are stored in *path_data* (default is */comparison/data*) and will be used in the following. "
   ]
  },
  {
   "cell_type": "markdown",
   "id": "4e184259",
   "metadata": {},
   "source": [
    "### Simulations with PropPy\n",
    "In the following we perform the same simulations as in CRPropa with PropPy."
   ]
  },
  {
   "cell_type": "code",
   "execution_count": 8,
   "id": "becbe738",
   "metadata": {},
   "outputs": [],
   "source": [
    "step_sizes = np.logspace(10, 14, 15) # [m]"
   ]
  },
  {
   "cell_type": "code",
   "execution_count": 9,
   "id": "a64dd8b3",
   "metadata": {
    "scrolled": true
   },
   "outputs": [],
   "source": [
    "def proppy_sim():\n",
    "    df_sim_data = pd.DataFrame(columns=('step_size', 'time', 'kappa', 'kappa_err'))\n",
    "\n",
    "    fig = plt.figure(figsize=(5,3.5))\n",
    "    # start with large step sizes first, as these simulations are faster\n",
    "    step_sized_reversed = np.insert(step_sizes[::-1], 0, step_sizes[-1], axis=0)\n",
    "    for i, step_size in enumerate(step_sized_reversed):\n",
    "        print('______________________________________________________________')\n",
    "        print('step_size: ', step_size)\n",
    "        nr_steps = int(traj_max/step_size)\n",
    "        sim = pp.IsotropicSimulation(nr_particles = 10**3, energy = energy, step_size = step_size, nr_steps = nr_steps, diffusion_coefficient_para = kappa_theory, nr_obs_steps = 100)\n",
    "        file_name = path_data_raw+'/proppy_stepsize_'+str(step_size/10**11)\n",
    "        start_time = time.process_time()\n",
    "        %time sim.simulate(file_name)\n",
    "        time_needed = time.process_time() - start_time\n",
    "        print('time needed: ', time_needed, 's')\n",
    "        df = pd.read_pickle(file_name+'.pkl')\n",
    "        sta = pp.Statistics(df)\n",
    "        df_kappas = sta.get_diffusion_coefficients()\n",
    "        if i == 0:\n",
    "            print('______________________________________________________________')\n",
    "            print('Finished setup test - starting now with the convergence test!')\n",
    "            continue\n",
    "        df_sim_data.loc[i-1] = [step_size, time_needed, np.mean(df_kappas['kappa'][-10:]), np.std(df_kappas['kappa'][-10:])]\n",
    "        plt.plot(df_kappas['l'], (df_kappas['kappa']))\n",
    "        file_name = path_data+'/sim_result_proppy_'\n",
    "        np.save(file_name+str(step_size/10**11)+'_l.npy', np.array(df_kappas['l']))\n",
    "        np.save(file_name+str(step_size/10**11)+'_kappa.npy', np.array(df_kappas['kappa']))\n",
    "        file_name_results = path_data+'/proppy_sim_data.pkl'\n",
    "        df_sim_data.to_pickle(file_name_results)\n",
    "\n",
    "    plt.loglog()"
   ]
  },
  {
   "cell_type": "markdown",
   "id": "7324c411",
   "metadata": {},
   "source": [
    "Run either the following simulation or the **simulation script** *comparison/proppy_sim_compact_sources_1e14m.py*."
   ]
  },
  {
   "cell_type": "code",
   "execution_count": 10,
   "id": "52aa8057",
   "metadata": {},
   "outputs": [],
   "source": [
    "#proppy_sim()"
   ]
  },
  {
   "cell_type": "markdown",
   "id": "f2ea8766",
   "metadata": {},
   "source": [
    "## Comparison of simulation results\n",
    "\n",
    "We compute the running diffusion coefficients and compute the effective diffusion coefficient after $10^{14}$m. Most particles are still ballistic, as can bes seen that the running diffusion coefficient is not yet converged. See the comparison for trajectory lengths of $10^{14}$m for the diffusive case.\n",
    "\n",
    "In this ballistic limit investigated here, particles didn't scatter often yet and the running diffusion coefficients follow $\\kappa_{ii}(t) \\approx \\frac{l_\\mathrm{traj}^2}{2t} = \\frac{l_\\mathrm{traj}\\,v_i}{2} \\approx \\frac{l_\\mathrm{traj}\\,c}{6}.$"
   ]
  },
  {
   "cell_type": "code",
   "execution_count": 11,
   "id": "d69cc145",
   "metadata": {},
   "outputs": [
    {
     "ename": "FileNotFoundError",
     "evalue": "[Errno 2] No such file or directory: 'comparison/compact_sources_1e14m_ballistic/data/crp_sim_data_CK_PW.pkl'",
     "output_type": "error",
     "traceback": [
      "\u001b[0;31m---------------------------------------------------------------------------\u001b[0m",
      "\u001b[0;31mFileNotFoundError\u001b[0m                         Traceback (most recent call last)",
      "\u001b[0;32m<ipython-input-11-c3ab012e92e0>\u001b[0m in \u001b[0;36m<module>\u001b[0;34m\u001b[0m\n\u001b[1;32m      1\u001b[0m \u001b[0mkappa_theory_1e14\u001b[0m \u001b[0;34m=\u001b[0m \u001b[0;36m3\u001b[0m\u001b[0;34m*\u001b[0m\u001b[0;36m10\u001b[0m\u001b[0;34m**\u001b[0m\u001b[0;36m22\u001b[0m\u001b[0;34m/\u001b[0m\u001b[0;36m2\u001b[0m\u001b[0;34m/\u001b[0m\u001b[0;36m3\u001b[0m\u001b[0;34m\u001b[0m\u001b[0;34m\u001b[0m\u001b[0m\n\u001b[0;32m----> 2\u001b[0;31m \u001b[0mcomparison\u001b[0m \u001b[0;34m=\u001b[0m \u001b[0mpp\u001b[0m\u001b[0;34m.\u001b[0m\u001b[0mComparison\u001b[0m\u001b[0;34m(\u001b[0m\u001b[0mkappa_theory_1e14\u001b[0m\u001b[0;34m,\u001b[0m \u001b[0mlambda_theory\u001b[0m\u001b[0;34m,\u001b[0m \u001b[0mstep_sizes\u001b[0m\u001b[0;34m,\u001b[0m \u001b[0ml_c\u001b[0m\u001b[0;34m,\u001b[0m \u001b[0mr_g\u001b[0m\u001b[0;34m,\u001b[0m \u001b[0mpath_data_raw\u001b[0m\u001b[0;34m,\u001b[0m \u001b[0mpath_data\u001b[0m\u001b[0;34m,\u001b[0m \u001b[0mpath_figs\u001b[0m\u001b[0;34m)\u001b[0m\u001b[0;34m\u001b[0m\u001b[0;34m\u001b[0m\u001b[0m\n\u001b[0m",
      "\u001b[0;32m~/Documents/rwpropa_project/rwpropa/rwpropa/comparison.py\u001b[0m in \u001b[0;36m__init__\u001b[0;34m(self, kappa_theory, lambda_theory, step_sizes, l_c, r_g, path_data_raw, path_data, path_figs, proppy_unit)\u001b[0m\n\u001b[1;32m     16\u001b[0m         \u001b[0mself\u001b[0m\u001b[0;34m.\u001b[0m\u001b[0mpath_data_raw\u001b[0m \u001b[0;34m=\u001b[0m \u001b[0mpath_data_raw\u001b[0m\u001b[0;34m\u001b[0m\u001b[0;34m\u001b[0m\u001b[0m\n\u001b[1;32m     17\u001b[0m         \u001b[0mself\u001b[0m\u001b[0;34m.\u001b[0m\u001b[0mpath_figs\u001b[0m \u001b[0;34m=\u001b[0m \u001b[0mpath_figs\u001b[0m\u001b[0;34m\u001b[0m\u001b[0;34m\u001b[0m\u001b[0m\n\u001b[0;32m---> 18\u001b[0;31m         \u001b[0mself\u001b[0m\u001b[0;34m.\u001b[0m\u001b[0mload_sim_data\u001b[0m\u001b[0;34m(\u001b[0m\u001b[0;34m)\u001b[0m\u001b[0;34m\u001b[0m\u001b[0;34m\u001b[0m\u001b[0m\n\u001b[0m\u001b[1;32m     19\u001b[0m \u001b[0;34m\u001b[0m\u001b[0m\n\u001b[1;32m     20\u001b[0m     \u001b[0;32mdef\u001b[0m \u001b[0mload_sim_data\u001b[0m\u001b[0;34m(\u001b[0m\u001b[0mself\u001b[0m\u001b[0;34m)\u001b[0m\u001b[0;34m:\u001b[0m\u001b[0;34m\u001b[0m\u001b[0;34m\u001b[0m\u001b[0m\n",
      "\u001b[0;32m~/Documents/rwpropa_project/rwpropa/rwpropa/comparison.py\u001b[0m in \u001b[0;36mload_sim_data\u001b[0;34m(self)\u001b[0m\n\u001b[1;32m     23\u001b[0m \u001b[0;34m\u001b[0m\u001b[0m\n\u001b[1;32m     24\u001b[0m         \u001b[0;31m#print(\"couldn't loade PropPy data\")\u001b[0m\u001b[0;34m\u001b[0m\u001b[0;34m\u001b[0m\u001b[0;34m\u001b[0m\u001b[0m\n\u001b[0;32m---> 25\u001b[0;31m         \u001b[0mself\u001b[0m\u001b[0;34m.\u001b[0m\u001b[0mdf_crp_ck_results\u001b[0m \u001b[0;34m=\u001b[0m \u001b[0mpd\u001b[0m\u001b[0;34m.\u001b[0m\u001b[0mread_pickle\u001b[0m\u001b[0;34m(\u001b[0m\u001b[0mself\u001b[0m\u001b[0;34m.\u001b[0m\u001b[0mpath_data\u001b[0m\u001b[0;34m+\u001b[0m\u001b[0;34m'/crp_sim_data_CK_PW.pkl'\u001b[0m\u001b[0;34m)\u001b[0m\u001b[0;34m\u001b[0m\u001b[0;34m\u001b[0m\u001b[0m\n\u001b[0m\u001b[1;32m     26\u001b[0m         \u001b[0;31m#print(\"couldn't loade CK data\")\u001b[0m\u001b[0;34m\u001b[0m\u001b[0;34m\u001b[0m\u001b[0;34m\u001b[0m\u001b[0m\n\u001b[1;32m     27\u001b[0m         \u001b[0;32mtry\u001b[0m\u001b[0;34m:\u001b[0m\u001b[0;34m\u001b[0m\u001b[0;34m\u001b[0m\u001b[0m\n",
      "\u001b[0;32m~/.local/lib/python3.8/site-packages/pandas/io/pickle.py\u001b[0m in \u001b[0;36mread_pickle\u001b[0;34m(filepath_or_buffer, compression, storage_options)\u001b[0m\n\u001b[1;32m    194\u001b[0m     \"\"\"\n\u001b[1;32m    195\u001b[0m     \u001b[0mexcs_to_catch\u001b[0m \u001b[0;34m=\u001b[0m \u001b[0;34m(\u001b[0m\u001b[0mAttributeError\u001b[0m\u001b[0;34m,\u001b[0m \u001b[0mImportError\u001b[0m\u001b[0;34m,\u001b[0m \u001b[0mModuleNotFoundError\u001b[0m\u001b[0;34m,\u001b[0m \u001b[0mTypeError\u001b[0m\u001b[0;34m)\u001b[0m\u001b[0;34m\u001b[0m\u001b[0;34m\u001b[0m\u001b[0m\n\u001b[0;32m--> 196\u001b[0;31m     with get_handle(\n\u001b[0m\u001b[1;32m    197\u001b[0m         \u001b[0mfilepath_or_buffer\u001b[0m\u001b[0;34m,\u001b[0m\u001b[0;34m\u001b[0m\u001b[0;34m\u001b[0m\u001b[0m\n\u001b[1;32m    198\u001b[0m         \u001b[0;34m\"rb\"\u001b[0m\u001b[0;34m,\u001b[0m\u001b[0;34m\u001b[0m\u001b[0;34m\u001b[0m\u001b[0m\n",
      "\u001b[0;32m~/.local/lib/python3.8/site-packages/pandas/io/common.py\u001b[0m in \u001b[0;36mget_handle\u001b[0;34m(path_or_buf, mode, encoding, compression, memory_map, is_text, errors, storage_options)\u001b[0m\n\u001b[1;32m    709\u001b[0m         \u001b[0;32melse\u001b[0m\u001b[0;34m:\u001b[0m\u001b[0;34m\u001b[0m\u001b[0;34m\u001b[0m\u001b[0m\n\u001b[1;32m    710\u001b[0m             \u001b[0;31m# Binary mode\u001b[0m\u001b[0;34m\u001b[0m\u001b[0;34m\u001b[0m\u001b[0;34m\u001b[0m\u001b[0m\n\u001b[0;32m--> 711\u001b[0;31m             \u001b[0mhandle\u001b[0m \u001b[0;34m=\u001b[0m \u001b[0mopen\u001b[0m\u001b[0;34m(\u001b[0m\u001b[0mhandle\u001b[0m\u001b[0;34m,\u001b[0m \u001b[0mioargs\u001b[0m\u001b[0;34m.\u001b[0m\u001b[0mmode\u001b[0m\u001b[0;34m)\u001b[0m\u001b[0;34m\u001b[0m\u001b[0;34m\u001b[0m\u001b[0m\n\u001b[0m\u001b[1;32m    712\u001b[0m         \u001b[0mhandles\u001b[0m\u001b[0;34m.\u001b[0m\u001b[0mappend\u001b[0m\u001b[0;34m(\u001b[0m\u001b[0mhandle\u001b[0m\u001b[0;34m)\u001b[0m\u001b[0;34m\u001b[0m\u001b[0;34m\u001b[0m\u001b[0m\n\u001b[1;32m    713\u001b[0m \u001b[0;34m\u001b[0m\u001b[0m\n",
      "\u001b[0;31mFileNotFoundError\u001b[0m: [Errno 2] No such file or directory: 'comparison/compact_sources_1e14m_ballistic/data/crp_sim_data_CK_PW.pkl'"
     ]
    }
   ],
   "source": [
    "kappa_theory_1e14 = 3*10**22/2/3\n",
    "comparison = pp.Comparison(kappa_theory_1e14, lambda_theory, step_sizes, l_c, r_g, path_data_raw, path_data, path_figs)"
   ]
  },
  {
   "cell_type": "markdown",
   "id": "aea37239",
   "metadata": {},
   "source": [
    "### Running diffusion coefficients"
   ]
  },
  {
   "cell_type": "code",
   "execution_count": null,
   "id": "896ac1e0",
   "metadata": {},
   "outputs": [],
   "source": [
    "comparison.plot_running_diffusion_coefficients(d_theory=[1.1e14, 1.1e14])"
   ]
  },
  {
   "cell_type": "markdown",
   "id": "8b292a04",
   "metadata": {},
   "source": [
    "Note that the color-code (cc) is only used for running diffusion coefficients simulated with PropPy, as the ones simulated with PropPy overlay (see red lines) -> the differences in the step sizes are not visible.\n",
    "\n",
    "The lower plot is just for checking the raw data. The plot below is the same with better visualization."
   ]
  },
  {
   "cell_type": "markdown",
   "id": "1a667b31",
   "metadata": {},
   "source": [
    "### Convergence tests of diffusion coefficients"
   ]
  },
  {
   "cell_type": "code",
   "execution_count": null,
   "id": "95b9abc1",
   "metadata": {},
   "outputs": [],
   "source": [
    "comparison.plot_kappa_convergence_tests(ylabel = '$\\kappa\\,(10^{14}\\mathrm{m})$ [m$^2$/s]', lambda_theory=False)"
   ]
  },
  {
   "cell_type": "markdown",
   "id": "b5896e0d",
   "metadata": {},
   "source": [
    "For PropPy SImulations, the step size shown here does not appear to have a noticeable effect on the diffusion coefficients. The steps can be significantly larger than the correlation length of the turbulence and than the gyration radius of the particles. This is not surprising, since in the correlated random walk in Cartesian coordinates used in PropPy for isotropic turbulence, the gyration motion and the turbulence does not need to be resolved. The only deviation at large step sizes is a numerical artifact from the observer that doesn't observe at exactly $10^{14}$m, because only full steps can be observed and the observed distance may, therefore, be smaller than $10^{14}$m and thus resulting in a smaller diffusion coefficient.\n",
    "\n",
    "Note that the theoretical prediction is only an upper limit, as it assumes pure, isotropic propagation. Some particles will be diffusive and thus decrease the effective diffusion coefficient at $10^{14}$m.\n",
    "\n",
    "For CRPropa, on the other hand, the resolution plays a significant role in the integration of the particle trajectories. Only for small step sizes, when both the relevant scales of turbulence and gyration motion are resolved, does the diffusion coefficient converge against the prediction of the theory. As soon as the step size becomes larger than the correlation length of the turbulence, diffusion coefficients are wrong. See the appendix in Reichherzer (MNRAS, 2020) for a detailed discussion of this effect. If the step size is larger than the gyroradius, the diffusion coefficients increase again, because now averaging over the large steps becomes too large.\n",
    "\n",
    "Note that the BP and CK simulation results obtained with CRPropa should be averaged over different realisations of the turbulence generated with the PlaneWaveTurbulence module, which would further increase the simulation time. At least 100 realizations are needed to become reasonable good simulation results. This would increase the simulation tiems by an additional factor of 100!\n",
    "\n",
    "Also note that for BP and CK, the simulation time is a lower boundary, as only 250 modes, which is the minimum for the applied fluctuation wavelength range (Schlegel et al. (ApJ, 2020)), are used and the simulation time scales linearly with the number of modes.\n",
    "\n",
    "The diffusion approach for the propagation fails in describing the transport, as most particles are not yet diffusive. See Reichherzer (ICRC, 2021) for a detailed discussion."
   ]
  },
  {
   "cell_type": "markdown",
   "id": "5e0aae6e",
   "metadata": {},
   "source": [
    "### Comparison of simulation times\n",
    "\n",
    "Further plots to visualize different aspects of the comparison."
   ]
  },
  {
   "cell_type": "code",
   "execution_count": null,
   "id": "f27466b7",
   "metadata": {},
   "outputs": [],
   "source": [
    "comparison.plot_time_vs_steps_deviation(day=False, lambda_theory=False)"
   ]
  },
  {
   "cell_type": "code",
   "execution_count": null,
   "id": "3ee27b01",
   "metadata": {},
   "outputs": [],
   "source": [
    "comparison.plot_kappa_vs_time_steps()"
   ]
  },
  {
   "cell_type": "code",
   "execution_count": null,
   "id": "470328d8",
   "metadata": {},
   "outputs": [],
   "source": [
    "comparison.plot_kappa_vs_time_deviation()"
   ]
  },
  {
   "cell_type": "code",
   "execution_count": null,
   "id": "e65c2139",
   "metadata": {},
   "outputs": [],
   "source": [
    "comparison.plot_deviation_vs_time_steps(day=False)"
   ]
  },
  {
   "cell_type": "code",
   "execution_count": null,
   "id": "206e4829",
   "metadata": {},
   "outputs": [],
   "source": [
    "comparison.plot_time_vs_deviation_steps(day=False)"
   ]
  }
 ],
 "metadata": {
  "kernelspec": {
   "display_name": "Python 3",
   "language": "python",
   "name": "python3"
  },
  "language_info": {
   "codemirror_mode": {
    "name": "ipython",
    "version": 3
   },
   "file_extension": ".py",
   "mimetype": "text/x-python",
   "name": "python",
   "nbconvert_exporter": "python",
   "pygments_lexer": "ipython3",
   "version": "3.8.5"
  }
 },
 "nbformat": 4,
 "nbformat_minor": 5
}
