{
 "cells": [
  {
   "cell_type": "code",
   "execution_count": 1,
   "id": "5045552e",
   "metadata": {},
   "outputs": [],
   "source": [
    "import numpy as np\n",
    "import matplotlib.pyplot as plt\n",
    "import pandas as pd\n",
    "from files.Simulation import Simulation\n",
    "from files.Source import Source\n",
    "from files.Observer import Observer\n",
    "from files.Propagator import Propagator\n",
    "from files.Observer import TimeEvolutionObserverLog\n",
    "from plot.Trajectory import Trajectory\n",
    "from plot.Statistics import Statistics"
   ]
  },
  {
   "cell_type": "markdown",
   "id": "612c2b8f",
   "metadata": {},
   "source": [
    "## Simulation setup"
   ]
  },
  {
   "cell_type": "markdown",
   "id": "95bb1fd1",
   "metadata": {},
   "source": [
    "#### Simulation setup"
   ]
  },
  {
   "cell_type": "code",
   "execution_count": 2,
   "id": "753756c3",
   "metadata": {},
   "outputs": [
    {
     "name": "stdout",
     "output_type": "stream",
     "text": [
      "start simulation\n"
     ]
    }
   ],
   "source": [
    "dimensions = 3\n",
    "sim = Simulation()"
   ]
  },
  {
   "cell_type": "markdown",
   "id": "b5615fb2",
   "metadata": {},
   "source": [
    "#### Source "
   ]
  },
  {
   "cell_type": "code",
   "execution_count": 3,
   "id": "e8fa9154",
   "metadata": {},
   "outputs": [
    {
     "name": "stdout",
     "output_type": "stream",
     "text": [
      "Source initialized\n"
     ]
    }
   ],
   "source": [
    "nr_particles = 1*10**1\n",
    "source_pos = np.array([1.0, 1.0, 1.0], dtype=np.float32)\n",
    "delta_rho_div_phi = 1 #1/2**0.5 # (delta_r_rho / delta_r_phi)\n",
    "gyro_radius = 10**11 # [m]; 1pc\n",
    "\n",
    "source = Source(gyro_radius, source_pos, nr_particles, dimensions)\n",
    "sim.add_source(source)"
   ]
  },
  {
   "cell_type": "markdown",
   "id": "20fdd580",
   "metadata": {},
   "source": [
    "#### Propagator"
   ]
  },
  {
   "cell_type": "code",
   "execution_count": 4,
   "id": "ae4a9f45",
   "metadata": {},
   "outputs": [
    {
     "name": "stdout",
     "output_type": "stream",
     "text": [
      "Propagator initialized\n",
      "Description Propagator:\n",
      "                The propagator is responsible for the movement of the particles. \n",
      "                It performs the change of direction and the movement in the respective direction.\n",
      "                There are two phases:\n",
      "                 - change direction with probability (see below)\n",
      "                 - move in all directions\n",
      "                The movement takes place according to the random walk (RW).\n",
      "\n",
      "coordinates: Cylindrical coordinates\n",
      "dimensions:  3\n",
      "pitch angle: constant\n",
      "particle speed:  299800000.0  m/s\n",
      "number steps:  200000\n",
      "step size:  5000000000.0  m\n",
      "step duration:  16.677785873413086  s\n",
      "total distance:  1000000000000000.0  m\n",
      "total duration:  3335557.0380253503  s\n",
      "probability to change directions in step:  [0.23474179 0.23474179 0.11860708] %\n"
     ]
    }
   ],
   "source": [
    "nr_steps = 2*10**5\n",
    "step_size = 0.5*10**10 # [m]\n",
    "mfp = np.array([2.13*10**12/2.0, 2.13*10**12/2.0, 2.1078*10**12], dtype=np.float32)  # [m]\n",
    "\n",
    "propagator = Propagator(nr_steps, step_size, mfp)\n",
    "#propagator.set_pitch_angle_const(False)\n",
    "sim.add_propagator(propagator)\n",
    "sim.propagator.get_description()"
   ]
  },
  {
   "cell_type": "markdown",
   "id": "d89ac241",
   "metadata": {},
   "source": [
    "#### Observer"
   ]
  },
  {
   "cell_type": "code",
   "execution_count": 5,
   "id": "cfd6400f",
   "metadata": {},
   "outputs": [
    {
     "name": "stdout",
     "output_type": "stream",
     "text": [
      "number steps:  169\n",
      "Observer initialized\n",
      "Description Observer:\n",
      "                The observer defines the conditions for when to write data to the output.\n",
      "\n",
      "observer tpye: TimeEvolutionObserverLog\n",
      "steps [0:10]:  [ 1  2  3  4  5  6  7  8  9 10]\n",
      "steps [-11:-1]:  [108304 115155 122439 130185 138420 147176 156486 166385 176910 188101]\n",
      "nr steps:  169\n",
      "substeps:  [False False  True]\n",
      "all_steps:  False\n"
     ]
    }
   ],
   "source": [
    "substeps = [False, False, True] # observe only steps (no substeps)\n",
    "min_step = 1\n",
    "max_step = nr_steps\n",
    "nr_obs_steps = 200\n",
    "\n",
    "observer = TimeEvolutionObserverLog(min_step, max_step, nr_obs_steps, substeps)\n",
    "observer.get_description()\n",
    "sim.add_observer(observer)"
   ]
  },
  {
   "cell_type": "code",
   "execution_count": 6,
   "id": "f1541944",
   "metadata": {},
   "outputs": [
    {
     "name": "stdout",
     "output_type": "stream",
     "text": [
      "init source\n",
      "CPU times: user 5.81 s, sys: 9.92 ms, total: 5.82 s\n",
      "Wall time: 5.81 s\n"
     ]
    }
   ],
   "source": [
    "%time sim.run_simulation()\n",
    "sim.save_data('data')"
   ]
  },
  {
   "cell_type": "markdown",
   "id": "523b23ff",
   "metadata": {},
   "source": [
    "## Analyze statistics\n"
   ]
  },
  {
   "cell_type": "code",
   "execution_count": 7,
   "id": "10e57f70",
   "metadata": {},
   "outputs": [
    {
     "name": "stdout",
     "output_type": "stream",
     "text": [
      "init statistics plotting class\n"
     ]
    },
    {
     "data": {
      "image/png": "[encoded data removed]",
      "text/plain": [
       "<Figure size 288x288 with 1 Axes>"
      ]
     },
     "metadata": {
      "needs_background": "light"
     },
     "output_type": "display_data"
    }
   ],
   "source": [
    "df = pd.read_pickle(\"data.pkl\")\n",
    "df_time_evolution_observer = df.loc[df['radius'] == -1.0]\n",
    "dimensions = 3\n",
    "sta = Statistics(df_time_evolution_observer, dimensions)\n",
    "errors = False\n",
    "df_kappas = sta.plot_diffusion_coefficients(errors)"
   ]
  },
  {
   "cell_type": "code",
   "execution_count": 14,
   "id": "58d4dced",
   "metadata": {},
   "outputs": [
    {
     "name": "stderr",
     "output_type": "stream",
     "text": [
      "/home/patrick/.local/lib/python3.8/site-packages/scipy/stats/_distn_infrastructure.py:1870: RuntimeWarning: divide by zero encountered in true_divide\n",
      "  x = np.asarray((x - loc)/scale, dtype=dtyp)\n"
     ]
    },
    {
     "data": {
      "image/png": "[encoded data removed]",
      "text/plain": [
       "<Figure size 288x288 with 1 Axes>"
      ]
     },
     "metadata": {
      "needs_background": "light"
     },
     "output_type": "display_data"
    }
   ],
   "source": [
    "bins = 30\n",
    "file_name = None\n",
    "df_kappas = sta.plot_distribution('pitch_angle', -1, bins, file_name)"
   ]
  },
  {
   "cell_type": "code",
   "execution_count": 15,
   "id": "0a190ebe",
   "metadata": {},
   "outputs": [
    {
     "data": {
      "text/html": [
       "<div>\n",
       "<style scoped>\n",
       "    .dataframe tbody tr th:only-of-type {\n",
       "        vertical-align: middle;\n",
       "    }\n",
       "\n",
       "    .dataframe tbody tr th {\n",
       "        vertical-align: top;\n",
       "    }\n",
       "\n",
       "    .dataframe thead th {\n",
       "        text-align: right;\n",
       "    }\n",
       "</style>\n",
       "<table border=\"1\" class=\"dataframe\">\n",
       "  <thead>\n",
       "    <tr style=\"text-align: right;\">\n",
       "      <th></th>\n",
       "      <th>id</th>\n",
       "      <th>i</th>\n",
       "      <th>d</th>\n",
       "      <th>x</th>\n",
       "      <th>y</th>\n",
       "      <th>z</th>\n",
       "      <th>phi</th>\n",
       "      <th>pitch_angle</th>\n",
       "      <th>radius</th>\n",
       "      <th>sub_step</th>\n",
       "    </tr>\n",
       "  </thead>\n",
       "  <tbody>\n",
       "    <tr>\n",
       "      <th>0</th>\n",
       "      <td>0.0</td>\n",
       "      <td>0.0</td>\n",
       "      <td>0.000000e+00</td>\n",
       "      <td>1.000000e+00</td>\n",
       "      <td>1.000000e+00</td>\n",
       "      <td>1.000000e+00</td>\n",
       "      <td>-1.000000</td>\n",
       "      <td>2.000000</td>\n",
       "      <td>NaN</td>\n",
       "      <td>NaN</td>\n",
       "    </tr>\n",
       "    <tr>\n",
       "      <th>1</th>\n",
       "      <td>0.0</td>\n",
       "      <td>1.0</td>\n",
       "      <td>8.660254e+09</td>\n",
       "      <td>2.811122e+09</td>\n",
       "      <td>3.030313e+09</td>\n",
       "      <td>2.886438e+09</td>\n",
       "      <td>0.050008</td>\n",
       "      <td>0.955393</td>\n",
       "      <td>-1.0</td>\n",
       "      <td>2.0</td>\n",
       "    </tr>\n",
       "    <tr>\n",
       "      <th>2</th>\n",
       "      <td>0.0</td>\n",
       "      <td>2.0</td>\n",
       "      <td>1.732051e+10</td>\n",
       "      <td>5.467254e+09</td>\n",
       "      <td>6.197359e+09</td>\n",
       "      <td>5.772877e+09</td>\n",
       "      <td>0.100016</td>\n",
       "      <td>0.955393</td>\n",
       "      <td>-1.0</td>\n",
       "      <td>2.0</td>\n",
       "    </tr>\n",
       "    <tr>\n",
       "      <th>3</th>\n",
       "      <td>0.0</td>\n",
       "      <td>3.0</td>\n",
       "      <td>2.598076e+10</td>\n",
       "      <td>7.961755e+09</td>\n",
       "      <td>9.493216e+09</td>\n",
       "      <td>8.659315e+09</td>\n",
       "      <td>0.150024</td>\n",
       "      <td>0.955393</td>\n",
       "      <td>-1.0</td>\n",
       "      <td>2.0</td>\n",
       "    </tr>\n",
       "    <tr>\n",
       "      <th>4</th>\n",
       "      <td>0.0</td>\n",
       "      <td>4.0</td>\n",
       "      <td>3.464101e+10</td>\n",
       "      <td>1.028839e+10</td>\n",
       "      <td>1.290965e+10</td>\n",
       "      <td>1.154575e+10</td>\n",
       "      <td>0.200032</td>\n",
       "      <td>0.955393</td>\n",
       "      <td>-1.0</td>\n",
       "      <td>2.0</td>\n",
       "    </tr>\n",
       "    <tr>\n",
       "      <th>...</th>\n",
       "      <td>...</td>\n",
       "      <td>...</td>\n",
       "      <td>...</td>\n",
       "      <td>...</td>\n",
       "      <td>...</td>\n",
       "      <td>...</td>\n",
       "      <td>...</td>\n",
       "      <td>...</td>\n",
       "      <td>...</td>\n",
       "      <td>...</td>\n",
       "    </tr>\n",
       "    <tr>\n",
       "      <th>1685</th>\n",
       "      <td>9.0</td>\n",
       "      <td>147176.0</td>\n",
       "      <td>1.277571e+15</td>\n",
       "      <td>1.429099e+12</td>\n",
       "      <td>1.766828e+12</td>\n",
       "      <td>-2.276744e+13</td>\n",
       "      <td>31.905293</td>\n",
       "      <td>0.955393</td>\n",
       "      <td>-1.0</td>\n",
       "      <td>2.0</td>\n",
       "    </tr>\n",
       "    <tr>\n",
       "      <th>1686</th>\n",
       "      <td>9.0</td>\n",
       "      <td>156486.0</td>\n",
       "      <td>1.360042e+15</td>\n",
       "      <td>1.491091e+12</td>\n",
       "      <td>1.862709e+12</td>\n",
       "      <td>-2.893703e+13</td>\n",
       "      <td>39.906395</td>\n",
       "      <td>0.955393</td>\n",
       "      <td>-1.0</td>\n",
       "      <td>2.0</td>\n",
       "    </tr>\n",
       "    <tr>\n",
       "      <th>1687</th>\n",
       "      <td>9.0</td>\n",
       "      <td>166385.0</td>\n",
       "      <td>1.447731e+15</td>\n",
       "      <td>9.422045e+11</td>\n",
       "      <td>2.149034e+12</td>\n",
       "      <td>-2.279341e+13</td>\n",
       "      <td>196.177536</td>\n",
       "      <td>0.955393</td>\n",
       "      <td>-1.0</td>\n",
       "      <td>2.0</td>\n",
       "    </tr>\n",
       "    <tr>\n",
       "      <th>1688</th>\n",
       "      <td>9.0</td>\n",
       "      <td>176910.0</td>\n",
       "      <td>1.540966e+15</td>\n",
       "      <td>1.280474e+12</td>\n",
       "      <td>1.336827e+12</td>\n",
       "      <td>-1.709401e+13</td>\n",
       "      <td>126.022949</td>\n",
       "      <td>0.955393</td>\n",
       "      <td>-1.0</td>\n",
       "      <td>2.0</td>\n",
       "    </tr>\n",
       "    <tr>\n",
       "      <th>1689</th>\n",
       "      <td>9.0</td>\n",
       "      <td>188101.0</td>\n",
       "      <td>1.640100e+15</td>\n",
       "      <td>1.341314e+12</td>\n",
       "      <td>1.608666e+12</td>\n",
       "      <td>-2.109086e+13</td>\n",
       "      <td>130.573532</td>\n",
       "      <td>0.955393</td>\n",
       "      <td>-1.0</td>\n",
       "      <td>2.0</td>\n",
       "    </tr>\n",
       "  </tbody>\n",
       "</table>\n",
       "<p>1690 rows × 10 columns</p>\n",
       "</div>"
      ],
      "text/plain": [
       "       id         i             d             x             y             z  \\\n",
       "0     0.0       0.0  0.000000e+00  1.000000e+00  1.000000e+00  1.000000e+00   \n",
       "1     0.0       1.0  8.660254e+09  2.811122e+09  3.030313e+09  2.886438e+09   \n",
       "2     0.0       2.0  1.732051e+10  5.467254e+09  6.197359e+09  5.772877e+09   \n",
       "3     0.0       3.0  2.598076e+10  7.961755e+09  9.493216e+09  8.659315e+09   \n",
       "4     0.0       4.0  3.464101e+10  1.028839e+10  1.290965e+10  1.154575e+10   \n",
       "...   ...       ...           ...           ...           ...           ...   \n",
       "1685  9.0  147176.0  1.277571e+15  1.429099e+12  1.766828e+12 -2.276744e+13   \n",
       "1686  9.0  156486.0  1.360042e+15  1.491091e+12  1.862709e+12 -2.893703e+13   \n",
       "1687  9.0  166385.0  1.447731e+15  9.422045e+11  2.149034e+12 -2.279341e+13   \n",
       "1688  9.0  176910.0  1.540966e+15  1.280474e+12  1.336827e+12 -1.709401e+13   \n",
       "1689  9.0  188101.0  1.640100e+15  1.341314e+12  1.608666e+12 -2.109086e+13   \n",
       "\n",
       "             phi  pitch_angle  radius  sub_step  \n",
       "0      -1.000000     2.000000     NaN       NaN  \n",
       "1       0.050008     0.955393    -1.0       2.0  \n",
       "2       0.100016     0.955393    -1.0       2.0  \n",
       "3       0.150024     0.955393    -1.0       2.0  \n",
       "4       0.200032     0.955393    -1.0       2.0  \n",
       "...          ...          ...     ...       ...  \n",
       "1685   31.905293     0.955393    -1.0       2.0  \n",
       "1686   39.906395     0.955393    -1.0       2.0  \n",
       "1687  196.177536     0.955393    -1.0       2.0  \n",
       "1688  126.022949     0.955393    -1.0       2.0  \n",
       "1689  130.573532     0.955393    -1.0       2.0  \n",
       "\n",
       "[1690 rows x 10 columns]"
      ]
     },
     "execution_count": 15,
     "metadata": {},
     "output_type": "execute_result"
    }
   ],
   "source": [
    "df"
   ]
  },
  {
   "cell_type": "code",
   "execution_count": 16,
   "id": "86fdfd47",
   "metadata": {},
   "outputs": [
    {
     "name": "stdout",
     "output_type": "stream",
     "text": [
      "init trajectory plotting class\n"
     ]
    },
    {
     "data": {
      "image/png": "[encoded data removed]",
      "text/plain": [
       "<Figure size 324x288 with 2 Axes>"
      ]
     },
     "metadata": {
      "needs_background": "light"
     },
     "output_type": "display_data"
    },
    {
     "data": {
      "image/png": "[encoded data removed]",
      "text/plain": [
       "<Figure size 324x288 with 2 Axes>"
      ]
     },
     "metadata": {
      "needs_background": "light"
     },
     "output_type": "display_data"
    }
   ],
   "source": [
    "tra = Trajectory(df_time_evolution_observer, dimensions)\n",
    "particle_ids = tra.get_particle_ids()\n",
    "nr_steps = 100\n",
    "tra.plot_trajectory('x', 'y', 'd', particle_ids[0], nr_steps, None)\n",
    "tra.plot_trajectory('d', 'z', 'd', particle_ids[0], nr_steps, None)"
   ]
  },
  {
   "cell_type": "code",
   "execution_count": null,
   "id": "a336e3aa",
   "metadata": {},
   "outputs": [],
   "source": []
  }
 ],
 "metadata": {
  "kernelspec": {
   "display_name": "Python 3",
   "language": "python",
   "name": "python3"
  },
  "language_info": {
   "codemirror_mode": {
    "name": "ipython",
    "version": 3
   },
   "file_extension": ".py",
   "mimetype": "text/x-python",
   "name": "python",
   "nbconvert_exporter": "python",
   "pygments_lexer": "ipython3",
   "version": "3.8.5"
  }
 },
 "nbformat": 4,
 "nbformat_minor": 5
}
