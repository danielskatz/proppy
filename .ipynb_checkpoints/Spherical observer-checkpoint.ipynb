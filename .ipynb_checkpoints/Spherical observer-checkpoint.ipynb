{
 "cells": [
  {
   "cell_type": "code",
   "execution_count": 1,
   "metadata": {},
   "outputs": [],
   "source": [
    "from Simulation import Simulation\n",
    "from modules.Particle import Particle\n",
    "from modules.Propagation import Propagation\n",
    "from modules.Source import Source\n",
    "import numpy as np"
   ]
  },
  {
   "cell_type": "markdown",
   "metadata": {},
   "source": [
    "## Simulation of Random Walk Propagation\n",
    "\n",
    "Initialize the simulation by calling Simulation(). The class instance simulation contains all information relevant for the complete simulation."
   ]
  },
  {
   "cell_type": "code",
   "execution_count": 2,
   "metadata": {},
   "outputs": [
    {
     "name": "stdout",
     "output_type": "stream",
     "text": [
      "init simulation completed\n"
     ]
    }
   ],
   "source": [
    "simulation = Simulation()\n",
    "\n",
    "### source\n",
    "gyro_radius = 30.0\n",
    "diffusion_tensor = np.array([10.0, 10.0, 10.0], dtype=np.float32)\n",
    "source_position = np.zeros(3, dtype=np.float32)\n",
    "nr_particles = 500\n",
    "source = Source(nr_particles, source_position, gyro_radius, diffusion_tensor)\n",
    "simulation.add_particles(source)\n",
    "\n",
    "### propagation\n",
    "step_size = 1.0\n",
    "propagation = Propagation(step_size)\n",
    "steps = 10**5\n",
    "t_max = 10**5\n",
    "time = np.linspace(1, t_max, steps, dtype=np.float32)\n",
    "simulation.add_propagation(propagation, time)\n",
    "\n",
    "### observer sphere\n",
    "observer_type = 1\n",
    "\n",
    "### run simulation\n",
    "data = simulation.run_simulation(observer_type)"
   ]
  },
  {
   "cell_type": "markdown",
   "metadata": {},
   "source": [
    "## Analizing Simulation Data"
   ]
  },
  {
   "cell_type": "code",
   "execution_count": 9,
   "metadata": {},
   "outputs": [
    {
     "data": {
      "text/html": [
       "<div>\n",
       "<style scoped>\n",
       "    .dataframe tbody tr th:only-of-type {\n",
       "        vertical-align: middle;\n",
       "    }\n",
       "\n",
       "    .dataframe tbody tr th {\n",
       "        vertical-align: top;\n",
       "    }\n",
       "\n",
       "    .dataframe thead th {\n",
       "        text-align: right;\n",
       "    }\n",
       "</style>\n",
       "<table border=\"1\" class=\"dataframe\">\n",
       "  <thead>\n",
       "    <tr style=\"text-align: right;\">\n",
       "      <th></th>\n",
       "      <th>id</th>\n",
       "      <th>t</th>\n",
       "      <th>x</th>\n",
       "      <th>y</th>\n",
       "      <th>z</th>\n",
       "    </tr>\n",
       "  </thead>\n",
       "  <tbody>\n",
       "    <tr>\n",
       "      <th>0</th>\n",
       "      <td>726.0</td>\n",
       "      <td>301.0</td>\n",
       "      <td>173.781799</td>\n",
       "      <td>173.781799</td>\n",
       "      <td>173.781799</td>\n",
       "    </tr>\n",
       "    <tr>\n",
       "      <th>1</th>\n",
       "      <td>1236.0</td>\n",
       "      <td>301.0</td>\n",
       "      <td>173.781799</td>\n",
       "      <td>-173.781799</td>\n",
       "      <td>-173.781799</td>\n",
       "    </tr>\n",
       "    <tr>\n",
       "      <th>2</th>\n",
       "      <td>1445.0</td>\n",
       "      <td>301.0</td>\n",
       "      <td>173.781799</td>\n",
       "      <td>-173.781799</td>\n",
       "      <td>173.781799</td>\n",
       "    </tr>\n",
       "    <tr>\n",
       "      <th>3</th>\n",
       "      <td>2699.0</td>\n",
       "      <td>301.0</td>\n",
       "      <td>173.781799</td>\n",
       "      <td>173.781799</td>\n",
       "      <td>173.781799</td>\n",
       "    </tr>\n",
       "    <tr>\n",
       "      <th>4</th>\n",
       "      <td>2723.0</td>\n",
       "      <td>301.0</td>\n",
       "      <td>-173.781799</td>\n",
       "      <td>-173.781799</td>\n",
       "      <td>-173.781799</td>\n",
       "    </tr>\n",
       "    <tr>\n",
       "      <th>...</th>\n",
       "      <td>...</td>\n",
       "      <td>...</td>\n",
       "      <td>...</td>\n",
       "      <td>...</td>\n",
       "      <td>...</td>\n",
       "    </tr>\n",
       "    <tr>\n",
       "      <th>314346</th>\n",
       "      <td>2683.0</td>\n",
       "      <td>99997.0</td>\n",
       "      <td>-176.091232</td>\n",
       "      <td>176.091232</td>\n",
       "      <td>168.008377</td>\n",
       "    </tr>\n",
       "    <tr>\n",
       "      <th>314347</th>\n",
       "      <td>4107.0</td>\n",
       "      <td>99997.0</td>\n",
       "      <td>173.781784</td>\n",
       "      <td>173.781784</td>\n",
       "      <td>173.781784</td>\n",
       "    </tr>\n",
       "    <tr>\n",
       "      <th>314348</th>\n",
       "      <td>1161.0</td>\n",
       "      <td>99998.0</td>\n",
       "      <td>-183.596664</td>\n",
       "      <td>183.596664</td>\n",
       "      <td>151.265244</td>\n",
       "    </tr>\n",
       "    <tr>\n",
       "      <th>314349</th>\n",
       "      <td>3077.0</td>\n",
       "      <td>99998.0</td>\n",
       "      <td>-173.204437</td>\n",
       "      <td>-173.204437</td>\n",
       "      <td>-174.359131</td>\n",
       "    </tr>\n",
       "    <tr>\n",
       "      <th>314350</th>\n",
       "      <td>4410.0</td>\n",
       "      <td>99999.0</td>\n",
       "      <td>173.781784</td>\n",
       "      <td>173.781784</td>\n",
       "      <td>173.781784</td>\n",
       "    </tr>\n",
       "  </tbody>\n",
       "</table>\n",
       "<p>314351 rows × 5 columns</p>\n",
       "</div>"
      ],
      "text/plain": [
       "            id        t           x           y           z\n",
       "0        726.0    301.0  173.781799  173.781799  173.781799\n",
       "1       1236.0    301.0  173.781799 -173.781799 -173.781799\n",
       "2       1445.0    301.0  173.781799 -173.781799  173.781799\n",
       "3       2699.0    301.0  173.781799  173.781799  173.781799\n",
       "4       2723.0    301.0 -173.781799 -173.781799 -173.781799\n",
       "...        ...      ...         ...         ...         ...\n",
       "314346  2683.0  99997.0 -176.091232  176.091232  168.008377\n",
       "314347  4107.0  99997.0  173.781784  173.781784  173.781784\n",
       "314348  1161.0  99998.0 -183.596664  183.596664  151.265244\n",
       "314349  3077.0  99998.0 -173.204437 -173.204437 -174.359131\n",
       "314350  4410.0  99999.0  173.781784  173.781784  173.781784\n",
       "\n",
       "[314351 rows x 5 columns]"
      ]
     },
     "execution_count": 9,
     "metadata": {},
     "output_type": "execute_result"
    }
   ],
   "source": [
    "import pandas as pd\n",
    "import matplotlib.pyplot as plt\n",
    "df = pd.DataFrame(data).T\n",
    "df.columns = ['id', 't', 'x', 'y', 'z']\n",
    "df"
   ]
  },
  {
   "cell_type": "code",
   "execution_count": 11,
   "metadata": {},
   "outputs": [
    {
     "data": {
      "image/png": "[encoded data removed]",
      "text/plain": [
       "<Figure size 432x288 with 1 Axes>"
      ]
     },
     "metadata": {
      "needs_background": "light"
     },
     "output_type": "display_data"
    }
   ],
   "source": [
    "plt.hist(data[1], bins=100)\n",
    "plt.show()"
   ]
  }
 ],
 "metadata": {
  "kernelspec": {
   "display_name": "Python 3",
   "language": "python",
   "name": "python3"
  },
  "language_info": {
   "codemirror_mode": {
    "name": "ipython",
    "version": 3
   },
   "file_extension": ".py",
   "mimetype": "text/x-python",
   "name": "python",
   "nbconvert_exporter": "python",
   "pygments_lexer": "ipython3",
   "version": "3.8.5"
  }
 },
 "nbformat": 4,
 "nbformat_minor": 4
}
