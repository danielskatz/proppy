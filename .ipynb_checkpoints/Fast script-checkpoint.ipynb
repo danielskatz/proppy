{
 "cells": [
  {
   "cell_type": "code",
   "execution_count": 94,
   "id": "e14ee3e0",
   "metadata": {},
   "outputs": [],
   "source": [
    "from numba import jit\n",
    "import numpy as np\n",
    "from numba import jit, int32, float32, types, typed\n",
    "from numba.typed import List\n",
    "from numba.experimental import jitclass\n",
    "import matplotlib.pyplot as plt"
   ]
  },
  {
   "cell_type": "code",
   "execution_count": 208,
   "id": "f915557f",
   "metadata": {},
   "outputs": [],
   "source": [
    "gyro_radius = 3.086*10**17 # 10 PeV proton in 1 mucro Gauss B field\n",
    "steps_per_gyration = 10\n",
    "c = 3*10**8"
   ]
  },
  {
   "cell_type": "code",
   "execution_count": 209,
   "id": "4bb0627b",
   "metadata": {},
   "outputs": [],
   "source": [
    "@jit(nopython=True, fastmath=True)\n",
    "def propagate(particle_id, spheres):\n",
    "    pos = [0.0, 0.0, 0.0]\n",
    "    phi = 0.0\n",
    "    particle_info = []\n",
    "    direction = [1,1,1]\n",
    "    isotrop = False\n",
    "    \n",
    "    for i in range(1,10**5): \n",
    "        pos_prev = pos\n",
    "        \n",
    "        ### change direction #############################################################\n",
    "        if np.random.random() < 0.002:\n",
    "            direction[0] = -1*direction[0]\n",
    "        if np.random.random() < 0.003:\n",
    "            direction[1] = -1*direction[1]\n",
    "        if np.random.random() < 0.003:\n",
    "            direction[2] = -1*direction[2]\n",
    "            \n",
    "        ### move in updated direction ####################################################\n",
    "        if isotrop:\n",
    "            normalize = (direction[0]**2+direction[1]**2+direction[2]**2)**0.5\n",
    "            time = i # ToDo change this (need to incooperate steplength)\n",
    "            for j in range(3):\n",
    "                pos[j] = pos[j] + direction[j]/normalize\n",
    "        else:\n",
    "            phi_old = phi\n",
    "            phi = phi_old + 2 * np.pi / steps_per_gyration\n",
    "            ### move in phi direction \n",
    "            ### distance_traveled = 2*pi*gyro_radius / steps_per_gyration\n",
    "            delta_x = gyro_radius * (np.cos(phi) - np.cos(phi_old)) * direction[0]\n",
    "            delta_y = gyro_radius * (np.sin(phi) - np.sin(phi_old)) * direction[0]\n",
    "            ### move in rho direction\n",
    "            ### distance_traveled = 2*pi*gyro_radius / steps_per_gyration\n",
    "            delta_x = delta_x + np.cos(phi) * gyro_radius * direction[1] * 2 * np.pi / steps_per_gyration\n",
    "            delta_y = delta_y + np.sin(phi) * gyro_radius * direction[1] * 2 * np.pi / steps_per_gyration\n",
    "            ### move in z direction\n",
    "            delta_z = direction[2] * 2 * np.pi * gyro_radius / steps_per_gyration\n",
    "            ### move !!!\n",
    "            pos[0] = pos[0] + delta_x\n",
    "            pos[1] = pos[1] + delta_y\n",
    "            pos[2] = pos[2] + delta_z\n",
    "            ### distance_travelled\n",
    "            distance = 3 * 2*pi*gyro_radius / steps_per_gyration\n",
    "            time = time + distance\n",
    "\n",
    "        \n",
    "        ### observer ####################################################################\n",
    "        r2_prev = pos_prev[0]**2+pos_prev[1]**2+pos_prev[2]**2\n",
    "        r2 = pos[0]**2+pos[1]**2+pos[2]**2\n",
    "        if i<1000 or i%500 == 0:\n",
    "            particle_info.append([particle_id, time, pos[0], pos[1], pos[2], -1.0])\n",
    "        for r2_sphere in spheres:\n",
    "            if r2_prev > r2_sphere and r2 <= r2_sphere or r2_prev < r2_sphere and r2 >= r2_sphere:\n",
    "                particle_info.append([particle_id, time, pos[0], pos[1], pos[2], r2_sphere*1.0])\n",
    "        \n",
    "    return particle_info"
   ]
  },
  {
   "cell_type": "code",
   "execution_count": 210,
   "id": "0aeea005",
   "metadata": {},
   "outputs": [],
   "source": [
    "@jit(nopython=True)\n",
    "def many_particles(observer_spheres):\n",
    "    data = [[0.0, 0.0, 0.0, 0.0, -1.0]]\n",
    "    for i in range(10**2):\n",
    "        particle_id = i\n",
    "        data_new = propagate(particle_id, observer_spheres)\n",
    "        data = data + data_new\n",
    "\n",
    "    print('finished')\n",
    "    return data"
   ]
  },
  {
   "cell_type": "code",
   "execution_count": 211,
   "id": "8369c280",
   "metadata": {},
   "outputs": [
    {
     "name": "stdout",
     "output_type": "stream",
     "text": [
      "finished\n",
      "Wall time: 4.76 s\n"
     ]
    }
   ],
   "source": [
    "observer_spheres = np.array([-1.0]) \n",
    "%time data = many_particles(observer_spheres)"
   ]
  },
  {
   "cell_type": "code",
   "execution_count": 212,
   "id": "1fe2335d",
   "metadata": {},
   "outputs": [
    {
     "data": {
      "text/html": [
       "<div>\n",
       "<style scoped>\n",
       "    .dataframe tbody tr th:only-of-type {\n",
       "        vertical-align: middle;\n",
       "    }\n",
       "\n",
       "    .dataframe tbody tr th {\n",
       "        vertical-align: top;\n",
       "    }\n",
       "\n",
       "    .dataframe thead th {\n",
       "        text-align: right;\n",
       "    }\n",
       "</style>\n",
       "<table border=\"1\" class=\"dataframe\">\n",
       "  <thead>\n",
       "    <tr style=\"text-align: right;\">\n",
       "      <th></th>\n",
       "      <th>id</th>\n",
       "      <th>t</th>\n",
       "      <th>x</th>\n",
       "      <th>y</th>\n",
       "      <th>z</th>\n",
       "      <th>radius</th>\n",
       "    </tr>\n",
       "  </thead>\n",
       "  <tbody>\n",
       "    <tr>\n",
       "      <th>0</th>\n",
       "      <td>0.0</td>\n",
       "      <td>0.1</td>\n",
       "      <td>9.793031e+16</td>\n",
       "      <td>2.953616e+17</td>\n",
       "      <td>1.938991e+17</td>\n",
       "      <td>-1.0</td>\n",
       "    </tr>\n",
       "    <tr>\n",
       "      <th>1</th>\n",
       "      <td>0.0</td>\n",
       "      <td>0.2</td>\n",
       "      <td>3.548427e+15</td>\n",
       "      <td>5.918761e+17</td>\n",
       "      <td>3.877982e+17</td>\n",
       "      <td>-1.0</td>\n",
       "    </tr>\n",
       "    <tr>\n",
       "      <th>2</th>\n",
       "      <td>0.0</td>\n",
       "      <td>0.3</td>\n",
       "      <td>-2.470950e+17</td>\n",
       "      <td>7.762851e+17</td>\n",
       "      <td>5.816973e+17</td>\n",
       "      <td>-1.0</td>\n",
       "    </tr>\n",
       "    <tr>\n",
       "      <th>3</th>\n",
       "      <td>0.0</td>\n",
       "      <td>0.4</td>\n",
       "      <td>-5.582626e+17</td>\n",
       "      <td>7.781506e+17</td>\n",
       "      <td>7.755964e+17</td>\n",
       "      <td>-1.0</td>\n",
       "    </tr>\n",
       "    <tr>\n",
       "      <th>4</th>\n",
       "      <td>0.0</td>\n",
       "      <td>0.5</td>\n",
       "      <td>-8.110991e+17</td>\n",
       "      <td>5.967601e+17</td>\n",
       "      <td>9.694955e+17</td>\n",
       "      <td>-1.0</td>\n",
       "    </tr>\n",
       "    <tr>\n",
       "      <th>...</th>\n",
       "      <td>...</td>\n",
       "      <td>...</td>\n",
       "      <td>...</td>\n",
       "      <td>...</td>\n",
       "      <td>...</td>\n",
       "      <td>...</td>\n",
       "    </tr>\n",
       "    <tr>\n",
       "      <th>119695</th>\n",
       "      <td>99.0</td>\n",
       "      <td>9750.0</td>\n",
       "      <td>1.060478e+19</td>\n",
       "      <td>1.603450e+18</td>\n",
       "      <td>1.617894e+21</td>\n",
       "      <td>-1.0</td>\n",
       "    </tr>\n",
       "    <tr>\n",
       "      <th>119696</th>\n",
       "      <td>99.0</td>\n",
       "      <td>9800.0</td>\n",
       "      <td>1.090704e+19</td>\n",
       "      <td>2.553223e+18</td>\n",
       "      <td>1.577563e+21</td>\n",
       "      <td>-1.0</td>\n",
       "    </tr>\n",
       "    <tr>\n",
       "      <th>119697</th>\n",
       "      <td>99.0</td>\n",
       "      <td>9850.0</td>\n",
       "      <td>9.583166e+18</td>\n",
       "      <td>2.309476e+18</td>\n",
       "      <td>1.607811e+21</td>\n",
       "      <td>-1.0</td>\n",
       "    </tr>\n",
       "    <tr>\n",
       "      <th>119698</th>\n",
       "      <td>99.0</td>\n",
       "      <td>9900.0</td>\n",
       "      <td>6.945699e+18</td>\n",
       "      <td>1.583914e+18</td>\n",
       "      <td>1.510862e+21</td>\n",
       "      <td>-1.0</td>\n",
       "    </tr>\n",
       "    <tr>\n",
       "      <th>119699</th>\n",
       "      <td>99.0</td>\n",
       "      <td>9950.0</td>\n",
       "      <td>8.148520e+18</td>\n",
       "      <td>9.871540e+17</td>\n",
       "      <td>1.417015e+21</td>\n",
       "      <td>-1.0</td>\n",
       "    </tr>\n",
       "  </tbody>\n",
       "</table>\n",
       "<p>119700 rows × 6 columns</p>\n",
       "</div>"
      ],
      "text/plain": [
       "          id       t             x             y             z  radius\n",
       "0        0.0     0.1  9.793031e+16  2.953616e+17  1.938991e+17    -1.0\n",
       "1        0.0     0.2  3.548427e+15  5.918761e+17  3.877982e+17    -1.0\n",
       "2        0.0     0.3 -2.470950e+17  7.762851e+17  5.816973e+17    -1.0\n",
       "3        0.0     0.4 -5.582626e+17  7.781506e+17  7.755964e+17    -1.0\n",
       "4        0.0     0.5 -8.110991e+17  5.967601e+17  9.694955e+17    -1.0\n",
       "...      ...     ...           ...           ...           ...     ...\n",
       "119695  99.0  9750.0  1.060478e+19  1.603450e+18  1.617894e+21    -1.0\n",
       "119696  99.0  9800.0  1.090704e+19  2.553223e+18  1.577563e+21    -1.0\n",
       "119697  99.0  9850.0  9.583166e+18  2.309476e+18  1.607811e+21    -1.0\n",
       "119698  99.0  9900.0  6.945699e+18  1.583914e+18  1.510862e+21    -1.0\n",
       "119699  99.0  9950.0  8.148520e+18  9.871540e+17  1.417015e+21    -1.0\n",
       "\n",
       "[119700 rows x 6 columns]"
      ]
     },
     "execution_count": 212,
     "metadata": {},
     "output_type": "execute_result"
    }
   ],
   "source": [
    "import pandas as pd\n",
    "df = pd.DataFrame(data[1:])\n",
    "df.columns = ['id', 't', 'x', 'y', 'z', 'radius']\n",
    "df"
   ]
  },
  {
   "cell_type": "code",
   "execution_count": 213,
   "id": "b2632c2c",
   "metadata": {},
   "outputs": [],
   "source": [
    "# remove duplicated elements from list of times \n",
    "times = []\n",
    "[times.append(t) for t in df['t'] if t not in times]\n",
    "kappa_perp = []\n",
    "kappa_para = []\n",
    "for t in times:\n",
    "    df_t = df.loc[df['t'] ==  t] # number of gyrations\n",
    "    kappa_perp.append(np.mean((df_t['x'].values**2+df_t['y'].values**2))/(4*t))\n",
    "    kappa_para.append(np.mean(df_t['z'].values**2)/(2*t))"
   ]
  },
  {
   "cell_type": "code",
   "execution_count": 214,
   "id": "d808b502",
   "metadata": {},
   "outputs": [
    {
     "data": {
      "image/png": "[encoded data removed]",
      "text/plain": [
       "<Figure size 432x288 with 1 Axes>"
      ]
     },
     "metadata": {
      "needs_background": "light"
     },
     "output_type": "display_data"
    }
   ],
   "source": [
    "from modules.Plotter import Plotter\n",
    "import matplotlib.pyplot as plt\n",
    "### each step is one second -> times = steps\n",
    "plt.plot(times, np.array(kappa_perp)*c/gyro_radius*10**4, label='$\\kappa_\\perp$')\n",
    "plt.plot(times, np.array(kappa_para)*c/gyro_radius*10**4, label='$\\kappa_\\parallel$')\n",
    "plt.xlabel('distance [gyroorbit]')\n",
    "plt.ylabel('$\\kappa$ [cm$^2$/s]')\n",
    "plt.legend()\n",
    "plt.loglog()\n",
    "plt.show()"
   ]
  },
  {
   "cell_type": "code",
   "execution_count": 148,
   "id": "addcee39",
   "metadata": {},
   "outputs": [
    {
     "name": "stdout",
     "output_type": "stream",
     "text": [
      "3.8975694922767374\n"
     ]
    }
   ],
   "source": [
    "print(np.log10(np.mean(kappa_para[-10:]))-np.log10(np.mean(kappa_perp[-10:])))"
   ]
  },
  {
   "cell_type": "markdown",
   "id": "36fea2b3",
   "metadata": {},
   "source": [
    "### Lessons learned\n",
    "\n",
    "The parameter steps_per_gyration moves the first minimum linearly, which is expected -> increasing by 10 moves minima by factor 10 to right"
   ]
  },
  {
   "cell_type": "code",
   "execution_count": null,
   "id": "e43fbce1",
   "metadata": {},
   "outputs": [],
   "source": []
  }
 ],
 "metadata": {
  "kernelspec": {
   "display_name": "Python 3",
   "language": "python",
   "name": "python3"
  },
  "language_info": {
   "codemirror_mode": {
    "name": "ipython",
    "version": 3
   },
   "file_extension": ".py",
   "mimetype": "text/x-python",
   "name": "python",
   "nbconvert_exporter": "python",
   "pygments_lexer": "ipython3",
   "version": "3.9.5"
  }
 },
 "nbformat": 4,
 "nbformat_minor": 5
}
