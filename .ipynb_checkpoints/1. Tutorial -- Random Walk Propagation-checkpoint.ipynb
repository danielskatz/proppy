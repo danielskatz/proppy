{
 "cells": [
  {
   "cell_type": "code",
   "execution_count": 11,
   "metadata": {},
   "outputs": [],
   "source": [
    "import matplotlib.pyplot as plt\n",
    "import random\n",
    "import numpy as np\n",
    "from numba import jit, int32, float32, types, typed\n",
    "from numba.typed import List\n",
    "from numba.experimental import jitclass\n",
    "import numpy as np\n",
    "from scipy.stats import norm\n",
    "import matplotlib.pyplot as plt"
   ]
  },
  {
   "cell_type": "code",
   "execution_count": 12,
   "metadata": {},
   "outputs": [],
   "source": [
    "source_spec = [\n",
    "    ('nr_particles', int32), # a simple scalar field\n",
    "    ('position', float32[:]), # an array field  \n",
    "    ('free_mean_path_para', float32), # a simple scalar field\n",
    "    ('free_mean_path_perp', float32), \n",
    "    ('gyro_radius', float32),\n",
    "]\n",
    "\n",
    "@jitclass(source_spec)\n",
    "class Source():\n",
    "    def __init__(self, nr_particles, position, gyro_radius, free_mean_path_para, free_mean_path_perp):\n",
    "        self.nr_particles = nr_particles\n",
    "        self.position = position\n",
    "        self.gyro_radius = gyro_radius\n",
    "        self.free_mean_path_para = free_mean_path_para\n",
    "        self.free_mean_path_perp = free_mean_path_perp"
   ]
  },
  {
   "cell_type": "code",
   "execution_count": 45,
   "metadata": {},
   "outputs": [],
   "source": [
    "spec = [\n",
    "    ('free_mean_path_para', float32), # a simple scalar field\n",
    "    ('free_mean_path_perp', float32), \n",
    "    ('gyro_radius', float32), \n",
    "    ('t', float32),\n",
    "    ('pos', float32[:]),          # an array field\n",
    "    ('direction', types.ListType(types.int64))     \n",
    "]\n",
    "\n",
    "@jitclass(spec)\n",
    "class Particle():\n",
    "    def __init__(self, gyro_radius, free_mean_path_para, free_mean_path_perp):\n",
    "        self.gyro_radius = gyro_radius\n",
    "        self.free_mean_path_para = free_mean_path_para\n",
    "        self.free_mean_path_perp = free_mean_path_perp\n",
    "        self.t = 0\n",
    "        self.pos = np.zeros(3, dtype=np.float32)\n",
    "        \n",
    "    def setDirection(self, direction):\n",
    "        self.direction = direction\n",
    "        \n",
    "    def kappa(self, axis):\n",
    "        return self.pos[axis]**2/(2.0)"
   ]
  },
  {
   "cell_type": "code",
   "execution_count": 40,
   "metadata": {},
   "outputs": [],
   "source": [
    "spec = [   \n",
    "    ('step_size', float32), # a simple scalar field\n",
    "]\n",
    "\n",
    "@jitclass(spec)\n",
    "class Propagation():\n",
    "    def __init__(self, step_size):\n",
    "        self.step_size = step_size\n",
    "        \n",
    "    def move(self, particle):\n",
    "        step_size = 1\n",
    "        p = 1.0*step_size\n",
    "        particle.t = particle.t + 1*step_size\n",
    "        \n",
    "        if particle.t > particle.gyro_radius:\n",
    "            # after gyroradius ~ half gyroorbit, particle \n",
    "            # needs to change direction perp to background field\n",
    "            if (random.randint(0, particle.free_mean_path_perp) == 1):\n",
    "                particle.direction[0] = particle.direction[0]*(-1)\n",
    "            if (random.randint(0, particle.free_mean_path_perp) == 0):\n",
    "                particle.direction[1] = particle.direction[1]*(-1)\n",
    "        #if particle.t > particle.free_mean_path_para:\n",
    "            # after mean-free length, particle can also change \n",
    "            # direction parallel to mean field\n",
    "        if (random.randint(0, particle.free_mean_path_para) == 0):\n",
    "            particle.direction[2] = particle.direction[2]*(-1)\n",
    "            \n",
    "        absDirection = (particle.direction[0]**2+particle.direction[1]**2+particle.direction[2]**2)**0.5\n",
    "        particle.pos[0] = particle.pos[0] + p*particle.direction[0]/absDirection\n",
    "        particle.pos[1] = particle.pos[1] + p*particle.direction[1]/absDirection\n",
    "        particle.pos[2] = particle.pos[2] + p*particle.direction[2]/absDirection\n",
    "        return particle\n",
    "    \n",
    "    def move_te(self, particle):\n",
    "        step_size = 1\n",
    "        p = 1.0*step_size\n",
    "        particle.t = particle.t + 1*step_size\n",
    "        \n",
    "        if particle.t > particle.gyro_radius:\n",
    "            # after gyroradius ~ half gyroorbit, particle \n",
    "            # needs to change direction perp to background field\n",
    "            if (random.randint(0, particle.free_mean_path_perp) == 1):\n",
    "                particle.direction[0] = particle.direction[0]*(-1)\n",
    "            if (random.randint(0, particle.free_mean_path_perp) == 0):\n",
    "                particle.direction[1] = particle.direction[1]*(-1)\n",
    "        #if particle.t > particle.free_mean_path_para:\n",
    "            # after mean-free length, particle can also change \n",
    "            # direction parallel to mean field\n",
    "        if (random.randint(0, particle.free_mean_path_para) == 0):\n",
    "            particle.direction[2] = particle.direction[2]*(-1)\n",
    "            \n",
    "        absDirection = (particle.direction[0]**2+particle.direction[1]**2+particle.direction[2]**2)**0.5\n",
    "        particle.pos[0] = particle.pos[0] + p*particle.direction[0]/absDirection\n",
    "        particle.pos[1] = particle.pos[1] + p*particle.direction[1]/absDirection\n",
    "        particle.pos[2] = particle.pos[2] + p*particle.direction[2]/absDirection\n",
    "        return particle"
   ]
  },
  {
   "cell_type": "code",
   "execution_count": 41,
   "metadata": {},
   "outputs": [],
   "source": [
    "class Plotter():\n",
    "    def __init__(self):\n",
    "        print('init plotter')\n",
    "        \n",
    "    def distribution(self, data):\n",
    "        print('start plotting')\n",
    "        plt.figure()\n",
    "        # Fit a normal distribution to the data:\n",
    "        mu, std = norm.fit(data)\n",
    "\n",
    "        # Plot the histogram.\n",
    "        plt.hist(data, bins=100, density=True, alpha=0.6, color='g')\n",
    "\n",
    "        # Plot the PDF.\n",
    "        xmin, xmax = plt.xlim()\n",
    "        x_values = np.linspace(xmin, xmax, 100)\n",
    "        p = norm.pdf(x_values, mu, std)\n",
    "        plt.plot(x_values, p, 'k', linewidth=2)\n",
    "        title = \"Fit results: mu = %.2f,  std = %.2f\" % (mu, std)\n",
    "        plt.title(title)\n",
    "\n",
    "        plt.show()"
   ]
  },
  {
   "cell_type": "code",
   "execution_count": 46,
   "metadata": {},
   "outputs": [],
   "source": [
    "simulation_spec = [\n",
    "    ('particles', types.ListType(Particle.class_type.instance_type)),\n",
    "    ('propagation', Propagation.class_type.instance_type),\n",
    "    ('time', float32[:]),\n",
    "]\n",
    "\n",
    "@jitclass(simulation_spec)\n",
    "class Simulation():\n",
    "    def __init__(self):\n",
    "        print('start simulation')\n",
    "  \n",
    "    def addParticles(self, source):\n",
    "        particles = List()\n",
    "        for j in range(source.nr_particles):\n",
    "            particle = Particle(source.gyro_radius, source.free_mean_path_para, source.free_mean_path_perp)\n",
    "            direction = List()\n",
    "            random_values = np.random.randint(low=0, high=1, size=3)*2-1\n",
    "            [direction.append(x) for x in random_values]\n",
    "            particle.setDirection(direction)\n",
    "            particles.append(particle)\n",
    "            \n",
    "        self.particles = particles\n",
    "\n",
    "    def addPropagation(self, propagation, time):\n",
    "        self.propagation = propagation\n",
    "        self.time = time\n",
    "        \n",
    "    def distribution(self, axis):\n",
    "        data = []\n",
    "        for p in self.particles:\n",
    "            data.append(p.pos[axis])\n",
    "        return data\n",
    "    \n",
    "    def runSimulation(self, time):\n",
    "        kappa_perp = []\n",
    "        kappa_para = []\n",
    "        x = [0]\n",
    "        y = [0]\n",
    "        for i, t in enumerate(time):\n",
    "            kappa_perp_sum = 0\n",
    "            kappa_para_sum = 0\n",
    "            particles = List()\n",
    "            [particles.append(self.propagation.move(p)) for p in self.particles]\n",
    "            for p in particles:\n",
    "                kappa_perp_sum = kappa_perp_sum + (p.kappa(0)+p.kappa(1))/2\n",
    "                kappa_para_sum = kappa_para_sum + p.kappa(2)\n",
    "    \n",
    "            kappa_para.append(kappa_para_sum/len(particles)/t)\n",
    "            kappa_perp.append(kappa_perp_sum/len(particles)/t)\n",
    "            self.particles = particles\n",
    "        return [kappa_para, kappa_perp]"
   ]
  },
  {
   "cell_type": "code",
   "execution_count": 47,
   "metadata": {},
   "outputs": [
    {
     "name": "stdout",
     "output_type": "stream",
     "text": [
      "start simulation\n",
      "declared particle properties\n",
      "added source\n",
      "added propagation\n"
     ]
    }
   ],
   "source": [
    "simulation = Simulation()\n",
    "\n",
    "### particle properties\n",
    "gyro_radius = 30.0\n",
    "free_mean_path_para = 200.0\n",
    "free_mean_path_perp = 10.0\n",
    "print('declared particle properties')\n",
    "\n",
    "### source\n",
    "source_position = np.zeros(3, dtype=np.float32)\n",
    "nr_particles = 500\n",
    "source = Source(nr_particles, source_position, gyro_radius, free_mean_path_para, free_mean_path_perp)\n",
    "simulation.addParticles(source)\n",
    "print('added source')\n",
    "\n",
    "### propagation\n",
    "step_size = 1.0\n",
    "propagation = Propagation(step_size)\n",
    "steps = 10**5\n",
    "t_max = 10**5\n",
    "time = np.float32(np.linspace(1, t_max, steps))\n",
    "simulation.addPropagation(propagation, time)\n",
    "print('added propagation')\n",
    "\n",
    "### run simulation\n",
    "kappas = simulation.runSimulation(time)"
   ]
  },
  {
   "cell_type": "code",
   "execution_count": 48,
   "metadata": {},
   "outputs": [
    {
     "data": {
      "image/png": "[encoded data removed]",
      "text/plain": [
       "<Figure size 432x288 with 1 Axes>"
      ]
     },
     "metadata": {
      "needs_background": "light"
     },
     "output_type": "display_data"
    }
   ],
   "source": [
    "plt.scatter(time, kappas[0])\n",
    "plt.scatter(time, kappas[1])\n",
    "plt.loglog()\n",
    "plt.show()"
   ]
  },
  {
   "cell_type": "code",
   "execution_count": 23,
   "metadata": {},
   "outputs": [
    {
     "name": "stdout",
     "output_type": "stream",
     "text": [
      "init plotter\n",
      "start plotting\n"
     ]
    },
    {
     "data": {
      "image/png": "[encoded data removed]",
      "text/plain": [
       "<Figure size 432x288 with 1 Axes>"
      ]
     },
     "metadata": {
      "needs_background": "light"
     },
     "output_type": "display_data"
    }
   ],
   "source": [
    "plotter = Plotter()\n",
    "data = simulation.distribution(0)\n",
    "plotter.distribution(data)"
   ]
  },
  {
   "cell_type": "code",
   "execution_count": 9,
   "metadata": {},
   "outputs": [],
   "source": [
    "\n",
    "\n",
    "\n"
   ]
  },
  {
   "cell_type": "code",
   "execution_count": null,
   "metadata": {},
   "outputs": [],
   "source": []
  }
 ],
 "metadata": {
  "kernelspec": {
   "display_name": "Python 3",
   "language": "python",
   "name": "python3"
  },
  "language_info": {
   "codemirror_mode": {
    "name": "ipython",
    "version": 3
   },
   "file_extension": ".py",
   "mimetype": "text/x-python",
   "name": "python",
   "nbconvert_exporter": "python",
   "pygments_lexer": "ipython3",
   "version": "3.8.5"
  }
 },
 "nbformat": 4,
 "nbformat_minor": 4
}
