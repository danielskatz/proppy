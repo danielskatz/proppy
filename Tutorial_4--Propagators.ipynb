{
 "cells": [
  {
   "cell_type": "code",
   "execution_count": 1,
   "id": "5045552e",
   "metadata": {},
   "outputs": [],
   "source": [
    "import numpy as np\n",
    "import matplotlib.pyplot as plt\n",
    "import pandas as pd\n",
    "from files.Simulation import Simulation\n",
    "from files.Source import Source\n",
    "from files.Observer import Observer\n",
    "from files.Propagator import Propagator\n",
    "from files.Observer import TimeEvolutionObserverLog\n",
    "from plot.Trajectory import Trajectory\n",
    "from plot.Statistics import Statistics"
   ]
  },
  {
   "cell_type": "markdown",
   "id": "612c2b8f",
   "metadata": {},
   "source": [
    "## Simulation setup"
   ]
  },
  {
   "cell_type": "markdown",
   "id": "95bb1fd1",
   "metadata": {},
   "source": [
    "#### Simulation setup"
   ]
  },
  {
   "cell_type": "code",
   "execution_count": 2,
   "id": "753756c3",
   "metadata": {},
   "outputs": [
    {
     "name": "stdout",
     "output_type": "stream",
     "text": [
      "start simulation\n"
     ]
    }
   ],
   "source": [
    "sim = Simulation()\n",
    "nr_particles = 10**1\n",
    "nr_steps = 10**5"
   ]
  },
  {
   "cell_type": "markdown",
   "id": "b5615fb2",
   "metadata": {},
   "source": [
    "#### Source"
   ]
  },
  {
   "cell_type": "code",
   "execution_count": 3,
   "id": "e8fa9154",
   "metadata": {},
   "outputs": [
    {
     "name": "stdout",
     "output_type": "stream",
     "text": [
      "source\n"
     ]
    }
   ],
   "source": [
    "source_pos = np.array([0.0, 0.0, 0.0], dtype=np.float32)\n",
    "mfp = np.array([3.75*10**13/4.0, 3.75*10**13/4.0, 7.2*10**13])  # [m]\n",
    "delta_rho_div_phi = 1 # (delta_r_rho / delta_r_phi)\n",
    "gyro_radius = 10**11 # [m]; 1pc\n",
    "\n",
    "source = Source(gyro_radius, mfp, source_pos, nr_particles)\n",
    "sim.add_source(source)"
   ]
  },
  {
   "cell_type": "markdown",
   "id": "d89ac241",
   "metadata": {},
   "source": [
    "#### Observer"
   ]
  },
  {
   "cell_type": "code",
   "execution_count": 4,
   "id": "cfd6400f",
   "metadata": {},
   "outputs": [
    {
     "name": "stdout",
     "output_type": "stream",
     "text": [
      "steps:  1000 [     1      1      1      1      1      1      1      1      1      1\n",
      "      1      1      1      1      1      1      1      1      1      1\n",
      "      1      1      1      1      1      1      1      1      1      1\n",
      "      1      1      1      1      1      1      1      1      1      1\n",
      "      1      1      1      1      1      1      1      1      1      1\n",
      "      1      1      1      1      1      1      1      1      1      1\n",
      "      1      2      2      2      2      2      2      2      2      2\n",
      "      2      2      2      2      2      2      2      2      2      2\n",
      "      2      2      2      2      2      2      2      2      2      2\n",
      "      2      2      2      2      2      2      3      3      3      3\n",
      "      3      3      3      3      3      3      3      3      3      3\n",
      "      3      3      3      3      3      3      3      3      3      3\n",
      "      3      4      4      4      4      4      4      4      4      4\n",
      "      4      4      4      4      4      4      4      4      4      4\n",
      "      5      5      5      5      5      5      5      5      5      5\n",
      "      5      5      5      5      5      5      6      6      6      6\n",
      "      6      6      6      6      6      6      6      6      6      7\n",
      "      7      7      7      7      7      7      7      7      7      7\n",
      "      7      8      8      8      8      8      8      8      8      8\n",
      "      8      9      9      9      9      9      9      9      9      9\n",
      "     10     10     10     10     10     10     10     10     10     11\n",
      "     11     11     11     11     11     11     12     12     12     12\n",
      "     12     12     12     13     13     13     13     13     13     14\n",
      "     14     14     14     14     14     15     15     15     15     15\n",
      "     15     16     16     16     16     16     17     17     17     17\n",
      "     17     18     18     18     18     18     19     19     19     19\n",
      "     20     20     20     20     20     21     21     21     21     22\n",
      "     22     22     22     23     23     23     24     24     24     24\n",
      "     25     25     25     26     26     26     27     27     27     27\n",
      "     28     28     28     29     29     29     30     30     31     31\n",
      "     31     32     32     32     33     33     34     34     34     35\n",
      "     35     36     36     36     37     37     38     38     39     39\n",
      "     39     40     40     41     41     42     42     43     43     44\n",
      "     44     45     45     46     46     47     48     48     49     49\n",
      "     50     50     51     52     52     53     53     54     55     55\n",
      "     56     57     57     58     59     59     60     61     61     62\n",
      "     63     64     64     65     66     67     67     68     69     70\n",
      "     71     71     72     73     74     75     76     77     77     78\n",
      "     79     80     81     82     83     84     85     86     87     88\n",
      "     89     90     91     92     93     94     95     97     98     99\n",
      "    100    101    102    103    105    106    107    108    110    111\n",
      "    112    114    115    116    118    119    120    122    123    125\n",
      "    126    127    129    130    132    134    135    137    138    140\n",
      "    141    143    145    146    148    150    152    153    155    157\n",
      "    159    161    163    164    166    168    170    172    174    176\n",
      "    178    180    182    185    187    189    191    193    196    198\n",
      "    200    202    205    207    210    212    214    217    219    222\n",
      "    225    227    230    233    235    238    241    243    246    249\n",
      "    252    255    258    261    264    267    270    273    276    280\n",
      "    283    286    290    293    296    300    303    307    310    314\n",
      "    318    321    325    329    333    336    340    344    348    352\n",
      "    356    361    365    369    373    378    382    386    391    395\n",
      "    400    405    409    414    419    424    429    434    439    444\n",
      "    449    454    459    465    470    476    481    487    492    498\n",
      "    504    510    516    522    528    534    540    546    553    559\n",
      "    565    572    579    585    592    599    606    613    620    627\n",
      "    635    642    649    657    665    672    680    688    696    704\n",
      "    712    720    729    737    746    754    763    772    781    790\n",
      "    799    808    818    827    837    847    856    866    876    887\n",
      "    897    907    918    928    939    950    961    972    983    995\n",
      "   1006   1018   1030   1042   1054   1066   1079   1091   1104   1116\n",
      "   1129   1143   1156   1169   1183   1196   1210   1224   1239   1253\n",
      "   1267   1282   1297   1312   1327   1343   1358   1374   1390   1406\n",
      "   1422   1439   1456   1472   1489   1507   1524   1542   1560   1578\n",
      "   1596   1615   1633   1652   1671   1691   1710   1730   1750   1771\n",
      "   1791   1812   1833   1854   1876   1897   1919   1942   1964   1987\n",
      "   2010   2033   2057   2081   2105   2129   2154   2179   2204   2230\n",
      "   2256   2282   2308   2335   2362   2389   2417   2445   2473   2502\n",
      "   2531   2560   2590   2620   2651   2681   2712   2744   2776   2808\n",
      "   2840   2873   2907   2940   2974   3009   3044   3079   3115   3151\n",
      "   3187   3224   3262   3300   3338   3376   3416   3455   3495   3536\n",
      "   3577   3618   3660   3703   3746   3789   3833   3877   3922   3968\n",
      "   4014   4060   4107   4155   4203   4252   4301   4351   4401   4452\n",
      "   4504   4556   4609   4663   4717   4771   4827   4883   4939   4996\n",
      "   5054   5113   5172   5232   5293   5354   5416   5479   5542   5607\n",
      "   5672   5737   5804   5871   5939   6008   6078   6148   6220   6292\n",
      "   6365   6438   6513   6588   6665   6742   6820   6899   6979   7060\n",
      "   7142   7225   7309   7393   7479   7566   7653   7742   7832   7923\n",
      "   8015   8107   8201   8296   8393   8490   8588   8688   8789   8890\n",
      "   8994   9098   9203   9310   9418   9527   9637   9749   9862   9976\n",
      "  10092  10209  10327  10447  10568  10691  10815  10940  11067  11195\n",
      "  11325  11456  11589  11723  11859  11997  12136  12276  12419  12563\n",
      "  12708  12856  13005  13155  13308  13462  13618  13776  13936  14097\n",
      "  14261  14426  14593  14762  14933  15107  15282  15459  15638  15819\n",
      "  16003  16188  16376  16566  16758  16952  17148  17347  17548  17752\n",
      "  17957  18165  18376  18589  18805  19023  19243  19466  19692  19920\n",
      "  20151  20384  20621  20860  21102  21346  21594  21844  22097  22353\n",
      "  22612  22874  23140  23408  23679  23954  24231  24512  24796  25084\n",
      "  25374  25669  25966  26267  26572  26880  27191  27506  27825  28148\n",
      "  28474  28804  29138  29476  29817  30163  30512  30866  31224  31586\n",
      "  31952  32322  32697  33076  33459  33847  34240  34636  35038  35444\n",
      "  35855  36271  36691  37116  37546  37982  38422  38867  39318  39774\n",
      "  40235  40701  41173  41650  42133  42621  43115  43615  44120  44632\n",
      "  45149  45673  46202  46737  47279  47827  48382  48942  49510  50084\n",
      "  50664  51251  51845  52446  53054  53669  54291  54921  55557  56201\n",
      "  56853  57512  58178  58853  59535  60225  60923  61629  62344  63066\n",
      "  63797  64537  65285  66041  66807  67581  68365  69157  69959  70770\n",
      "  71590  72420  73259  74108  74967  75836  76715  77605  78504  79414\n",
      "  80335  81266  82208  83161  84124  85100  86086  87084  88093  89114\n",
      "  90147  91192  92249  93318  94400  95494  96601  97721  98854 100000]\n",
      "observer\n"
     ]
    }
   ],
   "source": [
    "substeps = [False, False, True] # observe only steps (no substeps)\n",
    "min_step = 1\n",
    "max_step = nr_steps\n",
    "nr_obs_steps = 1000\n",
    "observer = TimeEvolutionObserverLog(min_step, max_step, nr_obs_steps, substeps)\n",
    "sim.add_observer(observer)"
   ]
  },
  {
   "cell_type": "markdown",
   "id": "df25e0f2",
   "metadata": {},
   "source": [
    "#### Propagator"
   ]
  },
  {
   "cell_type": "code",
   "execution_count": 31,
   "id": "2dc0c40c",
   "metadata": {},
   "outputs": [
    {
     "name": "stdout",
     "output_type": "stream",
     "text": [
      "Propagator initialized\n"
     ]
    }
   ],
   "source": [
    "propagator = Propagator()\n",
    "sim.add_propagator(propagator)"
   ]
  },
  {
   "cell_type": "code",
   "execution_count": 36,
   "id": "f1541944",
   "metadata": {},
   "outputs": [
    {
     "name": "stdout",
     "output_type": "stream",
     "text": [
      "CPU times: user 2.02 s, sys: 12 ms, total: 2.03 s\n",
      "Wall time: 2.02 s\n"
     ]
    }
   ],
   "source": [
    "%time sim.run_simulation(nr_steps)\n",
    "sim.save_data('data')"
   ]
  },
  {
   "cell_type": "markdown",
   "id": "523b23ff",
   "metadata": {},
   "source": [
    "## Analyze statistics\n"
   ]
  },
  {
   "cell_type": "code",
   "execution_count": 37,
   "id": "10e57f70",
   "metadata": {},
   "outputs": [
    {
     "name": "stdout",
     "output_type": "stream",
     "text": [
      "init statistics plotting class\n"
     ]
    },
    {
     "data": {
      "image/png": "[encoded data removed]",
      "text/plain": [
       "<Figure size 288x288 with 1 Axes>"
      ]
     },
     "metadata": {
      "needs_background": "light"
     },
     "output_type": "display_data"
    }
   ],
   "source": [
    "df = pd.read_pickle(\"data.pkl\")\n",
    "df_time_evolution_observer = df.loc[df['radius'] == -1.0]\n",
    "dimensions = 3\n",
    "sta = Statistics(df_time_evolution_observer, dimensions)\n",
    "errors = False\n",
    "df_kappas = sta.plot_diffusion_coefficients(errors)"
   ]
  },
  {
   "cell_type": "code",
   "execution_count": 38,
   "id": "e42ea44e",
   "metadata": {},
   "outputs": [
    {
     "data": {
      "text/html": [
       "<div>\n",
       "<style scoped>\n",
       "    .dataframe tbody tr th:only-of-type {\n",
       "        vertical-align: middle;\n",
       "    }\n",
       "\n",
       "    .dataframe tbody tr th {\n",
       "        vertical-align: top;\n",
       "    }\n",
       "\n",
       "    .dataframe thead th {\n",
       "        text-align: right;\n",
       "    }\n",
       "</style>\n",
       "<table border=\"1\" class=\"dataframe\">\n",
       "  <thead>\n",
       "    <tr style=\"text-align: right;\">\n",
       "      <th></th>\n",
       "      <th>kappa_perp</th>\n",
       "      <th>kappa_para</th>\n",
       "    </tr>\n",
       "  </thead>\n",
       "  <tbody>\n",
       "    <tr>\n",
       "      <th>0</th>\n",
       "      <td>2.560727e+17</td>\n",
       "      <td>2.498270e+17</td>\n",
       "    </tr>\n",
       "    <tr>\n",
       "      <th>1</th>\n",
       "      <td>5.118255e+17</td>\n",
       "      <td>4.996541e+17</td>\n",
       "    </tr>\n",
       "    <tr>\n",
       "      <th>2</th>\n",
       "      <td>7.669386e+17</td>\n",
       "      <td>7.494811e+17</td>\n",
       "    </tr>\n",
       "    <tr>\n",
       "      <th>3</th>\n",
       "      <td>1.021093e+18</td>\n",
       "      <td>9.993081e+17</td>\n",
       "    </tr>\n",
       "    <tr>\n",
       "      <th>4</th>\n",
       "      <td>1.273973e+18</td>\n",
       "      <td>1.249135e+18</td>\n",
       "    </tr>\n",
       "    <tr>\n",
       "      <th>...</th>\n",
       "      <td>...</td>\n",
       "      <td>...</td>\n",
       "    </tr>\n",
       "    <tr>\n",
       "      <th>2088</th>\n",
       "      <td>3.073153e+16</td>\n",
       "      <td>1.466764e+21</td>\n",
       "    </tr>\n",
       "    <tr>\n",
       "      <th>2089</th>\n",
       "      <td>3.074376e+16</td>\n",
       "      <td>1.452061e+21</td>\n",
       "    </tr>\n",
       "    <tr>\n",
       "      <th>2090</th>\n",
       "      <td>2.939356e+16</td>\n",
       "      <td>1.432745e+21</td>\n",
       "    </tr>\n",
       "    <tr>\n",
       "      <th>2091</th>\n",
       "      <td>2.994548e+16</td>\n",
       "      <td>1.421362e+21</td>\n",
       "    </tr>\n",
       "    <tr>\n",
       "      <th>2092</th>\n",
       "      <td>3.144227e+16</td>\n",
       "      <td>1.405732e+21</td>\n",
       "    </tr>\n",
       "  </tbody>\n",
       "</table>\n",
       "<p>2093 rows × 2 columns</p>\n",
       "</div>"
      ],
      "text/plain": [
       "        kappa_perp    kappa_para\n",
       "0     2.560727e+17  2.498270e+17\n",
       "1     5.118255e+17  4.996541e+17\n",
       "2     7.669386e+17  7.494811e+17\n",
       "3     1.021093e+18  9.993081e+17\n",
       "4     1.273973e+18  1.249135e+18\n",
       "...            ...           ...\n",
       "2088  3.073153e+16  1.466764e+21\n",
       "2089  3.074376e+16  1.452061e+21\n",
       "2090  2.939356e+16  1.432745e+21\n",
       "2091  2.994548e+16  1.421362e+21\n",
       "2092  3.144227e+16  1.405732e+21\n",
       "\n",
       "[2093 rows x 2 columns]"
      ]
     },
     "execution_count": 38,
     "metadata": {},
     "output_type": "execute_result"
    }
   ],
   "source": [
    "df_kappas"
   ]
  },
  {
   "cell_type": "code",
   "execution_count": null,
   "id": "fd864e12",
   "metadata": {},
   "outputs": [],
   "source": []
  }
 ],
 "metadata": {
  "kernelspec": {
   "display_name": "Python 3",
   "language": "python",
   "name": "python3"
  },
  "language_info": {
   "codemirror_mode": {
    "name": "ipython",
    "version": 3
   },
   "file_extension": ".py",
   "mimetype": "text/x-python",
   "name": "python",
   "nbconvert_exporter": "python",
   "pygments_lexer": "ipython3",
   "version": "3.8.5"
  }
 },
 "nbformat": 4,
 "nbformat_minor": 5
}
