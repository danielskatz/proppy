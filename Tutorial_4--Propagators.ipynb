{
 "cells": [
  {
   "cell_type": "code",
   "execution_count": 1,
   "id": "5045552e",
   "metadata": {},
   "outputs": [],
   "source": [
    "import numpy as np\n",
    "import matplotlib.pyplot as plt\n",
    "import pandas as pd\n",
    "from files.Simulation import Simulation\n",
    "from files.Source import Source\n",
    "from files.Observer import Observer\n",
    "from files.Propagator import Propagator\n",
    "from files.Observer import TimeEvolutionObserverLog\n",
    "from plot.Trajectory import Trajectory\n",
    "from plot.Statistics import Statistics"
   ]
  },
  {
   "cell_type": "markdown",
   "id": "612c2b8f",
   "metadata": {},
   "source": [
    "## Simulation setup"
   ]
  },
  {
   "cell_type": "markdown",
   "id": "95bb1fd1",
   "metadata": {},
   "source": [
    "#### Simulation setup"
   ]
  },
  {
   "cell_type": "code",
   "execution_count": 2,
   "id": "753756c3",
   "metadata": {},
   "outputs": [
    {
     "name": "stdout",
     "output_type": "stream",
     "text": [
      "start simulation\n"
     ]
    }
   ],
   "source": [
    "sim = Simulation()"
   ]
  },
  {
   "cell_type": "markdown",
   "id": "b5615fb2",
   "metadata": {},
   "source": [
    "#### Source "
   ]
  },
  {
   "cell_type": "code",
   "execution_count": 3,
   "id": "e8fa9154",
   "metadata": {},
   "outputs": [
    {
     "name": "stdout",
     "output_type": "stream",
     "text": [
      "source\n"
     ]
    }
   ],
   "source": [
    "nr_particles = 10**1\n",
    "source_pos = np.array([1.0, 1.0, 1.0], dtype=np.float32)\n",
    "delta_rho_div_phi = 1 # (delta_r_rho / delta_r_phi)\n",
    "gyro_radius = 10**11 # [m]; 1pc\n",
    "\n",
    "source = Source(gyro_radius, source_pos, nr_particles)\n",
    "sim.add_source(source)"
   ]
  },
  {
   "cell_type": "markdown",
   "id": "eb6aba28",
   "metadata": {},
   "source": [
    "#### Propagator"
   ]
  },
  {
   "cell_type": "code",
   "execution_count": 4,
   "id": "dadd5ed4",
   "metadata": {},
   "outputs": [
    {
     "name": "stdout",
     "output_type": "stream",
     "text": [
      "Propagator initialized\n"
     ]
    }
   ],
   "source": [
    "nr_steps = 10**4\n",
    "step_size = 0.5*10**10 # [m]\n",
    "mfp = np.array([3.75*10**13/4.0, 3.75*10**13/4.0, 7.2*10**13], dtype=np.float32)  # [m]\n",
    "\n",
    "propagator = Propagator(nr_steps, step_size, mfp)\n",
    "sim.add_propagator(propagator)"
   ]
  },
  {
   "cell_type": "markdown",
   "id": "d89ac241",
   "metadata": {},
   "source": [
    "#### Observer"
   ]
  },
  {
   "cell_type": "code",
   "execution_count": 5,
   "id": "cfd6400f",
   "metadata": {},
   "outputs": [
    {
     "name": "stdout",
     "output_type": "stream",
     "text": [
      "number steps:  84\n",
      "observer\n"
     ]
    }
   ],
   "source": [
    "substeps = [False, False, True] # observe only steps (no substeps)\n",
    "min_step = 1\n",
    "max_step = nr_steps\n",
    "nr_obs_steps = 100\n",
    "\n",
    "observer = TimeEvolutionObserverLog(min_step, max_step, nr_obs_steps, substeps)\n",
    "sim.add_observer(observer)"
   ]
  },
  {
   "cell_type": "code",
   "execution_count": 6,
   "id": "f1541944",
   "metadata": {},
   "outputs": [
    {
     "name": "stdout",
     "output_type": "stream",
     "text": [
      "init source\n",
      "CPU times: user 3.6 s, sys: 12.1 ms, total: 3.61 s\n",
      "Wall time: 3.61 s\n"
     ]
    }
   ],
   "source": [
    "%time sim.run_simulation()\n",
    "sim.save_data('data')"
   ]
  },
  {
   "cell_type": "markdown",
   "id": "523b23ff",
   "metadata": {},
   "source": [
    "## Analyze statistics\n"
   ]
  },
  {
   "cell_type": "code",
   "execution_count": 7,
   "id": "10e57f70",
   "metadata": {},
   "outputs": [
    {
     "name": "stdout",
     "output_type": "stream",
     "text": [
      "init statistics plotting class\n"
     ]
    },
    {
     "data": {
      "image/png": "[encoded data removed]",
      "text/plain": [
       "<Figure size 288x288 with 1 Axes>"
      ]
     },
     "metadata": {
      "needs_background": "light"
     },
     "output_type": "display_data"
    }
   ],
   "source": [
    "df = pd.read_pickle(\"data.pkl\")\n",
    "df_time_evolution_observer = df.loc[df['radius'] == -1.0]\n",
    "dimensions = 3\n",
    "sta = Statistics(df_time_evolution_observer, dimensions)\n",
    "errors = False\n",
    "df_kappas = sta.plot_diffusion_coefficients(errors)"
   ]
  },
  {
   "cell_type": "code",
   "execution_count": 8,
   "id": "2f95ef23",
   "metadata": {},
   "outputs": [
    {
     "data": {
      "text/html": [
       "<div>\n",
       "<style scoped>\n",
       "    .dataframe tbody tr th:only-of-type {\n",
       "        vertical-align: middle;\n",
       "    }\n",
       "\n",
       "    .dataframe tbody tr th {\n",
       "        vertical-align: top;\n",
       "    }\n",
       "\n",
       "    .dataframe thead th {\n",
       "        text-align: right;\n",
       "    }\n",
       "</style>\n",
       "<table border=\"1\" class=\"dataframe\">\n",
       "  <thead>\n",
       "    <tr style=\"text-align: right;\">\n",
       "      <th></th>\n",
       "      <th>id</th>\n",
       "      <th>i</th>\n",
       "      <th>d</th>\n",
       "      <th>x</th>\n",
       "      <th>y</th>\n",
       "      <th>z</th>\n",
       "      <th>radius</th>\n",
       "      <th>step</th>\n",
       "    </tr>\n",
       "  </thead>\n",
       "  <tbody>\n",
       "    <tr>\n",
       "      <th>0</th>\n",
       "      <td>0.0</td>\n",
       "      <td>0.0</td>\n",
       "      <td>0.000000e+00</td>\n",
       "      <td>1.000000e+00</td>\n",
       "      <td>1.000000e+00</td>\n",
       "      <td>1.000000e+00</td>\n",
       "      <td>-1.0</td>\n",
       "      <td>2.0</td>\n",
       "    </tr>\n",
       "    <tr>\n",
       "      <th>1</th>\n",
       "      <td>0.0</td>\n",
       "      <td>1.0</td>\n",
       "      <td>5.000000e+09</td>\n",
       "      <td>2.165063e+09</td>\n",
       "      <td>2.795085e+09</td>\n",
       "      <td>2.886751e+09</td>\n",
       "      <td>-1.0</td>\n",
       "      <td>2.0</td>\n",
       "    </tr>\n",
       "    <tr>\n",
       "      <th>2</th>\n",
       "      <td>0.0</td>\n",
       "      <td>2.0</td>\n",
       "      <td>1.000000e+10</td>\n",
       "      <td>4.330127e+09</td>\n",
       "      <td>5.590170e+09</td>\n",
       "      <td>5.773502e+09</td>\n",
       "      <td>-1.0</td>\n",
       "      <td>2.0</td>\n",
       "    </tr>\n",
       "    <tr>\n",
       "      <th>3</th>\n",
       "      <td>0.0</td>\n",
       "      <td>3.0</td>\n",
       "      <td>1.500000e+10</td>\n",
       "      <td>6.495191e+09</td>\n",
       "      <td>8.385255e+09</td>\n",
       "      <td>8.660254e+09</td>\n",
       "      <td>-1.0</td>\n",
       "      <td>2.0</td>\n",
       "    </tr>\n",
       "    <tr>\n",
       "      <th>4</th>\n",
       "      <td>0.0</td>\n",
       "      <td>4.0</td>\n",
       "      <td>2.000000e+10</td>\n",
       "      <td>8.660254e+09</td>\n",
       "      <td>1.118034e+10</td>\n",
       "      <td>1.154700e+10</td>\n",
       "      <td>-1.0</td>\n",
       "      <td>2.0</td>\n",
       "    </tr>\n",
       "    <tr>\n",
       "      <th>...</th>\n",
       "      <td>...</td>\n",
       "      <td>...</td>\n",
       "      <td>...</td>\n",
       "      <td>...</td>\n",
       "      <td>...</td>\n",
       "      <td>...</td>\n",
       "      <td>...</td>\n",
       "      <td>...</td>\n",
       "    </tr>\n",
       "    <tr>\n",
       "      <th>835</th>\n",
       "      <td>9.0</td>\n",
       "      <td>6280.0</td>\n",
       "      <td>3.140239e+13</td>\n",
       "      <td>1.359655e+13</td>\n",
       "      <td>8.105538e+12</td>\n",
       "      <td>1.812886e+13</td>\n",
       "      <td>-1.0</td>\n",
       "      <td>2.0</td>\n",
       "    </tr>\n",
       "    <tr>\n",
       "      <th>836</th>\n",
       "      <td>9.0</td>\n",
       "      <td>6892.0</td>\n",
       "      <td>3.446343e+13</td>\n",
       "      <td>1.208695e+13</td>\n",
       "      <td>6.618609e+12</td>\n",
       "      <td>1.989618e+13</td>\n",
       "      <td>-1.0</td>\n",
       "      <td>2.0</td>\n",
       "    </tr>\n",
       "    <tr>\n",
       "      <th>837</th>\n",
       "      <td>9.0</td>\n",
       "      <td>7564.0</td>\n",
       "      <td>3.782126e+13</td>\n",
       "      <td>9.662276e+12</td>\n",
       "      <td>8.496835e+12</td>\n",
       "      <td>2.183677e+13</td>\n",
       "      <td>-1.0</td>\n",
       "      <td>2.0</td>\n",
       "    </tr>\n",
       "    <tr>\n",
       "      <th>838</th>\n",
       "      <td>9.0</td>\n",
       "      <td>8302.0</td>\n",
       "      <td>4.150788e+13</td>\n",
       "      <td>6.999200e+12</td>\n",
       "      <td>1.055986e+13</td>\n",
       "      <td>2.396795e+13</td>\n",
       "      <td>-1.0</td>\n",
       "      <td>2.0</td>\n",
       "    </tr>\n",
       "    <tr>\n",
       "      <th>839</th>\n",
       "      <td>9.0</td>\n",
       "      <td>9111.0</td>\n",
       "      <td>4.554917e+13</td>\n",
       "      <td>4.079805e+12</td>\n",
       "      <td>1.282142e+13</td>\n",
       "      <td>2.630416e+13</td>\n",
       "      <td>-1.0</td>\n",
       "      <td>2.0</td>\n",
       "    </tr>\n",
       "  </tbody>\n",
       "</table>\n",
       "<p>840 rows × 8 columns</p>\n",
       "</div>"
      ],
      "text/plain": [
       "      id       i             d             x             y             z  \\\n",
       "0    0.0     0.0  0.000000e+00  1.000000e+00  1.000000e+00  1.000000e+00   \n",
       "1    0.0     1.0  5.000000e+09  2.165063e+09  2.795085e+09  2.886751e+09   \n",
       "2    0.0     2.0  1.000000e+10  4.330127e+09  5.590170e+09  5.773502e+09   \n",
       "3    0.0     3.0  1.500000e+10  6.495191e+09  8.385255e+09  8.660254e+09   \n",
       "4    0.0     4.0  2.000000e+10  8.660254e+09  1.118034e+10  1.154700e+10   \n",
       "..   ...     ...           ...           ...           ...           ...   \n",
       "835  9.0  6280.0  3.140239e+13  1.359655e+13  8.105538e+12  1.812886e+13   \n",
       "836  9.0  6892.0  3.446343e+13  1.208695e+13  6.618609e+12  1.989618e+13   \n",
       "837  9.0  7564.0  3.782126e+13  9.662276e+12  8.496835e+12  2.183677e+13   \n",
       "838  9.0  8302.0  4.150788e+13  6.999200e+12  1.055986e+13  2.396795e+13   \n",
       "839  9.0  9111.0  4.554917e+13  4.079805e+12  1.282142e+13  2.630416e+13   \n",
       "\n",
       "     radius  step  \n",
       "0      -1.0   2.0  \n",
       "1      -1.0   2.0  \n",
       "2      -1.0   2.0  \n",
       "3      -1.0   2.0  \n",
       "4      -1.0   2.0  \n",
       "..      ...   ...  \n",
       "835    -1.0   2.0  \n",
       "836    -1.0   2.0  \n",
       "837    -1.0   2.0  \n",
       "838    -1.0   2.0  \n",
       "839    -1.0   2.0  \n",
       "\n",
       "[840 rows x 8 columns]"
      ]
     },
     "execution_count": 8,
     "metadata": {},
     "output_type": "execute_result"
    }
   ],
   "source": [
    "df"
   ]
  },
  {
   "cell_type": "code",
   "execution_count": null,
   "id": "d62de8fc",
   "metadata": {},
   "outputs": [],
   "source": []
  }
 ],
 "metadata": {
  "kernelspec": {
   "display_name": "Python 3",
   "language": "python",
   "name": "python3"
  },
  "language_info": {
   "codemirror_mode": {
    "name": "ipython",
    "version": 3
   },
   "file_extension": ".py",
   "mimetype": "text/x-python",
   "name": "python",
   "nbconvert_exporter": "python",
   "pygments_lexer": "ipython3",
   "version": "3.8.5"
  }
 },
 "nbformat": 4,
 "nbformat_minor": 5
}
