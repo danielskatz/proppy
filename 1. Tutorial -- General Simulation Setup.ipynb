{
 "cells": [
  {
   "cell_type": "code",
   "execution_count": 1,
   "metadata": {},
   "outputs": [],
   "source": [
    "from Simulation import Simulation\n",
    "from modules.Particle import Particle\n",
    "from modules.Propagation import Propagation\n",
    "from modules.Source import Source\n",
    "from modules.Observer import Observer\n",
    "import numpy as np"
   ]
  },
  {
   "cell_type": "markdown",
   "metadata": {},
   "source": [
    "## Simulation of Random Walk Propagation\n",
    "\n",
    "Initialize the simulation by calling Simulation(). The class instance simulation contains all information relevant for the complete simulation."
   ]
  },
  {
   "cell_type": "code",
   "execution_count": 2,
   "metadata": {},
   "outputs": [
    {
     "name": "stdout",
     "output_type": "stream",
     "text": [
      "init simulation completed\n"
     ]
    }
   ],
   "source": [
    "simulation = Simulation()"
   ]
  },
  {
   "cell_type": "markdown",
   "metadata": {},
   "source": [
    "### 1) Source of Particles\n",
    "\n",
    "First, we have to define a source of particles that we want to propagate. \n",
    "\n",
    "##### Particle properties of source\n",
    "The emitted particles need to have the following properties:\n",
    "\n",
    "- **gyro radius**: $r_g = \\frac{E}{c\\cdot q \\cdot \\sqrt{b^2+B²}}$, with $E, c, q$ denoting, the particle's energy, the speed of light and the particle's charge, respectively. $b, B$ are the rms-values of the turbulence and background field, respectively. Only needed for determining the characteristic time-scale of the initial, ballistic phase of the perpendicular diffuion. \n",
    "- **diffusion tensor**: the diagonal elements of the diagonalized diffusion tensor are needed to determine the characteristics of the transport. Provide the quantity $\\kappa = [\\kappa_{xx}, \\kappa_{yy}, \\kappa_{zz}]$."
   ]
  },
  {
   "cell_type": "code",
   "execution_count": 3,
   "metadata": {},
   "outputs": [],
   "source": [
    "gyro_radius = 30.0\n",
    "diffusion_tensor = np.array([1.0, 1.0, 100.0], dtype=np.float32)"
   ]
  },
  {
   "cell_type": "markdown",
   "metadata": {},
   "source": [
    "##### Properties of source\n",
    "\n",
    "The source of particles need the following properties:\n",
    "\n",
    "- **source position**\n",
    "- **number of particles**\n",
    "- **particle properties**: gyro radius & diffusion tensor\n",
    "\n",
    "Finally, only add the source to the simulation."
   ]
  },
  {
   "cell_type": "code",
   "execution_count": 8,
   "metadata": {},
   "outputs": [],
   "source": [
    "source_position = np.zeros(3, dtype=np.float32)\n",
    "nr_particles = 10\n",
    "source = Source(nr_particles, source_position, gyro_radius, diffusion_tensor)"
   ]
  },
  {
   "cell_type": "markdown",
   "metadata": {},
   "source": [
    "### 2) Propagation Module\n",
    "\n",
    "Add the propagation module that you want to use:\n",
    "\n",
    "- **random walk**: Fast method that propagates individual particles along random walks. The overall behaviour is governed by a generalized telegraph equation: $\\frac{\\partial f}{\\partial t} = \\sum_i \\tau_i \\frac{\\partial^2 f}{\\partial t^2} = \\sum_i \\kappa_i \\frac{\\partial^2 f}{\\partial x_i^2}$\n",
    "- others coming soon..."
   ]
  },
  {
   "cell_type": "code",
   "execution_count": 9,
   "metadata": {},
   "outputs": [],
   "source": [
    "step_size = 1.0\n",
    "propagation = Propagation(step_size)\n",
    "steps = 10**5\n",
    "t_max = 10**5\n",
    "time = np.linspace(1, t_max, steps, dtype=np.float32)"
   ]
  },
  {
   "cell_type": "markdown",
   "metadata": {},
   "source": [
    "### 3) Observer Type\n",
    "\n",
    "The default observer observs all available parameters: $x, y, z,$ time, and id.\n",
    "You can change the observer type between the following modes:\n",
    "\n",
    "- all: $x, y, z,$ time, and id at each step (default)\n",
    "- sphere: $x, y, z,$ time, and id only on sphere of user-defined radius (observer.add_observer_spheres(sphere_radii))"
   ]
  },
  {
   "cell_type": "code",
   "execution_count": 10,
   "metadata": {},
   "outputs": [
    {
     "name": "stdout",
     "output_type": "stream",
     "text": [
      "init observer completed\n"
     ]
    }
   ],
   "source": [
    "observer = Observer()\n",
    "detailed_range = 500 # observe the initial 500 steps (default = 0)\n",
    "observer_resolution = 500 # also observe each 500th step (default = 1)\n",
    "observer.change_observer_resolution(detailed_range, observer_resolution)\n",
    "simulation.add_observer(observer)"
   ]
  },
  {
   "cell_type": "markdown",
   "metadata": {},
   "source": [
    "### -> Run Simulation\n",
    "\n",
    "Add all moduels needed to the simulation and run it!"
   ]
  },
  {
   "cell_type": "code",
   "execution_count": 12,
   "metadata": {},
   "outputs": [
    {
     "name": "stdout",
     "output_type": "stream",
     "text": [
      "CPU times: user 611 ms, sys: 0 ns, total: 611 ms\n",
      "Wall time: 608 ms\n"
     ]
    }
   ],
   "source": [
    "simulation.add_particles(source)\n",
    "simulation.add_propagation(propagation, time)\n",
    "%time data = simulation.run_simulation()"
   ]
  },
  {
   "cell_type": "markdown",
   "metadata": {},
   "source": [
    "## Analizing Simulation Data"
   ]
  },
  {
   "cell_type": "code",
   "execution_count": 13,
   "metadata": {},
   "outputs": [
    {
     "data": {
      "text/html": [
       "<div>\n",
       "<style scoped>\n",
       "    .dataframe tbody tr th:only-of-type {\n",
       "        vertical-align: middle;\n",
       "    }\n",
       "\n",
       "    .dataframe tbody tr th {\n",
       "        vertical-align: top;\n",
       "    }\n",
       "\n",
       "    .dataframe thead th {\n",
       "        text-align: right;\n",
       "    }\n",
       "</style>\n",
       "<table border=\"1\" class=\"dataframe\">\n",
       "  <thead>\n",
       "    <tr style=\"text-align: right;\">\n",
       "      <th></th>\n",
       "      <th>id</th>\n",
       "      <th>t</th>\n",
       "      <th>x</th>\n",
       "      <th>y</th>\n",
       "      <th>z</th>\n",
       "      <th>radius</th>\n",
       "    </tr>\n",
       "  </thead>\n",
       "  <tbody>\n",
       "    <tr>\n",
       "      <th>0</th>\n",
       "      <td>0.0</td>\n",
       "      <td>1.0</td>\n",
       "      <td>-0.999919</td>\n",
       "      <td>0.012732</td>\n",
       "      <td>-1.0</td>\n",
       "      <td>-1.0</td>\n",
       "    </tr>\n",
       "    <tr>\n",
       "      <th>1</th>\n",
       "      <td>1.0</td>\n",
       "      <td>1.0</td>\n",
       "      <td>0.999818</td>\n",
       "      <td>-0.019097</td>\n",
       "      <td>1.0</td>\n",
       "      <td>-1.0</td>\n",
       "    </tr>\n",
       "    <tr>\n",
       "      <th>2</th>\n",
       "      <td>2.0</td>\n",
       "      <td>1.0</td>\n",
       "      <td>0.999818</td>\n",
       "      <td>0.019097</td>\n",
       "      <td>-1.0</td>\n",
       "      <td>-1.0</td>\n",
       "    </tr>\n",
       "    <tr>\n",
       "      <th>3</th>\n",
       "      <td>3.0</td>\n",
       "      <td>1.0</td>\n",
       "      <td>-0.999919</td>\n",
       "      <td>0.012732</td>\n",
       "      <td>1.0</td>\n",
       "      <td>-1.0</td>\n",
       "    </tr>\n",
       "    <tr>\n",
       "      <th>4</th>\n",
       "      <td>4.0</td>\n",
       "      <td>1.0</td>\n",
       "      <td>0.999818</td>\n",
       "      <td>-0.019097</td>\n",
       "      <td>1.0</td>\n",
       "      <td>-1.0</td>\n",
       "    </tr>\n",
       "    <tr>\n",
       "      <th>...</th>\n",
       "      <td>...</td>\n",
       "      <td>...</td>\n",
       "      <td>...</td>\n",
       "      <td>...</td>\n",
       "      <td>...</td>\n",
       "      <td>...</td>\n",
       "    </tr>\n",
       "    <tr>\n",
       "      <th>6985</th>\n",
       "      <td>5.0</td>\n",
       "      <td>99501.0</td>\n",
       "      <td>429.110260</td>\n",
       "      <td>-11.415971</td>\n",
       "      <td>799.0</td>\n",
       "      <td>-1.0</td>\n",
       "    </tr>\n",
       "    <tr>\n",
       "      <th>6986</th>\n",
       "      <td>6.0</td>\n",
       "      <td>99501.0</td>\n",
       "      <td>-181.427979</td>\n",
       "      <td>-442.959229</td>\n",
       "      <td>-4053.0</td>\n",
       "      <td>-1.0</td>\n",
       "    </tr>\n",
       "    <tr>\n",
       "      <th>6987</th>\n",
       "      <td>7.0</td>\n",
       "      <td>99501.0</td>\n",
       "      <td>28.245991</td>\n",
       "      <td>423.453033</td>\n",
       "      <td>-1003.0</td>\n",
       "      <td>-1.0</td>\n",
       "    </tr>\n",
       "    <tr>\n",
       "      <th>6988</th>\n",
       "      <td>8.0</td>\n",
       "      <td>99501.0</td>\n",
       "      <td>-128.542496</td>\n",
       "      <td>14.672225</td>\n",
       "      <td>-3397.0</td>\n",
       "      <td>-1.0</td>\n",
       "    </tr>\n",
       "    <tr>\n",
       "      <th>6989</th>\n",
       "      <td>9.0</td>\n",
       "      <td>99501.0</td>\n",
       "      <td>526.286926</td>\n",
       "      <td>140.808151</td>\n",
       "      <td>139.0</td>\n",
       "      <td>-1.0</td>\n",
       "    </tr>\n",
       "  </tbody>\n",
       "</table>\n",
       "<p>6990 rows × 6 columns</p>\n",
       "</div>"
      ],
      "text/plain": [
       "       id        t           x           y       z  radius\n",
       "0     0.0      1.0   -0.999919    0.012732    -1.0    -1.0\n",
       "1     1.0      1.0    0.999818   -0.019097     1.0    -1.0\n",
       "2     2.0      1.0    0.999818    0.019097    -1.0    -1.0\n",
       "3     3.0      1.0   -0.999919    0.012732     1.0    -1.0\n",
       "4     4.0      1.0    0.999818   -0.019097     1.0    -1.0\n",
       "...   ...      ...         ...         ...     ...     ...\n",
       "6985  5.0  99501.0  429.110260  -11.415971   799.0    -1.0\n",
       "6986  6.0  99501.0 -181.427979 -442.959229 -4053.0    -1.0\n",
       "6987  7.0  99501.0   28.245991  423.453033 -1003.0    -1.0\n",
       "6988  8.0  99501.0 -128.542496   14.672225 -3397.0    -1.0\n",
       "6989  9.0  99501.0  526.286926  140.808151   139.0    -1.0\n",
       "\n",
       "[6990 rows x 6 columns]"
      ]
     },
     "execution_count": 13,
     "metadata": {},
     "output_type": "execute_result"
    }
   ],
   "source": [
    "import pandas as pd\n",
    "import matplotlib.pyplot as plt\n",
    "df = pd.DataFrame(data).T\n",
    "df.columns = ['id', 't', 'x', 'y', 'z', 'radius']\n",
    "df"
   ]
  },
  {
   "cell_type": "code",
   "execution_count": 14,
   "metadata": {},
   "outputs": [],
   "source": [
    "nr_particles = 500\n",
    "x = data[2]#df['x'].values\n",
    "z = data[4]#df['x'].values\n",
    "t = data[1]#df['t'].values\n",
    "times = []\n",
    "kappa_xx = []\n",
    "kappa_zz = []\n",
    "for j in range(int(len(x)/nr_particles)):\n",
    "    t_j = t[j*nr_particles]\n",
    "    kappa_xx_current = 0\n",
    "    kappa_zz_current = 0\n",
    "    for i in range(nr_particles):\n",
    "        x_i = x[j*nr_particles+i]\n",
    "        z_i = z[j*nr_particles+i]\n",
    "        kappa_xx_current = kappa_xx_current + x_i**2\n",
    "        kappa_zz_current = kappa_zz_current + z_i**2\n",
    "    kappa_xx.append(kappa_xx_current/(2*t_j))\n",
    "    kappa_zz.append(kappa_zz_current/(2*t_j))\n",
    "    times.append(t_j)"
   ]
  },
  {
   "cell_type": "code",
   "execution_count": 15,
   "metadata": {},
   "outputs": [
    {
     "data": {
      "image/png": "[encoded data removed]",
      "text/plain": [
       "<Figure size 432x288 with 1 Axes>"
      ]
     },
     "metadata": {
      "needs_background": "light"
     },
     "output_type": "display_data"
    }
   ],
   "source": [
    "from modules.Plotter import Plotter\n",
    "import matplotlib.pyplot as plt\n",
    "plt.scatter(times, kappa_xx, label='$x$')\n",
    "plt.scatter(times, kappa_zz, label='$z$')\n",
    "plt.legend()\n",
    "plt.loglog()\n",
    "plt.show()"
   ]
  },
  {
   "cell_type": "code",
   "execution_count": null,
   "metadata": {},
   "outputs": [],
   "source": []
  }
 ],
 "metadata": {
  "kernelspec": {
   "display_name": "Python 3",
   "language": "python",
   "name": "python3"
  },
  "language_info": {
   "codemirror_mode": {
    "name": "ipython",
    "version": 3
   },
   "file_extension": ".py",
   "mimetype": "text/x-python",
   "name": "python",
   "nbconvert_exporter": "python",
   "pygments_lexer": "ipython3",
   "version": "3.8.5"
  }
 },
 "nbformat": 4,
 "nbformat_minor": 4
}
