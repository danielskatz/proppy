{
 "cells": [
  {
   "cell_type": "code",
   "execution_count": 2,
   "metadata": {},
   "outputs": [],
   "source": [
    "from Simulation import Simulation\n",
    "from modules.Particle import Particle\n",
    "from modules.Propagation import Propagation\n",
    "from modules.Observer import Observer\n",
    "from modules.Source import Source\n",
    "import numpy as np"
   ]
  },
  {
   "cell_type": "markdown",
   "metadata": {},
   "source": [
    "## Simulation of Random Walk Propagation with Spherical Observer\n",
    "\n",
    "Initialize the simulation by calling Simulation(). The class instance simulation contains all information relevant for the complete simulation."
   ]
  },
  {
   "cell_type": "code",
   "execution_count": null,
   "metadata": {},
   "outputs": [
    {
     "name": "stdout",
     "output_type": "stream",
     "text": [
      "init simulation completed\n",
      "init observer completed\n"
     ]
    }
   ],
   "source": [
    "simulation = Simulation()\n",
    "\n",
    "### source\n",
    "gyro_radius = 30.0\n",
    "diffusion_tensor = np.array([1.0, 1.0, 100.0], dtype=np.float32)\n",
    "source_position = np.zeros(3, dtype=np.float32)\n",
    "nr_particles = 100\n",
    "source = Source(nr_particles, source_position, gyro_radius, diffusion_tensor)\n",
    "simulation.add_particles(source)\n",
    "\n",
    "### propagation\n",
    "step_size = 1.0\n",
    "propagation = Propagation(step_size)\n",
    "steps = 10**4\n",
    "t_max = 10**4\n",
    "time = np.linspace(1, t_max, steps, dtype=np.float32)\n",
    "simulation.add_propagation(propagation, time)\n",
    "\n",
    "observer = Observer()\n",
    "detailed_range = 500 # observe the initial 500 steps (default = 0)\n",
    "observer_resolution = 500 # also observe each 500th step (default = 1)\n",
    "observer.change_observer_resolution(detailed_range, observer_resolution)\n",
    "\n",
    "data = simulation.run_simulation()"
   ]
  },
  {
   "cell_type": "markdown",
   "metadata": {},
   "source": [
    "### -> Run Simulation"
   ]
  },
  {
   "cell_type": "code",
   "execution_count": null,
   "metadata": {},
   "outputs": [
    {
     "name": "stdout",
     "output_type": "stream",
     "text": [
      "init simulation completed\n",
      "init observer completed\n"
     ]
    }
   ],
   "source": []
  },
  {
   "cell_type": "markdown",
   "metadata": {},
   "source": [
    "## Analizing Simulation Data\n",
    "\n",
    "data with radius == -1.0 are from the time evolution observer. All other data is from the spherical observer"
   ]
  },
  {
   "cell_type": "code",
   "execution_count": 1,
   "metadata": {},
   "outputs": [
    {
     "ename": "NameError",
     "evalue": "name 'data' is not defined",
     "output_type": "error",
     "traceback": [
      "\u001b[0;31m---------------------------------------------------------------------------\u001b[0m",
      "\u001b[0;31mNameError\u001b[0m                                 Traceback (most recent call last)",
      "\u001b[0;32m<ipython-input-1-072c1ecbcb4d>\u001b[0m in \u001b[0;36m<module>\u001b[0;34m\u001b[0m\n\u001b[1;32m      1\u001b[0m \u001b[0;32mimport\u001b[0m \u001b[0mpandas\u001b[0m \u001b[0;32mas\u001b[0m \u001b[0mpd\u001b[0m\u001b[0;34m\u001b[0m\u001b[0;34m\u001b[0m\u001b[0m\n\u001b[1;32m      2\u001b[0m \u001b[0;32mimport\u001b[0m \u001b[0mmatplotlib\u001b[0m\u001b[0;34m.\u001b[0m\u001b[0mpyplot\u001b[0m \u001b[0;32mas\u001b[0m \u001b[0mplt\u001b[0m\u001b[0;34m\u001b[0m\u001b[0;34m\u001b[0m\u001b[0m\n\u001b[0;32m----> 3\u001b[0;31m \u001b[0mdf\u001b[0m \u001b[0;34m=\u001b[0m \u001b[0mpd\u001b[0m\u001b[0;34m.\u001b[0m\u001b[0mDataFrame\u001b[0m\u001b[0;34m(\u001b[0m\u001b[0mdata\u001b[0m\u001b[0;34m)\u001b[0m\u001b[0;34m.\u001b[0m\u001b[0mT\u001b[0m\u001b[0;34m\u001b[0m\u001b[0;34m\u001b[0m\u001b[0m\n\u001b[0m\u001b[1;32m      4\u001b[0m \u001b[0mdf\u001b[0m\u001b[0;34m.\u001b[0m\u001b[0mcolumns\u001b[0m \u001b[0;34m=\u001b[0m \u001b[0;34m[\u001b[0m\u001b[0;34m'id'\u001b[0m\u001b[0;34m,\u001b[0m \u001b[0;34m't'\u001b[0m\u001b[0;34m,\u001b[0m \u001b[0;34m'x'\u001b[0m\u001b[0;34m,\u001b[0m \u001b[0;34m'y'\u001b[0m\u001b[0;34m,\u001b[0m \u001b[0;34m'z'\u001b[0m\u001b[0;34m,\u001b[0m \u001b[0;34m'radius'\u001b[0m\u001b[0;34m]\u001b[0m\u001b[0;34m\u001b[0m\u001b[0;34m\u001b[0m\u001b[0m\n\u001b[1;32m      5\u001b[0m \u001b[0mdf\u001b[0m\u001b[0;34m\u001b[0m\u001b[0;34m\u001b[0m\u001b[0m\n",
      "\u001b[0;31mNameError\u001b[0m: name 'data' is not defined"
     ]
    }
   ],
   "source": [
    "import pandas as pd\n",
    "import matplotlib.pyplot as plt\n",
    "df = pd.DataFrame(data).T\n",
    "df.columns = ['id', 't', 'x', 'y', 'z', 'radius']\n",
    "df"
   ]
  },
  {
   "cell_type": "markdown",
   "metadata": {},
   "source": [
    "### 1. Data of time evolution observer"
   ]
  },
  {
   "cell_type": "code",
   "execution_count": 7,
   "metadata": {},
   "outputs": [],
   "source": [
    "df_time_evolution = df.loc[df['radius'] == -1.0]\n",
    "\n",
    "nr_particles = 100\n",
    "x = df_time_evolution['x'].values\n",
    "z = df_time_evolution['z'].values\n",
    "t = df_time_evolution['t'].values\n",
    "times = []\n",
    "kappa_xx = []\n",
    "kappa_zz = []\n",
    "for j in range(int(len(x)/nr_particles)):\n",
    "    t_j = t[j*nr_particles]\n",
    "    kappa_xx_current = 0\n",
    "    kappa_zz_current = 0\n",
    "    for i in range(nr_particles):\n",
    "        x_i = x[j*nr_particles+i]\n",
    "        z_i = z[j*nr_particles+i]\n",
    "        kappa_xx_current = kappa_xx_current + x_i**2\n",
    "        kappa_zz_current = kappa_zz_current + z_i**2\n",
    "    kappa_xx.append(kappa_xx_current/(2*t_j))\n",
    "    kappa_zz.append(kappa_zz_current/(2*t_j))\n",
    "    times.append(t_j)"
   ]
  },
  {
   "cell_type": "code",
   "execution_count": 8,
   "metadata": {},
   "outputs": [
    {
     "data": {
      "image/png": "[encoded data removed]",
      "text/plain": [
       "<Figure size 432x288 with 1 Axes>"
      ]
     },
     "metadata": {
      "needs_background": "light"
     },
     "output_type": "display_data"
    }
   ],
   "source": [
    "from modules.Plotter import Plotter\n",
    "import matplotlib.pyplot as plt\n",
    "plt.scatter(times, kappa_xx, label='$x$')\n",
    "plt.scatter(times, kappa_zz, label='$z$')\n",
    "plt.legend()\n",
    "plt.loglog()\n",
    "plt.show()"
   ]
  },
  {
   "cell_type": "markdown",
   "metadata": {},
   "source": [
    "### 2. Data of shperical observer"
   ]
  },
  {
   "cell_type": "code",
   "execution_count": 9,
   "metadata": {},
   "outputs": [
    {
     "data": {
      "image/png": "[encoded data removed]",
      "text/plain": [
       "<Figure size 432x288 with 1 Axes>"
      ]
     },
     "metadata": {
      "needs_background": "light"
     },
     "output_type": "display_data"
    }
   ],
   "source": [
    "for sphere_radius in sphere_radii:\n",
    "    plt.hist(df.loc[df['radius'] == sphere_radius]['t'], bins=50, alpha=0.2, label='radius = '+str(sphere_radius))\n",
    "plt.xlabel('time')\n",
    "plt.ylabel('# particles at sphere')\n",
    "plt.legend()\n",
    "plt.yscale('log')\n",
    "plt.show()"
   ]
  },
  {
   "cell_type": "code",
   "execution_count": null,
   "metadata": {},
   "outputs": [],
   "source": []
  }
 ],
 "metadata": {
  "kernelspec": {
   "display_name": "Python 3",
   "language": "python",
   "name": "python3"
  },
  "language_info": {
   "codemirror_mode": {
    "name": "ipython",
    "version": 3
   },
   "file_extension": ".py",
   "mimetype": "text/x-python",
   "name": "python",
   "nbconvert_exporter": "python",
   "pygments_lexer": "ipython3",
   "version": "3.8.5"
  }
 },
 "nbformat": 4,
 "nbformat_minor": 4
}
