{
 "cells": [
  {
   "cell_type": "code",
   "execution_count": 1,
   "metadata": {},
   "outputs": [],
   "source": [
    "from Simulation import Simulation\n",
    "from modules.Particle import Particle\n",
    "from modules.Propagation import Propagation\n",
    "from modules.Observer import Observer\n",
    "from modules.Source import Source\n",
    "import numpy as np"
   ]
  },
  {
   "cell_type": "markdown",
   "metadata": {},
   "source": [
    "## Simulation of Random Walk Propagation with Spherical Observer\n",
    "\n",
    "Initialize the simulation by calling Simulation(). The class instance simulation contains all information relevant for the complete simulation."
   ]
  },
  {
   "cell_type": "code",
   "execution_count": 2,
   "metadata": {},
   "outputs": [
    {
     "name": "stdout",
     "output_type": "stream",
     "text": [
      "init simulation completed\n",
      "init observer completed\n"
     ]
    }
   ],
   "source": [
    "simulation = Simulation()\n",
    "\n",
    "### source\n",
    "gyro_radius = 30.0\n",
    "diffusion_tensor = np.array([10.0, 10.0, 10.0], dtype=np.float32)\n",
    "source_position = np.zeros(3, dtype=np.float32)\n",
    "nr_particles = 100\n",
    "source = Source(nr_particles, source_position, gyro_radius, diffusion_tensor)\n",
    "simulation.add_particles(source)\n",
    "\n",
    "### propagation\n",
    "step_size = 1.0\n",
    "propagation = Propagation(step_size)\n",
    "steps = 10**4\n",
    "t_max = 10**4\n",
    "time = np.linspace(1, t_max, steps, dtype=np.float32)\n",
    "simulation.add_propagation(propagation, time)\n",
    "\n",
    "### observer sphere\n",
    "observer = Observer()\n",
    "sphere_radii = np.array([1.0*10**1, 1.0*10**2, 2.0*10**2, 4.0*10**2, 5.0*10**2], dtype=np.float32)\n",
    "observer.add_observer_spheres(sphere_radii)\n",
    "simulation.add_observer(observer)\n",
    "\n",
    "### run simulation\n",
    "data = simulation.run_simulation()"
   ]
  },
  {
   "cell_type": "markdown",
   "metadata": {},
   "source": [
    "## Analizing Simulation Data"
   ]
  },
  {
   "cell_type": "code",
   "execution_count": 3,
   "metadata": {},
   "outputs": [
    {
     "data": {
      "text/html": [
       "<div>\n",
       "<style scoped>\n",
       "    .dataframe tbody tr th:only-of-type {\n",
       "        vertical-align: middle;\n",
       "    }\n",
       "\n",
       "    .dataframe tbody tr th {\n",
       "        vertical-align: top;\n",
       "    }\n",
       "\n",
       "    .dataframe thead th {\n",
       "        text-align: right;\n",
       "    }\n",
       "</style>\n",
       "<table border=\"1\" class=\"dataframe\">\n",
       "  <thead>\n",
       "    <tr style=\"text-align: right;\">\n",
       "      <th></th>\n",
       "      <th>id</th>\n",
       "      <th>t</th>\n",
       "      <th>x</th>\n",
       "      <th>y</th>\n",
       "      <th>z</th>\n",
       "      <th>radius</th>\n",
       "    </tr>\n",
       "  </thead>\n",
       "  <tbody>\n",
       "    <tr>\n",
       "      <th>0</th>\n",
       "      <td>0.0</td>\n",
       "      <td>11.0</td>\n",
       "      <td>-6.350852</td>\n",
       "      <td>6.350852</td>\n",
       "      <td>-6.350852</td>\n",
       "      <td>10.0</td>\n",
       "    </tr>\n",
       "    <tr>\n",
       "      <th>1</th>\n",
       "      <td>1.0</td>\n",
       "      <td>11.0</td>\n",
       "      <td>-6.350852</td>\n",
       "      <td>6.350852</td>\n",
       "      <td>6.350852</td>\n",
       "      <td>10.0</td>\n",
       "    </tr>\n",
       "    <tr>\n",
       "      <th>2</th>\n",
       "      <td>2.0</td>\n",
       "      <td>11.0</td>\n",
       "      <td>-6.350852</td>\n",
       "      <td>6.350852</td>\n",
       "      <td>-6.350852</td>\n",
       "      <td>10.0</td>\n",
       "    </tr>\n",
       "    <tr>\n",
       "      <th>3</th>\n",
       "      <td>3.0</td>\n",
       "      <td>11.0</td>\n",
       "      <td>6.350852</td>\n",
       "      <td>-6.350852</td>\n",
       "      <td>6.350852</td>\n",
       "      <td>10.0</td>\n",
       "    </tr>\n",
       "    <tr>\n",
       "      <th>4</th>\n",
       "      <td>4.0</td>\n",
       "      <td>11.0</td>\n",
       "      <td>6.350852</td>\n",
       "      <td>6.350852</td>\n",
       "      <td>6.350852</td>\n",
       "      <td>10.0</td>\n",
       "    </tr>\n",
       "    <tr>\n",
       "      <th>...</th>\n",
       "      <td>...</td>\n",
       "      <td>...</td>\n",
       "      <td>...</td>\n",
       "      <td>...</td>\n",
       "      <td>...</td>\n",
       "      <td>...</td>\n",
       "    </tr>\n",
       "    <tr>\n",
       "      <th>7064</th>\n",
       "      <td>89.0</td>\n",
       "      <td>9984.0</td>\n",
       "      <td>224.010986</td>\n",
       "      <td>224.010986</td>\n",
       "      <td>244.795471</td>\n",
       "      <td>400.0</td>\n",
       "    </tr>\n",
       "    <tr>\n",
       "      <th>7065</th>\n",
       "      <td>29.0</td>\n",
       "      <td>9990.0</td>\n",
       "      <td>-57.735065</td>\n",
       "      <td>57.735065</td>\n",
       "      <td>-57.735065</td>\n",
       "      <td>100.0</td>\n",
       "    </tr>\n",
       "    <tr>\n",
       "      <th>7066</th>\n",
       "      <td>98.0</td>\n",
       "      <td>9992.0</td>\n",
       "      <td>121.243225</td>\n",
       "      <td>121.243225</td>\n",
       "      <td>101.613434</td>\n",
       "      <td>200.0</td>\n",
       "    </tr>\n",
       "    <tr>\n",
       "      <th>7067</th>\n",
       "      <td>76.0</td>\n",
       "      <td>9993.0</td>\n",
       "      <td>-231.516495</td>\n",
       "      <td>231.516495</td>\n",
       "      <td>-231.516495</td>\n",
       "      <td>400.0</td>\n",
       "    </tr>\n",
       "    <tr>\n",
       "      <th>7068</th>\n",
       "      <td>23.0</td>\n",
       "      <td>9998.0</td>\n",
       "      <td>-115.469757</td>\n",
       "      <td>-115.469757</td>\n",
       "      <td>115.469757</td>\n",
       "      <td>200.0</td>\n",
       "    </tr>\n",
       "  </tbody>\n",
       "</table>\n",
       "<p>7069 rows × 6 columns</p>\n",
       "</div>"
      ],
      "text/plain": [
       "        id       t           x           y           z  radius\n",
       "0      0.0    11.0   -6.350852    6.350852   -6.350852    10.0\n",
       "1      1.0    11.0   -6.350852    6.350852    6.350852    10.0\n",
       "2      2.0    11.0   -6.350852    6.350852   -6.350852    10.0\n",
       "3      3.0    11.0    6.350852   -6.350852    6.350852    10.0\n",
       "4      4.0    11.0    6.350852    6.350852    6.350852    10.0\n",
       "...    ...     ...         ...         ...         ...     ...\n",
       "7064  89.0  9984.0  224.010986  224.010986  244.795471   400.0\n",
       "7065  29.0  9990.0  -57.735065   57.735065  -57.735065   100.0\n",
       "7066  98.0  9992.0  121.243225  121.243225  101.613434   200.0\n",
       "7067  76.0  9993.0 -231.516495  231.516495 -231.516495   400.0\n",
       "7068  23.0  9998.0 -115.469757 -115.469757  115.469757   200.0\n",
       "\n",
       "[7069 rows x 6 columns]"
      ]
     },
     "execution_count": 3,
     "metadata": {},
     "output_type": "execute_result"
    }
   ],
   "source": [
    "import pandas as pd\n",
    "import matplotlib.pyplot as plt\n",
    "df = pd.DataFrame(data).T\n",
    "df.columns = ['id', 't', 'x', 'y', 'z', 'radius']\n",
    "df"
   ]
  },
  {
   "cell_type": "code",
   "execution_count": 4,
   "metadata": {},
   "outputs": [
    {
     "data": {
      "image/png": "[encoded data removed]",
      "text/plain": [
       "<Figure size 432x288 with 1 Axes>"
      ]
     },
     "metadata": {
      "needs_background": "light"
     },
     "output_type": "display_data"
    }
   ],
   "source": [
    "for sphere_radius in sphere_radii:\n",
    "    plt.hist(df.loc[df['radius'] == sphere_radius]['t'], bins=50, alpha=0.2, label='radius = '+str(sphere_radius))\n",
    "plt.xlabel('time')\n",
    "plt.ylabel('# particles at sphere')\n",
    "plt.legend()\n",
    "plt.yscale('log')\n",
    "plt.show()"
   ]
  },
  {
   "cell_type": "code",
   "execution_count": null,
   "metadata": {},
   "outputs": [],
   "source": []
  }
 ],
 "metadata": {
  "kernelspec": {
   "display_name": "Python 3",
   "language": "python",
   "name": "python3"
  },
  "language_info": {
   "codemirror_mode": {
    "name": "ipython",
    "version": 3
   },
   "file_extension": ".py",
   "mimetype": "text/x-python",
   "name": "python",
   "nbconvert_exporter": "python",
   "pygments_lexer": "ipython3",
   "version": "3.8.5"
  }
 },
 "nbformat": 4,
 "nbformat_minor": 4
}
