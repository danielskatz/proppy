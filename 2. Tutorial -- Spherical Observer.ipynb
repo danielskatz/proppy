{
 "cells": [
  {
   "cell_type": "code",
   "execution_count": 1,
   "metadata": {},
   "outputs": [],
   "source": [
    "from Simulation import Simulation\n",
    "from modules.Particle import Particle\n",
    "from modules.Propagation import Propagation\n",
    "from modules.Observer import Observer\n",
    "from modules.Source import Source\n",
    "import numpy as np"
   ]
  },
  {
   "cell_type": "markdown",
   "metadata": {},
   "source": [
    "## Simulation of Random Walk Propagation with Spherical Observer\n",
    "\n",
    "Initialize the simulation by calling Simulation(). The class instance simulation contains all information relevant for the complete simulation."
   ]
  },
  {
   "cell_type": "code",
   "execution_count": 2,
   "metadata": {},
   "outputs": [
    {
     "name": "stdout",
     "output_type": "stream",
     "text": [
      "init simulation completed\n",
      "init observer completed\n"
     ]
    }
   ],
   "source": [
    "simulation = Simulation()\n",
    "\n",
    "### source\n",
    "gyro_radius = 30.0\n",
    "diffusion_tensor = np.array([10.0, 10.0, 10.0], dtype=np.float32)\n",
    "source_position = np.zeros(3, dtype=np.float32)\n",
    "nr_particles = 1000\n",
    "source = Source(nr_particles, source_position, gyro_radius, diffusion_tensor)\n",
    "simulation.add_particles(source)\n",
    "\n",
    "### propagation\n",
    "step_size = 1.0\n",
    "propagation = Propagation(step_size)\n",
    "steps = 10**5\n",
    "t_max = 10**5\n",
    "time = np.linspace(1, t_max, steps, dtype=np.float32)\n",
    "simulation.add_propagation(propagation, time)\n",
    "\n",
    "### observer sphere\n",
    "observer_type = 1\n",
    "sphere_radii = np.array([1.0*10**1, 1.0*10**2, 2.0*10**2, 4.0*10**2, 5.0*10**2], dtype=np.float32)\n",
    "observer = Observer(observer_type, sphere_radii)\n",
    "simulation.add_observer(observer)\n",
    "\n",
    "### run simulation\n",
    "data = simulation.run_simulation()"
   ]
  },
  {
   "cell_type": "markdown",
   "metadata": {},
   "source": [
    "## Analizing Simulation Data"
   ]
  },
  {
   "cell_type": "code",
   "execution_count": null,
   "metadata": {},
   "outputs": [],
   "source": [
    "import pandas as pd\n",
    "import matplotlib.pyplot as plt\n",
    "df = pd.DataFrame(data).T\n",
    "df.columns = ['id', 't', 'x', 'y', 'z', 'radius']\n",
    "df"
   ]
  },
  {
   "cell_type": "code",
   "execution_count": null,
   "metadata": {},
   "outputs": [],
   "source": [
    "for sphere_radius in sphere_radii:\n",
    "    plt.hist(df.loc[df['radius'] == sphere_radius]['t'], bins=50, alpha=0.2, label='radius = '+str(sphere_radius))\n",
    "plt.xlabel('time')\n",
    "plt.ylabel('# particles at sphere')\n",
    "plt.legend()\n",
    "plt.yscale('log')\n",
    "plt.show()"
   ]
  },
  {
   "cell_type": "code",
   "execution_count": null,
   "metadata": {},
   "outputs": [],
   "source": []
  }
 ],
 "metadata": {
  "kernelspec": {
   "display_name": "Python 3",
   "language": "python",
   "name": "python3"
  },
  "language_info": {
   "codemirror_mode": {
    "name": "ipython",
    "version": 3
   },
   "file_extension": ".py",
   "mimetype": "text/x-python",
   "name": "python",
   "nbconvert_exporter": "python",
   "pygments_lexer": "ipython3",
   "version": "3.8.5"
  }
 },
 "nbformat": 4,
 "nbformat_minor": 4
}
