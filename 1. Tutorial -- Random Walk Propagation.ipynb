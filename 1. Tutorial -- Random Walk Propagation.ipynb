{
 "cells": [
  {
   "cell_type": "code",
   "execution_count": 1,
   "metadata": {},
   "outputs": [],
   "source": [
    "from Simulation import Simulation\n",
    "from modules.Particle import Particle\n",
    "from modules.Propagation import Propagation\n",
    "from modules.Source import Source\n",
    "import numpy as np"
   ]
  },
  {
   "cell_type": "markdown",
   "metadata": {},
   "source": [
    "## Simulation of Random Walk Propagation\n",
    "\n",
    "Initialize the simulation by calling Simulation(). The class instance simulation contains all information relevant for the complete simulation."
   ]
  },
  {
   "cell_type": "code",
   "execution_count": 2,
   "metadata": {},
   "outputs": [
    {
     "name": "stdout",
     "output_type": "stream",
     "text": [
      "init simulation completed\n"
     ]
    }
   ],
   "source": [
    "simulation = Simulation()"
   ]
  },
  {
   "cell_type": "markdown",
   "metadata": {},
   "source": [
    "### 1) Source of Particles\n",
    "\n",
    "First, we have to define a source of particles that we want to propagate. \n",
    "\n",
    "##### Particle properties of source\n",
    "The emitted particles need to have the following properties:\n",
    "\n",
    "- **gyro radius**: $r_g = \\frac{E}{c\\cdot q \\cdot \\sqrt{b^2+B²}}$, with $E, c, q$ denoting, the particle's energy, the speed of light and the particle's charge, respectively. $b, B$ are the rms-values of the turbulence and background field, respectively. Only needed for determining the characteristic time-scale of the initial, ballistic phase of the perpendicular diffuion. \n",
    "- **diffusion tensor**: the diagonal elements of the diagonalized diffusion tensor are needed to determine the characteristics of the transport. Provide the quantity $\\kappa = [\\kappa_{xx}, \\kappa_{yy}, \\kappa_{zz}]$."
   ]
  },
  {
   "cell_type": "code",
   "execution_count": 3,
   "metadata": {},
   "outputs": [],
   "source": [
    "gyro_radius = 30.0\n",
    "diffusion_tensor = np.array([1.0, 1.0, 100.0], dtype=np.float32)"
   ]
  },
  {
   "cell_type": "markdown",
   "metadata": {},
   "source": [
    "##### Properties of source\n",
    "\n",
    "The source of particles need the following properties:\n",
    "\n",
    "- **source position**\n",
    "- **number of particles**\n",
    "- **particle properties**: gyro radius & diffusion tensor\n",
    "\n",
    "Finally, only add the source to the simulation."
   ]
  },
  {
   "cell_type": "code",
   "execution_count": 4,
   "metadata": {},
   "outputs": [],
   "source": [
    "source_position = np.zeros(3, dtype=np.float32)\n",
    "nr_particles = 500\n",
    "source = Source(nr_particles, source_position, gyro_radius, diffusion_tensor)"
   ]
  },
  {
   "cell_type": "markdown",
   "metadata": {},
   "source": [
    "### 2) Propagation Module\n",
    "\n",
    "Add the propagation module that you want to use:\n",
    "\n",
    "- **random walk**: Fast method that propagates individual particles along random walks. The overall behaviour is governed by a generalized telegraph equation: $\\frac{\\partial f}{\\partial t} = \\sum_i \\tau_i \\frac{\\partial^2 f}{\\partial t^2} = \\sum_i \\kappa_i \\frac{\\partial^2 f}{\\partial x_i^2}$\n",
    "- others coming soon..."
   ]
  },
  {
   "cell_type": "code",
   "execution_count": 5,
   "metadata": {},
   "outputs": [],
   "source": [
    "step_size = 1.0\n",
    "propagation = Propagation(step_size)\n",
    "steps = 10**5\n",
    "t_max = 10**5\n",
    "time = np.linspace(1, t_max, steps, dtype=np.float32)"
   ]
  },
  {
   "cell_type": "markdown",
   "metadata": {},
   "source": [
    "### 3) Observer Type\n",
    "\n",
    "The default observer observs all available parameters: $x, y, z,$ time, and id.\n",
    "You can change the observer type between the following modes:\n",
    "\n",
    "- all: $x, y, z,$ time, and id at each step\n",
    "- sphere: $x, y, z,$ time, and id only on sphere of user-defined radius"
   ]
  },
  {
   "cell_type": "code",
   "execution_count": 6,
   "metadata": {},
   "outputs": [],
   "source": [
    "observer_type = 1"
   ]
  },
  {
   "cell_type": "markdown",
   "metadata": {},
   "source": [
    "### -> Run Simulation\n",
    "\n",
    "Add all moduels needed to the simulation and run it!"
   ]
  },
  {
   "cell_type": "code",
   "execution_count": 7,
   "metadata": {},
   "outputs": [],
   "source": [
    "simulation.add_particles(source)\n",
    "simulation.add_propagation(propagation, time)"
   ]
  },
  {
   "cell_type": "code",
   "execution_count": 8,
   "metadata": {},
   "outputs": [],
   "source": [
    "data = simulation.run_simulation(observer_type)"
   ]
  },
  {
   "cell_type": "markdown",
   "metadata": {},
   "source": [
    "## Analizing Simulation Data"
   ]
  },
  {
   "cell_type": "code",
   "execution_count": 9,
   "metadata": {},
   "outputs": [
    {
     "data": {
      "text/html": [
       "<div>\n",
       "<style scoped>\n",
       "    .dataframe tbody tr th:only-of-type {\n",
       "        vertical-align: middle;\n",
       "    }\n",
       "\n",
       "    .dataframe tbody tr th {\n",
       "        vertical-align: top;\n",
       "    }\n",
       "\n",
       "    .dataframe thead th {\n",
       "        text-align: right;\n",
       "    }\n",
       "</style>\n",
       "<table border=\"1\" class=\"dataframe\">\n",
       "  <thead>\n",
       "    <tr style=\"text-align: right;\">\n",
       "      <th></th>\n",
       "      <th>id</th>\n",
       "      <th>t</th>\n",
       "      <th>x</th>\n",
       "      <th>y</th>\n",
       "      <th>z</th>\n",
       "    </tr>\n",
       "  </thead>\n",
       "  <tbody>\n",
       "    <tr>\n",
       "      <th>0</th>\n",
       "      <td>443.0</td>\n",
       "      <td>1129.0</td>\n",
       "      <td>-80.251617</td>\n",
       "      <td>-80.251617</td>\n",
       "      <td>277.704803</td>\n",
       "    </tr>\n",
       "    <tr>\n",
       "      <th>1</th>\n",
       "      <td>197.0</td>\n",
       "      <td>2079.0</td>\n",
       "      <td>80.251617</td>\n",
       "      <td>80.251617</td>\n",
       "      <td>-277.704773</td>\n",
       "    </tr>\n",
       "    <tr>\n",
       "      <th>2</th>\n",
       "      <td>443.0</td>\n",
       "      <td>2533.0</td>\n",
       "      <td>-80.251617</td>\n",
       "      <td>-80.251617</td>\n",
       "      <td>-277.704803</td>\n",
       "    </tr>\n",
       "    <tr>\n",
       "      <th>3</th>\n",
       "      <td>365.0</td>\n",
       "      <td>3403.0</td>\n",
       "      <td>-80.251617</td>\n",
       "      <td>-80.251617</td>\n",
       "      <td>277.704773</td>\n",
       "    </tr>\n",
       "    <tr>\n",
       "      <th>4</th>\n",
       "      <td>42.0</td>\n",
       "      <td>3803.0</td>\n",
       "      <td>-80.251617</td>\n",
       "      <td>-80.251617</td>\n",
       "      <td>-277.704803</td>\n",
       "    </tr>\n",
       "    <tr>\n",
       "      <th>...</th>\n",
       "      <td>...</td>\n",
       "      <td>...</td>\n",
       "      <td>...</td>\n",
       "      <td>...</td>\n",
       "      <td>...</td>\n",
       "    </tr>\n",
       "    <tr>\n",
       "      <th>56</th>\n",
       "      <td>157.0</td>\n",
       "      <td>66231.0</td>\n",
       "      <td>211.886703</td>\n",
       "      <td>-211.886703</td>\n",
       "      <td>-14.433739</td>\n",
       "    </tr>\n",
       "    <tr>\n",
       "      <th>57</th>\n",
       "      <td>289.0</td>\n",
       "      <td>73217.0</td>\n",
       "      <td>-211.886703</td>\n",
       "      <td>211.886703</td>\n",
       "      <td>-14.433723</td>\n",
       "    </tr>\n",
       "    <tr>\n",
       "      <th>58</th>\n",
       "      <td>478.0</td>\n",
       "      <td>75805.0</td>\n",
       "      <td>-211.886688</td>\n",
       "      <td>-211.886688</td>\n",
       "      <td>14.433858</td>\n",
       "    </tr>\n",
       "    <tr>\n",
       "      <th>59</th>\n",
       "      <td>244.0</td>\n",
       "      <td>80137.0</td>\n",
       "      <td>211.886703</td>\n",
       "      <td>-211.886703</td>\n",
       "      <td>-14.433682</td>\n",
       "    </tr>\n",
       "    <tr>\n",
       "      <th>60</th>\n",
       "      <td>344.0</td>\n",
       "      <td>80229.0</td>\n",
       "      <td>211.886703</td>\n",
       "      <td>211.886703</td>\n",
       "      <td>14.433922</td>\n",
       "    </tr>\n",
       "  </tbody>\n",
       "</table>\n",
       "<p>61 rows × 5 columns</p>\n",
       "</div>"
      ],
      "text/plain": [
       "       id        t           x           y           z\n",
       "0   443.0   1129.0  -80.251617  -80.251617  277.704803\n",
       "1   197.0   2079.0   80.251617   80.251617 -277.704773\n",
       "2   443.0   2533.0  -80.251617  -80.251617 -277.704803\n",
       "3   365.0   3403.0  -80.251617  -80.251617  277.704773\n",
       "4    42.0   3803.0  -80.251617  -80.251617 -277.704803\n",
       "..    ...      ...         ...         ...         ...\n",
       "56  157.0  66231.0  211.886703 -211.886703  -14.433739\n",
       "57  289.0  73217.0 -211.886703  211.886703  -14.433723\n",
       "58  478.0  75805.0 -211.886688 -211.886688   14.433858\n",
       "59  244.0  80137.0  211.886703 -211.886703  -14.433682\n",
       "60  344.0  80229.0  211.886703  211.886703   14.433922\n",
       "\n",
       "[61 rows x 5 columns]"
      ]
     },
     "execution_count": 9,
     "metadata": {},
     "output_type": "execute_result"
    }
   ],
   "source": [
    "import pandas as pd\n",
    "df = pd.DataFrame(data).T\n",
    "df.columns = ['id', 't', 'x', 'y', 'z']\n",
    "df"
   ]
  },
  {
   "cell_type": "code",
   "execution_count": 10,
   "metadata": {},
   "outputs": [],
   "source": [
    "nr_particles = 500\n",
    "x = data[2]#df['x'].values\n",
    "z = data[4]#df['x'].values\n",
    "t = data[1]#df['t'].values\n",
    "times = []\n",
    "kappa_xx = []\n",
    "kappa_zz = []\n",
    "for j in range(int(len(x)/nr_particles)):\n",
    "    t_j = t[j*nr_particles]\n",
    "    kappa_xx_current = 0\n",
    "    kappa_zz_current = 0\n",
    "    for i in range(nr_particles):\n",
    "        x_i = x[j*nr_particles+i]\n",
    "        z_i = z[j*nr_particles+i]\n",
    "        kappa_xx_current = kappa_xx_current + x_i**2\n",
    "        kappa_zz_current = kappa_zz_current + z_i**2\n",
    "    kappa_xx.append(kappa_xx_current/(2*t_j))\n",
    "    kappa_zz.append(kappa_zz_current/(2*t_j))\n",
    "    times.append(t_j)"
   ]
  },
  {
   "cell_type": "code",
   "execution_count": 10,
   "metadata": {},
   "outputs": [
    {
     "ename": "NameError",
     "evalue": "name 'times' is not defined",
     "output_type": "error",
     "traceback": [
      "\u001b[0;31m---------------------------------------------------------------------------\u001b[0m",
      "\u001b[0;31mNameError\u001b[0m                                 Traceback (most recent call last)",
      "\u001b[0;32m<ipython-input-10-727bb93d9954>\u001b[0m in \u001b[0;36m<module>\u001b[0;34m\u001b[0m\n\u001b[1;32m      1\u001b[0m \u001b[0;32mfrom\u001b[0m \u001b[0mmodules\u001b[0m\u001b[0;34m.\u001b[0m\u001b[0mObserver\u001b[0m \u001b[0;32mimport\u001b[0m \u001b[0mPlotter\u001b[0m\u001b[0;34m\u001b[0m\u001b[0;34m\u001b[0m\u001b[0m\n\u001b[1;32m      2\u001b[0m \u001b[0;32mimport\u001b[0m \u001b[0mmatplotlib\u001b[0m\u001b[0;34m.\u001b[0m\u001b[0mpyplot\u001b[0m \u001b[0;32mas\u001b[0m \u001b[0mplt\u001b[0m\u001b[0;34m\u001b[0m\u001b[0;34m\u001b[0m\u001b[0m\n\u001b[0;32m----> 3\u001b[0;31m \u001b[0mplt\u001b[0m\u001b[0;34m.\u001b[0m\u001b[0mplot\u001b[0m\u001b[0;34m(\u001b[0m\u001b[0mtimes\u001b[0m\u001b[0;34m,\u001b[0m \u001b[0mkappa_xx\u001b[0m\u001b[0;34m,\u001b[0m \u001b[0mlabel\u001b[0m\u001b[0;34m=\u001b[0m\u001b[0;34m'$x$'\u001b[0m\u001b[0;34m)\u001b[0m\u001b[0;34m\u001b[0m\u001b[0;34m\u001b[0m\u001b[0m\n\u001b[0m\u001b[1;32m      4\u001b[0m \u001b[0mplt\u001b[0m\u001b[0;34m.\u001b[0m\u001b[0mplot\u001b[0m\u001b[0;34m(\u001b[0m\u001b[0mtimes\u001b[0m\u001b[0;34m,\u001b[0m \u001b[0mkappa_zz\u001b[0m\u001b[0;34m,\u001b[0m \u001b[0mlabel\u001b[0m\u001b[0;34m=\u001b[0m\u001b[0;34m'$z$'\u001b[0m\u001b[0;34m)\u001b[0m\u001b[0;34m\u001b[0m\u001b[0;34m\u001b[0m\u001b[0m\n\u001b[1;32m      5\u001b[0m \u001b[0mplt\u001b[0m\u001b[0;34m.\u001b[0m\u001b[0mlegend\u001b[0m\u001b[0;34m(\u001b[0m\u001b[0;34m)\u001b[0m\u001b[0;34m\u001b[0m\u001b[0;34m\u001b[0m\u001b[0m\n",
      "\u001b[0;31mNameError\u001b[0m: name 'times' is not defined"
     ]
    }
   ],
   "source": [
    "from modules.Observer import Plotter\n",
    "import matplotlib.pyplot as plt\n",
    "plt.plot(times, kappa_xx, label='$x$')\n",
    "plt.plot(times, kappa_zz, label='$z$')\n",
    "plt.legend()\n",
    "plt.loglog()\n",
    "plt.show()"
   ]
  },
  {
   "cell_type": "code",
   "execution_count": 11,
   "metadata": {},
   "outputs": [
    {
     "name": "stdout",
     "output_type": "stream",
     "text": [
      "[]\n"
     ]
    }
   ],
   "source": [
    "print(data[1])"
   ]
  },
  {
   "cell_type": "code",
   "execution_count": 12,
   "metadata": {},
   "outputs": [
    {
     "data": {
      "image/png": "[encoded data removed]",
      "text/plain": [
       "<Figure size 432x288 with 1 Axes>"
      ]
     },
     "metadata": {
      "needs_background": "light"
     },
     "output_type": "display_data"
    }
   ],
   "source": [
    "plt.hist(data[1], bins=100)\n",
    "plt.show()"
   ]
  },
  {
   "cell_type": "code",
   "execution_count": 2,
   "metadata": {},
   "outputs": [
    {
     "ename": "NameError",
     "evalue": "name 'time' is not defined",
     "output_type": "error",
     "traceback": [
      "\u001b[0;31m---------------------------------------------------------------------------\u001b[0m",
      "\u001b[0;31mNameError\u001b[0m                                 Traceback (most recent call last)",
      "\u001b[0;32m<ipython-input-2-55d644740845>\u001b[0m in \u001b[0;36m<module>\u001b[0;34m\u001b[0m\n\u001b[0;32m----> 1\u001b[0;31m \u001b[0mplt\u001b[0m\u001b[0;34m.\u001b[0m\u001b[0mplot\u001b[0m\u001b[0;34m(\u001b[0m\u001b[0mtime\u001b[0m\u001b[0;34m,\u001b[0m \u001b[0mkappas\u001b[0m\u001b[0;34m[\u001b[0m\u001b[0;36m0\u001b[0m\u001b[0;34m]\u001b[0m\u001b[0;34m,\u001b[0m \u001b[0mlabel\u001b[0m\u001b[0;34m=\u001b[0m\u001b[0;34m'$\\kappa_\\parallel$'\u001b[0m\u001b[0;34m)\u001b[0m\u001b[0;34m\u001b[0m\u001b[0;34m\u001b[0m\u001b[0m\n\u001b[0m\u001b[1;32m      2\u001b[0m \u001b[0mplt\u001b[0m\u001b[0;34m.\u001b[0m\u001b[0mplot\u001b[0m\u001b[0;34m(\u001b[0m\u001b[0mtime\u001b[0m\u001b[0;34m,\u001b[0m \u001b[0mkappas\u001b[0m\u001b[0;34m[\u001b[0m\u001b[0;36m1\u001b[0m\u001b[0;34m]\u001b[0m\u001b[0;34m,\u001b[0m \u001b[0mlabel\u001b[0m\u001b[0;34m=\u001b[0m\u001b[0;34m'$\\kappa_\\perp$'\u001b[0m\u001b[0;34m)\u001b[0m\u001b[0;34m\u001b[0m\u001b[0;34m\u001b[0m\u001b[0m\n\u001b[1;32m      3\u001b[0m \u001b[0mplt\u001b[0m\u001b[0;34m.\u001b[0m\u001b[0mloglog\u001b[0m\u001b[0;34m(\u001b[0m\u001b[0;34m)\u001b[0m\u001b[0;34m\u001b[0m\u001b[0;34m\u001b[0m\u001b[0m\n\u001b[1;32m      4\u001b[0m \u001b[0mplt\u001b[0m\u001b[0;34m.\u001b[0m\u001b[0mlegend\u001b[0m\u001b[0;34m(\u001b[0m\u001b[0;34m)\u001b[0m\u001b[0;34m\u001b[0m\u001b[0;34m\u001b[0m\u001b[0m\n\u001b[1;32m      5\u001b[0m \u001b[0mplt\u001b[0m\u001b[0;34m.\u001b[0m\u001b[0mshow\u001b[0m\u001b[0;34m(\u001b[0m\u001b[0;34m)\u001b[0m\u001b[0;34m\u001b[0m\u001b[0;34m\u001b[0m\u001b[0m\n",
      "\u001b[0;31mNameError\u001b[0m: name 'time' is not defined"
     ]
    }
   ],
   "source": [
    "plt.plot(time, kappas[0], label='$\\kappa_\\parallel$')\n",
    "plt.plot(time, kappas[1], label='$\\kappa_\\perp$')\n",
    "plt.loglog()\n",
    "plt.legend()\n",
    "plt.show()"
   ]
  },
  {
   "cell_type": "code",
   "execution_count": null,
   "metadata": {},
   "outputs": [],
   "source": [
    "plotter = Plotter()\n",
    "data = simulation.distribution(0)\n",
    "plotter.distribution(data)"
   ]
  },
  {
   "cell_type": "code",
   "execution_count": null,
   "metadata": {},
   "outputs": [],
   "source": []
  },
  {
   "cell_type": "code",
   "execution_count": 9,
   "metadata": {},
   "outputs": [],
   "source": [
    "from numba import jit\n",
    "import numpy as np"
   ]
  },
  {
   "cell_type": "code",
   "execution_count": 12,
   "metadata": {},
   "outputs": [],
   "source": [
    "def random_movements():\n",
    "    np.random.randint(5, size=(500, 10**5))\n",
    "   \n",
    "@jit(nopython=True)\n",
    "def fast_random():\n",
    "    for i in range(5*10**7):\n",
    "        np.random.random()"
   ]
  },
  {
   "cell_type": "code",
   "execution_count": 13,
   "metadata": {},
   "outputs": [
    {
     "name": "stdout",
     "output_type": "stream",
     "text": [
      "576 ms ± 4.81 ms per loop (mean ± std. dev. of 7 runs, 1 loop each)\n",
      "59.4 ms ± 373 µs per loop (mean ± std. dev. of 7 runs, 10 loops each)\n"
     ]
    }
   ],
   "source": [
    "%timeit random_movements()\n",
    "%timeit fast_random()"
   ]
  },
  {
   "cell_type": "code",
   "execution_count": null,
   "metadata": {},
   "outputs": [],
   "source": []
  }
 ],
 "metadata": {
  "kernelspec": {
   "display_name": "Python 3",
   "language": "python",
   "name": "python3"
  },
  "language_info": {
   "codemirror_mode": {
    "name": "ipython",
    "version": 3
   },
   "file_extension": ".py",
   "mimetype": "text/x-python",
   "name": "python",
   "nbconvert_exporter": "python",
   "pygments_lexer": "ipython3",
   "version": "3.8.5"
  }
 },
 "nbformat": 4,
 "nbformat_minor": 4
}
