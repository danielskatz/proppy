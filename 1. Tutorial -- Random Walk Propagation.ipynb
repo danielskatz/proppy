{
 "cells": [
  {
   "cell_type": "code",
   "execution_count": 1,
   "metadata": {},
   "outputs": [],
   "source": [
    "from Simulation import Simulation\n",
    "from modules.Particle import Particle\n",
    "from modules.Propagation import Propagation\n",
    "from modules.Source import Source\n",
    "import numpy as np"
   ]
  },
  {
   "cell_type": "markdown",
   "metadata": {},
   "source": [
    "## Simulation of Random Walk Propagation\n",
    "\n",
    "Initialize the simulation by calling Simulation(). The class instance simulation contains all information relevant for the complete simulation."
   ]
  },
  {
   "cell_type": "code",
   "execution_count": 2,
   "metadata": {},
   "outputs": [
    {
     "name": "stdout",
     "output_type": "stream",
     "text": [
      "init simulation completed\n"
     ]
    }
   ],
   "source": [
    "simulation = Simulation()"
   ]
  },
  {
   "cell_type": "markdown",
   "metadata": {},
   "source": [
    "### 1) Source of Particles\n",
    "\n",
    "First, we have to define a source of particles that we want to propagate. \n",
    "\n",
    "##### Particle properties of source\n",
    "The emitted particles need to have the following properties:\n",
    "\n",
    "- **gyro radius**: $r_g = \\frac{E}{c\\cdot q \\cdot \\sqrt{b^2+B²}}$, with $E, c, q$ denoting, the particle's energy, the speed of light and the particle's charge, respectively. $b, B$ are the rms-values of the turbulence and background field, respectively. Only needed for determining the characteristic time-scale of the initial, ballistic phase of the perpendicular diffuion. \n",
    "- **diffusion tensor**: the diagonal elements of the diagonalized diffusion tensor are needed to determine the characteristics of the transport. Provide the quantity $\\kappa = [\\kappa_{xx}, \\kappa_{yy}, \\kappa_{zz}]$."
   ]
  },
  {
   "cell_type": "code",
   "execution_count": 3,
   "metadata": {},
   "outputs": [],
   "source": [
    "gyro_radius = 30.0\n",
    "diffusion_tensor = np.array([1.0, 1.0, 100.0], dtype=np.float32)"
   ]
  },
  {
   "cell_type": "markdown",
   "metadata": {},
   "source": [
    "##### Properties of source\n",
    "\n",
    "The source of particles need the following properties:\n",
    "\n",
    "- **source position**\n",
    "- **number of particles**\n",
    "- **particle properties**: gyro radius & diffusion tensor\n",
    "\n",
    "Finally, only add the source to the simulation."
   ]
  },
  {
   "cell_type": "code",
   "execution_count": 4,
   "metadata": {},
   "outputs": [],
   "source": [
    "source_position = np.zeros(3, dtype=np.float32)\n",
    "nr_particles = 500\n",
    "source = Source(nr_particles, source_position, gyro_radius, diffusion_tensor)"
   ]
  },
  {
   "cell_type": "markdown",
   "metadata": {},
   "source": [
    "### 2) Propagation Module\n",
    "\n",
    "Add the propagation module that you want to use:\n",
    "\n",
    "- **random walk**: Fast method that propagates individual particles along random walks. The overall behaviour is governed by a generalized telegraph equation: $\\frac{\\partial f}{\\partial t} = \\sum_i \\tau_i \\frac{\\partial^2 f}{\\partial t^2} = \\sum_i \\kappa_i \\frac{\\partial^2 f}{\\partial x_i^2}$\n",
    "- others coming soon..."
   ]
  },
  {
   "cell_type": "code",
   "execution_count": 5,
   "metadata": {},
   "outputs": [],
   "source": [
    "step_size = 1.0\n",
    "propagation = Propagation(step_size)\n",
    "steps = 10**5\n",
    "t_max = 10**5\n",
    "time = np.linspace(1, t_max, steps, dtype=np.float32)"
   ]
  },
  {
   "cell_type": "markdown",
   "metadata": {},
   "source": [
    "### -> Run Simulation\n",
    "\n",
    "Add all moduels needed to the simulation and run it!"
   ]
  },
  {
   "cell_type": "code",
   "execution_count": 6,
   "metadata": {},
   "outputs": [],
   "source": [
    "simulation.addParticles(source)\n",
    "simulation.addPropagation(propagation, time)\n",
    "data = simulation.runSimulation()"
   ]
  },
  {
   "cell_type": "markdown",
   "metadata": {},
   "source": [
    "## Analizing Simulation Data"
   ]
  },
  {
   "cell_type": "code",
   "execution_count": 7,
   "metadata": {},
   "outputs": [
    {
     "data": {
      "text/html": [
       "<div>\n",
       "<style scoped>\n",
       "    .dataframe tbody tr th:only-of-type {\n",
       "        vertical-align: middle;\n",
       "    }\n",
       "\n",
       "    .dataframe tbody tr th {\n",
       "        vertical-align: top;\n",
       "    }\n",
       "\n",
       "    .dataframe thead th {\n",
       "        text-align: right;\n",
       "    }\n",
       "</style>\n",
       "<table border=\"1\" class=\"dataframe\">\n",
       "  <thead>\n",
       "    <tr style=\"text-align: right;\">\n",
       "      <th></th>\n",
       "      <th>id</th>\n",
       "      <th>t</th>\n",
       "      <th>x</th>\n",
       "      <th>y</th>\n",
       "      <th>z</th>\n",
       "    </tr>\n",
       "  </thead>\n",
       "  <tbody>\n",
       "    <tr>\n",
       "      <th>0</th>\n",
       "      <td>0.0</td>\n",
       "      <td>1.0</td>\n",
       "      <td>-0.577350</td>\n",
       "      <td>-0.577350</td>\n",
       "      <td>-0.577350</td>\n",
       "    </tr>\n",
       "    <tr>\n",
       "      <th>1</th>\n",
       "      <td>1.0</td>\n",
       "      <td>1.0</td>\n",
       "      <td>-0.577350</td>\n",
       "      <td>-0.577350</td>\n",
       "      <td>-0.577350</td>\n",
       "    </tr>\n",
       "    <tr>\n",
       "      <th>2</th>\n",
       "      <td>2.0</td>\n",
       "      <td>1.0</td>\n",
       "      <td>-0.577350</td>\n",
       "      <td>0.577350</td>\n",
       "      <td>0.577350</td>\n",
       "    </tr>\n",
       "    <tr>\n",
       "      <th>3</th>\n",
       "      <td>3.0</td>\n",
       "      <td>1.0</td>\n",
       "      <td>0.577350</td>\n",
       "      <td>-0.577350</td>\n",
       "      <td>0.577350</td>\n",
       "    </tr>\n",
       "    <tr>\n",
       "      <th>4</th>\n",
       "      <td>4.0</td>\n",
       "      <td>1.0</td>\n",
       "      <td>-0.577350</td>\n",
       "      <td>-0.577350</td>\n",
       "      <td>0.577350</td>\n",
       "    </tr>\n",
       "    <tr>\n",
       "      <th>...</th>\n",
       "      <td>...</td>\n",
       "      <td>...</td>\n",
       "      <td>...</td>\n",
       "      <td>...</td>\n",
       "      <td>...</td>\n",
       "    </tr>\n",
       "    <tr>\n",
       "      <th>549495</th>\n",
       "      <td>495.0</td>\n",
       "      <td>99001.0</td>\n",
       "      <td>-666.838623</td>\n",
       "      <td>666.838623</td>\n",
       "      <td>305.418335</td>\n",
       "    </tr>\n",
       "    <tr>\n",
       "      <th>549496</th>\n",
       "      <td>496.0</td>\n",
       "      <td>99001.0</td>\n",
       "      <td>1005.154907</td>\n",
       "      <td>-1005.154907</td>\n",
       "      <td>1144.881836</td>\n",
       "    </tr>\n",
       "    <tr>\n",
       "      <th>549497</th>\n",
       "      <td>497.0</td>\n",
       "      <td>99001.0</td>\n",
       "      <td>-101.036102</td>\n",
       "      <td>101.036102</td>\n",
       "      <td>1243.038574</td>\n",
       "    </tr>\n",
       "    <tr>\n",
       "      <th>549498</th>\n",
       "      <td>498.0</td>\n",
       "      <td>99001.0</td>\n",
       "      <td>-385.094147</td>\n",
       "      <td>-385.094147</td>\n",
       "      <td>1068.666260</td>\n",
       "    </tr>\n",
       "    <tr>\n",
       "      <th>549499</th>\n",
       "      <td>499.0</td>\n",
       "      <td>99001.0</td>\n",
       "      <td>-29.444878</td>\n",
       "      <td>-29.444878</td>\n",
       "      <td>-3773.172852</td>\n",
       "    </tr>\n",
       "  </tbody>\n",
       "</table>\n",
       "<p>549500 rows × 5 columns</p>\n",
       "</div>"
      ],
      "text/plain": [
       "           id        t            x            y            z\n",
       "0         0.0      1.0    -0.577350    -0.577350    -0.577350\n",
       "1         1.0      1.0    -0.577350    -0.577350    -0.577350\n",
       "2         2.0      1.0    -0.577350     0.577350     0.577350\n",
       "3         3.0      1.0     0.577350    -0.577350     0.577350\n",
       "4         4.0      1.0    -0.577350    -0.577350     0.577350\n",
       "...       ...      ...          ...          ...          ...\n",
       "549495  495.0  99001.0  -666.838623   666.838623   305.418335\n",
       "549496  496.0  99001.0  1005.154907 -1005.154907  1144.881836\n",
       "549497  497.0  99001.0  -101.036102   101.036102  1243.038574\n",
       "549498  498.0  99001.0  -385.094147  -385.094147  1068.666260\n",
       "549499  499.0  99001.0   -29.444878   -29.444878 -3773.172852\n",
       "\n",
       "[549500 rows x 5 columns]"
      ]
     },
     "execution_count": 7,
     "metadata": {},
     "output_type": "execute_result"
    }
   ],
   "source": [
    "import pandas as pd\n",
    "df = pd.DataFrame(data).T\n",
    "df.columns = ['id', 't', 'x', 'y', 'z']\n",
    "df"
   ]
  },
  {
   "cell_type": "code",
   "execution_count": 8,
   "metadata": {},
   "outputs": [],
   "source": [
    "nr_particles = 500\n",
    "x = data[2]#df['x'].values\n",
    "z = data[4]#df['x'].values\n",
    "t = data[1]#df['t'].values\n",
    "times = []\n",
    "kappa_xx = []\n",
    "kappa_zz = []\n",
    "for j in range(int(len(x)/nr_particles)):\n",
    "    t_j = t[j*nr_particles]\n",
    "    kappa_xx_current = 0\n",
    "    kappa_zz_current = 0\n",
    "    for i in range(nr_particles):\n",
    "        x_i = x[j*nr_particles+i]\n",
    "        z_i = z[j*nr_particles+i]\n",
    "        kappa_xx_current = kappa_xx_current + x_i**2\n",
    "        kappa_zz_current = kappa_zz_current + z_i**2\n",
    "    kappa_xx.append(kappa_xx_current/(2*t_j))\n",
    "    kappa_zz.append(kappa_zz_current/(2*t_j))\n",
    "    times.append(t_j)"
   ]
  },
  {
   "cell_type": "code",
   "execution_count": 10,
   "metadata": {},
   "outputs": [
    {
     "data": {
      "image/png": "[encoded data removed]",
      "text/plain": [
       "<Figure size 432x288 with 1 Axes>"
      ]
     },
     "metadata": {
      "needs_background": "light"
     },
     "output_type": "display_data"
    }
   ],
   "source": [
    "from modules.Observer import Plotter\n",
    "import matplotlib.pyplot as plt\n",
    "plt.plot(times, kappa_xx, label='$x$')\n",
    "plt.plot(times, kappa_zz, label='$z$')\n",
    "plt.legend()\n",
    "plt.loglog()\n",
    "plt.show()"
   ]
  },
  {
   "cell_type": "code",
   "execution_count": null,
   "metadata": {},
   "outputs": [],
   "source": []
  },
  {
   "cell_type": "code",
   "execution_count": 2,
   "metadata": {},
   "outputs": [
    {
     "ename": "NameError",
     "evalue": "name 'time' is not defined",
     "output_type": "error",
     "traceback": [
      "\u001b[0;31m---------------------------------------------------------------------------\u001b[0m",
      "\u001b[0;31mNameError\u001b[0m                                 Traceback (most recent call last)",
      "\u001b[0;32m<ipython-input-2-55d644740845>\u001b[0m in \u001b[0;36m<module>\u001b[0;34m\u001b[0m\n\u001b[0;32m----> 1\u001b[0;31m \u001b[0mplt\u001b[0m\u001b[0;34m.\u001b[0m\u001b[0mplot\u001b[0m\u001b[0;34m(\u001b[0m\u001b[0mtime\u001b[0m\u001b[0;34m,\u001b[0m \u001b[0mkappas\u001b[0m\u001b[0;34m[\u001b[0m\u001b[0;36m0\u001b[0m\u001b[0;34m]\u001b[0m\u001b[0;34m,\u001b[0m \u001b[0mlabel\u001b[0m\u001b[0;34m=\u001b[0m\u001b[0;34m'$\\kappa_\\parallel$'\u001b[0m\u001b[0;34m)\u001b[0m\u001b[0;34m\u001b[0m\u001b[0;34m\u001b[0m\u001b[0m\n\u001b[0m\u001b[1;32m      2\u001b[0m \u001b[0mplt\u001b[0m\u001b[0;34m.\u001b[0m\u001b[0mplot\u001b[0m\u001b[0;34m(\u001b[0m\u001b[0mtime\u001b[0m\u001b[0;34m,\u001b[0m \u001b[0mkappas\u001b[0m\u001b[0;34m[\u001b[0m\u001b[0;36m1\u001b[0m\u001b[0;34m]\u001b[0m\u001b[0;34m,\u001b[0m \u001b[0mlabel\u001b[0m\u001b[0;34m=\u001b[0m\u001b[0;34m'$\\kappa_\\perp$'\u001b[0m\u001b[0;34m)\u001b[0m\u001b[0;34m\u001b[0m\u001b[0;34m\u001b[0m\u001b[0m\n\u001b[1;32m      3\u001b[0m \u001b[0mplt\u001b[0m\u001b[0;34m.\u001b[0m\u001b[0mloglog\u001b[0m\u001b[0;34m(\u001b[0m\u001b[0;34m)\u001b[0m\u001b[0;34m\u001b[0m\u001b[0;34m\u001b[0m\u001b[0m\n\u001b[1;32m      4\u001b[0m \u001b[0mplt\u001b[0m\u001b[0;34m.\u001b[0m\u001b[0mlegend\u001b[0m\u001b[0;34m(\u001b[0m\u001b[0;34m)\u001b[0m\u001b[0;34m\u001b[0m\u001b[0;34m\u001b[0m\u001b[0m\n\u001b[1;32m      5\u001b[0m \u001b[0mplt\u001b[0m\u001b[0;34m.\u001b[0m\u001b[0mshow\u001b[0m\u001b[0;34m(\u001b[0m\u001b[0;34m)\u001b[0m\u001b[0;34m\u001b[0m\u001b[0;34m\u001b[0m\u001b[0m\n",
      "\u001b[0;31mNameError\u001b[0m: name 'time' is not defined"
     ]
    }
   ],
   "source": [
    "plt.plot(time, kappas[0], label='$\\kappa_\\parallel$')\n",
    "plt.plot(time, kappas[1], label='$\\kappa_\\perp$')\n",
    "plt.loglog()\n",
    "plt.legend()\n",
    "plt.show()"
   ]
  },
  {
   "cell_type": "code",
   "execution_count": null,
   "metadata": {},
   "outputs": [],
   "source": [
    "plotter = Plotter()\n",
    "data = simulation.distribution(0)\n",
    "plotter.distribution(data)"
   ]
  },
  {
   "cell_type": "code",
   "execution_count": null,
   "metadata": {},
   "outputs": [],
   "source": []
  },
  {
   "cell_type": "code",
   "execution_count": 3,
   "metadata": {},
   "outputs": [],
   "source": [
    "from numba import jit\n",
    "import numpy as np"
   ]
  },
  {
   "cell_type": "code",
   "execution_count": 26,
   "metadata": {},
   "outputs": [],
   "source": [
    "def random_movements():\n",
    "    np.random.randint(5, size=(500, 10**5))\n",
    "   \n",
    "@jit(nopython=True)\n",
    "def fast_random():\n",
    "    for i in range(5*10**7):\n",
    "        np.random.random()"
   ]
  },
  {
   "cell_type": "code",
   "execution_count": 27,
   "metadata": {},
   "outputs": [
    {
     "name": "stdout",
     "output_type": "stream",
     "text": [
      "578 ms ± 6.98 ms per loop (mean ± std. dev. of 7 runs, 1 loop each)\n",
      "59.5 ms ± 268 µs per loop (mean ± std. dev. of 7 runs, 10 loops each)\n"
     ]
    }
   ],
   "source": [
    "%timeit random_movements()\n",
    "%timeit fast_random()"
   ]
  },
  {
   "cell_type": "code",
   "execution_count": null,
   "metadata": {},
   "outputs": [],
   "source": []
  }
 ],
 "metadata": {
  "kernelspec": {
   "display_name": "Python 3",
   "language": "python",
   "name": "python3"
  },
  "language_info": {
   "codemirror_mode": {
    "name": "ipython",
    "version": 3
   },
   "file_extension": ".py",
   "mimetype": "text/x-python",
   "name": "python",
   "nbconvert_exporter": "python",
   "pygments_lexer": "ipython3",
   "version": "3.8.5"
  }
 },
 "nbformat": 4,
 "nbformat_minor": 4
}
