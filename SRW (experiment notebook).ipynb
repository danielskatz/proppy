{
 "cells": [
  {
   "cell_type": "code",
   "execution_count": 2,
   "metadata": {},
   "outputs": [],
   "source": [
    "import matplotlib.pyplot as plt\n",
    "import random\n",
    "import numpy as np\n",
    "import numba"
   ]
  },
  {
   "cell_type": "code",
   "execution_count": 3,
   "metadata": {},
   "outputs": [
    {
     "data": {
      "image/png": "[encoded data removed]",
      "text/plain": [
       "<Figure size 432x288 with 1 Axes>"
      ]
     },
     "metadata": {
      "needs_background": "light"
     },
     "output_type": "display_data"
    }
   ],
   "source": [
    "def sigmoid(x, theta3): \n",
    "    theta1 = 1\n",
    "    theta2 = 0.2\n",
    "    xi = 1\n",
    "    return theta1/(1+xi*np.exp(-theta2*(x-theta3)))**(1/xi)\n",
    "\n",
    "x = np.array(range(1000))\n",
    "plt.scatter(x, (sigmoid(x,10)))\n",
    "plt.loglog()\n",
    "plt.show()"
   ]
  },
  {
   "cell_type": "code",
   "execution_count": 4,
   "metadata": {},
   "outputs": [],
   "source": [
    "class vector():\n",
    "    def __init__(self, vec):\n",
    "        self.x = vec[0]\n",
    "        self.y = vec[1]\n",
    "        self.z = vec[2]\n",
    "        \n",
    "    def absValue(self):\n",
    "        return (self.x**2+self.y**2+self.z**2)**0.5\n",
    "\n",
    "class particle():\n",
    "    def __init__(self, gyro_radius, free_mean_path_para, free_mean_path_perp):\n",
    "        self.pos = vector([0,0,0])\n",
    "        #self.t = 0\n",
    "        self.direction = vector([1,1,1])\n",
    "        self.gyro_radius = gyro_radius\n",
    "        self.free_mean_path_para = free_mean_path_para\n",
    "        self.free_mean_path_perp = free_mean_path_perp\n",
    "        self.t = 0\n",
    "            \n",
    "        \n",
    "    def move(self, step_size):\n",
    "        p = 1.0*step_size\n",
    "        self.t = self.t + 1*step_size\n",
    "        \n",
    "        if sigmoid(self.t, self.gyro_radius) >= random.random():\n",
    "            # after gyroradius ~ half gyroorbit, particle \n",
    "            # needs to change direction perp to background field\n",
    "            if (random.randint(0, self.free_mean_path_perp) == 1):\n",
    "                self.direction.x = self.direction.x*(-1)\n",
    "            if (random.randint(0, self.free_mean_path_perp) == 0):\n",
    "                self.direction.y = self.direction.y*(-1)\n",
    "        if sigmoid(self.t, self.free_mean_path_para) >= random.random():\n",
    "            # after mean-free length, particle can also change \n",
    "            # direction parallel to mean field\n",
    "            if (random.randint(0, self.free_mean_path_para) == 0):\n",
    "                self.direction.z = self.direction.z*(-1)\n",
    "            \n",
    "        absDirection = self.direction.absValue()\n",
    "        \n",
    "        #if direction == 0:\n",
    "        self.pos.x = self.pos.x + p*self.direction.x/absDirection\n",
    "        self.pos.y = self.pos.y + p*self.direction.y/absDirection\n",
    "        self.pos.z = self.pos.z + p*self.direction.z/absDirection"
   ]
  },
  {
   "cell_type": "code",
   "execution_count": 28,
   "metadata": {},
   "outputs": [],
   "source": [
    "pos = [0,0]\n",
    "steps = 10**4\n",
    "t_max = 10**4\n",
    "time = np.linspace(1, t_max, steps)\n",
    "step = t_max / steps\n",
    "old_time = 0\n",
    "\n",
    "gyro_radius = 30\n",
    "free_mean_path_para = 200\n",
    "free_mean_path_perp = 10\n",
    "\n",
    "# particles\n",
    "particles = []\n",
    "for j in range(50):\n",
    "    particles.append(particle(gyro_radius, free_mean_path_para, free_mean_path_perp))"
   ]
  },
  {
   "cell_type": "code",
   "execution_count": 29,
   "metadata": {},
   "outputs": [],
   "source": [
    "def run_simulation(particles, time):\n",
    "    kappa_perp = []\n",
    "    kappa_para = []\n",
    "    for i, t in enumerate(time):\n",
    "        for p in particles:\n",
    "            p.move(step)\n",
    "\n",
    "        kappa_perp.append(np.mean([(p.pos.x**2+p.pos.y**2)/2.0 for p in particles])/t)\n",
    "        kappa_para.append(np.mean([(p.pos.z**2) for p in particles])/t)\n",
    "    return [kappa_para, kappa_perp]"
   ]
  },
  {
   "cell_type": "code",
   "execution_count": null,
   "metadata": {},
   "outputs": [],
   "source": [
    "%timeit kappa = run_simulation(particles, time)\n",
    "kappa_para = kappa[0]\n",
    "kappa_perp = kappa[1]"
   ]
  },
  {
   "cell_type": "code",
   "execution_count": 24,
   "metadata": {},
   "outputs": [
    {
     "data": {
      "image/png": "[encoded data removed]",
      "text/plain": [
       "<Figure size 432x288 with 1 Axes>"
      ]
     },
     "metadata": {
      "needs_background": "light"
     },
     "output_type": "display_data"
    }
   ],
   "source": [
    "plt.scatter(time, kappa_perp, c='k', s=1)\n",
    "#plt.scatter(range(1,n), kappa_y, c='r')\n",
    "plt.scatter(time, kappa_para, c='b', s=1)\n",
    "plt.axvline(x=gyro_radius, color = 'grey', ls='--', label='gyro_radius = '+str(gyro_radius))\n",
    "plt.axvline(x=free_mean_path_para, color = 'grey', ls=':', label='free_mean_path = '+str(free_mean_path_para))\n",
    "plt.xscale('log')\n",
    "plt.yscale('log')\n",
    "plt.legend('$d$ [pc]')\n",
    "plt.legend()\n",
    "plt.show()"
   ]
  },
  {
   "cell_type": "code",
   "execution_count": 23,
   "metadata": {},
   "outputs": [
    {
     "name": "stdout",
     "output_type": "stream",
     "text": [
      "6.17408014187606\n",
      "212.2834830327214\n"
     ]
    }
   ],
   "source": [
    "print(np.mean(kappa_perp[-1000:-1]))\n",
    "print(np.mean(kappa_para[-1000:-1]))"
   ]
  },
  {
   "cell_type": "code",
   "execution_count": null,
   "metadata": {},
   "outputs": [],
   "source": []
  }
 ],
 "metadata": {
  "kernelspec": {
   "display_name": "Python 3",
   "language": "python",
   "name": "python3"
  },
  "language_info": {
   "codemirror_mode": {
    "name": "ipython",
    "version": 3
   },
   "file_extension": ".py",
   "mimetype": "text/x-python",
   "name": "python",
   "nbconvert_exporter": "python",
   "pygments_lexer": "ipython3",
   "version": "3.8.5"
  }
 },
 "nbformat": 4,
 "nbformat_minor": 4
}
