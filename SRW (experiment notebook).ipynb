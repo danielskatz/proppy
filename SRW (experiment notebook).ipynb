{
 "cells": [
  {
   "cell_type": "code",
   "execution_count": 81,
   "metadata": {},
   "outputs": [],
   "source": [
    "import matplotlib.pyplot as plt\n",
    "import random\n",
    "import numpy as np\n",
    "from numba import jit\n",
    "from numba import int32, float32    # import the types\n",
    "from numba.experimental import jitclass"
   ]
  },
  {
   "cell_type": "code",
   "execution_count": 3,
   "metadata": {},
   "outputs": [
    {
     "data": {
      "image/png": "[encoded data removed]",
      "text/plain": [
       "<Figure size 432x288 with 1 Axes>"
      ]
     },
     "metadata": {
      "needs_background": "light"
     },
     "output_type": "display_data"
    }
   ],
   "source": [
    "def sigmoid(x, theta3): \n",
    "    theta1 = 1\n",
    "    theta2 = 0.2\n",
    "    xi = 1\n",
    "    return theta1/(1+xi*np.exp(-theta2*(x-theta3)))**(1/xi)\n",
    "\n",
    "x = np.array(range(1000))\n",
    "plt.scatter(x, (sigmoid(x,10)))\n",
    "plt.loglog()\n",
    "plt.show()"
   ]
  },
  {
   "cell_type": "code",
   "execution_count": 186,
   "metadata": {},
   "outputs": [],
   "source": [
    "spec = [\n",
    "    ('free_mean_path_para', float32),               # a simple scalar field\n",
    "    ('free_mean_path_perp', float32), \n",
    "    ('gyro_radius', float32), \n",
    "    ('t', float32),\n",
    "    ('pos', float32[:]),          # an array field\n",
    "    ('direction', float32[:])\n",
    "]\n",
    "\n",
    "@jitclass(spec)\n",
    "class particle():\n",
    "    def __init__(self, gyro_radius, free_mean_path_para, free_mean_path_perp):\n",
    "        self.gyro_radius = gyro_radius\n",
    "        self.free_mean_path_para = free_mean_path_para\n",
    "        self.free_mean_path_perp = free_mean_path_perp\n",
    "        self.t = 0\n",
    "        self.pos = np.zeros(3, dtype=np.float32)\n",
    "        self.direction = np.ones(3, dtype=np.float32)\n",
    "        \n",
    "            \n",
    "     \n",
    "    def move(self, step_size):\n",
    "        p = 1.0*step_size\n",
    "        self.t = self.t + 1*step_size\n",
    "        \n",
    "        #if sigmoid(self.t, self.gyro_radius) >= random.random():\n",
    "        if self.t > self.gyro_radius:\n",
    "            # after gyroradius ~ half gyroorbit, particle \n",
    "            # needs to change direction perp to background field\n",
    "            if (random.randint(0, self.free_mean_path_perp) == 1):\n",
    "                self.direction[0] = self.direction[0]*(-1)\n",
    "            if (random.randint(0, self.free_mean_path_perp) == 0):\n",
    "                self.direction[1] = self.direction[1]*(-1)\n",
    "        if self.t > self.free_mean_path_para:\n",
    "            # after mean-free length, particle can also change \n",
    "            # direction parallel to mean field\n",
    "            if (random.randint(0, self.free_mean_path_para) == 0):\n",
    "                self.direction[2] = self.direction[2]*(-1)\n",
    "            \n",
    "        absDirection = (self.direction[0]**2+self.direction[1]**2+self.direction[2]**2)**0.5\n",
    "        #absDirection = self.direction.absValue()\n",
    "        \n",
    "        #if direction == 0:\n",
    "        self.pos[0] = self.pos[0] + p*self.direction[0]/absDirection\n",
    "        self.pos[1] = self.pos[1] + p*self.direction[1]/absDirection\n",
    "        self.pos[2] = self.pos[2] + p*self.direction[2]/absDirection"
   ]
  },
  {
   "cell_type": "code",
   "execution_count": 187,
   "metadata": {},
   "outputs": [],
   "source": [
    "pos = [0,0]\n",
    "steps = 10**5\n",
    "t_max = 10**5\n",
    "time = np.linspace(1, t_max, steps)\n",
    "step = t_max / steps\n",
    "old_time = 0\n",
    "\n",
    "gyro_radius = 30\n",
    "free_mean_path_para = 200\n",
    "free_mean_path_perp = 10\n",
    "\n"
   ]
  },
  {
   "cell_type": "code",
   "execution_count": 189,
   "metadata": {},
   "outputs": [],
   "source": [
    "# generate particles\n",
    "particles = []\n",
    "for j in range(500):\n",
    "    particles.append(particle(gyro_radius, free_mean_path_para, free_mean_path_perp))\n",
    "    \n",
    "@jit(nopython=True)\n",
    "def run_simulation(particles, time):\n",
    "    kappa_perp = []\n",
    "    kappa_para = []\n",
    "    for i, t in enumerate(time):\n",
    "        kappa_perp_sum = 0\n",
    "        kappa_para_sum = 0\n",
    "        for p in particles:\n",
    "            p.move(step)\n",
    "            kappa_perp_sum = kappa_perp_sum + p.pos[0]**2+p.pos[1]**2\n",
    "            kappa_para_sum = kappa_para_sum + p.pos[2]**2\n",
    "        \n",
    "        kappa_para.append(kappa_para_sum/(2*t*len(particles)))\n",
    "        kappa_perp.append(kappa_perp_sum/(4*t*len(particles)))\n",
    "\n",
    "    return [kappa_para, kappa_perp]"
   ]
  },
  {
   "cell_type": "code",
   "execution_count": 190,
   "metadata": {},
   "outputs": [
    {
     "name": "stderr",
     "output_type": "stream",
     "text": [
      "/home/patrick/.local/lib/python3.8/site-packages/numba/core/ir_utils.py:2119: NumbaPendingDeprecationWarning: \u001b[1m\n",
      "Encountered the use of a type that is scheduled for deprecation: type 'reflected list' found for argument 'particles' of function 'run_simulation'.\n",
      "\n",
      "For more information visit https://numba.pydata.org/numba-doc/latest/reference/deprecation.html#deprecation-of-reflection-for-list-and-set-types\n",
      "\u001b[1m\n",
      "File \"<ipython-input-189-ece8f39abe73>\", line 7:\u001b[0m\n",
      "\u001b[1m@jit(nopython=True)\n",
      "\u001b[1mdef run_simulation(particles, time):\n",
      "\u001b[0m\u001b[1m^\u001b[0m\u001b[0m\n",
      "\u001b[0m\n",
      "  warnings.warn(NumbaPendingDeprecationWarning(msg, loc=loc))\n"
     ]
    },
    {
     "name": "stdout",
     "output_type": "stream",
     "text": [
      "CPU times: user 3.76 s, sys: 4.02 ms, total: 3.76 s\n",
      "Wall time: 3.76 s\n"
     ]
    }
   ],
   "source": [
    "%time kappa = run_simulation(particles, time)\n",
    "kappa_para = kappa[0]\n",
    "kappa_perp = kappa[1]"
   ]
  },
  {
   "cell_type": "code",
   "execution_count": 191,
   "metadata": {},
   "outputs": [
    {
     "data": {
      "image/png": "[encoded data removed]",
      "text/plain": [
       "<Figure size 432x288 with 1 Axes>"
      ]
     },
     "metadata": {
      "needs_background": "light"
     },
     "output_type": "display_data"
    }
   ],
   "source": [
    "plt.scatter(time, kappa_perp, c='k', s=1)\n",
    "#plt.scatter(range(1,n), kappa_y, c='r')\n",
    "plt.scatter(time, kappa_para, c='b', s=1)\n",
    "plt.axvline(x=gyro_radius, color = 'grey', ls='--', label='gyro_radius = '+str(gyro_radius))\n",
    "plt.axvline(x=free_mean_path_para, color = 'grey', ls=':', label='free_mean_path = '+str(free_mean_path_para))\n",
    "plt.xscale('log')\n",
    "plt.yscale('log')\n",
    "plt.legend('$d$ [pc]')\n",
    "plt.legend()\n",
    "plt.show()"
   ]
  },
  {
   "cell_type": "code",
   "execution_count": 192,
   "metadata": {},
   "outputs": [
    {
     "name": "stdout",
     "output_type": "stream",
     "text": [
      "1.755706875903226\n",
      "32.7477577416401\n"
     ]
    }
   ],
   "source": [
    "print(np.mean(kappa_perp[-1000:-1]))\n",
    "print(np.mean(kappa_para[-1000:-1]))"
   ]
  },
  {
   "cell_type": "code",
   "execution_count": null,
   "metadata": {},
   "outputs": [],
   "source": []
  }
 ],
 "metadata": {
  "kernelspec": {
   "display_name": "Python 3",
   "language": "python",
   "name": "python3"
  },
  "language_info": {
   "codemirror_mode": {
    "name": "ipython",
    "version": 3
   },
   "file_extension": ".py",
   "mimetype": "text/x-python",
   "name": "python",
   "nbconvert_exporter": "python",
   "pygments_lexer": "ipython3",
   "version": "3.8.5"
  }
 },
 "nbformat": 4,
 "nbformat_minor": 4
}
