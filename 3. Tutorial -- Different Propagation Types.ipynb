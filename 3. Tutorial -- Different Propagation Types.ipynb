{
 "cells": [
  {
   "cell_type": "code",
   "execution_count": 1,
   "metadata": {},
   "outputs": [],
   "source": [
    "from Simulation import Simulation\n",
    "from modules.Particle import Particle\n",
    "from modules.Propagation import Propagation\n",
    "from modules.Source import Source\n",
    "from modules.Observer import Observer\n",
    "from modules.Plotter import Plotter\n",
    "import numpy as np\n",
    "import matplotlib.pyplot as plt"
   ]
  },
  {
   "cell_type": "code",
   "execution_count": 2,
   "metadata": {},
   "outputs": [],
   "source": [
    "### see the previous tutorials for details on each module\n",
    "def sim(propagation):\n",
    "    simulation = Simulation()\n",
    "    ### source\n",
    "    gyro_radius = 30.0\n",
    "    diffusion_tensor = np.array([1.0, 1.0, 100.0], dtype=np.float32)\n",
    "    source_position = np.zeros(3, dtype=np.float32)\n",
    "    nr_particles = 500\n",
    "    source = Source(nr_particles, source_position, gyro_radius, diffusion_tensor)\n",
    "    simulation.add_particles(source)\n",
    "\n",
    "    ### observer\n",
    "    observer = Observer()\n",
    "    detailed_range = 500 # observe the initial 500 steps (default = 0)\n",
    "    observer_resolution = 500 # also observe each 500th step (default = 1)\n",
    "    observer.change_observer_resolution(detailed_range, observer_resolution)\n",
    "    simulation.add_observer(observer)\n",
    "    \n",
    "    steps = 10**4\n",
    "    t_max = 10**4\n",
    "    time = np.linspace(1, t_max, steps, dtype=np.float32)\n",
    "\n",
    "    simulation.add_propagation(propagation, time)\n",
    "    data = simulation.run_simulation()\n",
    "    return data"
   ]
  },
  {
   "cell_type": "code",
   "execution_count": 3,
   "metadata": {},
   "outputs": [],
   "source": [
    "### see the previous tutorials for details on how to calculate the diffusion coefficients\n",
    "def analyze(data):\n",
    "    nr_particles = 500\n",
    "    x = data[2]\n",
    "    z = data[4]\n",
    "    t = data[1]\n",
    "    times = []\n",
    "    kappa_xx = []\n",
    "    kappa_zz = []\n",
    "    for j in range(int(len(x)/nr_particles)):\n",
    "        t_j = t[j*nr_particles]\n",
    "        kappa_xx_current = 0\n",
    "        kappa_zz_current = 0\n",
    "        for i in range(nr_particles):\n",
    "            x_i = x[j*nr_particles+i]\n",
    "            z_i = z[j*nr_particles+i]\n",
    "            kappa_xx_current = kappa_xx_current + x_i**2\n",
    "            kappa_zz_current = kappa_zz_current + z_i**2\n",
    "        kappa_xx.append(kappa_xx_current/(2*t_j))\n",
    "        kappa_zz.append(kappa_zz_current/(2*t_j))\n",
    "        times.append(t_j)\n",
    "        \n",
    "    plt.scatter(times, kappa_xx, label='$x$')\n",
    "    plt.scatter(times, kappa_zz, label='$z$')\n",
    "    plt.legend()\n",
    "    plt.loglog()\n",
    "    plt.show()"
   ]
  },
  {
   "cell_type": "markdown",
   "metadata": {},
   "source": [
    "### Propagation Module\n",
    "\n",
    "Add the propagation module that you want to use:\n",
    "\n",
    "- **random walk**: Fast method that propagates individual particles along random walks. The overall behaviour is governed by a generalized telegraph equation: $\\frac{\\partial f}{\\partial t} = \\sum_i \\tau_i \\frac{\\partial^2 f}{\\partial t^2} = \\sum_i \\kappa_i \\frac{\\partial^2 f}{\\partial x_i^2}$\n",
    "- others coming soon..."
   ]
  },
  {
   "cell_type": "code",
   "execution_count": 4,
   "metadata": {},
   "outputs": [
    {
     "name": "stdout",
     "output_type": "stream",
     "text": [
      "init simulation completed\n",
      "init observer completed\n"
     ]
    },
    {
     "data": {
      "image/png": "[encoded data removed]",
      "text/plain": [
       "<Figure size 432x288 with 1 Axes>"
      ]
     },
     "metadata": {
      "needs_background": "light"
     },
     "output_type": "display_data"
    }
   ],
   "source": [
    "step_size = 1.0\n",
    "propagation = Propagation(step_size)\n",
    "data = sim(propagation)\n",
    "analyze(data)"
   ]
  },
  {
   "cell_type": "code",
   "execution_count": 5,
   "metadata": {},
   "outputs": [
    {
     "name": "stdout",
     "output_type": "stream",
     "text": [
      "init simulation completed\n",
      "init observer completed\n"
     ]
    },
    {
     "data": {
      "image/png": "[encoded data removed]",
      "text/plain": [
       "<Figure size 432x288 with 1 Axes>"
      ]
     },
     "metadata": {
      "needs_background": "light"
     },
     "output_type": "display_data"
    }
   ],
   "source": [
    "step_size = 1.0\n",
    "propagation = Propagation(step_size)\n",
    "nr_fixed_gyro_radii = 0\n",
    "propagation.set_nr_fixed_gyro_radii(nr_fixed_gyro_radii)\n",
    "data = sim(propagation)\n",
    "analyze(data)"
   ]
  },
  {
   "cell_type": "code",
   "execution_count": null,
   "metadata": {},
   "outputs": [
    {
     "name": "stdout",
     "output_type": "stream",
     "text": [
      "init simulation completed\n",
      "init observer completed\n"
     ]
    }
   ],
   "source": [
    "step_size = 1.0\n",
    "propagation = Propagation(step_size)\n",
    "chi = np.array([1.0, 1.0, 3.0], dtype=np.float32)\n",
    "normalized_chi = chi/np.abs(chi)\n",
    "propagation.set_normalized_chi(normalized_chi)\n",
    "nr_fixed_gyro_radii = 0\n",
    "propagation.set_nr_fixed_gyro_radii(nr_fixed_gyro_radii)\n",
    "data = sim(propagation)\n",
    "analyze(data)"
   ]
  },
  {
   "cell_type": "code",
   "execution_count": null,
   "metadata": {},
   "outputs": [],
   "source": []
  }
 ],
 "metadata": {
  "kernelspec": {
   "display_name": "Python 3",
   "language": "python",
   "name": "python3"
  },
  "language_info": {
   "codemirror_mode": {
    "name": "ipython",
    "version": 3
   },
   "file_extension": ".py",
   "mimetype": "text/x-python",
   "name": "python",
   "nbconvert_exporter": "python",
   "pygments_lexer": "ipython3",
   "version": "3.8.5"
  }
 },
 "nbformat": 4,
 "nbformat_minor": 4
}
