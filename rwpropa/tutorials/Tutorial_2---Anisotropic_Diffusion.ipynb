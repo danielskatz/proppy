{
 "cells": [
  {
   "cell_type": "code",
   "execution_count": 1,
   "id": "5045552e",
   "metadata": {},
   "outputs": [],
   "source": [
    "import numpy as np\n",
    "import matplotlib.pyplot as plt\n",
    "import pandas as pd\n",
    "import os\n",
    "os.chdir('..')\n",
    "import rwpropa as rw"
   ]
  },
  {
   "cell_type": "markdown",
   "id": "612c2b8f",
   "metadata": {},
   "source": [
    "## Simulation setup"
   ]
  },
  {
   "cell_type": "markdown",
   "id": "95bb1fd1",
   "metadata": {},
   "source": [
    "We use the same simulation from Tutorial 1 with a different propagation module."
   ]
  },
  {
   "cell_type": "code",
   "execution_count": 2,
   "id": "753756c3",
   "metadata": {},
   "outputs": [
    {
     "name": "stdout",
     "output_type": "stream",
     "text": [
      "start simulation\n"
     ]
    }
   ],
   "source": [
    "sim = rw.Simulation()"
   ]
  },
  {
   "cell_type": "markdown",
   "id": "b5615fb2",
   "metadata": {},
   "source": [
    "### Source \n",
    "\n",
    "First, we have to define a source of particles that we want to propagate. The simples source type is the point source that emmits particles isotropically. The only user-specifyed parameters are:\n",
    "\n",
    "- **energy**: Energy of the particles in eV.\n",
    "- **source posistion**: The position of the point source.\n",
    "- **number of particles**: Number of particles that should be emitted from this source.\n",
    "\n",
    "The source can be easily added to the simulation. Afterwards, calling the description on the source of the simulation prints all relevant information and the values of the source parameters."
   ]
  },
  {
   "cell_type": "code",
   "execution_count": 3,
   "id": "e8fa9154",
   "metadata": {},
   "outputs": [
    {
     "name": "stdout",
     "output_type": "stream",
     "text": [
      "Description Source:\n",
      "                The source defines the start conditions of the particles \n",
      "                and covers the position, direction, energy, etc\n",
      "\n",
      "position:  [0. 0. 0.]\n",
      "number particles:  1000\n",
      "energy:  3000000000000000  eV\n",
      "source tpye: PointSourceIsotropic\n"
     ]
    }
   ],
   "source": [
    "nr_particles = 10**3\n",
    "source_pos = np.array([0.0, 0.0, 0.0], dtype=np.float32)\n",
    "energy = 3*10**15 # eV\n",
    "\n",
    "source = rw.PointSourceIsotropic(energy, source_pos, nr_particles)\n",
    "sim.add_source(source)\n",
    "sim.source.get_description()"
   ]
  },
  {
   "cell_type": "markdown",
   "id": "20fdd580",
   "metadata": {},
   "source": [
    "### Propagator\n",
    "\n",
    "Propagates particles via a correlated rrandom walk. The overall behaviour is governed by a generalized telegraph equation: $\\frac{\\partial f}{\\partial t} = \\sum_i \\tau_i \\frac{\\partial^2 f}{\\partial t^2} = \\sum_i \\kappa_i \\frac{\\partial^2 f}{\\partial x_i^2}$.\n",
    "\n",
    "Here, we use isotropic diffusion for simplicity that propagates particles using a correlated random walk in Cartesian coordinates. Isotropic diffusion is given when the turbulence is isotropic and there is no background field. In the following tutorials also the anisotropic diffusion is used. The only user-specifyed parameters for the simple case of isotropic diffusion are:\n",
    "\n",
    "- **mean-free paths**: The mean-free paths $\\lambda_i$ can be derived from the diffusion coefficients $\\kappa_i$ via $\\lambda_i = 3 \\kappa_i/c$. Therfore, the diagonal elements of the diagonalized diffusion tensor are needed to determine the characteristics of the transport. For isotropic diffusion all diffusion coefficients are equal $\\kappa = [\\kappa_{xx}, \\kappa_{yy}, \\kappa_{zz}]$ with $\\kappa_{xx}=\\kappa_{yy}=\\kappa_{zz}$. Typical free-mean paths of charged particles in plasmoids in AGN jets are $10^{12}$m (see Reichherzer et al. (2021)).\n",
    "- **number of steps**: The number of simulation steps for each individual particle.\n",
    "- **step size**: Size of an individual step. Together with the parameter number of steps, the step size determines the trajectory length of the particles. \n",
    "\n",
    "The propagator can be easily added to the simulation. Afterwards, calling the description on the propagator of the simulation prints all relevant information and the values of the propagation parameters."
   ]
  },
  {
   "cell_type": "code",
   "execution_count": 4,
   "id": "ae4a9f45",
   "metadata": {},
   "outputs": [
    {
     "name": "stdout",
     "output_type": "stream",
     "text": [
      "Propagator initialized\n",
      "Description Propagator:\n",
      "                The propagator is responsible for the movement of the particles. \n",
      "                It performs the change of direction and the movement in the respective direction.\n",
      "                There are two phases:\n",
      "                 - change direction with probability (see below)\n",
      "                 - move in all directions\n",
      "                The movement takes place according to the random walk (RW).\n",
      "\n",
      "propagation tpye: AnisotropicPropagator\n",
      "Description Propagator:\n",
      "                The propagator is responsible for the movement of the particles. \n",
      "                It performs the change of direction and the movement in the respective direction.\n",
      "                There are two phases:\n",
      "                 - change direction with probability (see below)\n",
      "                 - move in all directions\n",
      "                The movement takes place according to the random walk (RW).\n",
      "\n",
      "coordinates: Cylindrical coordinates\n",
      "dimensions:  3\n",
      "pitch angle: constant\n",
      "particle speed:  299800000.0  m/s\n",
      "number steps:  10000\n",
      "step size:  5000000000.0  m\n",
      "step duration:  16.677785873413086  s\n",
      "total distance:  50000000000000.0  m\n",
      "total duration:  166777.8519012675  s\n",
      "probability to change directions in step:  [0.23474179 0.23474179 0.11860707] %\n"
     ]
    }
   ],
   "source": [
    "nr_steps = 10**4\n",
    "step_size = 0.5*10**10 # [m]\n",
    "diffusion_coefficient = 5*10**18 # [m^2/s]\n",
    "speed_of_light = 3*10**8 # [m/s]\n",
    "mfp_iso = 3*diffusion_coefficient/speed_of_light\n",
    "mfp = np.array([2.13*10**12/2.0, 2.13*10**12/2.0, 2.1078*10**12], dtype=np.float32)  # [m]\n",
    "rms = 1 # Gaus\n",
    "magnetic_field = rw.OrderedBackgroundField(rms, [0,0,1]).magnetic_field\n",
    "\n",
    "propagator = rw.AnisotropicPropagator(magnetic_field, mfp, nr_steps, step_size)\n",
    "sim.add_propagator(propagator)\n",
    "sim.propagator.get_description()"
   ]
  },
  {
   "cell_type": "markdown",
   "id": "d89ac241",
   "metadata": {},
   "source": [
    "### Observer\n",
    "\n",
    "The Observer determines during the simulation when and what data to write out (observe).\n",
    "\n",
    "In each simulation step, the current particle state is evaluated by the Observer to check\n",
    "if one of the observing contions is satisfyed. The conditions to observe can be based \n",
    "on the time (-> step) or the coordinates of the particle.\n",
    "\n",
    "The conditions to observe can be based on the time (or step) or the coordinates of \n",
    "    the particle.\n",
    "    \n",
    "- step number [unique_steps] -> time (TimeEvolutionObservers)\n",
    "- radius of observer sphere [shperes] -> sphere around source (SphericalObservers)\n",
    "- cartesian coordinates [box_dimensions] -> box around source (BoxObserver) (not yet implemented)\n",
    "   \n",
    "All special observer will create an Observer object and specify the relevant parameters\n",
    "for the observation conditions (unique_steps, shperes, box_dimensions)"
   ]
  },
  {
   "cell_type": "code",
   "execution_count": 5,
   "id": "cfd6400f",
   "metadata": {},
   "outputs": [
    {
     "name": "stdout",
     "output_type": "stream",
     "text": [
      "Observer initialized\n",
      "Description Observer:\n",
      "                The observer defines the conditions for when to write data to the output.\n",
      "\n",
      "observer tpye: TimeEvolutionObserverLog\n",
      "spheres:  [-1.]\n",
      "steps [0:10]:  [ 1  2  3  4  5  6  7  8  9 10]\n",
      "steps [-11:-1]:  [6294 6593 6905 7232 7575 7934 8309 8703 9115 9547]\n",
      "nr steps:  154\n",
      "substeps:  [False False  True]\n",
      "all_steps:  False\n"
     ]
    }
   ],
   "source": [
    "substeps = [False, False, True] # observe only steps (no substeps)\n",
    "min_step = 1\n",
    "max_step = nr_steps\n",
    "nr_obs_steps = 200\n",
    "\n",
    "observer = rw.TimeEvolutionObserverLog(min_step, max_step, nr_obs_steps, substeps)\n",
    "\n",
    "sim.add_observer(observer)\n",
    "sim.observer.get_description()"
   ]
  },
  {
   "cell_type": "code",
   "execution_count": 6,
   "id": "f1541944",
   "metadata": {},
   "outputs": [
    {
     "name": "stdout",
     "output_type": "stream",
     "text": [
      "CPU times: user 30.7 s, sys: 43.5 ms, total: 30.7 s\n",
      "Wall time: 30.7 s\n"
     ]
    }
   ],
   "source": [
    "%time sim.run_simulation()\n",
    "sim.save_data('data/data_sim')"
   ]
  },
  {
   "cell_type": "markdown",
   "id": "523b23ff",
   "metadata": {},
   "source": [
    "## Analyze statistics"
   ]
  },
  {
   "cell_type": "markdown",
   "id": "1dcc9d6f",
   "metadata": {},
   "source": [
    "#### Diffusion coefficients\n",
    "\n",
    "As the particles propagate via a random walk, statistical properties \n",
    "of many particles are interesting, such as the diffusion coefficients and\n",
    "particle distributions. These quantities can be compared to analytical \n",
    "predictions.\n",
    "\n",
    "Running diffusion coefficients are computed with the mean-squared displacement method:\n",
    "\n",
    "$\\kappa_{ii}(t) = \\frac{<\\Delta x_i^2>}{2t}$."
   ]
  },
  {
   "cell_type": "code",
   "execution_count": 7,
   "id": "10e57f70",
   "metadata": {},
   "outputs": [
    {
     "name": "stdout",
     "output_type": "stream",
     "text": [
      "init statistics plotting class\n"
     ]
    },
    {
     "data": {
      "image/png": "[encoded data removed]",
      "text/plain": [
       "<Figure size 288x288 with 1 Axes>"
      ]
     },
     "metadata": {
      "needs_background": "light"
     },
     "output_type": "display_data"
    },
    {
     "name": "stdout",
     "output_type": "stream",
     "text": [
      "input kappa: 5e+18 m²/s\n",
      "kappa_{xx}: 5.19e+17 m²/s +- 9.59e+15 m²/s\n",
      "kappa_{yy}: 6.12e+17 m²/s +- 1.23e+16 m²/s\n",
      "kappa_{zz}: 1.12e+20 m²/s +- 7.88e+18 m²/s\n"
     ]
    }
   ],
   "source": [
    "df = pd.read_pickle(\"data/data_sim.pkl\")\n",
    "df_time_evolution_observer = df.loc[df['radius'] == -1.0]\n",
    "\n",
    "sta = rw.Statistics(df_time_evolution_observer)\n",
    "isotropic = False # diffusion is anisotropic\n",
    "errors = False # don't show error bars\n",
    "df_kappas = sta.plot_diffusion_coefficients(isotropic, errors)\n",
    "print('input kappa:', f\"{float(diffusion_coefficient):.3}\", 'm²/s')\n",
    "n = 10\n",
    "print('kappa_{xx}:', f\"{np.mean(df_kappas['kappa_xx'][-n:]):.3}\", 'm²/s', '+-', f\"{np.std(df_kappas['kappa_xx'][-n:]):.3}\", 'm²/s')\n",
    "print('kappa_{yy}:', f\"{np.mean(df_kappas['kappa_yy'][-n:]):.3}\", 'm²/s', '+-', f\"{np.std(df_kappas['kappa_yy'][-n:]):.3}\", 'm²/s')\n",
    "print('kappa_{zz}:', f\"{np.mean(df_kappas['kappa_zz'][-n:]):.3}\", 'm²/s', '+-', f\"{np.std(df_kappas['kappa_zz'][-n:]):.3}\", 'm²/s')"
   ]
  },
  {
   "cell_type": "markdown",
   "id": "e95e655a",
   "metadata": {},
   "source": [
    "## Analyze trajectories\n",
    "\n",
    "Individual trajectories visualize the correlated random walk of individual particles. The next tutorial focusses on visualizing trajectories in anisotropic diffusion."
   ]
  },
  {
   "cell_type": "code",
   "execution_count": 34,
   "id": "7a6793c6",
   "metadata": {},
   "outputs": [
    {
     "name": "stdout",
     "output_type": "stream",
     "text": [
      "init trajectory plotting class\n"
     ]
    },
    {
     "data": {
      "image/png": "[encoded data removed]",
      "text/plain": [
       "<Figure size 324x288 with 2 Axes>"
      ]
     },
     "metadata": {
      "needs_background": "light"
     },
     "output_type": "display_data"
    },
    {
     "data": {
      "image/png": "[encoded data removed]",
      "text/plain": [
       "<Figure size 324x288 with 2 Axes>"
      ]
     },
     "metadata": {
      "needs_background": "light"
     },
     "output_type": "display_data"
    }
   ],
   "source": [
    "tra = rw.Trajectory(df_time_evolution_observer)\n",
    "particle_ids = tra.get_particle_ids()\n",
    "nr_steps = -1 #show all steps\n",
    "tra.plot_trajectory('x', 'y', 'd', particle_ids[0], nr_steps, None)\n",
    "tra.plot_trajectory('d', 'z', 'd', particle_ids[0], nr_steps, None)"
   ]
  },
  {
   "cell_type": "code",
   "execution_count": null,
   "id": "07b92b26",
   "metadata": {},
   "outputs": [],
   "source": []
  }
 ],
 "metadata": {
  "kernelspec": {
   "display_name": "Python 3",
   "language": "python",
   "name": "python3"
  },
  "language_info": {
   "codemirror_mode": {
    "name": "ipython",
    "version": 3
   },
   "file_extension": ".py",
   "mimetype": "text/x-python",
   "name": "python",
   "nbconvert_exporter": "python",
   "pygments_lexer": "ipython3",
   "version": "3.8.5"
  }
 },
 "nbformat": 4,
 "nbformat_minor": 5
}
