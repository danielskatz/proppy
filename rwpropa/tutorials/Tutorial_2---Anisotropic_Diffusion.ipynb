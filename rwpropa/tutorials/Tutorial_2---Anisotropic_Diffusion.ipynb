{
 "cells": [
  {
   "cell_type": "code",
   "execution_count": 1,
   "id": "5045552e",
   "metadata": {},
   "outputs": [],
   "source": [
    "import numpy as np\n",
    "import matplotlib.pyplot as plt\n",
    "import pandas as pd\n",
    "import os\n",
    "os.chdir('..')\n",
    "import rwpropa as rw"
   ]
  },
  {
   "cell_type": "markdown",
   "id": "612c2b8f",
   "metadata": {},
   "source": [
    "## Simulation setup"
   ]
  },
  {
   "cell_type": "markdown",
   "id": "95bb1fd1",
   "metadata": {},
   "source": [
    "We use the same simulation from Tutorial 1 with a different propagation module."
   ]
  },
  {
   "cell_type": "code",
   "execution_count": 2,
   "id": "753756c3",
   "metadata": {},
   "outputs": [
    {
     "name": "stdout",
     "output_type": "stream",
     "text": [
      "start simulation\n"
     ]
    }
   ],
   "source": [
    "sim = rw.Simulation()"
   ]
  },
  {
   "cell_type": "markdown",
   "id": "b5615fb2",
   "metadata": {},
   "source": [
    "### Source \n",
    "\n",
    "First, we have to define a source of particles that we want to propagate. The simples source type is the point source that emmits particles isotropically. The only user-specifyed parameters are:\n",
    "\n",
    "- **energy**: Energy of the particles in eV.\n",
    "- **source posistion**: The position of the point source.\n",
    "- **number of particles**: Number of particles that should be emitted from this source.\n",
    "\n",
    "The source can be easily added to the simulation. Afterwards, calling the description on the source of the simulation prints all relevant information and the values of the source parameters."
   ]
  },
  {
   "cell_type": "code",
   "execution_count": 3,
   "id": "e8fa9154",
   "metadata": {},
   "outputs": [
    {
     "name": "stdout",
     "output_type": "stream",
     "text": [
      "Description Source:\n",
      "                The source defines the start conditions of the particles \n",
      "                and covers the position, direction, energy, etc\n",
      "\n",
      "position:  [0. 0. 0.]\n",
      "number particles:  1000\n",
      "energy:  3000000000000000  eV\n",
      "source tpye: PointSourceIsotropic\n"
     ]
    }
   ],
   "source": [
    "nr_particles = 10**3\n",
    "source_pos = np.array([0.0, 0.0, 0.0], dtype=np.float32)\n",
    "energy = 3*10**15 # eV\n",
    "phi = 0.0\n",
    "pitch_angle = 2*np.pi * 54.74/360 # pitch angle for equal components in all directions\n",
    "\n",
    "source = rw.PointSourceIsotropicPhi(energy, source_pos, nr_particles)\n",
    "sim.add_source(source)\n",
    "sim.source.get_description()"
   ]
  },
  {
   "cell_type": "markdown",
   "id": "20fdd580",
   "metadata": {},
   "source": [
    "### Propagator\n",
    "\n",
    "Propagates particles via a correlated rrandom walk. The overall behaviour is governed by a generalized telegraph equation: $\\frac{\\partial f}{\\partial t} = \\sum_i \\tau_i \\frac{\\partial^2 f}{\\partial t^2} = \\sum_i \\kappa_i \\frac{\\partial^2 f}{\\partial x_i^2}$.\n",
    "\n",
    "Here, we use isotropic diffusion for simplicity that propagates particles using a correlated random walk in Cartesian coordinates. Isotropic diffusion is given when the turbulence is isotropic and there is no background field. In the following tutorials also the anisotropic diffusion is used. The only user-specifyed parameters for the simple case of isotropic diffusion are:\n",
    "\n",
    "- **mean-free paths**: The mean-free paths $\\lambda_i$ can be derived from the diffusion coefficients $\\kappa_i$ via $\\lambda_i = 3 \\kappa_i/c$. Therfore, the diagonal elements of the diagonalized diffusion tensor are needed to determine the characteristics of the transport. For isotropic diffusion all diffusion coefficients are equal $\\kappa = [\\kappa_{xx}, \\kappa_{yy}, \\kappa_{zz}]$ with $\\kappa_{xx}=\\kappa_{yy}=\\kappa_{zz}$. Typical free-mean paths of charged particles in plasmoids in AGN jets are $10^{12}$m (see Reichherzer et al. (2021)).\n",
    "- **number of steps**: The number of simulation steps for each individual particle.\n",
    "- **step size**: Size of an individual step. Together with the parameter number of steps, the step size determines the trajectory length of the particles. \n",
    "\n",
    "The propagator can be easily added to the simulation. Afterwards, calling the description on the propagator of the simulation prints all relevant information and the values of the propagation parameters."
   ]
  },
  {
   "cell_type": "code",
   "execution_count": 4,
   "id": "ae4a9f45",
   "metadata": {},
   "outputs": [
    {
     "name": "stdout",
     "output_type": "stream",
     "text": [
      "Propagator initialized\n",
      "Description Propagator:\n",
      "                The propagator is responsible for the movement of the particles. \n",
      "                It performs the change of direction and the movement in the respective direction.\n",
      "                There are two phases:\n",
      "                 - change direction with probability (see below)\n",
      "                 - move in all directions\n",
      "                The movement takes place according to the random walk (RW).\n",
      "\n",
      "propagation tpye: AnisotropicPropagator\n",
      "Description Propagator:\n",
      "                The propagator is responsible for the movement of the particles. \n",
      "                It performs the change of direction and the movement in the respective direction.\n",
      "                There are two phases:\n",
      "                 - change direction with probability (see below)\n",
      "                 - move in all directions\n",
      "                The movement takes place according to the random walk (RW).\n",
      "\n",
      "coordinates: Cylindrical coordinates\n",
      "dimensions:  3\n",
      "pitch angle: constant\n",
      "particle speed:  299800000.0  m/s\n",
      "number steps:  10000\n",
      "step size:  5000000000.0  m\n",
      "step duration:  16.677785873413086  s\n",
      "total distance:  50000000000000.0  m\n",
      "total duration:  166777.8519012675  s\n",
      "probability to change directions in step:  [0.23474179 0.23474179 0.11860707] %\n"
     ]
    }
   ],
   "source": [
    "nr_steps = 10**4\n",
    "step_size = 0.5*10**10 # [m]\n",
    "diffusion_coefficient = 5*10**18 # [m^2/s]\n",
    "speed_of_light = 3*10**8 # [m/s]\n",
    "mfp_iso = 3*diffusion_coefficient/speed_of_light\n",
    "mfp = np.array([2.13*10**12/2.0, 2.13*10**12/2.0, 2.1078*10**12], dtype=np.float32)  # [m]\n",
    "rms = 1 # Gaus\n",
    "magnetic_field = rw.OrderedBackgroundField(rms, [0,0,1]).magnetic_field\n",
    "\n",
    "propagator = rw.AnisotropicPropagator(magnetic_field, mfp, nr_steps, step_size)\n",
    "sim.add_propagator(propagator)\n",
    "sim.propagator.get_description()"
   ]
  },
  {
   "cell_type": "markdown",
   "id": "d89ac241",
   "metadata": {},
   "source": [
    "### Observer\n",
    "\n",
    "The Observer determines during the simulation when and what data to write out (observe).\n",
    "\n",
    "In each simulation step, the current particle state is evaluated by the Observer to check\n",
    "if one of the observing contions is satisfyed. The conditions to observe can be based \n",
    "on the time (-> step) or the coordinates of the particle.\n",
    "\n",
    "The conditions to observe can be based on the time (or step) or the coordinates of \n",
    "    the particle.\n",
    "    \n",
    "- step number [unique_steps] -> time (TimeEvolutionObservers)\n",
    "- radius of observer sphere [shperes] -> sphere around source (SphericalObservers)\n",
    "- cartesian coordinates [box_dimensions] -> box around source (BoxObserver) (not yet implemented)\n",
    "   \n",
    "All special observer will create an Observer object and specify the relevant parameters\n",
    "for the observation conditions (unique_steps, shperes, box_dimensions)"
   ]
  },
  {
   "cell_type": "code",
   "execution_count": 5,
   "id": "cfd6400f",
   "metadata": {},
   "outputs": [
    {
     "name": "stdout",
     "output_type": "stream",
     "text": [
      "Observer initialized\n",
      "Description Observer:\n",
      "                The observer defines the conditions for when to write data to the output.\n",
      "\n",
      "observer tpye: TimeEvolutionObserverLog\n",
      "spheres:  [-1.]\n",
      "steps [0:10]:  [ 1  2  3  4  5  6  7  8  9 10]\n",
      "steps [-11:-1]:  [6294 6593 6905 7232 7575 7934 8309 8703 9115 9547]\n",
      "nr steps:  154\n",
      "substeps:  [False False  True]\n",
      "all_steps:  False\n"
     ]
    }
   ],
   "source": [
    "substeps = [False, False, True] # observe only steps (no substeps)\n",
    "min_step = 1\n",
    "max_step = nr_steps\n",
    "nr_obs_steps = 200\n",
    "\n",
    "observer = rw.TimeEvolutionObserverLog(min_step, max_step, nr_obs_steps, substeps)\n",
    "\n",
    "sim.add_observer(observer)\n",
    "sim.observer.get_description()"
   ]
  },
  {
   "cell_type": "code",
   "execution_count": 6,
   "id": "f1541944",
   "metadata": {},
   "outputs": [
    {
     "name": "stdout",
     "output_type": "stream",
     "text": [
      "CPU times: user 33 s, sys: 36.4 ms, total: 33 s\n",
      "Wall time: 33 s\n"
     ]
    }
   ],
   "source": [
    "%time sim.run_simulation()\n",
    "sim.save_data('data/data_tut_2')"
   ]
  },
  {
   "cell_type": "markdown",
   "id": "523b23ff",
   "metadata": {},
   "source": [
    "## Analyze statistics"
   ]
  },
  {
   "cell_type": "markdown",
   "id": "1dcc9d6f",
   "metadata": {},
   "source": [
    "#### Diffusion coefficients\n",
    "\n",
    "As the particles propagate via a random walk, statistical properties \n",
    "of many particles are interesting, such as the diffusion coefficients and\n",
    "particle distributions. These quantities can be compared to analytical \n",
    "predictions.\n",
    "\n",
    "Running diffusion coefficients are computed with the mean-squared displacement method:\n",
    "\n",
    "$\\kappa_{ii}(t) = \\frac{<\\Delta x_i^2>}{2t}$."
   ]
  },
  {
   "cell_type": "code",
   "execution_count": 7,
   "id": "10e57f70",
   "metadata": {},
   "outputs": [
    {
     "name": "stdout",
     "output_type": "stream",
     "text": [
      "init statistics plotting class\n"
     ]
    },
    {
     "data": {
      "image/png": "[encoded data removed]",
      "text/plain": [
       "<Figure size 288x288 with 1 Axes>"
      ]
     },
     "metadata": {
      "needs_background": "light"
     },
     "output_type": "display_data"
    },
    {
     "name": "stdout",
     "output_type": "stream",
     "text": [
      "input kappa: 5e+18 m²/s\n",
      "kappa_{xx}: 5.34e+17 m²/s +- 1.27e+16 m²/s\n",
      "kappa_{yy}: 5.18e+17 m²/s +- 8.9e+15 m²/s\n",
      "kappa_{zz}: 1.19e+20 m²/s +- 1e+18 m²/s\n"
     ]
    }
   ],
   "source": [
    "df = pd.read_pickle(\"data/data_tut_2.pkl\")\n",
    "df_time_evolution_observer = df.loc[df['radius'] == -1.0]\n",
    "\n",
    "sta = rw.Statistics(df_time_evolution_observer)\n",
    "isotropic = False # diffusion is anisotropic\n",
    "errors = False # don't show error bars\n",
    "df_kappas = sta.plot_diffusion_coefficients(isotropic, errors)\n",
    "print('input kappa:', f\"{float(diffusion_coefficient):.3}\", 'm²/s')\n",
    "n = 10\n",
    "print('kappa_{xx}:', f\"{np.mean(df_kappas['kappa_xx'][-n:]):.3}\", 'm²/s', '+-', f\"{np.std(df_kappas['kappa_xx'][-n:]):.3}\", 'm²/s')\n",
    "print('kappa_{yy}:', f\"{np.mean(df_kappas['kappa_yy'][-n:]):.3}\", 'm²/s', '+-', f\"{np.std(df_kappas['kappa_yy'][-n:]):.3}\", 'm²/s')\n",
    "print('kappa_{zz}:', f\"{np.mean(df_kappas['kappa_zz'][-n:]):.3}\", 'm²/s', '+-', f\"{np.std(df_kappas['kappa_zz'][-n:]):.3}\", 'm²/s')"
   ]
  },
  {
   "cell_type": "code",
   "execution_count": 11,
   "id": "07b92b26",
   "metadata": {},
   "outputs": [
    {
     "data": {
      "text/html": [
       "<div>\n",
       "<style scoped>\n",
       "    .dataframe tbody tr th:only-of-type {\n",
       "        vertical-align: middle;\n",
       "    }\n",
       "\n",
       "    .dataframe tbody tr th {\n",
       "        vertical-align: top;\n",
       "    }\n",
       "\n",
       "    .dataframe thead th {\n",
       "        text-align: right;\n",
       "    }\n",
       "</style>\n",
       "<table border=\"1\" class=\"dataframe\">\n",
       "  <thead>\n",
       "    <tr style=\"text-align: right;\">\n",
       "      <th></th>\n",
       "      <th>id</th>\n",
       "      <th>i</th>\n",
       "      <th>d</th>\n",
       "      <th>x</th>\n",
       "      <th>y</th>\n",
       "      <th>z</th>\n",
       "      <th>phi</th>\n",
       "      <th>pitch_angle</th>\n",
       "      <th>radius</th>\n",
       "      <th>sub_step</th>\n",
       "    </tr>\n",
       "  </thead>\n",
       "  <tbody>\n",
       "    <tr>\n",
       "      <th>0</th>\n",
       "      <td>0.0</td>\n",
       "      <td>1.0</td>\n",
       "      <td>1.637957e+10</td>\n",
       "      <td>8.874545e+08</td>\n",
       "      <td>-9.693628e+09</td>\n",
       "      <td>-2.805313e+09</td>\n",
       "      <td>4.062341</td>\n",
       "      <td>1.855144</td>\n",
       "      <td>-1.0</td>\n",
       "      <td>2.0</td>\n",
       "    </tr>\n",
       "    <tr>\n",
       "      <th>1</th>\n",
       "      <td>0.0</td>\n",
       "      <td>2.0</td>\n",
       "      <td>2.456935e+10</td>\n",
       "      <td>1.756325e+09</td>\n",
       "      <td>-1.448466e+10</td>\n",
       "      <td>-4.207969e+09</td>\n",
       "      <td>4.121080</td>\n",
       "      <td>1.855144</td>\n",
       "      <td>-1.0</td>\n",
       "      <td>2.0</td>\n",
       "    </tr>\n",
       "    <tr>\n",
       "      <th>2</th>\n",
       "      <td>0.0</td>\n",
       "      <td>3.0</td>\n",
       "      <td>3.275914e+10</td>\n",
       "      <td>2.904963e+09</td>\n",
       "      <td>-1.921642e+10</td>\n",
       "      <td>-5.610626e+09</td>\n",
       "      <td>4.179820</td>\n",
       "      <td>1.855144</td>\n",
       "      <td>-1.0</td>\n",
       "      <td>2.0</td>\n",
       "    </tr>\n",
       "    <tr>\n",
       "      <th>3</th>\n",
       "      <td>0.0</td>\n",
       "      <td>4.0</td>\n",
       "      <td>4.094892e+10</td>\n",
       "      <td>4.329398e+09</td>\n",
       "      <td>-2.387258e+10</td>\n",
       "      <td>-7.013282e+09</td>\n",
       "      <td>4.238560</td>\n",
       "      <td>1.855144</td>\n",
       "      <td>-1.0</td>\n",
       "      <td>2.0</td>\n",
       "    </tr>\n",
       "    <tr>\n",
       "      <th>4</th>\n",
       "      <td>0.0</td>\n",
       "      <td>5.0</td>\n",
       "      <td>4.913871e+10</td>\n",
       "      <td>6.024724e+09</td>\n",
       "      <td>-2.843709e+10</td>\n",
       "      <td>-8.415938e+09</td>\n",
       "      <td>4.297299</td>\n",
       "      <td>1.855144</td>\n",
       "      <td>-1.0</td>\n",
       "      <td>2.0</td>\n",
       "    </tr>\n",
       "    <tr>\n",
       "      <th>...</th>\n",
       "      <td>...</td>\n",
       "      <td>...</td>\n",
       "      <td>...</td>\n",
       "      <td>...</td>\n",
       "      <td>...</td>\n",
       "      <td>...</td>\n",
       "      <td>...</td>\n",
       "      <td>...</td>\n",
       "      <td>...</td>\n",
       "      <td>...</td>\n",
       "    </tr>\n",
       "    <tr>\n",
       "      <th>153995</th>\n",
       "      <td>999.0</td>\n",
       "      <td>8309.0</td>\n",
       "      <td>6.330190e+13</td>\n",
       "      <td>-3.217816e+11</td>\n",
       "      <td>5.960814e+11</td>\n",
       "      <td>-6.982097e+12</td>\n",
       "      <td>44.823349</td>\n",
       "      <td>0.459507</td>\n",
       "      <td>-1.0</td>\n",
       "      <td>2.0</td>\n",
       "    </tr>\n",
       "    <tr>\n",
       "      <th>153996</th>\n",
       "      <td>999.0</td>\n",
       "      <td>8703.0</td>\n",
       "      <td>6.630294e+13</td>\n",
       "      <td>-2.515879e+11</td>\n",
       "      <td>5.250181e+11</td>\n",
       "      <td>-8.747853e+12</td>\n",
       "      <td>42.869431</td>\n",
       "      <td>0.459507</td>\n",
       "      <td>-1.0</td>\n",
       "      <td>2.0</td>\n",
       "    </tr>\n",
       "    <tr>\n",
       "      <th>153997</th>\n",
       "      <td>999.0</td>\n",
       "      <td>9115.0</td>\n",
       "      <td>6.944109e+13</td>\n",
       "      <td>-3.776943e+11</td>\n",
       "      <td>7.811492e+11</td>\n",
       "      <td>-1.059428e+13</td>\n",
       "      <td>33.805420</td>\n",
       "      <td>0.459507</td>\n",
       "      <td>-1.0</td>\n",
       "      <td>2.0</td>\n",
       "    </tr>\n",
       "    <tr>\n",
       "      <th>153998</th>\n",
       "      <td>999.0</td>\n",
       "      <td>9547.0</td>\n",
       "      <td>7.273157e+13</td>\n",
       "      <td>-3.162507e+11</td>\n",
       "      <td>9.442454e+11</td>\n",
       "      <td>-8.694074e+12</td>\n",
       "      <td>27.075256</td>\n",
       "      <td>0.459507</td>\n",
       "      <td>-1.0</td>\n",
       "      <td>2.0</td>\n",
       "    </tr>\n",
       "    <tr>\n",
       "      <th>153999</th>\n",
       "      <td>999.0</td>\n",
       "      <td>10000.0</td>\n",
       "      <td>7.618201e+13</td>\n",
       "      <td>-3.225227e+11</td>\n",
       "      <td>9.227563e+11</td>\n",
       "      <td>-6.663903e+12</td>\n",
       "      <td>14.781853</td>\n",
       "      <td>0.459507</td>\n",
       "      <td>-1.0</td>\n",
       "      <td>2.0</td>\n",
       "    </tr>\n",
       "  </tbody>\n",
       "</table>\n",
       "<p>154000 rows × 10 columns</p>\n",
       "</div>"
      ],
      "text/plain": [
       "           id        i             d             x             y  \\\n",
       "0         0.0      1.0  1.637957e+10  8.874545e+08 -9.693628e+09   \n",
       "1         0.0      2.0  2.456935e+10  1.756325e+09 -1.448466e+10   \n",
       "2         0.0      3.0  3.275914e+10  2.904963e+09 -1.921642e+10   \n",
       "3         0.0      4.0  4.094892e+10  4.329398e+09 -2.387258e+10   \n",
       "4         0.0      5.0  4.913871e+10  6.024724e+09 -2.843709e+10   \n",
       "...       ...      ...           ...           ...           ...   \n",
       "153995  999.0   8309.0  6.330190e+13 -3.217816e+11  5.960814e+11   \n",
       "153996  999.0   8703.0  6.630294e+13 -2.515879e+11  5.250181e+11   \n",
       "153997  999.0   9115.0  6.944109e+13 -3.776943e+11  7.811492e+11   \n",
       "153998  999.0   9547.0  7.273157e+13 -3.162507e+11  9.442454e+11   \n",
       "153999  999.0  10000.0  7.618201e+13 -3.225227e+11  9.227563e+11   \n",
       "\n",
       "                   z        phi  pitch_angle  radius  sub_step  \n",
       "0      -2.805313e+09   4.062341     1.855144    -1.0       2.0  \n",
       "1      -4.207969e+09   4.121080     1.855144    -1.0       2.0  \n",
       "2      -5.610626e+09   4.179820     1.855144    -1.0       2.0  \n",
       "3      -7.013282e+09   4.238560     1.855144    -1.0       2.0  \n",
       "4      -8.415938e+09   4.297299     1.855144    -1.0       2.0  \n",
       "...              ...        ...          ...     ...       ...  \n",
       "153995 -6.982097e+12  44.823349     0.459507    -1.0       2.0  \n",
       "153996 -8.747853e+12  42.869431     0.459507    -1.0       2.0  \n",
       "153997 -1.059428e+13  33.805420     0.459507    -1.0       2.0  \n",
       "153998 -8.694074e+12  27.075256     0.459507    -1.0       2.0  \n",
       "153999 -6.663903e+12  14.781853     0.459507    -1.0       2.0  \n",
       "\n",
       "[154000 rows x 10 columns]"
      ]
     },
     "execution_count": 11,
     "metadata": {},
     "output_type": "execute_result"
    }
   ],
   "source": [
    "df"
   ]
  },
  {
   "cell_type": "code",
   "execution_count": null,
   "id": "1f2a0650",
   "metadata": {},
   "outputs": [],
   "source": []
  }
 ],
 "metadata": {
  "kernelspec": {
   "display_name": "Python 3",
   "language": "python",
   "name": "python3"
  },
  "language_info": {
   "codemirror_mode": {
    "name": "ipython",
    "version": 3
   },
   "file_extension": ".py",
   "mimetype": "text/x-python",
   "name": "python",
   "nbconvert_exporter": "python",
   "pygments_lexer": "ipython3",
   "version": "3.8.5"
  }
 },
 "nbformat": 4,
 "nbformat_minor": 5
}
