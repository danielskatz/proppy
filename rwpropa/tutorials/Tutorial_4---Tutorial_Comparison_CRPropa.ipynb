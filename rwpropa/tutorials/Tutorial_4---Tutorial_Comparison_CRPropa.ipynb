{
 "cells": [
  {
   "cell_type": "code",
   "execution_count": 1,
   "id": "5045552e",
   "metadata": {},
   "outputs": [],
   "source": [
    "import numpy as np\n",
    "import matplotlib.pyplot as plt\n",
    "import pandas as pd\n",
    "import os\n",
    "os.chdir('..')\n",
    "import rwpropa as rw"
   ]
  },
  {
   "cell_type": "markdown",
   "id": "612c2b8f",
   "metadata": {},
   "source": [
    "### Simulation"
   ]
  },
  {
   "cell_type": "markdown",
   "id": "95bb1fd1",
   "metadata": {},
   "source": [
    "We use the same simulation from Tutorial 1 with a different propagation module."
   ]
  },
  {
   "cell_type": "code",
   "execution_count": 83,
   "id": "753756c3",
   "metadata": {},
   "outputs": [],
   "source": [
    "def simulation(bB, mfp):\n",
    "    sim = rw.Simulation()\n",
    "\n",
    "    # source\n",
    "    nr_particles = 10**3\n",
    "    source_pos = np.array([0.0, 0.0, 0.0], dtype=np.float32)\n",
    "    energy = 3*10**15 # eV\n",
    "    source = rw.PointSourceIsotropicPhi(energy, source_pos, nr_particles)\n",
    "    sim.add_source(source)\n",
    "\n",
    "    # propagator\n",
    "    nr_steps = 10**4\n",
    "    step_size = 0.5*10**10 # [m]\n",
    "    rms = 1 # Gaus\n",
    "    magnetic_field = rw.OrderedBackgroundField(rms, [0,0,1]).magnetic_field\n",
    "    propagator = rw.AnisotropicPropagator(magnetic_field, mfp, nr_steps, step_size)\n",
    "    sim.add_propagator(propagator)\n",
    "\n",
    "    # observer\n",
    "    substeps = [False, False, True] # observe only steps (no substeps)\n",
    "    min_step = 1\n",
    "    max_step = nr_steps\n",
    "    nr_obs_steps = 200\n",
    "    observer = rw.TimeEvolutionObserverLog(min_step, max_step, nr_obs_steps, substeps)\n",
    "    sim.add_observer(observer)\n",
    "\n",
    "    # run simulation\n",
    "    sim.run_simulation()\n",
    "    sim.save_data('data/data_tut_4_bB_'+str(bB))"
   ]
  },
  {
   "cell_type": "markdown",
   "id": "69f8bcba",
   "metadata": {},
   "source": [
    "### Analysis"
   ]
  },
  {
   "cell_type": "code",
   "execution_count": 92,
   "id": "38466383",
   "metadata": {},
   "outputs": [],
   "source": [
    "def plot_comparison(bB, seeds):\n",
    "    df = pd.read_pickle(\"data/data_tut_4_bB_\"+str(bB)+\".pkl\")\n",
    "    sta = rw.Statistics(df)\n",
    "    df_kappas = sta.plot_diffusion_coefficients(False, False, None)\n",
    "    \n",
    "    rwp_d = df_kappas['d'].tolist()\n",
    "    rwp_kappa_perp = df_kappas['kappa_perp'].tolist()\n",
    "    rwp_kappa_para = df_kappas['kappa_para'].tolist()\n",
    "\n",
    "    ### load crpropa data\n",
    "    crp_d = np.load('data/comparison/E_3e+16_bB_'+str(bB)+'_seeds_'+seeds+'_nr_20_d.npy')\n",
    "    crp_kappa_perp = np.load('data/comparison/E_3e+16_bB_'+str(bB)+'_seeds_'+seeds+'_nr_20_kappa_perp.npy')\n",
    "    crp_kappa_para = np.load('data/comparison/E_3e+16_bB_'+str(bB)+'_seeds_'+seeds+'_nr_20_kappa_para.npy')\n",
    "    \n",
    "    fig, ax1 = plt.subplots(figsize=(4,2.5))\n",
    "\n",
    "    n_max = 10**4\n",
    "    ax1.plot(crp_d[:n_max], np.array(crp_kappa_perp[:n_max])*10**4, label='$\\kappa_\\perp$ (ballistic)', color='k')\n",
    "    ax1.plot(crp_d[:n_max], np.array(crp_kappa_para[:n_max])*10**4, linestyle=':', label='$\\kappa_\\parallel$ (ballistic)', color='k')\n",
    "    ax1.plot(rwp_d, np.array(rwp_kappa_perp)*10**4, label='$\\kappa_\\perp$ (random walk)', color='brown')\n",
    "    ax1.plot(rwp_d, np.array(rwp_kappa_para)*10**4, linestyle=':', label='$\\kappa_\\parallel$ (random walk)', color='brown')\n",
    "    ax1.plot(crp_d[:n_max], np.ones(n_max)*np.mean(np.array(crp_kappa_perp[n_max-10:n_max]))*10**4, label='$\\kappa_\\perp$ (diffusive)', color='dodgerblue')\n",
    "    ax1.plot(crp_d[:n_max], np.ones(n_max)*np.mean(np.array(crp_kappa_para[n_max-10:n_max]))*10**4, linestyle=':', label='$\\kappa_\\parallel$ (diffusive)', color='dodgerblue')\n",
    "\n",
    "\n",
    "    ax1.set_xlabel('distance [m]')\n",
    "    ax1.axvline(x=mfp[1], c='grey', ls=':')\n",
    "    ax1.axvline(x=mfp[2], c='grey', ls='--')\n",
    "    ax1.loglog()\n",
    "    ax1.set_ylabel('$\\kappa$ [cm$^2$/s]')\n",
    "\n",
    "    #fig.legend()\n",
    "    plt.show()\n",
    "    plt.savefig('kappas_bB_'+str(bB)+'.pdf')"
   ]
  },
  {
   "cell_type": "markdown",
   "id": "f9b72968",
   "metadata": {},
   "source": [
    "### Weak turbulence level b/B = 0.1"
   ]
  },
  {
   "cell_type": "code",
   "execution_count": null,
   "id": "e1c04c38",
   "metadata": {},
   "outputs": [
    {
     "name": "stdout",
     "output_type": "stream",
     "text": [
      "start simulation\n",
      "Propagator initialized\n",
      "Observer initialized\n"
     ]
    }
   ],
   "source": [
    "bB = 0.1\n",
    "mfp = [3.75*10**13/2/2**0.5, 3.75*10**13/2/2**0.5, 7.2*10**13]\n",
    "simulation(bB, mfp)"
   ]
  },
  {
   "cell_type": "code",
   "execution_count": null,
   "id": "dc580541",
   "metadata": {},
   "outputs": [],
   "source": [
    "bB = 0.1\n",
    "crpropa_seeds = '0_99'\n",
    "plot_comparison(bB, crpropa_seeds)"
   ]
  },
  {
   "cell_type": "markdown",
   "id": "9d819136",
   "metadata": {},
   "source": [
    "### Intermediate turbulence level b/B = 0.5"
   ]
  },
  {
   "cell_type": "code",
   "execution_count": 45,
   "id": "2bf5de16",
   "metadata": {},
   "outputs": [
    {
     "name": "stdout",
     "output_type": "stream",
     "text": [
      "start simulation\n",
      "Propagator initialized\n",
      "Observer initialized\n"
     ]
    }
   ],
   "source": [
    "bB = 0.5\n",
    "mfp = [2.*10**12/2**0.5, 2.*10**12/2**0.5, 2.1078*10**12] # [m]\n",
    "simulation(bB, mfp)"
   ]
  },
  {
   "cell_type": "code",
   "execution_count": 53,
   "id": "e43cc57e",
   "metadata": {},
   "outputs": [
    {
     "name": "stdout",
     "output_type": "stream",
     "text": [
      "init statistics plotting class\n"
     ]
    },
    {
     "data": {
      "image/png": "[encoded data removed]",
      "text/plain": [
       "<Figure size 216x144 with 1 Axes>"
      ]
     },
     "metadata": {
      "needs_background": "light"
     },
     "output_type": "display_data"
    },
    {
     "name": "stdout",
     "output_type": "stream",
     "text": [
      "kappa_{xx}: 1.04e+18 m²/s +- 6.95e+17 m²/s\n",
      "kappa_{yy}: 1.06e+18 m²/s +- 6.93e+17 m²/s\n",
      "kappa_{zz}: 1.5e+20 m²/s +- 7.24e+19 m²/s\n"
     ]
    },
    {
     "data": {
      "image/png": "[encoded data removed]",
      "text/plain": [
       "<Figure size 288x180 with 1 Axes>"
      ]
     },
     "metadata": {
      "needs_background": "light"
     },
     "output_type": "display_data"
    },
    {
     "data": {
      "text/plain": [
       "<Figure size 432x288 with 0 Axes>"
      ]
     },
     "metadata": {},
     "output_type": "display_data"
    }
   ],
   "source": [
    "bB = 0.5\n",
    "crpropa_seeds = '50_149'\n",
    "plot_comparison(bB, crpropa_seeds)"
   ]
  },
  {
   "cell_type": "markdown",
   "id": "4d51ccff",
   "metadata": {},
   "source": [
    "### Strong turbulence level b/B = 20"
   ]
  },
  {
   "cell_type": "code",
   "execution_count": 50,
   "id": "d61f099e",
   "metadata": {},
   "outputs": [],
   "source": [
    "bB = 0.0\n",
    "mfp = [4.19*10**11, 4.19*10**11, 4.19*10**11]\n",
    "simulation(bB, mfp)"
   ]
  },
  {
   "cell_type": "code",
   "execution_count": null,
   "id": "34c25ff7",
   "metadata": {},
   "outputs": [],
   "source": []
  },
  {
   "cell_type": "code",
   "execution_count": null,
   "id": "687f4f38",
   "metadata": {},
   "outputs": [],
   "source": []
  }
 ],
 "metadata": {
  "kernelspec": {
   "display_name": "Python 3",
   "language": "python",
   "name": "python3"
  },
  "language_info": {
   "codemirror_mode": {
    "name": "ipython",
    "version": 3
   },
   "file_extension": ".py",
   "mimetype": "text/x-python",
   "name": "python",
   "nbconvert_exporter": "python",
   "pygments_lexer": "ipython3",
   "version": "3.8.5"
  }
 },
 "nbformat": 4,
 "nbformat_minor": 5
}
