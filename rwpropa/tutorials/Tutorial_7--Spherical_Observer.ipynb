{
 "cells": [
  {
   "cell_type": "code",
   "execution_count": 1,
   "id": "5045552e",
   "metadata": {},
   "outputs": [],
   "source": [
    "import numpy as np\n",
    "import matplotlib.pyplot as plt\n",
    "import pandas as pd\n",
    "import os\n",
    "os.chdir('..')\n",
    "import rwpropa as rw"
   ]
  },
  {
   "cell_type": "markdown",
   "id": "612c2b8f",
   "metadata": {},
   "source": [
    "## Simulation setup"
   ]
  },
  {
   "cell_type": "markdown",
   "id": "95bb1fd1",
   "metadata": {},
   "source": [
    "#### Simulation setup"
   ]
  },
  {
   "cell_type": "code",
   "execution_count": 2,
   "id": "753756c3",
   "metadata": {},
   "outputs": [
    {
     "name": "stdout",
     "output_type": "stream",
     "text": [
      "start simulation\n"
     ]
    }
   ],
   "source": [
    "sim = rw.Simulation()"
   ]
  },
  {
   "cell_type": "markdown",
   "id": "b5615fb2",
   "metadata": {},
   "source": [
    "#### Source "
   ]
  },
  {
   "cell_type": "code",
   "execution_count": 3,
   "id": "e8fa9154",
   "metadata": {},
   "outputs": [
    {
     "name": "stdout",
     "output_type": "stream",
     "text": [
      "Description Source:\n",
      "                The source defines the start conditions of the particles \n",
      "                and covers the position, direction, energy, etc\n",
      "\n",
      "position:  [0. 0. 0.]\n",
      "number particles:  1000\n",
      "energy:  3000000000000000  eV\n",
      "source tpye: PointSourceIsotropic\n"
     ]
    }
   ],
   "source": [
    "nr_particles = 1*10**3\n",
    "source_pos = np.array([0.0, 0.0, 0.0], dtype=np.float32)\n",
    "delta_rho_div_phi = 1 #1/2**0.5 # (delta_r_rho / delta_r_phi)\n",
    "energy = 3*10**15 # eV\n",
    "phi = 0.0\n",
    "pitch_angle = 2*np.pi * 54.74/360 # pitch angle for equal components in all directions\n",
    "        \n",
    "\n",
    "source = rw.PointSourceIsotropic(energy, source_pos, nr_particles)\n",
    "sim.add_source(source)\n",
    "sim.source.get_description()"
   ]
  },
  {
   "cell_type": "markdown",
   "id": "20fdd580",
   "metadata": {},
   "source": [
    "#### Propagator"
   ]
  },
  {
   "cell_type": "code",
   "execution_count": 4,
   "id": "ae4a9f45",
   "metadata": {},
   "outputs": [
    {
     "name": "stdout",
     "output_type": "stream",
     "text": [
      "Propagator initialized\n",
      "Description Propagator:\n",
      "                The propagator is responsible for the movement of the particles. \n",
      "                It performs the change of direction and the movement in the respective direction.\n",
      "                There are two phases:\n",
      "                 - change direction with probability (see below)\n",
      "                 - move in all directions\n",
      "                The movement takes place according to the random walk (RW).\n",
      "\n",
      "propagation tpye: AnisotropicPropagator\n",
      "Description Propagator:\n",
      "                The propagator is responsible for the movement of the particles. \n",
      "                It performs the change of direction and the movement in the respective direction.\n",
      "                There are two phases:\n",
      "                 - change direction with probability (see below)\n",
      "                 - move in all directions\n",
      "                The movement takes place according to the random walk (RW).\n",
      "\n",
      "coordinates: Cylindrical coordinates\n",
      "dimensions:  3\n",
      "pitch angle: constant\n",
      "particle speed:  299800000.0  m/s\n",
      "number steps:  20000\n",
      "step size:  5000000000.0  m\n",
      "step duration:  16.677785873413086  s\n",
      "total distance:  100000000000000.0  m\n",
      "total duration:  333555.703802535  s\n",
      "probability to change directions in step:  [0.23474179 0.23474179 0.11860707] %\n"
     ]
    }
   ],
   "source": [
    "nr_steps = 2*10**4\n",
    "step_size = 0.5*10**10 # [m]\n",
    "mfp = np.array([2.13*10**12/2.0, 2.13*10**12/2.0, 2.1078*10**12], dtype=np.float32)  # [m]\n",
    "rms = 1 # Gaus\n",
    "magnetic_field = rw.OrderedBackgroundField(rms, [0,0,1]).magnetic_field\n",
    "\n",
    "propagator = rw.AnisotropicPropagator(magnetic_field, mfp, nr_steps, step_size)\n",
    "#propagator.set_pitch_angle_const(False)\n",
    "sim.add_propagator(propagator)\n",
    "sim.propagator.get_description()"
   ]
  },
  {
   "cell_type": "markdown",
   "id": "d89ac241",
   "metadata": {},
   "source": [
    "#### Observer"
   ]
  },
  {
   "cell_type": "code",
   "execution_count": 5,
   "id": "cfd6400f",
   "metadata": {},
   "outputs": [
    {
     "name": "stdout",
     "output_type": "stream",
     "text": [
      "number steps:  0\n",
      "Observer initialized\n",
      "Description Observer:\n",
      "                The observer defines the conditions for when to write data to the output.\n",
      "\n",
      "observer tpye: SphericalObserver\n",
      "spheres:  [-1.e+00  1.e+13  5.e+12]\n",
      "steps [0:10]:  []\n",
      "steps [-11:-1]:  []\n",
      "nr steps:  0\n",
      "substeps:  [False False  True]\n",
      "all_steps:  False\n"
     ]
    }
   ],
   "source": [
    "substeps = [False, False, True] # observe only steps (no substeps)\n",
    "spheres = [1*10**13, 5*10**12]\n",
    "\n",
    "observer = rw.SphericalObserver(substeps, spheres)\n",
    "\n",
    "sim.add_observer(observer)\n",
    "sim.observer.get_description()"
   ]
  },
  {
   "cell_type": "code",
   "execution_count": 6,
   "id": "f1541944",
   "metadata": {},
   "outputs": [
    {
     "name": "stdout",
     "output_type": "stream",
     "text": [
      "CPU times: user 37.8 s, sys: 26.3 ms, total: 37.8 s\n",
      "Wall time: 37.8 s\n"
     ]
    }
   ],
   "source": [
    "%time sim.run_simulation()\n",
    "sim.save_data('data/data_sim')"
   ]
  },
  {
   "cell_type": "markdown",
   "id": "523b23ff",
   "metadata": {},
   "source": [
    "## Analyze statistics\n"
   ]
  },
  {
   "cell_type": "code",
   "execution_count": 7,
   "id": "10e57f70",
   "metadata": {},
   "outputs": [
    {
     "data": {
      "text/html": [
       "<div>\n",
       "<style scoped>\n",
       "    .dataframe tbody tr th:only-of-type {\n",
       "        vertical-align: middle;\n",
       "    }\n",
       "\n",
       "    .dataframe tbody tr th {\n",
       "        vertical-align: top;\n",
       "    }\n",
       "\n",
       "    .dataframe thead th {\n",
       "        text-align: right;\n",
       "    }\n",
       "</style>\n",
       "<table border=\"1\" class=\"dataframe\">\n",
       "  <thead>\n",
       "    <tr style=\"text-align: right;\">\n",
       "      <th></th>\n",
       "      <th>id</th>\n",
       "      <th>i</th>\n",
       "      <th>d</th>\n",
       "      <th>x</th>\n",
       "      <th>y</th>\n",
       "      <th>z</th>\n",
       "      <th>phi</th>\n",
       "      <th>pitch_angle</th>\n",
       "      <th>radius</th>\n",
       "      <th>sub_step</th>\n",
       "    </tr>\n",
       "  </thead>\n",
       "  <tbody>\n",
       "    <tr>\n",
       "      <th>0</th>\n",
       "      <td>0.0</td>\n",
       "      <td>1003.0</td>\n",
       "      <td>5.651675e+12</td>\n",
       "      <td>-2.889881e+11</td>\n",
       "      <td>-3.287367e+10</td>\n",
       "      <td>-4.993355e+12</td>\n",
       "      <td>140.899948</td>\n",
       "      <td>3.234529</td>\n",
       "      <td>5.000000e+12</td>\n",
       "      <td>2.0</td>\n",
       "    </tr>\n",
       "    <tr>\n",
       "      <th>1</th>\n",
       "      <td>0.0</td>\n",
       "      <td>2452.0</td>\n",
       "      <td>1.381686e+13</td>\n",
       "      <td>-2.543425e+11</td>\n",
       "      <td>5.599217e+10</td>\n",
       "      <td>-9.996887e+12</td>\n",
       "      <td>142.188461</td>\n",
       "      <td>3.234529</td>\n",
       "      <td>1.000000e+13</td>\n",
       "      <td>2.0</td>\n",
       "    </tr>\n",
       "    <tr>\n",
       "      <th>2</th>\n",
       "      <td>0.0</td>\n",
       "      <td>5710.0</td>\n",
       "      <td>3.217041e+13</td>\n",
       "      <td>2.173142e+11</td>\n",
       "      <td>4.490303e+11</td>\n",
       "      <td>-9.986929e+12</td>\n",
       "      <td>137.284164</td>\n",
       "      <td>3.234529</td>\n",
       "      <td>1.000000e+13</td>\n",
       "      <td>2.0</td>\n",
       "    </tr>\n",
       "    <tr>\n",
       "      <th>3</th>\n",
       "      <td>0.0</td>\n",
       "      <td>6536.0</td>\n",
       "      <td>3.682323e+13</td>\n",
       "      <td>2.210315e+11</td>\n",
       "      <td>5.475601e+11</td>\n",
       "      <td>-9.986929e+12</td>\n",
       "      <td>139.759018</td>\n",
       "      <td>3.234529</td>\n",
       "      <td>1.000000e+13</td>\n",
       "      <td>2.0</td>\n",
       "    </tr>\n",
       "    <tr>\n",
       "      <th>4</th>\n",
       "      <td>0.0</td>\n",
       "      <td>7854.0</td>\n",
       "      <td>4.424746e+13</td>\n",
       "      <td>-3.333271e+09</td>\n",
       "      <td>6.583992e+11</td>\n",
       "      <td>-9.976972e+12</td>\n",
       "      <td>134.593613</td>\n",
       "      <td>3.234529</td>\n",
       "      <td>1.000000e+13</td>\n",
       "      <td>2.0</td>\n",
       "    </tr>\n",
       "    <tr>\n",
       "      <th>...</th>\n",
       "      <td>...</td>\n",
       "      <td>...</td>\n",
       "      <td>...</td>\n",
       "      <td>...</td>\n",
       "      <td>...</td>\n",
       "      <td>...</td>\n",
       "      <td>...</td>\n",
       "      <td>...</td>\n",
       "      <td>...</td>\n",
       "      <td>...</td>\n",
       "    </tr>\n",
       "    <tr>\n",
       "      <th>6769</th>\n",
       "      <td>998.0</td>\n",
       "      <td>5768.0</td>\n",
       "      <td>4.967224e+13</td>\n",
       "      <td>5.039210e+11</td>\n",
       "      <td>-5.742849e+11</td>\n",
       "      <td>9.971382e+12</td>\n",
       "      <td>29.795042</td>\n",
       "      <td>5.434243</td>\n",
       "      <td>1.000000e+13</td>\n",
       "      <td>2.0</td>\n",
       "    </tr>\n",
       "    <tr>\n",
       "      <th>6770</th>\n",
       "      <td>998.0</td>\n",
       "      <td>8169.0</td>\n",
       "      <td>7.035710e+13</td>\n",
       "      <td>5.889137e+11</td>\n",
       "      <td>-1.024785e+11</td>\n",
       "      <td>9.981294e+12</td>\n",
       "      <td>-30.328459</td>\n",
       "      <td>5.434243</td>\n",
       "      <td>1.000000e+13</td>\n",
       "      <td>2.0</td>\n",
       "    </tr>\n",
       "    <tr>\n",
       "      <th>6771</th>\n",
       "      <td>998.0</td>\n",
       "      <td>10837.0</td>\n",
       "      <td>9.331982e+13</td>\n",
       "      <td>3.871501e+11</td>\n",
       "      <td>-5.015692e+11</td>\n",
       "      <td>9.981294e+12</td>\n",
       "      <td>78.436554</td>\n",
       "      <td>5.434243</td>\n",
       "      <td>1.000000e+13</td>\n",
       "      <td>2.0</td>\n",
       "    </tr>\n",
       "    <tr>\n",
       "      <th>6772</th>\n",
       "      <td>998.0</td>\n",
       "      <td>11789.0</td>\n",
       "      <td>1.015134e+14</td>\n",
       "      <td>4.540361e+11</td>\n",
       "      <td>-3.427539e+11</td>\n",
       "      <td>9.981294e+12</td>\n",
       "      <td>63.371803</td>\n",
       "      <td>5.434243</td>\n",
       "      <td>1.000000e+13</td>\n",
       "      <td>2.0</td>\n",
       "    </tr>\n",
       "    <tr>\n",
       "      <th>6773</th>\n",
       "      <td>998.0</td>\n",
       "      <td>13204.0</td>\n",
       "      <td>1.136919e+14</td>\n",
       "      <td>9.747189e+10</td>\n",
       "      <td>-2.632233e+11</td>\n",
       "      <td>9.997815e+12</td>\n",
       "      <td>54.323048</td>\n",
       "      <td>5.434243</td>\n",
       "      <td>1.000000e+13</td>\n",
       "      <td>2.0</td>\n",
       "    </tr>\n",
       "  </tbody>\n",
       "</table>\n",
       "<p>6774 rows × 10 columns</p>\n",
       "</div>"
      ],
      "text/plain": [
       "         id        i             d             x             y             z  \\\n",
       "0       0.0   1003.0  5.651675e+12 -2.889881e+11 -3.287367e+10 -4.993355e+12   \n",
       "1       0.0   2452.0  1.381686e+13 -2.543425e+11  5.599217e+10 -9.996887e+12   \n",
       "2       0.0   5710.0  3.217041e+13  2.173142e+11  4.490303e+11 -9.986929e+12   \n",
       "3       0.0   6536.0  3.682323e+13  2.210315e+11  5.475601e+11 -9.986929e+12   \n",
       "4       0.0   7854.0  4.424746e+13 -3.333271e+09  6.583992e+11 -9.976972e+12   \n",
       "...     ...      ...           ...           ...           ...           ...   \n",
       "6769  998.0   5768.0  4.967224e+13  5.039210e+11 -5.742849e+11  9.971382e+12   \n",
       "6770  998.0   8169.0  7.035710e+13  5.889137e+11 -1.024785e+11  9.981294e+12   \n",
       "6771  998.0  10837.0  9.331982e+13  3.871501e+11 -5.015692e+11  9.981294e+12   \n",
       "6772  998.0  11789.0  1.015134e+14  4.540361e+11 -3.427539e+11  9.981294e+12   \n",
       "6773  998.0  13204.0  1.136919e+14  9.747189e+10 -2.632233e+11  9.997815e+12   \n",
       "\n",
       "             phi  pitch_angle        radius  sub_step  \n",
       "0     140.899948     3.234529  5.000000e+12       2.0  \n",
       "1     142.188461     3.234529  1.000000e+13       2.0  \n",
       "2     137.284164     3.234529  1.000000e+13       2.0  \n",
       "3     139.759018     3.234529  1.000000e+13       2.0  \n",
       "4     134.593613     3.234529  1.000000e+13       2.0  \n",
       "...          ...          ...           ...       ...  \n",
       "6769   29.795042     5.434243  1.000000e+13       2.0  \n",
       "6770  -30.328459     5.434243  1.000000e+13       2.0  \n",
       "6771   78.436554     5.434243  1.000000e+13       2.0  \n",
       "6772   63.371803     5.434243  1.000000e+13       2.0  \n",
       "6773   54.323048     5.434243  1.000000e+13       2.0  \n",
       "\n",
       "[6774 rows x 10 columns]"
      ]
     },
     "execution_count": 7,
     "metadata": {},
     "output_type": "execute_result"
    }
   ],
   "source": [
    "df = pd.read_pickle(\"data/data_sim.pkl\")\n",
    "df"
   ]
  },
  {
   "cell_type": "code",
   "execution_count": 8,
   "id": "e26127fc",
   "metadata": {},
   "outputs": [
    {
     "name": "stdout",
     "output_type": "stream",
     "text": [
      "10000000000000\n",
      "[4.99999991e+12 9.99999983e+12]\n"
     ]
    },
    {
     "data": {
      "image/png": "[encoded data removed]",
      "text/plain": [
       "<Figure size 432x288 with 1 Axes>"
      ]
     },
     "metadata": {
      "needs_background": "light"
     },
     "output_type": "display_data"
    }
   ],
   "source": [
    "print(spheres[0])\n",
    "spheres = df['radius'].unique()\n",
    "print(spheres)\n",
    "for sphere in spheres:\n",
    "    df_sphere = df.loc[df['radius'] == sphere]\n",
    "    plt.hist(df_sphere['d'], bins = 100, label='sphere '+str(sphere)+' m')\n",
    "    \n",
    "plt.xlabel('d [m]')\n",
    "plt.ylabel('# particles')\n",
    "plt.legend()\n",
    "plt.show()"
   ]
  },
  {
   "cell_type": "code",
   "execution_count": null,
   "id": "e38f784b",
   "metadata": {},
   "outputs": [],
   "source": []
  }
 ],
 "metadata": {
  "kernelspec": {
   "display_name": "Python 3",
   "language": "python",
   "name": "python3"
  },
  "language_info": {
   "codemirror_mode": {
    "name": "ipython",
    "version": 3
   },
   "file_extension": ".py",
   "mimetype": "text/x-python",
   "name": "python",
   "nbconvert_exporter": "python",
   "pygments_lexer": "ipython3",
   "version": "3.8.5"
  }
 },
 "nbformat": 4,
 "nbformat_minor": 5
}
