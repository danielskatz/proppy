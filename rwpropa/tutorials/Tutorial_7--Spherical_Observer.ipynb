{
 "cells": [
  {
   "cell_type": "code",
   "execution_count": 1,
   "id": "5045552e",
   "metadata": {},
   "outputs": [],
   "source": [
    "import numpy as np\n",
    "import matplotlib.pyplot as plt\n",
    "import pandas as pd\n",
    "import os\n",
    "os.chdir('..')\n",
    "import rwpropa as rw"
   ]
  },
  {
   "cell_type": "markdown",
   "id": "612c2b8f",
   "metadata": {},
   "source": [
    "## Simulation setup"
   ]
  },
  {
   "cell_type": "markdown",
   "id": "95bb1fd1",
   "metadata": {},
   "source": [
    "#### Simulation setup"
   ]
  },
  {
   "cell_type": "code",
   "execution_count": 2,
   "id": "753756c3",
   "metadata": {},
   "outputs": [
    {
     "name": "stdout",
     "output_type": "stream",
     "text": [
      "start simulation\n"
     ]
    }
   ],
   "source": [
    "sim = rw.Simulation()"
   ]
  },
  {
   "cell_type": "markdown",
   "id": "b5615fb2",
   "metadata": {},
   "source": [
    "#### Source "
   ]
  },
  {
   "cell_type": "code",
   "execution_count": 24,
   "id": "e8fa9154",
   "metadata": {},
   "outputs": [
    {
     "name": "stdout",
     "output_type": "stream",
     "text": [
      "Description Source:\n",
      "                The source defines the start conditions of the particles \n",
      "                and covers the position, direction, energy, etc\n",
      "\n",
      "position:  [0. 0. 0.]\n",
      "number particles:  1000\n",
      "energy:  3000000000000000  eV\n",
      "source tpye: PointSourceOriented\n",
      "pitch angle:  0.955393232541696\n",
      "phi:  0.0\n"
     ]
    }
   ],
   "source": [
    "nr_particles = 1*10**3\n",
    "source_pos = np.array([0.0, 0.0, 0.0], dtype=np.float32)\n",
    "delta_rho_div_phi = 1 #1/2**0.5 # (delta_r_rho / delta_r_phi)\n",
    "energy = 3*10**15 # eV\n",
    "phi = 0.0\n",
    "pitch_angle = 2*np.pi * 54.74/360 # pitch angle for equal components in all directions\n",
    "        \n",
    "\n",
    "source = rw.PointSourceOriented(energy, source_pos, nr_particles, pitch_angle, phi)\n",
    "sim.add_source(source)\n",
    "sim.source.get_description()"
   ]
  },
  {
   "cell_type": "markdown",
   "id": "20fdd580",
   "metadata": {},
   "source": [
    "#### Propagator"
   ]
  },
  {
   "cell_type": "code",
   "execution_count": 25,
   "id": "ae4a9f45",
   "metadata": {},
   "outputs": [
    {
     "name": "stdout",
     "output_type": "stream",
     "text": [
      "Propagator initialized\n",
      "Description Propagator:\n",
      "                The propagator is responsible for the movement of the particles. \n",
      "                It performs the change of direction and the movement in the respective direction.\n",
      "                There are two phases:\n",
      "                 - change direction with probability (see below)\n",
      "                 - move in all directions\n",
      "                The movement takes place according to the random walk (RW).\n",
      "\n",
      "propagation tpye: AnisotropicPropagator\n",
      "Description Propagator:\n",
      "                The propagator is responsible for the movement of the particles. \n",
      "                It performs the change of direction and the movement in the respective direction.\n",
      "                There are two phases:\n",
      "                 - change direction with probability (see below)\n",
      "                 - move in all directions\n",
      "                The movement takes place according to the random walk (RW).\n",
      "\n",
      "coordinates: Cylindrical coordinates\n",
      "dimensions:  3\n",
      "pitch angle: constant\n",
      "particle speed:  299800000.0  m/s\n",
      "number steps:  10000\n",
      "step size:  5000000000.0  m\n",
      "step duration:  16.677785873413086  s\n",
      "total distance:  50000000000000.0  m\n",
      "total duration:  166777.8519012675  s\n",
      "probability to change directions in step:  [0.23474179 0.23474179 0.11860707] %\n"
     ]
    }
   ],
   "source": [
    "nr_steps = 1*10**4\n",
    "step_size = 0.5*10**10 # [m]\n",
    "mfp = np.array([2.13*10**12/2.0, 2.13*10**12/2.0, 2.1078*10**12], dtype=np.float32)  # [m]\n",
    "rms = 1 # Gaus\n",
    "magnetic_field = rw.OrderedBackgroundField(rms, [0,0,1]).magnetic_field\n",
    "\n",
    "propagator = rw.AnisotropicPropagator(magnetic_field, mfp, nr_steps, step_size)\n",
    "#propagator.set_pitch_angle_const(False)\n",
    "sim.add_propagator(propagator)\n",
    "sim.propagator.get_description()"
   ]
  },
  {
   "cell_type": "markdown",
   "id": "d89ac241",
   "metadata": {},
   "source": [
    "#### Observer"
   ]
  },
  {
   "cell_type": "code",
   "execution_count": 35,
   "id": "cfd6400f",
   "metadata": {},
   "outputs": [
    {
     "name": "stdout",
     "output_type": "stream",
     "text": [
      "number steps:  0\n",
      "Observer initialized\n",
      "Description Observer:\n",
      "                The observer defines the conditions for when to write data to the output.\n",
      "\n",
      "observer tpye: SphericalObserver\n",
      "spheres:  [-1.e+00  1.e+13  3.e+12]\n",
      "steps [0:10]:  []\n",
      "steps [-11:-1]:  []\n",
      "nr steps:  0\n",
      "substeps:  [False False  True]\n",
      "all_steps:  False\n"
     ]
    }
   ],
   "source": [
    "substeps = [False, False, True] # observe only steps (no substeps)\n",
    "spheres = [1*10**13, 3*10**12]\n",
    "\n",
    "observer = rw.SphericalObserver(substeps, spheres)\n",
    "\n",
    "sim.add_observer(observer)\n",
    "sim.observer.get_description()"
   ]
  },
  {
   "cell_type": "code",
   "execution_count": 36,
   "id": "f1541944",
   "metadata": {},
   "outputs": [
    {
     "name": "stdout",
     "output_type": "stream",
     "text": [
      "CPU times: user 16 s, sys: 3.61 ms, total: 16 s\n",
      "Wall time: 16 s\n"
     ]
    }
   ],
   "source": [
    "%time sim.run_simulation()\n",
    "sim.save_data('data/data_sim')"
   ]
  },
  {
   "cell_type": "markdown",
   "id": "523b23ff",
   "metadata": {},
   "source": [
    "## Analyze statistics\n"
   ]
  },
  {
   "cell_type": "code",
   "execution_count": 37,
   "id": "10e57f70",
   "metadata": {},
   "outputs": [
    {
     "data": {
      "text/html": [
       "<div>\n",
       "<style scoped>\n",
       "    .dataframe tbody tr th:only-of-type {\n",
       "        vertical-align: middle;\n",
       "    }\n",
       "\n",
       "    .dataframe tbody tr th {\n",
       "        vertical-align: top;\n",
       "    }\n",
       "\n",
       "    .dataframe thead th {\n",
       "        text-align: right;\n",
       "    }\n",
       "</style>\n",
       "<table border=\"1\" class=\"dataframe\">\n",
       "  <thead>\n",
       "    <tr style=\"text-align: right;\">\n",
       "      <th></th>\n",
       "      <th>id</th>\n",
       "      <th>i</th>\n",
       "      <th>d</th>\n",
       "      <th>x</th>\n",
       "      <th>y</th>\n",
       "      <th>z</th>\n",
       "      <th>phi</th>\n",
       "      <th>pitch_angle</th>\n",
       "      <th>radius</th>\n",
       "      <th>sub_step</th>\n",
       "    </tr>\n",
       "  </thead>\n",
       "  <tbody>\n",
       "    <tr>\n",
       "      <th>0</th>\n",
       "      <td>0.0</td>\n",
       "      <td>4417.0</td>\n",
       "      <td>2.275481e+13</td>\n",
       "      <td>1.190016e+12</td>\n",
       "      <td>1.569842e+11</td>\n",
       "      <td>-2.750797e+12</td>\n",
       "      <td>122.768364</td>\n",
       "      <td>0.955393</td>\n",
       "      <td>3.000000e+12</td>\n",
       "      <td>2.0</td>\n",
       "    </tr>\n",
       "    <tr>\n",
       "      <th>1</th>\n",
       "      <td>0.0</td>\n",
       "      <td>6319.0</td>\n",
       "      <td>3.370529e+13</td>\n",
       "      <td>1.067595e+12</td>\n",
       "      <td>2.799284e+11</td>\n",
       "      <td>-2.785435e+12</td>\n",
       "      <td>204.222794</td>\n",
       "      <td>0.955393</td>\n",
       "      <td>3.000000e+12</td>\n",
       "      <td>2.0</td>\n",
       "    </tr>\n",
       "    <tr>\n",
       "      <th>2</th>\n",
       "      <td>1.0</td>\n",
       "      <td>1031.0</td>\n",
       "      <td>8.928466e+12</td>\n",
       "      <td>3.508088e+11</td>\n",
       "      <td>1.608036e+11</td>\n",
       "      <td>2.975942e+12</td>\n",
       "      <td>24.734226</td>\n",
       "      <td>0.955393</td>\n",
       "      <td>3.000000e+12</td>\n",
       "      <td>2.0</td>\n",
       "    </tr>\n",
       "    <tr>\n",
       "      <th>3</th>\n",
       "      <td>1.0</td>\n",
       "      <td>2932.0</td>\n",
       "      <td>1.992656e+13</td>\n",
       "      <td>2.919911e+10</td>\n",
       "      <td>8.753086e+10</td>\n",
       "      <td>2.996147e+12</td>\n",
       "      <td>-70.255249</td>\n",
       "      <td>0.955393</td>\n",
       "      <td>3.000000e+12</td>\n",
       "      <td>2.0</td>\n",
       "    </tr>\n",
       "    <tr>\n",
       "      <th>4</th>\n",
       "      <td>1.0</td>\n",
       "      <td>3384.0</td>\n",
       "      <td>2.253134e+13</td>\n",
       "      <td>1.242932e+11</td>\n",
       "      <td>2.090945e+11</td>\n",
       "      <td>2.990374e+12</td>\n",
       "      <td>-92.839386</td>\n",
       "      <td>0.955393</td>\n",
       "      <td>3.000000e+12</td>\n",
       "      <td>2.0</td>\n",
       "    </tr>\n",
       "    <tr>\n",
       "      <th>...</th>\n",
       "      <td>...</td>\n",
       "      <td>...</td>\n",
       "      <td>...</td>\n",
       "      <td>...</td>\n",
       "      <td>...</td>\n",
       "      <td>...</td>\n",
       "      <td>...</td>\n",
       "      <td>...</td>\n",
       "      <td>...</td>\n",
       "      <td>...</td>\n",
       "    </tr>\n",
       "    <tr>\n",
       "      <th>4207</th>\n",
       "      <td>998.0</td>\n",
       "      <td>9819.0</td>\n",
       "      <td>4.676165e+13</td>\n",
       "      <td>-4.524924e+11</td>\n",
       "      <td>-9.930122e+11</td>\n",
       "      <td>-9.937806e+12</td>\n",
       "      <td>-76.400932</td>\n",
       "      <td>0.955393</td>\n",
       "      <td>1.000000e+13</td>\n",
       "      <td>2.0</td>\n",
       "    </tr>\n",
       "    <tr>\n",
       "      <th>4208</th>\n",
       "      <td>999.0</td>\n",
       "      <td>1039.0</td>\n",
       "      <td>8.997748e+12</td>\n",
       "      <td>-8.906835e+10</td>\n",
       "      <td>-2.517589e+10</td>\n",
       "      <td>2.999034e+12</td>\n",
       "      <td>40.724216</td>\n",
       "      <td>0.955393</td>\n",
       "      <td>3.000000e+12</td>\n",
       "      <td>2.0</td>\n",
       "    </tr>\n",
       "    <tr>\n",
       "      <th>4209</th>\n",
       "      <td>999.0</td>\n",
       "      <td>1108.0</td>\n",
       "      <td>9.393230e+12</td>\n",
       "      <td>3.209845e+10</td>\n",
       "      <td>-1.349843e+11</td>\n",
       "      <td>2.996147e+12</td>\n",
       "      <td>44.172058</td>\n",
       "      <td>0.955393</td>\n",
       "      <td>3.000000e+12</td>\n",
       "      <td>2.0</td>\n",
       "    </tr>\n",
       "    <tr>\n",
       "      <th>4210</th>\n",
       "      <td>999.0</td>\n",
       "      <td>6420.0</td>\n",
       "      <td>3.409901e+13</td>\n",
       "      <td>-1.918805e+11</td>\n",
       "      <td>-3.613998e+11</td>\n",
       "      <td>-2.973056e+12</td>\n",
       "      <td>-5.896215</td>\n",
       "      <td>0.955393</td>\n",
       "      <td>3.000000e+12</td>\n",
       "      <td>2.0</td>\n",
       "    </tr>\n",
       "    <tr>\n",
       "      <th>4211</th>\n",
       "      <td>999.0</td>\n",
       "      <td>9964.0</td>\n",
       "      <td>4.753054e+13</td>\n",
       "      <td>6.745951e+08</td>\n",
       "      <td>2.043772e+11</td>\n",
       "      <td>-9.998427e+12</td>\n",
       "      <td>23.385067</td>\n",
       "      <td>0.955393</td>\n",
       "      <td>1.000000e+13</td>\n",
       "      <td>2.0</td>\n",
       "    </tr>\n",
       "  </tbody>\n",
       "</table>\n",
       "<p>4212 rows × 10 columns</p>\n",
       "</div>"
      ],
      "text/plain": [
       "         id       i             d             x             y             z  \\\n",
       "0       0.0  4417.0  2.275481e+13  1.190016e+12  1.569842e+11 -2.750797e+12   \n",
       "1       0.0  6319.0  3.370529e+13  1.067595e+12  2.799284e+11 -2.785435e+12   \n",
       "2       1.0  1031.0  8.928466e+12  3.508088e+11  1.608036e+11  2.975942e+12   \n",
       "3       1.0  2932.0  1.992656e+13  2.919911e+10  8.753086e+10  2.996147e+12   \n",
       "4       1.0  3384.0  2.253134e+13  1.242932e+11  2.090945e+11  2.990374e+12   \n",
       "...     ...     ...           ...           ...           ...           ...   \n",
       "4207  998.0  9819.0  4.676165e+13 -4.524924e+11 -9.930122e+11 -9.937806e+12   \n",
       "4208  999.0  1039.0  8.997748e+12 -8.906835e+10 -2.517589e+10  2.999034e+12   \n",
       "4209  999.0  1108.0  9.393230e+12  3.209845e+10 -1.349843e+11  2.996147e+12   \n",
       "4210  999.0  6420.0  3.409901e+13 -1.918805e+11 -3.613998e+11 -2.973056e+12   \n",
       "4211  999.0  9964.0  4.753054e+13  6.745951e+08  2.043772e+11 -9.998427e+12   \n",
       "\n",
       "             phi  pitch_angle        radius  sub_step  \n",
       "0     122.768364     0.955393  3.000000e+12       2.0  \n",
       "1     204.222794     0.955393  3.000000e+12       2.0  \n",
       "2      24.734226     0.955393  3.000000e+12       2.0  \n",
       "3     -70.255249     0.955393  3.000000e+12       2.0  \n",
       "4     -92.839386     0.955393  3.000000e+12       2.0  \n",
       "...          ...          ...           ...       ...  \n",
       "4207  -76.400932     0.955393  1.000000e+13       2.0  \n",
       "4208   40.724216     0.955393  3.000000e+12       2.0  \n",
       "4209   44.172058     0.955393  3.000000e+12       2.0  \n",
       "4210   -5.896215     0.955393  3.000000e+12       2.0  \n",
       "4211   23.385067     0.955393  1.000000e+13       2.0  \n",
       "\n",
       "[4212 rows x 10 columns]"
      ]
     },
     "execution_count": 37,
     "metadata": {},
     "output_type": "execute_result"
    }
   ],
   "source": [
    "df = pd.read_pickle(\"data/data_sim.pkl\")\n",
    "df"
   ]
  },
  {
   "cell_type": "code",
   "execution_count": 44,
   "id": "e26127fc",
   "metadata": {},
   "outputs": [
    {
     "name": "stdout",
     "output_type": "stream",
     "text": [
      "3000000053248.0\n",
      "[3.00000005e+12 9.99999983e+12]\n"
     ]
    },
    {
     "data": {
      "image/png": "[encoded data removed]",
      "text/plain": [
       "<Figure size 432x288 with 1 Axes>"
      ]
     },
     "metadata": {
      "needs_background": "light"
     },
     "output_type": "display_data"
    }
   ],
   "source": [
    "print(spheres[0])\n",
    "spheres = df['radius'].unique()\n",
    "print(spheres)\n",
    "for sphere in spheres:\n",
    "    df_sphere = df.loc[df['radius'] == sphere]\n",
    "    plt.hist(df_sphere['d'], bins = 50, label='sphere '+str(sphere)+' m')\n",
    "    \n",
    "plt.legend()\n",
    "plt.show()"
   ]
  },
  {
   "cell_type": "code",
   "execution_count": null,
   "id": "e38f784b",
   "metadata": {},
   "outputs": [],
   "source": []
  },
  {
   "cell_type": "code",
   "execution_count": null,
   "id": "35d2bc0f",
   "metadata": {},
   "outputs": [],
   "source": []
  }
 ],
 "metadata": {
  "kernelspec": {
   "display_name": "Python 3",
   "language": "python",
   "name": "python3"
  },
  "language_info": {
   "codemirror_mode": {
    "name": "ipython",
    "version": 3
   },
   "file_extension": ".py",
   "mimetype": "text/x-python",
   "name": "python",
   "nbconvert_exporter": "python",
   "pygments_lexer": "ipython3",
   "version": "3.8.5"
  }
 },
 "nbformat": 4,
 "nbformat_minor": 5
}
