{
 "cells": [
  {
   "cell_type": "code",
   "execution_count": 1,
   "id": "92e120c2",
   "metadata": {},
   "outputs": [],
   "source": [
    "import numpy as np\n",
    "import matplotlib.pyplot as plt\n",
    "import pandas as pd\n",
    "import os\n",
    "os.chdir('..')\n",
    "import rwpropa as rw"
   ]
  },
  {
   "cell_type": "code",
   "execution_count": 2,
   "id": "c8d22b25",
   "metadata": {},
   "outputs": [
    {
     "name": "stdout",
     "output_type": "stream",
     "text": [
      "simulate with a diffusion coefficient of  1.5e+21 m²/s\n",
      "start simulation\n",
      "Propagator initialized\n",
      "Observer initialized\n",
      "CPU times: user 29.8 s, sys: 691 ms, total: 30.5 s\n",
      "Wall time: 31 s\n"
     ]
    }
   ],
   "source": [
    "RWPropa = rw.RWPropa()\n",
    "%time RWPropa.simulate()"
   ]
  },
  {
   "cell_type": "code",
   "execution_count": null,
   "id": "91dabfa9",
   "metadata": {},
   "outputs": [
    {
     "name": "stdout",
     "output_type": "stream",
     "text": [
      "init statistics plotting class\n"
     ]
    }
   ],
   "source": [
    "df = pd.read_pickle(\"data/test.pkl\")\n",
    "sta = rw.Statistics(df)\n",
    "df_kappas = sta.plot_diffusion_coefficients(n_points_plateau=100)"
   ]
  },
  {
   "cell_type": "code",
   "execution_count": null,
   "id": "e1a7bd2f",
   "metadata": {},
   "outputs": [],
   "source": []
  }
 ],
 "metadata": {
  "kernelspec": {
   "display_name": "Python 3",
   "language": "python",
   "name": "python3"
  },
  "language_info": {
   "codemirror_mode": {
    "name": "ipython",
    "version": 3
   },
   "file_extension": ".py",
   "mimetype": "text/x-python",
   "name": "python",
   "nbconvert_exporter": "python",
   "pygments_lexer": "ipython3",
   "version": "3.8.5"
  }
 },
 "nbformat": 4,
 "nbformat_minor": 5
}
