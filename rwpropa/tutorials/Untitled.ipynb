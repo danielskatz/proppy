{
 "cells": [
  {
   "cell_type": "code",
   "execution_count": 1,
   "id": "3d5d4d33",
   "metadata": {},
   "outputs": [],
   "source": [
    "import os\n",
    "os.chdir('..')\n",
    "import rwpropa as rw"
   ]
  },
  {
   "cell_type": "code",
   "execution_count": 2,
   "id": "361be125",
   "metadata": {},
   "outputs": [
    {
     "name": "stdout",
     "output_type": "stream",
     "text": [
      "start simulation\n",
      "start simulation\n",
      "Description Source:\n",
      "                The source defines the start conditions of the particles \n",
      "                and covers the position, direction, energy, etc\n",
      "\n",
      "position:  [0. 0. 0.]\n",
      "number particles:  1000\n",
      "energy:  3000000000000000  eV\n",
      "source tpye: PointSourceIsotropic\n"
     ]
    },
    {
     "data": {
      "text/plain": [
       "<rwpropa.simulation.SimulationTemplate at 0x7fa29534cbe0>"
      ]
     },
     "execution_count": 2,
     "metadata": {},
     "output_type": "execute_result"
    }
   ],
   "source": [
    "rw.SimulationTemplate()"
   ]
  },
  {
   "cell_type": "code",
   "execution_count": null,
   "id": "5809dc63",
   "metadata": {},
   "outputs": [],
   "source": []
  }
 ],
 "metadata": {
  "kernelspec": {
   "display_name": "Python 3",
   "language": "python",
   "name": "python3"
  },
  "language_info": {
   "codemirror_mode": {
    "name": "ipython",
    "version": 3
   },
   "file_extension": ".py",
   "mimetype": "text/x-python",
   "name": "python",
   "nbconvert_exporter": "python",
   "pygments_lexer": "ipython3",
   "version": "3.8.5"
  }
 },
 "nbformat": 4,
 "nbformat_minor": 5
}
