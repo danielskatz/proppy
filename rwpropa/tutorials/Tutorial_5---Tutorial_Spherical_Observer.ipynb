{
 "cells": [
  {
   "cell_type": "code",
   "execution_count": 1,
   "id": "5045552e",
   "metadata": {},
   "outputs": [],
   "source": [
    "import numpy as np\n",
    "import matplotlib.pyplot as plt\n",
    "import pandas as pd\n",
    "import os\n",
    "os.chdir('..')\n",
    "import rwpropa as rw"
   ]
  },
  {
   "cell_type": "markdown",
   "id": "612c2b8f",
   "metadata": {},
   "source": [
    "### Simulation"
   ]
  },
  {
   "cell_type": "code",
   "execution_count": 19,
   "id": "753756c3",
   "metadata": {},
   "outputs": [
    {
     "name": "stdout",
     "output_type": "stream",
     "text": [
      "start simulation\n",
      "Propagator initialized\n",
      "Observer initialized\n",
      "CPU times: user 2.15 ms, sys: 0 ns, total: 2.15 ms\n",
      "Wall time: 2.18 ms\n",
      "saved data file data/data_tut_5.pkl\n"
     ]
    }
   ],
   "source": [
    "sim = rw.Simulation()\n",
    "\n",
    "nr_particles = 1*10**1\n",
    "source_pos = np.array([0.0, 0.0, 0.0], dtype=np.float32)\n",
    "energy = 10**12 # eV\n",
    "source = rw.PointSourceIsotropicPhi(energy, source_pos, nr_particles)\n",
    "sim.add_source(source)\n",
    "\n",
    "nr_steps = 1*10**5\n",
    "step_size = 0.10001*10**10 # [m]\n",
    "diffusion_coefficient = 1.5*10**20 # [m^2/s]\n",
    "speed_of_light = 3*10**8 # [m/s]\n",
    "mfp_iso = 3*diffusion_coefficient/speed_of_light\n",
    "mfp = np.array([mfp_iso, mfp_iso, mfp_iso], dtype=np.float32)  # [m]\n",
    "propagator = rw.IsotropicPropagator(mfp, nr_steps, step_size)\n",
    "sim.add_propagator(propagator)\n",
    "\n",
    "substeps = [False, False, True] # observe only steps (no substeps)\n",
    "spheres = [10**10]\n",
    "observer = rw.SphericalObserver(substeps, spheres, on_detection_deactivate=True)\n",
    "sim.add_observer(observer)\n",
    "\n",
    "%time sim.run_simulation()\n",
    "sim.save_data('data/data_tut_5')"
   ]
  },
  {
   "cell_type": "markdown",
   "id": "0c3a9aca",
   "metadata": {},
   "source": [
    "### Analysis"
   ]
  },
  {
   "cell_type": "code",
   "execution_count": 20,
   "id": "90943841",
   "metadata": {},
   "outputs": [
    {
     "data": {
      "image/png": "[encoded data removed]",
      "text/plain": [
       "<Figure size 432x288 with 1 Axes>"
      ]
     },
     "metadata": {
      "needs_background": "light"
     },
     "output_type": "display_data"
    }
   ],
   "source": [
    "df = pd.read_pickle(\"data/data_tut_5.pkl\")\n",
    "bins = 10\n",
    "hist, bins = np.histogram(df['d'], bins=bins)\n",
    "logbins = np.logspace(np.log10(min(df['d'])),np.log10(max(df['d'])),len(bins))\n",
    "plt.hist(df['d'], bins=logbins, alpha=0.5)\n",
    "\n",
    "plt.loglog()\n",
    "plt.show()"
   ]
  },
  {
   "cell_type": "code",
   "execution_count": 21,
   "id": "5bbb2271",
   "metadata": {},
   "outputs": [
    {
     "data": {
      "text/plain": [
       "(array([ 0.,  0.,  0.,  0.,  0., 10.,  0.,  0.,  0.,  0.]),\n",
       " array([1.00010004e+10, 1.00010004e+10, 1.00010004e+10, 1.00010004e+10,\n",
       "        1.00010004e+10, 1.00010004e+10, 1.00010004e+10, 1.00010004e+10,\n",
       "        1.00010004e+10, 1.00010004e+10, 1.00010004e+10]),\n",
       " <BarContainer object of 10 artists>)"
      ]
     },
     "execution_count": 21,
     "metadata": {},
     "output_type": "execute_result"
    },
    {
     "data": {
      "image/png": "[encoded data removed]",
      "text/plain": [
       "<Figure size 432x288 with 1 Axes>"
      ]
     },
     "metadata": {
      "needs_background": "light"
     },
     "output_type": "display_data"
    }
   ],
   "source": [
    "plt.hist(df['d'], bins=10)"
   ]
  },
  {
   "cell_type": "code",
   "execution_count": 22,
   "id": "a423d3b8",
   "metadata": {},
   "outputs": [
    {
     "data": {
      "text/html": [
       "<div>\n",
       "<style scoped>\n",
       "    .dataframe tbody tr th:only-of-type {\n",
       "        vertical-align: middle;\n",
       "    }\n",
       "\n",
       "    .dataframe tbody tr th {\n",
       "        vertical-align: top;\n",
       "    }\n",
       "\n",
       "    .dataframe thead th {\n",
       "        text-align: right;\n",
       "    }\n",
       "</style>\n",
       "<table border=\"1\" class=\"dataframe\">\n",
       "  <thead>\n",
       "    <tr style=\"text-align: right;\">\n",
       "      <th></th>\n",
       "      <th>id</th>\n",
       "      <th>i</th>\n",
       "      <th>d</th>\n",
       "      <th>x</th>\n",
       "      <th>y</th>\n",
       "      <th>z</th>\n",
       "      <th>phi</th>\n",
       "      <th>pitch_angle</th>\n",
       "      <th>radius</th>\n",
       "      <th>sub_step</th>\n",
       "    </tr>\n",
       "  </thead>\n",
       "  <tbody>\n",
       "    <tr>\n",
       "      <th>0</th>\n",
       "      <td>0.0</td>\n",
       "      <td>9.0</td>\n",
       "      <td>1.000100e+10</td>\n",
       "      <td>5.774080e+09</td>\n",
       "      <td>5.774080e+09</td>\n",
       "      <td>5.774080e+09</td>\n",
       "      <td>5.055130</td>\n",
       "      <td>0.955393</td>\n",
       "      <td>1.000000e+10</td>\n",
       "      <td>2.0</td>\n",
       "    </tr>\n",
       "    <tr>\n",
       "      <th>1</th>\n",
       "      <td>1.0</td>\n",
       "      <td>9.0</td>\n",
       "      <td>1.000100e+10</td>\n",
       "      <td>5.774080e+09</td>\n",
       "      <td>5.774080e+09</td>\n",
       "      <td>5.774080e+09</td>\n",
       "      <td>2.263722</td>\n",
       "      <td>0.955393</td>\n",
       "      <td>1.000000e+10</td>\n",
       "      <td>2.0</td>\n",
       "    </tr>\n",
       "    <tr>\n",
       "      <th>2</th>\n",
       "      <td>2.0</td>\n",
       "      <td>9.0</td>\n",
       "      <td>1.000100e+10</td>\n",
       "      <td>5.774080e+09</td>\n",
       "      <td>5.774080e+09</td>\n",
       "      <td>5.774080e+09</td>\n",
       "      <td>0.528321</td>\n",
       "      <td>0.955393</td>\n",
       "      <td>1.000000e+10</td>\n",
       "      <td>2.0</td>\n",
       "    </tr>\n",
       "    <tr>\n",
       "      <th>3</th>\n",
       "      <td>3.0</td>\n",
       "      <td>9.0</td>\n",
       "      <td>1.000100e+10</td>\n",
       "      <td>5.774080e+09</td>\n",
       "      <td>5.774080e+09</td>\n",
       "      <td>5.774080e+09</td>\n",
       "      <td>5.879675</td>\n",
       "      <td>4.096986</td>\n",
       "      <td>1.000000e+10</td>\n",
       "      <td>2.0</td>\n",
       "    </tr>\n",
       "    <tr>\n",
       "      <th>4</th>\n",
       "      <td>4.0</td>\n",
       "      <td>9.0</td>\n",
       "      <td>1.000100e+10</td>\n",
       "      <td>5.774080e+09</td>\n",
       "      <td>5.774080e+09</td>\n",
       "      <td>5.774080e+09</td>\n",
       "      <td>0.436383</td>\n",
       "      <td>4.096986</td>\n",
       "      <td>1.000000e+10</td>\n",
       "      <td>2.0</td>\n",
       "    </tr>\n",
       "    <tr>\n",
       "      <th>5</th>\n",
       "      <td>5.0</td>\n",
       "      <td>9.0</td>\n",
       "      <td>1.000100e+10</td>\n",
       "      <td>5.774080e+09</td>\n",
       "      <td>5.774080e+09</td>\n",
       "      <td>5.774080e+09</td>\n",
       "      <td>4.237248</td>\n",
       "      <td>0.955393</td>\n",
       "      <td>1.000000e+10</td>\n",
       "      <td>2.0</td>\n",
       "    </tr>\n",
       "    <tr>\n",
       "      <th>6</th>\n",
       "      <td>6.0</td>\n",
       "      <td>9.0</td>\n",
       "      <td>1.000100e+10</td>\n",
       "      <td>5.774080e+09</td>\n",
       "      <td>5.774080e+09</td>\n",
       "      <td>5.774080e+09</td>\n",
       "      <td>1.222037</td>\n",
       "      <td>4.096986</td>\n",
       "      <td>1.000000e+10</td>\n",
       "      <td>2.0</td>\n",
       "    </tr>\n",
       "    <tr>\n",
       "      <th>7</th>\n",
       "      <td>7.0</td>\n",
       "      <td>9.0</td>\n",
       "      <td>1.000100e+10</td>\n",
       "      <td>5.774080e+09</td>\n",
       "      <td>5.774080e+09</td>\n",
       "      <td>5.774080e+09</td>\n",
       "      <td>3.626790</td>\n",
       "      <td>4.096986</td>\n",
       "      <td>1.000000e+10</td>\n",
       "      <td>2.0</td>\n",
       "    </tr>\n",
       "    <tr>\n",
       "      <th>8</th>\n",
       "      <td>8.0</td>\n",
       "      <td>9.0</td>\n",
       "      <td>1.000100e+10</td>\n",
       "      <td>5.774080e+09</td>\n",
       "      <td>5.774080e+09</td>\n",
       "      <td>5.774080e+09</td>\n",
       "      <td>1.933777</td>\n",
       "      <td>4.096986</td>\n",
       "      <td>1.000000e+10</td>\n",
       "      <td>2.0</td>\n",
       "    </tr>\n",
       "    <tr>\n",
       "      <th>9</th>\n",
       "      <td>9.0</td>\n",
       "      <td>9.0</td>\n",
       "      <td>1.000100e+10</td>\n",
       "      <td>5.774080e+09</td>\n",
       "      <td>5.774080e+09</td>\n",
       "      <td>5.774080e+09</td>\n",
       "      <td>5.413868</td>\n",
       "      <td>0.955393</td>\n",
       "      <td>1.000000e+10</td>\n",
       "      <td>2.0</td>\n",
       "    </tr>\n",
       "  </tbody>\n",
       "</table>\n",
       "</div>"
      ],
      "text/plain": [
       "    id    i             d             x             y             z       phi  \\\n",
       "0  0.0  9.0  1.000100e+10  5.774080e+09  5.774080e+09  5.774080e+09  5.055130   \n",
       "1  1.0  9.0  1.000100e+10  5.774080e+09  5.774080e+09  5.774080e+09  2.263722   \n",
       "2  2.0  9.0  1.000100e+10  5.774080e+09  5.774080e+09  5.774080e+09  0.528321   \n",
       "3  3.0  9.0  1.000100e+10  5.774080e+09  5.774080e+09  5.774080e+09  5.879675   \n",
       "4  4.0  9.0  1.000100e+10  5.774080e+09  5.774080e+09  5.774080e+09  0.436383   \n",
       "5  5.0  9.0  1.000100e+10  5.774080e+09  5.774080e+09  5.774080e+09  4.237248   \n",
       "6  6.0  9.0  1.000100e+10  5.774080e+09  5.774080e+09  5.774080e+09  1.222037   \n",
       "7  7.0  9.0  1.000100e+10  5.774080e+09  5.774080e+09  5.774080e+09  3.626790   \n",
       "8  8.0  9.0  1.000100e+10  5.774080e+09  5.774080e+09  5.774080e+09  1.933777   \n",
       "9  9.0  9.0  1.000100e+10  5.774080e+09  5.774080e+09  5.774080e+09  5.413868   \n",
       "\n",
       "   pitch_angle        radius  sub_step  \n",
       "0     0.955393  1.000000e+10       2.0  \n",
       "1     0.955393  1.000000e+10       2.0  \n",
       "2     0.955393  1.000000e+10       2.0  \n",
       "3     4.096986  1.000000e+10       2.0  \n",
       "4     4.096986  1.000000e+10       2.0  \n",
       "5     0.955393  1.000000e+10       2.0  \n",
       "6     4.096986  1.000000e+10       2.0  \n",
       "7     4.096986  1.000000e+10       2.0  \n",
       "8     4.096986  1.000000e+10       2.0  \n",
       "9     0.955393  1.000000e+10       2.0  "
      ]
     },
     "execution_count": 22,
     "metadata": {},
     "output_type": "execute_result"
    }
   ],
   "source": [
    "df"
   ]
  },
  {
   "cell_type": "code",
   "execution_count": 20,
   "id": "4a3b8cb2",
   "metadata": {},
   "outputs": [
    {
     "name": "stdout",
     "output_type": "stream",
     "text": [
      "simulate with a diffusion coefficient of  1.5e+20 m²/s\n",
      "start simulation\n",
      "Propagator initialized\n",
      "Observer initialized\n",
      "saved data file isotropic.pkl\n",
      "CPU times: user 2min 37s, sys: 63.9 ms, total: 2min 37s\n",
      "Wall time: 2min 37s\n"
     ]
    }
   ],
   "source": [
    "sim = rw.IsotropicSimulation(nr_particles = 10**2, energy = energy, nr_steps = nr_steps, diffusion_coefficient_para = diffusion_coefficient, nr_obs_steps = 600)\n",
    "%time sim.simulate()"
   ]
  },
  {
   "cell_type": "code",
   "execution_count": 21,
   "id": "6eeb5190",
   "metadata": {},
   "outputs": [
    {
     "name": "stdout",
     "output_type": "stream",
     "text": [
      "init statistics plotting class\n"
     ]
    },
    {
     "data": {
      "image/png": "[encoded data removed]",
      "text/plain": [
       "<Figure size 216x144 with 1 Axes>"
      ]
     },
     "metadata": {
      "needs_background": "light"
     },
     "output_type": "display_data"
    },
    {
     "name": "stdout",
     "output_type": "stream",
     "text": [
      "diffusion coefficients computed between 1.02e+17m and 1.02e+18m with 100 data points\n",
      "kappa_{xx}: 1.05e+20 m²/s +- 9.1e+18 m²/s\n",
      "kappa_{yy}: 9.88e+19 m²/s +- 1.27e+19 m²/s\n",
      "kappa_{zz}: 9.2e+19 m²/s +- 1.2e+19 m²/s\n"
     ]
    }
   ],
   "source": [
    "df = pd.read_pickle(\"isotropic.pkl\")\n",
    "sta = rw.Statistics(df)\n",
    "df_kappas = sta.plot_diffusion_coefficients(n_points_plateau=100)"
   ]
  },
  {
   "cell_type": "code",
   "execution_count": null,
   "id": "cbd25853",
   "metadata": {},
   "outputs": [],
   "source": []
  }
 ],
 "metadata": {
  "kernelspec": {
   "display_name": "Python 3",
   "language": "python",
   "name": "python3"
  },
  "language_info": {
   "codemirror_mode": {
    "name": "ipython",
    "version": 3
   },
   "file_extension": ".py",
   "mimetype": "text/x-python",
   "name": "python",
   "nbconvert_exporter": "python",
   "pygments_lexer": "ipython3",
   "version": "3.8.5"
  }
 },
 "nbformat": 4,
 "nbformat_minor": 5
}
