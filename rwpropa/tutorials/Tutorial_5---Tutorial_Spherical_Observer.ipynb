{
 "cells": [
  {
   "cell_type": "code",
   "execution_count": 1,
   "id": "5045552e",
   "metadata": {},
   "outputs": [],
   "source": [
    "import numpy as np\n",
    "import matplotlib.pyplot as plt\n",
    "import pandas as pd\n",
    "import os\n",
    "os.chdir('..')\n",
    "import rwpropa as rw"
   ]
  },
  {
   "cell_type": "markdown",
   "id": "612c2b8f",
   "metadata": {},
   "source": [
    "### Simulation"
   ]
  },
  {
   "cell_type": "code",
   "execution_count": 43,
   "id": "8f32ef18",
   "metadata": {},
   "outputs": [
    {
     "name": "stdout",
     "output_type": "stream",
     "text": [
      "start simulation\n",
      "Propagator initialized\n",
      "Observer initialized\n"
     ]
    }
   ],
   "source": [
    "sim = rw.Simulation()\n",
    "\n",
    "nr_particles = 1*10**5\n",
    "source_pos = np.array([0.0, 0.0, 0.0], dtype=np.float32)\n",
    "energy = 10**12 # eV\n",
    "source = rw.PointSourceIsotropicPhi(energy, source_pos, nr_particles)\n",
    "sim.add_source(source)\n",
    "\n",
    "nr_steps = 1*10**5\n",
    "step_size = 1.0*10**11 # [m]\n",
    "diffusion_coefficient = 1.5*10**21 # [m^2/s]\n",
    "speed_of_light = 3*10**8 # [m/s]\n",
    "mfp_iso = 3*diffusion_coefficient/speed_of_light\n",
    "mfp = np.array([mfp_iso, mfp_iso, mfp_iso], dtype=np.float32)  # [m]\n",
    "propagator = rw.IsotropicPropagator(mfp, nr_steps, step_size)\n",
    "sim.add_propagator(propagator)\n",
    "\n",
    "substeps = [False, False, True] # observe only steps (no substeps)\n",
    "sphere = 10**14 # [m]\n",
    "spheres = [sphere]\n",
    "observer = rw.SphericalObserver(substeps, spheres, on_detection_deactivate=True)\n",
    "sim.add_observer(observer)"
   ]
  },
  {
   "cell_type": "code",
   "execution_count": 37,
   "id": "753756c3",
   "metadata": {},
   "outputs": [
    {
     "name": "stdout",
     "output_type": "stream",
     "text": [
      "start simulation\n",
      "Propagator initialized\n",
      "Observer initialized\n",
      "CPU times: user 7min 49s, sys: 257 ms, total: 7min 50s\n",
      "Wall time: 7min 50s\n",
      "saved data file data/data_tut_5.pkl\n"
     ]
    }
   ],
   "source": [
    "%time sim.run_simulation()\n",
    "sim.save_data('data/data_tut_5')"
   ]
  },
  {
   "cell_type": "markdown",
   "id": "0c3a9aca",
   "metadata": {},
   "source": [
    "### Analysis"
   ]
  },
  {
   "cell_type": "code",
   "execution_count": 50,
   "id": "38fdc80e",
   "metadata": {},
   "outputs": [
    {
     "data": {
      "image/png": "[encoded data removed]",
      "text/plain": [
       "<Figure size 432x288 with 1 Axes>"
      ]
     },
     "metadata": {
      "needs_background": "light"
     },
     "output_type": "display_data"
    }
   ],
   "source": [
    "df = pd.read_pickle(\"data/data_tut_5.pkl\")\n",
    "bins = 20\n",
    "trajectory_lengths = df['d']\n",
    "d = trajectory_lengths/10**14\n",
    "hist, bins = np.histogram(d, bins=bins)\n",
    "logbins = np.logspace(np.log10(min(d)),np.log10(max(d)),len(bins))\n",
    "plt.hist(d, bins=logbins, alpha=0.5, label='$\\kappa =$ {:.1e}m$^2$/s'.format(diffusion_coefficient))\n",
    "\n",
    "plt.title('total # particles = {:.0e}'.format(nr_particles))\n",
    "plt.xlabel('D/{:.0e}m'.format(sphere))\n",
    "plt.ylabel('# particles')\n",
    "plt.loglog()\n",
    "plt.legend()\n",
    "plt.savefig('traj_lengths_rwpropa.png')\n",
    "plt.show()"
   ]
  },
  {
   "cell_type": "code",
   "execution_count": 25,
   "id": "e78e5f69",
   "metadata": {},
   "outputs": [
    {
     "data": {
      "text/plain": [
       "(array([15., 22., 22., 23.,  4.,  5.,  4.,  2.,  0.,  1.]),\n",
       " array([6.51654249e+14, 1.57873139e+15, 2.50580853e+15, 3.43288567e+15,\n",
       "        4.35996281e+15, 5.28703995e+15, 6.21411709e+15, 7.14119423e+15,\n",
       "        8.06827137e+15, 8.99534851e+15, 9.92242565e+15]),\n",
       " <BarContainer object of 10 artists>)"
      ]
     },
     "execution_count": 25,
     "metadata": {},
     "output_type": "execute_result"
    },
    {
     "data": {
      "image/png": "[encoded data removed]",
      "text/plain": [
       "<Figure size 432x288 with 1 Axes>"
      ]
     },
     "metadata": {
      "needs_background": "light"
     },
     "output_type": "display_data"
    }
   ],
   "source": [
    "plt.hist(df['d'], bins=10)"
   ]
  },
  {
   "cell_type": "code",
   "execution_count": 51,
   "id": "a423d3b8",
   "metadata": {},
   "outputs": [
    {
     "data": {
      "text/html": [
       "<div>\n",
       "<style scoped>\n",
       "    .dataframe tbody tr th:only-of-type {\n",
       "        vertical-align: middle;\n",
       "    }\n",
       "\n",
       "    .dataframe tbody tr th {\n",
       "        vertical-align: top;\n",
       "    }\n",
       "\n",
       "    .dataframe thead th {\n",
       "        text-align: right;\n",
       "    }\n",
       "</style>\n",
       "<table border=\"1\" class=\"dataframe\">\n",
       "  <thead>\n",
       "    <tr style=\"text-align: right;\">\n",
       "      <th></th>\n",
       "      <th>id</th>\n",
       "      <th>i</th>\n",
       "      <th>d</th>\n",
       "      <th>x</th>\n",
       "      <th>y</th>\n",
       "      <th>z</th>\n",
       "      <th>phi</th>\n",
       "      <th>pitch_angle</th>\n",
       "      <th>radius</th>\n",
       "      <th>sub_step</th>\n",
       "    </tr>\n",
       "  </thead>\n",
       "  <tbody>\n",
       "    <tr>\n",
       "      <th>0</th>\n",
       "      <td>0.0</td>\n",
       "      <td>6331.0</td>\n",
       "      <td>6.331433e+14</td>\n",
       "      <td>-6.408548e+13</td>\n",
       "      <td>7.493991e+13</td>\n",
       "      <td>1.674311e+13</td>\n",
       "      <td>2.104218</td>\n",
       "      <td>0.955393</td>\n",
       "      <td>1.000000e+14</td>\n",
       "      <td>2.0</td>\n",
       "    </tr>\n",
       "    <tr>\n",
       "      <th>1</th>\n",
       "      <td>1.0</td>\n",
       "      <td>4106.0</td>\n",
       "      <td>4.106647e+14</td>\n",
       "      <td>3.290897e+12</td>\n",
       "      <td>-5.733053e+13</td>\n",
       "      <td>8.192631e+13</td>\n",
       "      <td>5.192996</td>\n",
       "      <td>4.096986</td>\n",
       "      <td>1.000000e+14</td>\n",
       "      <td>2.0</td>\n",
       "    </tr>\n",
       "    <tr>\n",
       "      <th>2</th>\n",
       "      <td>2.0</td>\n",
       "      <td>2120.0</td>\n",
       "      <td>2.121119e+14</td>\n",
       "      <td>-4.994050e+13</td>\n",
       "      <td>2.095773e+13</td>\n",
       "      <td>8.412038e+13</td>\n",
       "      <td>3.416327</td>\n",
       "      <td>0.955393</td>\n",
       "      <td>1.000000e+14</td>\n",
       "      <td>2.0</td>\n",
       "    </tr>\n",
       "    <tr>\n",
       "      <th>3</th>\n",
       "      <td>3.0</td>\n",
       "      <td>2362.0</td>\n",
       "      <td>2.363140e+14</td>\n",
       "      <td>4.012562e+13</td>\n",
       "      <td>9.162642e+13</td>\n",
       "      <td>1.212435e+12</td>\n",
       "      <td>3.480489</td>\n",
       "      <td>4.096986</td>\n",
       "      <td>1.000000e+14</td>\n",
       "      <td>2.0</td>\n",
       "    </tr>\n",
       "    <tr>\n",
       "      <th>4</th>\n",
       "      <td>4.0</td>\n",
       "      <td>5480.0</td>\n",
       "      <td>5.480079e+14</td>\n",
       "      <td>7.869294e+13</td>\n",
       "      <td>6.408593e+12</td>\n",
       "      <td>6.137195e+13</td>\n",
       "      <td>3.178626</td>\n",
       "      <td>0.955393</td>\n",
       "      <td>1.000000e+14</td>\n",
       "      <td>2.0</td>\n",
       "    </tr>\n",
       "    <tr>\n",
       "      <th>...</th>\n",
       "      <td>...</td>\n",
       "      <td>...</td>\n",
       "      <td>...</td>\n",
       "      <td>...</td>\n",
       "      <td>...</td>\n",
       "      <td>...</td>\n",
       "      <td>...</td>\n",
       "      <td>...</td>\n",
       "      <td>...</td>\n",
       "      <td>...</td>\n",
       "    </tr>\n",
       "    <tr>\n",
       "      <th>99995</th>\n",
       "      <td>99995.0</td>\n",
       "      <td>3309.0</td>\n",
       "      <td>3.309976e+14</td>\n",
       "      <td>5.692639e+13</td>\n",
       "      <td>-8.152214e+13</td>\n",
       "      <td>-1.073871e+13</td>\n",
       "      <td>3.768871</td>\n",
       "      <td>0.955393</td>\n",
       "      <td>1.000000e+14</td>\n",
       "      <td>2.0</td>\n",
       "    </tr>\n",
       "    <tr>\n",
       "      <th>99996</th>\n",
       "      <td>99996.0</td>\n",
       "      <td>10879.0</td>\n",
       "      <td>1.088213e+15</td>\n",
       "      <td>-3.464100e+12</td>\n",
       "      <td>3.695044e+12</td>\n",
       "      <td>9.988307e+13</td>\n",
       "      <td>5.230603</td>\n",
       "      <td>4.096986</td>\n",
       "      <td>1.000000e+14</td>\n",
       "      <td>2.0</td>\n",
       "    </tr>\n",
       "    <tr>\n",
       "      <th>99997</th>\n",
       "      <td>99997.0</td>\n",
       "      <td>2386.0</td>\n",
       "      <td>2.387143e+14</td>\n",
       "      <td>2.061133e+13</td>\n",
       "      <td>-2.430634e+13</td>\n",
       "      <td>9.485980e+13</td>\n",
       "      <td>5.700218</td>\n",
       "      <td>0.955393</td>\n",
       "      <td>1.000000e+14</td>\n",
       "      <td>2.0</td>\n",
       "    </tr>\n",
       "    <tr>\n",
       "      <th>99998</th>\n",
       "      <td>99998.0</td>\n",
       "      <td>2429.0</td>\n",
       "      <td>2.430147e+14</td>\n",
       "      <td>-5.080652e+13</td>\n",
       "      <td>1.501110e+12</td>\n",
       "      <td>8.614124e+13</td>\n",
       "      <td>5.452890</td>\n",
       "      <td>0.955393</td>\n",
       "      <td>1.000000e+14</td>\n",
       "      <td>2.0</td>\n",
       "    </tr>\n",
       "    <tr>\n",
       "      <th>99999</th>\n",
       "      <td>99999.0</td>\n",
       "      <td>5072.0</td>\n",
       "      <td>5.072247e+14</td>\n",
       "      <td>7.176428e+13</td>\n",
       "      <td>5.121066e+13</td>\n",
       "      <td>4.740018e+13</td>\n",
       "      <td>2.212942</td>\n",
       "      <td>0.955393</td>\n",
       "      <td>1.000000e+14</td>\n",
       "      <td>2.0</td>\n",
       "    </tr>\n",
       "  </tbody>\n",
       "</table>\n",
       "<p>100000 rows × 10 columns</p>\n",
       "</div>"
      ],
      "text/plain": [
       "            id        i             d             x             y  \\\n",
       "0          0.0   6331.0  6.331433e+14 -6.408548e+13  7.493991e+13   \n",
       "1          1.0   4106.0  4.106647e+14  3.290897e+12 -5.733053e+13   \n",
       "2          2.0   2120.0  2.121119e+14 -4.994050e+13  2.095773e+13   \n",
       "3          3.0   2362.0  2.363140e+14  4.012562e+13  9.162642e+13   \n",
       "4          4.0   5480.0  5.480079e+14  7.869294e+13  6.408593e+12   \n",
       "...        ...      ...           ...           ...           ...   \n",
       "99995  99995.0   3309.0  3.309976e+14  5.692639e+13 -8.152214e+13   \n",
       "99996  99996.0  10879.0  1.088213e+15 -3.464100e+12  3.695044e+12   \n",
       "99997  99997.0   2386.0  2.387143e+14  2.061133e+13 -2.430634e+13   \n",
       "99998  99998.0   2429.0  2.430147e+14 -5.080652e+13  1.501110e+12   \n",
       "99999  99999.0   5072.0  5.072247e+14  7.176428e+13  5.121066e+13   \n",
       "\n",
       "                  z       phi  pitch_angle        radius  sub_step  \n",
       "0      1.674311e+13  2.104218     0.955393  1.000000e+14       2.0  \n",
       "1      8.192631e+13  5.192996     4.096986  1.000000e+14       2.0  \n",
       "2      8.412038e+13  3.416327     0.955393  1.000000e+14       2.0  \n",
       "3      1.212435e+12  3.480489     4.096986  1.000000e+14       2.0  \n",
       "4      6.137195e+13  3.178626     0.955393  1.000000e+14       2.0  \n",
       "...             ...       ...          ...           ...       ...  \n",
       "99995 -1.073871e+13  3.768871     0.955393  1.000000e+14       2.0  \n",
       "99996  9.988307e+13  5.230603     4.096986  1.000000e+14       2.0  \n",
       "99997  9.485980e+13  5.700218     0.955393  1.000000e+14       2.0  \n",
       "99998  8.614124e+13  5.452890     0.955393  1.000000e+14       2.0  \n",
       "99999  4.740018e+13  2.212942     0.955393  1.000000e+14       2.0  \n",
       "\n",
       "[100000 rows x 10 columns]"
      ]
     },
     "execution_count": 51,
     "metadata": {},
     "output_type": "execute_result"
    }
   ],
   "source": [
    "df"
   ]
  },
  {
   "cell_type": "code",
   "execution_count": 63,
   "id": "4df7a968",
   "metadata": {},
   "outputs": [
    {
     "name": "stdout",
     "output_type": "stream",
     "text": [
      "simulate with a diffusion coefficient of  1.5e+21 m²/s\n",
      "start simulation\n",
      "Propagator initialized\n",
      "Observer initialized\n",
      "saved data file isotropic.pkl\n",
      "CPU times: user 5.61 s, sys: 96.1 ms, total: 5.71 s\n",
      "Wall time: 5.82 s\n"
     ]
    }
   ],
   "source": [
    "sim = rw.IsotropicSimulation(nr_particles = 10**3, energy = energy, nr_steps = nr_steps/100, diffusion_coefficient_para = diffusion_coefficient, nr_obs_steps = 600)\n",
    "%time sim.simulate()"
   ]
  },
  {
   "cell_type": "code",
   "execution_count": 64,
   "id": "600d3cb6",
   "metadata": {},
   "outputs": [
    {
     "name": "stdout",
     "output_type": "stream",
     "text": [
      "init statistics plotting class\n"
     ]
    },
    {
     "data": {
      "image/png": "[encoded data removed]",
      "text/plain": [
       "<Figure size 216x144 with 1 Axes>"
      ]
     },
     "metadata": {
      "needs_background": "light"
     },
     "output_type": "display_data"
    },
    {
     "name": "stdout",
     "output_type": "stream",
     "text": [
      "diffusion coefficients computed between 3.20e+14m and 1.00e+15m with 100 data points\n",
      "kappa_{xx}: 1.39e+21 m²/s +- 1.83e+19 m²/s\n",
      "kappa_{yy}: 1.4e+21 m²/s +- 2.85e+19 m²/s\n",
      "kappa_{zz}: 1.35e+21 m²/s +- 3.38e+19 m²/s\n"
     ]
    }
   ],
   "source": [
    "df = pd.read_pickle(\"isotropic.pkl\")\n",
    "sta = rw.Statistics(df)\n",
    "df_kappas = sta.plot_diffusion_coefficients(n_points_plateau=100)"
   ]
  },
  {
   "cell_type": "code",
   "execution_count": 65,
   "id": "21ba8491",
   "metadata": {},
   "outputs": [
    {
     "name": "stdout",
     "output_type": "stream",
     "text": [
      "4.1e+14 +/- 2.5e+14 m\n"
     ]
    }
   ],
   "source": [
    "import pandas as pd\n",
    "df = pd.read_pickle(\"data/data_tut_5.pkl\")\n",
    "d = df['d'].values\n",
    "print('{:.1e}'.format(np.mean(d)),'+/-', '{:.1e}'.format(np.std(d)), 'm')"
   ]
  },
  {
   "cell_type": "code",
   "execution_count": 67,
   "id": "0b996415",
   "metadata": {},
   "outputs": [
    {
     "data": {
      "text/html": [
       "<div>\n",
       "<style scoped>\n",
       "    .dataframe tbody tr th:only-of-type {\n",
       "        vertical-align: middle;\n",
       "    }\n",
       "\n",
       "    .dataframe tbody tr th {\n",
       "        vertical-align: top;\n",
       "    }\n",
       "\n",
       "    .dataframe thead th {\n",
       "        text-align: right;\n",
       "    }\n",
       "</style>\n",
       "<table border=\"1\" class=\"dataframe\">\n",
       "  <thead>\n",
       "    <tr style=\"text-align: right;\">\n",
       "      <th></th>\n",
       "      <th>id</th>\n",
       "      <th>i</th>\n",
       "      <th>d</th>\n",
       "      <th>x</th>\n",
       "      <th>y</th>\n",
       "      <th>z</th>\n",
       "      <th>phi</th>\n",
       "      <th>pitch_angle</th>\n",
       "      <th>radius</th>\n",
       "      <th>sub_step</th>\n",
       "    </tr>\n",
       "  </thead>\n",
       "  <tbody>\n",
       "    <tr>\n",
       "      <th>0</th>\n",
       "      <td>0.0</td>\n",
       "      <td>6331.0</td>\n",
       "      <td>6.331433e+14</td>\n",
       "      <td>-6.408548e+13</td>\n",
       "      <td>7.493991e+13</td>\n",
       "      <td>1.674311e+13</td>\n",
       "      <td>2.104218</td>\n",
       "      <td>0.955393</td>\n",
       "      <td>1.000000e+14</td>\n",
       "      <td>2.0</td>\n",
       "    </tr>\n",
       "    <tr>\n",
       "      <th>1</th>\n",
       "      <td>1.0</td>\n",
       "      <td>4106.0</td>\n",
       "      <td>4.106647e+14</td>\n",
       "      <td>3.290897e+12</td>\n",
       "      <td>-5.733053e+13</td>\n",
       "      <td>8.192631e+13</td>\n",
       "      <td>5.192996</td>\n",
       "      <td>4.096986</td>\n",
       "      <td>1.000000e+14</td>\n",
       "      <td>2.0</td>\n",
       "    </tr>\n",
       "    <tr>\n",
       "      <th>2</th>\n",
       "      <td>2.0</td>\n",
       "      <td>2120.0</td>\n",
       "      <td>2.121119e+14</td>\n",
       "      <td>-4.994050e+13</td>\n",
       "      <td>2.095773e+13</td>\n",
       "      <td>8.412038e+13</td>\n",
       "      <td>3.416327</td>\n",
       "      <td>0.955393</td>\n",
       "      <td>1.000000e+14</td>\n",
       "      <td>2.0</td>\n",
       "    </tr>\n",
       "    <tr>\n",
       "      <th>3</th>\n",
       "      <td>3.0</td>\n",
       "      <td>2362.0</td>\n",
       "      <td>2.363140e+14</td>\n",
       "      <td>4.012562e+13</td>\n",
       "      <td>9.162642e+13</td>\n",
       "      <td>1.212435e+12</td>\n",
       "      <td>3.480489</td>\n",
       "      <td>4.096986</td>\n",
       "      <td>1.000000e+14</td>\n",
       "      <td>2.0</td>\n",
       "    </tr>\n",
       "    <tr>\n",
       "      <th>4</th>\n",
       "      <td>4.0</td>\n",
       "      <td>5480.0</td>\n",
       "      <td>5.480079e+14</td>\n",
       "      <td>7.869294e+13</td>\n",
       "      <td>6.408593e+12</td>\n",
       "      <td>6.137195e+13</td>\n",
       "      <td>3.178626</td>\n",
       "      <td>0.955393</td>\n",
       "      <td>1.000000e+14</td>\n",
       "      <td>2.0</td>\n",
       "    </tr>\n",
       "    <tr>\n",
       "      <th>...</th>\n",
       "      <td>...</td>\n",
       "      <td>...</td>\n",
       "      <td>...</td>\n",
       "      <td>...</td>\n",
       "      <td>...</td>\n",
       "      <td>...</td>\n",
       "      <td>...</td>\n",
       "      <td>...</td>\n",
       "      <td>...</td>\n",
       "      <td>...</td>\n",
       "    </tr>\n",
       "    <tr>\n",
       "      <th>99995</th>\n",
       "      <td>99995.0</td>\n",
       "      <td>3309.0</td>\n",
       "      <td>3.309976e+14</td>\n",
       "      <td>5.692639e+13</td>\n",
       "      <td>-8.152214e+13</td>\n",
       "      <td>-1.073871e+13</td>\n",
       "      <td>3.768871</td>\n",
       "      <td>0.955393</td>\n",
       "      <td>1.000000e+14</td>\n",
       "      <td>2.0</td>\n",
       "    </tr>\n",
       "    <tr>\n",
       "      <th>99996</th>\n",
       "      <td>99996.0</td>\n",
       "      <td>10879.0</td>\n",
       "      <td>1.088213e+15</td>\n",
       "      <td>-3.464100e+12</td>\n",
       "      <td>3.695044e+12</td>\n",
       "      <td>9.988307e+13</td>\n",
       "      <td>5.230603</td>\n",
       "      <td>4.096986</td>\n",
       "      <td>1.000000e+14</td>\n",
       "      <td>2.0</td>\n",
       "    </tr>\n",
       "    <tr>\n",
       "      <th>99997</th>\n",
       "      <td>99997.0</td>\n",
       "      <td>2386.0</td>\n",
       "      <td>2.387143e+14</td>\n",
       "      <td>2.061133e+13</td>\n",
       "      <td>-2.430634e+13</td>\n",
       "      <td>9.485980e+13</td>\n",
       "      <td>5.700218</td>\n",
       "      <td>0.955393</td>\n",
       "      <td>1.000000e+14</td>\n",
       "      <td>2.0</td>\n",
       "    </tr>\n",
       "    <tr>\n",
       "      <th>99998</th>\n",
       "      <td>99998.0</td>\n",
       "      <td>2429.0</td>\n",
       "      <td>2.430147e+14</td>\n",
       "      <td>-5.080652e+13</td>\n",
       "      <td>1.501110e+12</td>\n",
       "      <td>8.614124e+13</td>\n",
       "      <td>5.452890</td>\n",
       "      <td>0.955393</td>\n",
       "      <td>1.000000e+14</td>\n",
       "      <td>2.0</td>\n",
       "    </tr>\n",
       "    <tr>\n",
       "      <th>99999</th>\n",
       "      <td>99999.0</td>\n",
       "      <td>5072.0</td>\n",
       "      <td>5.072247e+14</td>\n",
       "      <td>7.176428e+13</td>\n",
       "      <td>5.121066e+13</td>\n",
       "      <td>4.740018e+13</td>\n",
       "      <td>2.212942</td>\n",
       "      <td>0.955393</td>\n",
       "      <td>1.000000e+14</td>\n",
       "      <td>2.0</td>\n",
       "    </tr>\n",
       "  </tbody>\n",
       "</table>\n",
       "<p>100000 rows × 10 columns</p>\n",
       "</div>"
      ],
      "text/plain": [
       "            id        i             d             x             y  \\\n",
       "0          0.0   6331.0  6.331433e+14 -6.408548e+13  7.493991e+13   \n",
       "1          1.0   4106.0  4.106647e+14  3.290897e+12 -5.733053e+13   \n",
       "2          2.0   2120.0  2.121119e+14 -4.994050e+13  2.095773e+13   \n",
       "3          3.0   2362.0  2.363140e+14  4.012562e+13  9.162642e+13   \n",
       "4          4.0   5480.0  5.480079e+14  7.869294e+13  6.408593e+12   \n",
       "...        ...      ...           ...           ...           ...   \n",
       "99995  99995.0   3309.0  3.309976e+14  5.692639e+13 -8.152214e+13   \n",
       "99996  99996.0  10879.0  1.088213e+15 -3.464100e+12  3.695044e+12   \n",
       "99997  99997.0   2386.0  2.387143e+14  2.061133e+13 -2.430634e+13   \n",
       "99998  99998.0   2429.0  2.430147e+14 -5.080652e+13  1.501110e+12   \n",
       "99999  99999.0   5072.0  5.072247e+14  7.176428e+13  5.121066e+13   \n",
       "\n",
       "                  z       phi  pitch_angle        radius  sub_step  \n",
       "0      1.674311e+13  2.104218     0.955393  1.000000e+14       2.0  \n",
       "1      8.192631e+13  5.192996     4.096986  1.000000e+14       2.0  \n",
       "2      8.412038e+13  3.416327     0.955393  1.000000e+14       2.0  \n",
       "3      1.212435e+12  3.480489     4.096986  1.000000e+14       2.0  \n",
       "4      6.137195e+13  3.178626     0.955393  1.000000e+14       2.0  \n",
       "...             ...       ...          ...           ...       ...  \n",
       "99995 -1.073871e+13  3.768871     0.955393  1.000000e+14       2.0  \n",
       "99996  9.988307e+13  5.230603     4.096986  1.000000e+14       2.0  \n",
       "99997  9.485980e+13  5.700218     0.955393  1.000000e+14       2.0  \n",
       "99998  8.614124e+13  5.452890     0.955393  1.000000e+14       2.0  \n",
       "99999  4.740018e+13  2.212942     0.955393  1.000000e+14       2.0  \n",
       "\n",
       "[100000 rows x 10 columns]"
      ]
     },
     "execution_count": 67,
     "metadata": {},
     "output_type": "execute_result"
    }
   ],
   "source": [
    "df"
   ]
  },
  {
   "cell_type": "code",
   "execution_count": null,
   "id": "dd4e74ea",
   "metadata": {},
   "outputs": [],
   "source": []
  }
 ],
 "metadata": {
  "kernelspec": {
   "display_name": "Python 3",
   "language": "python",
   "name": "python3"
  },
  "language_info": {
   "codemirror_mode": {
    "name": "ipython",
    "version": 3
   },
   "file_extension": ".py",
   "mimetype": "text/x-python",
   "name": "python",
   "nbconvert_exporter": "python",
   "pygments_lexer": "ipython3",
   "version": "3.8.5"
  }
 },
 "nbformat": 4,
 "nbformat_minor": 5
}
