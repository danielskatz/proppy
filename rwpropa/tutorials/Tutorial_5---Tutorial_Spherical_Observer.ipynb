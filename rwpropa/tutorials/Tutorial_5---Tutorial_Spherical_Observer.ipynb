{
 "cells": [
  {
   "cell_type": "code",
   "execution_count": 1,
   "id": "5045552e",
   "metadata": {},
   "outputs": [],
   "source": [
    "import numpy as np\n",
    "import matplotlib.pyplot as plt\n",
    "import pandas as pd\n",
    "import os\n",
    "os.chdir('..')\n",
    "import rwpropa as rw"
   ]
  },
  {
   "cell_type": "markdown",
   "id": "612c2b8f",
   "metadata": {},
   "source": [
    "### Simulation"
   ]
  },
  {
   "cell_type": "code",
   "execution_count": 2,
   "id": "e7b00951",
   "metadata": {},
   "outputs": [
    {
     "name": "stdout",
     "output_type": "stream",
     "text": [
      "start simulation\n",
      "Propagator initialized\n",
      "Observer initialized\n"
     ]
    }
   ],
   "source": [
    "sim = rw.Simulation()\n",
    "\n",
    "nr_particles = 1*10**4\n",
    "source_pos = np.array([0.0, 0.0, 0.0], dtype=np.float32)\n",
    "energy = 10**12 # eV\n",
    "source = rw.PointSourceIsotropicPhi(energy, source_pos, nr_particles)\n",
    "sim.add_source(source)\n",
    "\n",
    "nr_steps = 1*10**5\n",
    "step_size = 1.0*10**11 # [m]\n",
    "diffusion_coefficient = 1.5*10**21 # [m^2/s]\n",
    "speed_of_light = 3*10**8 # [m/s]\n",
    "mfp_iso = 3*diffusion_coefficient/speed_of_light\n",
    "mfp = np.array([mfp_iso, mfp_iso, mfp_iso], dtype=np.float32)  # [m]\n",
    "propagator = rw.IsotropicPropagator(mfp, nr_steps, step_size)\n",
    "sim.add_propagator(propagator)\n",
    "\n",
    "substeps = [False, False, True] # observe only steps (no substeps)\n",
    "sphere = 10**14 # [m]\n",
    "spheres = [sphere]\n",
    "observer = rw.SphericalObserver(substeps, spheres, on_detection_deactivate=True)\n",
    "sim.add_observer(observer)"
   ]
  },
  {
   "cell_type": "code",
   "execution_count": null,
   "id": "753756c3",
   "metadata": {},
   "outputs": [],
   "source": [
    "%time sim.run_simulation()\n",
    "sim.save_data('data/data_tut_5')"
   ]
  },
  {
   "cell_type": "markdown",
   "id": "0c3a9aca",
   "metadata": {},
   "source": [
    "### Analysis"
   ]
  },
  {
   "cell_type": "code",
   "execution_count": 50,
   "id": "841df4d0",
   "metadata": {},
   "outputs": [
    {
     "data": {
      "image/png": "[encoded data removed]",
      "text/plain": [
       "<Figure size 432x288 with 1 Axes>"
      ]
     },
     "metadata": {
      "needs_background": "light"
     },
     "output_type": "display_data"
    }
   ],
   "source": [
    "df = pd.read_pickle(\"data/data_tut_5.pkl\")\n",
    "bins = 20\n",
    "trajectory_lengths = df['d']\n",
    "d = trajectory_lengths/10**14\n",
    "hist, bins = np.histogram(d, bins=bins)\n",
    "logbins = np.logspace(np.log10(min(d)),np.log10(max(d)),len(bins))\n",
    "plt.hist(d, bins=logbins, alpha=0.5, label='$\\kappa =$ {:.1e}m$^2$/s'.format(diffusion_coefficient))\n",
    "\n",
    "plt.title('total # particles = {:.0e}'.format(nr_particles))\n",
    "plt.xlabel('D/{:.0e}m'.format(sphere))\n",
    "plt.ylabel('# particles')\n",
    "plt.loglog()\n",
    "plt.legend()\n",
    "plt.savefig('traj_lengths_rwpropa.png')\n",
    "plt.show()"
   ]
  },
  {
   "cell_type": "markdown",
   "id": "ff678650",
   "metadata": {},
   "source": [
    "## Sphere source"
   ]
  },
  {
   "cell_type": "code",
   "execution_count": 3,
   "id": "15861b2d",
   "metadata": {},
   "outputs": [
    {
     "name": "stdout",
     "output_type": "stream",
     "text": [
      "start simulation\n",
      "Propagator initialized\n",
      "Observer initialized\n"
     ]
    }
   ],
   "source": [
    "sim = rw.Simulation()\n",
    "\n",
    "nr_particles = 1*10**4\n",
    "source_pos = np.array([0.0, 0.0, 0.0], dtype=np.float32)\n",
    "energy = 10**12 # eV\n",
    "sphere = 10**14 # [m]\n",
    "radius = sphere\n",
    "source = rw.SphereSourceIsotropic(energy, source_pos, nr_particles, radius)\n",
    "sim.add_source(source)\n",
    "\n",
    "nr_steps = 1*10**5\n",
    "step_size = 1.0*10**11 # [m]\n",
    "diffusion_coefficient = 1.5*10**21 # [m^2/s]\n",
    "speed_of_light = 3*10**8 # [m/s]\n",
    "mfp_iso = 3*diffusion_coefficient/speed_of_light\n",
    "mfp = np.array([mfp_iso, mfp_iso, mfp_iso], dtype=np.float32)  # [m]\n",
    "propagator = rw.IsotropicPropagator(mfp, nr_steps, step_size)\n",
    "sim.add_propagator(propagator)\n",
    "\n",
    "substeps = [False, False, True] # observe only steps (no substeps)\n",
    "spheres = [sphere]\n",
    "observer = rw.SphericalObserver(substeps, spheres, on_detection_deactivate=True)\n",
    "sim.add_observer(observer)"
   ]
  },
  {
   "cell_type": "code",
   "execution_count": 4,
   "id": "4123aa28",
   "metadata": {},
   "outputs": [
    {
     "name": "stdout",
     "output_type": "stream",
     "text": [
      "CPU times: user 38.4 s, sys: 36 ms, total: 38.4 s\n",
      "Wall time: 38.4 s\n",
      "saved data file data/data_tut_5_sphere.pkl\n"
     ]
    }
   ],
   "source": [
    "%time sim.run_simulation()\n",
    "sim.save_data('data/data_tut_5_sphere')"
   ]
  },
  {
   "cell_type": "code",
   "execution_count": 5,
   "id": "353435af",
   "metadata": {},
   "outputs": [
    {
     "data": {
      "image/png": "[encoded data removed]",
      "text/plain": [
       "<Figure size 432x288 with 1 Axes>"
      ]
     },
     "metadata": {
      "needs_background": "light"
     },
     "output_type": "display_data"
    }
   ],
   "source": [
    "df = pd.read_pickle(\"data/data_tut_5_sphere.pkl\")\n",
    "bins = 20\n",
    "trajectory_lengths = df['d']\n",
    "d = trajectory_lengths/10**14\n",
    "hist, bins = np.histogram(d, bins=bins)\n",
    "logbins = np.logspace(np.log10(min(d)),np.log10(max(d)),len(bins))\n",
    "plt.hist(d, bins=logbins, alpha=0.5, label='$\\kappa =$ {:.1e}m$^2$/s'.format(diffusion_coefficient))\n",
    "\n",
    "plt.title('total # particles = {:.0e}'.format(nr_particles))\n",
    "plt.xlabel('D/{:.0e}m'.format(sphere))\n",
    "plt.ylabel('# particles')\n",
    "plt.loglog()\n",
    "plt.legend()\n",
    "plt.savefig('traj_lengths_rwpropa.png')\n",
    "plt.show()"
   ]
  },
  {
   "cell_type": "code",
   "execution_count": 5,
   "id": "1da92700",
   "metadata": {},
   "outputs": [
    {
     "data": {
      "image/png": "[encoded data removed]",
      "text/plain": [
       "<Figure size 432x288 with 1 Axes>"
      ]
     },
     "metadata": {
      "needs_background": "light"
     },
     "output_type": "display_data"
    }
   ],
   "source": [
    "df = pd.read_pickle(\"data/data_tut_5_sphere.pkl\")\n",
    "bins = 20\n",
    "trajectory_lengths = df['d']\n",
    "d = trajectory_lengths/10**14\n",
    "hist, bins = np.histogram(d, bins=bins)\n",
    "logbins = np.logspace(np.log10(min(d)),np.log10(max(d)),len(bins))\n",
    "plt.hist(d, bins=logbins, alpha=0.5, label='$\\kappa =$ {:.1e}m$^2$/s'.format(diffusion_coefficient))\n",
    "\n",
    "plt.title('total # particles = {:.0e}'.format(nr_particles))\n",
    "plt.xlabel('D/{:.0e}m'.format(sphere))\n",
    "plt.ylabel('# particles')\n",
    "plt.loglog()\n",
    "plt.legend()\n",
    "plt.savefig('traj_lengths_rwpropa.png')\n",
    "plt.show()"
   ]
  },
  {
   "cell_type": "code",
   "execution_count": null,
   "id": "4a3632b1",
   "metadata": {},
   "outputs": [],
   "source": []
  },
  {
   "cell_type": "code",
   "execution_count": null,
   "id": "9d56555f",
   "metadata": {},
   "outputs": [],
   "source": []
  },
  {
   "cell_type": "code",
   "execution_count": 51,
   "id": "a423d3b8",
   "metadata": {},
   "outputs": [
    {
     "data": {
      "text/html": [
       "<div>\n",
       "<style scoped>\n",
       "    .dataframe tbody tr th:only-of-type {\n",
       "        vertical-align: middle;\n",
       "    }\n",
       "\n",
       "    .dataframe tbody tr th {\n",
       "        vertical-align: top;\n",
       "    }\n",
       "\n",
       "    .dataframe thead th {\n",
       "        text-align: right;\n",
       "    }\n",
       "</style>\n",
       "<table border=\"1\" class=\"dataframe\">\n",
       "  <thead>\n",
       "    <tr style=\"text-align: right;\">\n",
       "      <th></th>\n",
       "      <th>id</th>\n",
       "      <th>i</th>\n",
       "      <th>d</th>\n",
       "      <th>x</th>\n",
       "      <th>y</th>\n",
       "      <th>z</th>\n",
       "      <th>phi</th>\n",
       "      <th>pitch_angle</th>\n",
       "      <th>radius</th>\n",
       "      <th>sub_step</th>\n",
       "    </tr>\n",
       "  </thead>\n",
       "  <tbody>\n",
       "    <tr>\n",
       "      <th>0</th>\n",
       "      <td>0.0</td>\n",
       "      <td>6331.0</td>\n",
       "      <td>6.331433e+14</td>\n",
       "      <td>-6.408548e+13</td>\n",
       "      <td>7.493991e+13</td>\n",
       "      <td>1.674311e+13</td>\n",
       "      <td>2.104218</td>\n",
       "      <td>0.955393</td>\n",
       "      <td>1.000000e+14</td>\n",
       "      <td>2.0</td>\n",
       "    </tr>\n",
       "    <tr>\n",
       "      <th>1</th>\n",
       "      <td>1.0</td>\n",
       "      <td>4106.0</td>\n",
       "      <td>4.106647e+14</td>\n",
       "      <td>3.290897e+12</td>\n",
       "      <td>-5.733053e+13</td>\n",
       "      <td>8.192631e+13</td>\n",
       "      <td>5.192996</td>\n",
       "      <td>4.096986</td>\n",
       "      <td>1.000000e+14</td>\n",
       "      <td>2.0</td>\n",
       "    </tr>\n",
       "    <tr>\n",
       "      <th>2</th>\n",
       "      <td>2.0</td>\n",
       "      <td>2120.0</td>\n",
       "      <td>2.121119e+14</td>\n",
       "      <td>-4.994050e+13</td>\n",
       "      <td>2.095773e+13</td>\n",
       "      <td>8.412038e+13</td>\n",
       "      <td>3.416327</td>\n",
       "      <td>0.955393</td>\n",
       "      <td>1.000000e+14</td>\n",
       "      <td>2.0</td>\n",
       "    </tr>\n",
       "    <tr>\n",
       "      <th>3</th>\n",
       "      <td>3.0</td>\n",
       "      <td>2362.0</td>\n",
       "      <td>2.363140e+14</td>\n",
       "      <td>4.012562e+13</td>\n",
       "      <td>9.162642e+13</td>\n",
       "      <td>1.212435e+12</td>\n",
       "      <td>3.480489</td>\n",
       "      <td>4.096986</td>\n",
       "      <td>1.000000e+14</td>\n",
       "      <td>2.0</td>\n",
       "    </tr>\n",
       "    <tr>\n",
       "      <th>4</th>\n",
       "      <td>4.0</td>\n",
       "      <td>5480.0</td>\n",
       "      <td>5.480079e+14</td>\n",
       "      <td>7.869294e+13</td>\n",
       "      <td>6.408593e+12</td>\n",
       "      <td>6.137195e+13</td>\n",
       "      <td>3.178626</td>\n",
       "      <td>0.955393</td>\n",
       "      <td>1.000000e+14</td>\n",
       "      <td>2.0</td>\n",
       "    </tr>\n",
       "    <tr>\n",
       "      <th>...</th>\n",
       "      <td>...</td>\n",
       "      <td>...</td>\n",
       "      <td>...</td>\n",
       "      <td>...</td>\n",
       "      <td>...</td>\n",
       "      <td>...</td>\n",
       "      <td>...</td>\n",
       "      <td>...</td>\n",
       "      <td>...</td>\n",
       "      <td>...</td>\n",
       "    </tr>\n",
       "    <tr>\n",
       "      <th>99995</th>\n",
       "      <td>99995.0</td>\n",
       "      <td>3309.0</td>\n",
       "      <td>3.309976e+14</td>\n",
       "      <td>5.692639e+13</td>\n",
       "      <td>-8.152214e+13</td>\n",
       "      <td>-1.073871e+13</td>\n",
       "      <td>3.768871</td>\n",
       "      <td>0.955393</td>\n",
       "      <td>1.000000e+14</td>\n",
       "      <td>2.0</td>\n",
       "    </tr>\n",
       "    <tr>\n",
       "      <th>99996</th>\n",
       "      <td>99996.0</td>\n",
       "      <td>10879.0</td>\n",
       "      <td>1.088213e+15</td>\n",
       "      <td>-3.464100e+12</td>\n",
       "      <td>3.695044e+12</td>\n",
       "      <td>9.988307e+13</td>\n",
       "      <td>5.230603</td>\n",
       "      <td>4.096986</td>\n",
       "      <td>1.000000e+14</td>\n",
       "      <td>2.0</td>\n",
       "    </tr>\n",
       "    <tr>\n",
       "      <th>99997</th>\n",
       "      <td>99997.0</td>\n",
       "      <td>2386.0</td>\n",
       "      <td>2.387143e+14</td>\n",
       "      <td>2.061133e+13</td>\n",
       "      <td>-2.430634e+13</td>\n",
       "      <td>9.485980e+13</td>\n",
       "      <td>5.700218</td>\n",
       "      <td>0.955393</td>\n",
       "      <td>1.000000e+14</td>\n",
       "      <td>2.0</td>\n",
       "    </tr>\n",
       "    <tr>\n",
       "      <th>99998</th>\n",
       "      <td>99998.0</td>\n",
       "      <td>2429.0</td>\n",
       "      <td>2.430147e+14</td>\n",
       "      <td>-5.080652e+13</td>\n",
       "      <td>1.501110e+12</td>\n",
       "      <td>8.614124e+13</td>\n",
       "      <td>5.452890</td>\n",
       "      <td>0.955393</td>\n",
       "      <td>1.000000e+14</td>\n",
       "      <td>2.0</td>\n",
       "    </tr>\n",
       "    <tr>\n",
       "      <th>99999</th>\n",
       "      <td>99999.0</td>\n",
       "      <td>5072.0</td>\n",
       "      <td>5.072247e+14</td>\n",
       "      <td>7.176428e+13</td>\n",
       "      <td>5.121066e+13</td>\n",
       "      <td>4.740018e+13</td>\n",
       "      <td>2.212942</td>\n",
       "      <td>0.955393</td>\n",
       "      <td>1.000000e+14</td>\n",
       "      <td>2.0</td>\n",
       "    </tr>\n",
       "  </tbody>\n",
       "</table>\n",
       "<p>100000 rows × 10 columns</p>\n",
       "</div>"
      ],
      "text/plain": [
       "            id        i             d             x             y  \\\n",
       "0          0.0   6331.0  6.331433e+14 -6.408548e+13  7.493991e+13   \n",
       "1          1.0   4106.0  4.106647e+14  3.290897e+12 -5.733053e+13   \n",
       "2          2.0   2120.0  2.121119e+14 -4.994050e+13  2.095773e+13   \n",
       "3          3.0   2362.0  2.363140e+14  4.012562e+13  9.162642e+13   \n",
       "4          4.0   5480.0  5.480079e+14  7.869294e+13  6.408593e+12   \n",
       "...        ...      ...           ...           ...           ...   \n",
       "99995  99995.0   3309.0  3.309976e+14  5.692639e+13 -8.152214e+13   \n",
       "99996  99996.0  10879.0  1.088213e+15 -3.464100e+12  3.695044e+12   \n",
       "99997  99997.0   2386.0  2.387143e+14  2.061133e+13 -2.430634e+13   \n",
       "99998  99998.0   2429.0  2.430147e+14 -5.080652e+13  1.501110e+12   \n",
       "99999  99999.0   5072.0  5.072247e+14  7.176428e+13  5.121066e+13   \n",
       "\n",
       "                  z       phi  pitch_angle        radius  sub_step  \n",
       "0      1.674311e+13  2.104218     0.955393  1.000000e+14       2.0  \n",
       "1      8.192631e+13  5.192996     4.096986  1.000000e+14       2.0  \n",
       "2      8.412038e+13  3.416327     0.955393  1.000000e+14       2.0  \n",
       "3      1.212435e+12  3.480489     4.096986  1.000000e+14       2.0  \n",
       "4      6.137195e+13  3.178626     0.955393  1.000000e+14       2.0  \n",
       "...             ...       ...          ...           ...       ...  \n",
       "99995 -1.073871e+13  3.768871     0.955393  1.000000e+14       2.0  \n",
       "99996  9.988307e+13  5.230603     4.096986  1.000000e+14       2.0  \n",
       "99997  9.485980e+13  5.700218     0.955393  1.000000e+14       2.0  \n",
       "99998  8.614124e+13  5.452890     0.955393  1.000000e+14       2.0  \n",
       "99999  4.740018e+13  2.212942     0.955393  1.000000e+14       2.0  \n",
       "\n",
       "[100000 rows x 10 columns]"
      ]
     },
     "execution_count": 51,
     "metadata": {},
     "output_type": "execute_result"
    }
   ],
   "source": [
    "df"
   ]
  },
  {
   "cell_type": "code",
   "execution_count": 3,
   "id": "1f387c8e",
   "metadata": {},
   "outputs": [
    {
     "name": "stdout",
     "output_type": "stream",
     "text": [
      "simulate with a diffusion coefficient of  1.5e+21 m²/s\n",
      "start simulation\n",
      "Propagator initialized\n",
      "Observer initialized\n",
      "saved data file isotropic.pkl\n",
      "CPU times: user 10 s, sys: 649 ms, total: 10.6 s\n",
      "Wall time: 10.7 s\n"
     ]
    }
   ],
   "source": [
    "sim = rw.IsotropicSphereSimulation(nr_particles = 10**3, energy = energy, nr_steps = nr_steps/100, diffusion_coefficient_para = diffusion_coefficient, nr_obs_steps = 600)\n",
    "%time sim.simulate()"
   ]
  },
  {
   "cell_type": "code",
   "execution_count": 4,
   "id": "dc06d14e",
   "metadata": {},
   "outputs": [
    {
     "name": "stdout",
     "output_type": "stream",
     "text": [
      "init statistics plotting class\n"
     ]
    },
    {
     "data": {
      "image/png": "[encoded data removed]",
      "text/plain": [
       "<Figure size 216x144 with 1 Axes>"
      ]
     },
     "metadata": {
      "needs_background": "light"
     },
     "output_type": "display_data"
    },
    {
     "name": "stdout",
     "output_type": "stream",
     "text": [
      "diffusion coefficients computed between 3.20e+14m and 1.00e+15m with 100 data points\n",
      "kappa_{xx}: 2.19e+21 m²/s +- 1.68e+20 m²/s\n",
      "kappa_{yy}: 1.77e+21 m²/s +- 1.15e+20 m²/s\n",
      "kappa_{zz}: 1.76e+21 m²/s +- 1.37e+20 m²/s\n"
     ]
    }
   ],
   "source": [
    "df = pd.read_pickle(\"isotropic.pkl\")\n",
    "sta = rw.Statistics(df)\n",
    "df_kappas = sta.plot_diffusion_coefficients(n_points_plateau=100)"
   ]
  },
  {
   "cell_type": "code",
   "execution_count": 5,
   "id": "979f13e5",
   "metadata": {},
   "outputs": [
    {
     "name": "stdout",
     "output_type": "stream",
     "text": [
      "[1.0, 2.0, 3.0, 4.0, 5.0, 6.0, 7.0, 8.0, 9.0, 10.0, 11.0, 12.0, 13.0, 14.0, 15.0, 16.0, 17.0, 18.0, 19.0, 20.0, 21.0, 22.0, 23.0, 24.0, 25.0, 26.0, 27.0, 28.0, 29.0, 30.0, 31.0, 32.0, 33.0, 34.0, 35.0, 36.0, 37.0, 38.0, 39.0, 40.0, 41.0, 42.0, 43.0, 44.0, 45.0, 46.0, 47.0, 48.0, 49.0, 50.0, 51.0, 52.0, 53.0, 54.0, 55.0, 56.0, 57.0, 58.0, 59.0, 60.0, 61.0, 62.0, 63.0, 64.0, 65.0, 66.0, 67.0, 68.0, 69.0, 70.0, 71.0, 72.0, 73.0, 74.0, 75.0, 76.0, 77.0, 78.0, 79.0, 80.0, 81.0, 82.0, 83.0, 84.0, 85.0, 86.0, 87.0, 88.0, 89.0, 90.0, 91.0, 92.0, 94.0, 95.0, 96.0, 97.0, 98.0, 99.0, 100.0, 101.0, 103.0, 104.0, 105.0, 106.0, 107.0, 109.0, 110.0, 111.0, 113.0, 114.0, 115.0, 117.0, 118.0, 119.0, 121.0, 122.0, 124.0, 125.0, 126.0, 128.0, 129.0, 131.0, 132.0, 134.0, 136.0, 137.0, 139.0, 140.0, 142.0, 144.0, 145.0, 147.0, 149.0, 150.0, 152.0, 154.0, 156.0, 158.0, 159.0, 161.0, 163.0, 165.0, 167.0, 169.0, 171.0, 173.0, 175.0, 177.0, 179.0, 181.0, 183.0, 185.0, 187.0, 190.0, 192.0, 194.0, 196.0, 198.0, 201.0, 203.0, 205.0, 208.0, 210.0, 213.0, 215.0, 218.0, 220.0, 223.0, 225.0, 228.0, 231.0, 233.0, 236.0, 239.0, 242.0, 244.0, 247.0, 250.0, 253.0, 256.0, 259.0, 262.0, 265.0, 268.0, 271.0, 274.0, 278.0, 281.0, 284.0, 287.0, 291.0, 294.0, 297.0, 301.0, 304.0, 308.0, 312.0, 315.0, 319.0, 322.0, 326.0, 330.0, 334.0, 338.0, 342.0, 346.0, 350.0, 354.0, 358.0, 362.0, 366.0, 370.0, 375.0, 379.0, 383.0, 388.0, 392.0, 397.0, 402.0, 406.0, 411.0, 416.0, 421.0, 425.0, 430.0, 435.0, 440.0, 446.0, 451.0, 456.0, 461.0, 467.0, 472.0, 478.0, 483.0, 489.0, 494.0, 500.0, 506.0, 512.0, 518.0, 524.0, 530.0, 536.0, 542.0, 548.0, 555.0, 561.0, 568.0, 574.0, 581.0, 588.0, 595.0, 602.0, 609.0, 616.0, 623.0, 630.0, 637.0, 645.0, 652.0, 660.0, 667.0, 675.0, 683.0, 691.0, 699.0, 707.0, 715.0, 724.0, 732.0, 740.0, 749.0, 758.0, 767.0, 775.0, 784.0, 794.0, 803.0, 812.0, 821.0, 831.0, 841.0, 850.0, 860.0, 870.0, 880.0, 891.0, 901.0, 911.0, 922.0, 933.0, 943.0, 954.0, 965.0, 977.0, 988.0, 1000.0]\n"
     ]
    },
    {
     "data": {
      "image/png": "[encoded data removed]",
      "text/plain": [
       "<Figure size 288x288 with 1 Axes>"
      ]
     },
     "metadata": {
      "needs_background": "light"
     },
     "output_type": "display_data"
    }
   ],
   "source": [
    "steps = sorted(list(set(df['i'])))\n",
    "print(steps)\n",
    "sta.plot_distribution('y', 1, 20, None)"
   ]
  },
  {
   "cell_type": "code",
   "execution_count": 69,
   "id": "9d5ecad5",
   "metadata": {},
   "outputs": [
    {
     "name": "stdout",
     "output_type": "stream",
     "text": [
      "4.1e+14 +/- 2.5e+14 m\n"
     ]
    }
   ],
   "source": [
    "import pandas as pd\n",
    "df = pd.read_pickle(\"data/data_tut_5.pkl\")\n",
    "d = df['d'].values\n",
    "print('{:.1e}'.format(np.mean(d)),'+/-', '{:.1e}'.format(np.std(d)), 'm')"
   ]
  },
  {
   "cell_type": "code",
   "execution_count": 10,
   "id": "d5c4dbaf",
   "metadata": {},
   "outputs": [
    {
     "data": {
      "text/html": [
       "<div>\n",
       "<style scoped>\n",
       "    .dataframe tbody tr th:only-of-type {\n",
       "        vertical-align: middle;\n",
       "    }\n",
       "\n",
       "    .dataframe tbody tr th {\n",
       "        vertical-align: top;\n",
       "    }\n",
       "\n",
       "    .dataframe thead th {\n",
       "        text-align: right;\n",
       "    }\n",
       "</style>\n",
       "<table border=\"1\" class=\"dataframe\">\n",
       "  <thead>\n",
       "    <tr style=\"text-align: right;\">\n",
       "      <th></th>\n",
       "      <th>id</th>\n",
       "      <th>i</th>\n",
       "      <th>d</th>\n",
       "      <th>x</th>\n",
       "      <th>y</th>\n",
       "      <th>z</th>\n",
       "      <th>phi</th>\n",
       "      <th>pitch_angle</th>\n",
       "      <th>radius</th>\n",
       "      <th>sub_step</th>\n",
       "    </tr>\n",
       "  </thead>\n",
       "  <tbody>\n",
       "    <tr>\n",
       "      <th>0</th>\n",
       "      <td>0.0</td>\n",
       "      <td>1.0</td>\n",
       "      <td>2.000000e+12</td>\n",
       "      <td>1.154701e+12</td>\n",
       "      <td>1.154701e+12</td>\n",
       "      <td>1.154701e+12</td>\n",
       "      <td>6.240908</td>\n",
       "      <td>2.007532</td>\n",
       "      <td>-1.0</td>\n",
       "      <td>2.0</td>\n",
       "    </tr>\n",
       "    <tr>\n",
       "      <th>1</th>\n",
       "      <td>0.0</td>\n",
       "      <td>2.0</td>\n",
       "      <td>3.000000e+12</td>\n",
       "      <td>1.732051e+12</td>\n",
       "      <td>1.732051e+12</td>\n",
       "      <td>1.732051e+12</td>\n",
       "      <td>6.240908</td>\n",
       "      <td>2.007532</td>\n",
       "      <td>-1.0</td>\n",
       "      <td>2.0</td>\n",
       "    </tr>\n",
       "    <tr>\n",
       "      <th>2</th>\n",
       "      <td>0.0</td>\n",
       "      <td>3.0</td>\n",
       "      <td>4.000001e+12</td>\n",
       "      <td>2.309401e+12</td>\n",
       "      <td>2.309401e+12</td>\n",
       "      <td>2.309401e+12</td>\n",
       "      <td>6.240908</td>\n",
       "      <td>2.007532</td>\n",
       "      <td>-1.0</td>\n",
       "      <td>2.0</td>\n",
       "    </tr>\n",
       "    <tr>\n",
       "      <th>3</th>\n",
       "      <td>0.0</td>\n",
       "      <td>4.0</td>\n",
       "      <td>5.000000e+12</td>\n",
       "      <td>1.732051e+12</td>\n",
       "      <td>2.886751e+12</td>\n",
       "      <td>2.886751e+12</td>\n",
       "      <td>6.240908</td>\n",
       "      <td>2.007532</td>\n",
       "      <td>-1.0</td>\n",
       "      <td>2.0</td>\n",
       "    </tr>\n",
       "    <tr>\n",
       "      <th>4</th>\n",
       "      <td>0.0</td>\n",
       "      <td>5.0</td>\n",
       "      <td>6.000001e+12</td>\n",
       "      <td>1.154701e+12</td>\n",
       "      <td>3.464101e+12</td>\n",
       "      <td>3.464101e+12</td>\n",
       "      <td>6.240908</td>\n",
       "      <td>2.007532</td>\n",
       "      <td>-1.0</td>\n",
       "      <td>2.0</td>\n",
       "    </tr>\n",
       "    <tr>\n",
       "      <th>...</th>\n",
       "      <td>...</td>\n",
       "      <td>...</td>\n",
       "      <td>...</td>\n",
       "      <td>...</td>\n",
       "      <td>...</td>\n",
       "      <td>...</td>\n",
       "      <td>...</td>\n",
       "      <td>...</td>\n",
       "      <td>...</td>\n",
       "      <td>...</td>\n",
       "    </tr>\n",
       "    <tr>\n",
       "      <th>297995</th>\n",
       "      <td>999.0</td>\n",
       "      <td>954.0</td>\n",
       "      <td>9.549905e+14</td>\n",
       "      <td>-7.332350e+13</td>\n",
       "      <td>1.137383e+14</td>\n",
       "      <td>-1.691643e+14</td>\n",
       "      <td>2.481308</td>\n",
       "      <td>2.453735</td>\n",
       "      <td>-1.0</td>\n",
       "      <td>2.0</td>\n",
       "    </tr>\n",
       "    <tr>\n",
       "      <th>297996</th>\n",
       "      <td>999.0</td>\n",
       "      <td>965.0</td>\n",
       "      <td>9.659904e+14</td>\n",
       "      <td>-7.967439e+13</td>\n",
       "      <td>1.200892e+14</td>\n",
       "      <td>-1.755152e+14</td>\n",
       "      <td>2.481308</td>\n",
       "      <td>2.453735</td>\n",
       "      <td>-1.0</td>\n",
       "      <td>2.0</td>\n",
       "    </tr>\n",
       "    <tr>\n",
       "      <th>297997</th>\n",
       "      <td>999.0</td>\n",
       "      <td>977.0</td>\n",
       "      <td>9.779903e+14</td>\n",
       "      <td>-8.660265e+13</td>\n",
       "      <td>1.270175e+14</td>\n",
       "      <td>-1.824435e+14</td>\n",
       "      <td>2.481308</td>\n",
       "      <td>2.453735</td>\n",
       "      <td>-1.0</td>\n",
       "      <td>2.0</td>\n",
       "    </tr>\n",
       "    <tr>\n",
       "      <th>297998</th>\n",
       "      <td>999.0</td>\n",
       "      <td>988.0</td>\n",
       "      <td>9.889902e+14</td>\n",
       "      <td>-9.295354e+13</td>\n",
       "      <td>1.333683e+14</td>\n",
       "      <td>-1.887944e+14</td>\n",
       "      <td>2.481308</td>\n",
       "      <td>2.453735</td>\n",
       "      <td>-1.0</td>\n",
       "      <td>2.0</td>\n",
       "    </tr>\n",
       "    <tr>\n",
       "      <th>297999</th>\n",
       "      <td>999.0</td>\n",
       "      <td>1000.0</td>\n",
       "      <td>1.000990e+15</td>\n",
       "      <td>-9.064413e+13</td>\n",
       "      <td>1.402966e+14</td>\n",
       "      <td>-1.957226e+14</td>\n",
       "      <td>2.481308</td>\n",
       "      <td>2.453735</td>\n",
       "      <td>-1.0</td>\n",
       "      <td>2.0</td>\n",
       "    </tr>\n",
       "  </tbody>\n",
       "</table>\n",
       "<p>298000 rows × 10 columns</p>\n",
       "</div>"
      ],
      "text/plain": [
       "           id       i             d             x             y             z  \\\n",
       "0         0.0     1.0  2.000000e+12  1.154701e+12  1.154701e+12  1.154701e+12   \n",
       "1         0.0     2.0  3.000000e+12  1.732051e+12  1.732051e+12  1.732051e+12   \n",
       "2         0.0     3.0  4.000001e+12  2.309401e+12  2.309401e+12  2.309401e+12   \n",
       "3         0.0     4.0  5.000000e+12  1.732051e+12  2.886751e+12  2.886751e+12   \n",
       "4         0.0     5.0  6.000001e+12  1.154701e+12  3.464101e+12  3.464101e+12   \n",
       "...       ...     ...           ...           ...           ...           ...   \n",
       "297995  999.0   954.0  9.549905e+14 -7.332350e+13  1.137383e+14 -1.691643e+14   \n",
       "297996  999.0   965.0  9.659904e+14 -7.967439e+13  1.200892e+14 -1.755152e+14   \n",
       "297997  999.0   977.0  9.779903e+14 -8.660265e+13  1.270175e+14 -1.824435e+14   \n",
       "297998  999.0   988.0  9.889902e+14 -9.295354e+13  1.333683e+14 -1.887944e+14   \n",
       "297999  999.0  1000.0  1.000990e+15 -9.064413e+13  1.402966e+14 -1.957226e+14   \n",
       "\n",
       "             phi  pitch_angle  radius  sub_step  \n",
       "0       6.240908     2.007532    -1.0       2.0  \n",
       "1       6.240908     2.007532    -1.0       2.0  \n",
       "2       6.240908     2.007532    -1.0       2.0  \n",
       "3       6.240908     2.007532    -1.0       2.0  \n",
       "4       6.240908     2.007532    -1.0       2.0  \n",
       "...          ...          ...     ...       ...  \n",
       "297995  2.481308     2.453735    -1.0       2.0  \n",
       "297996  2.481308     2.453735    -1.0       2.0  \n",
       "297997  2.481308     2.453735    -1.0       2.0  \n",
       "297998  2.481308     2.453735    -1.0       2.0  \n",
       "297999  2.481308     2.453735    -1.0       2.0  \n",
       "\n",
       "[298000 rows x 10 columns]"
      ]
     },
     "execution_count": 10,
     "metadata": {},
     "output_type": "execute_result"
    }
   ],
   "source": [
    "df"
   ]
  },
  {
   "cell_type": "code",
   "execution_count": null,
   "id": "dc136980",
   "metadata": {},
   "outputs": [],
   "source": []
  }
 ],
 "metadata": {
  "kernelspec": {
   "display_name": "Python 3",
   "language": "python",
   "name": "python3"
  },
  "language_info": {
   "codemirror_mode": {
    "name": "ipython",
    "version": 3
   },
   "file_extension": ".py",
   "mimetype": "text/x-python",
   "name": "python",
   "nbconvert_exporter": "python",
   "pygments_lexer": "ipython3",
   "version": "3.8.5"
  }
 },
 "nbformat": 4,
 "nbformat_minor": 5
}
