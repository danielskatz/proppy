{
 "cells": [
  {
   "cell_type": "code",
   "execution_count": 1,
   "id": "5045552e",
   "metadata": {},
   "outputs": [],
   "source": [
    "import numpy as np\n",
    "import matplotlib.pyplot as plt\n",
    "import pandas as pd\n",
    "import os\n",
    "os.chdir('..')\n",
    "import rwpropa as rw"
   ]
  },
  {
   "cell_type": "markdown",
   "id": "d26a23a1",
   "metadata": {},
   "source": [
    "### Source"
   ]
  },
  {
   "cell_type": "code",
   "execution_count": 2,
   "id": "01b53fc5",
   "metadata": {},
   "outputs": [],
   "source": [
    "nr_particles = 1*10**4\n",
    "source_pos = np.array([0.0, 0.0, 0.0], dtype=np.float32)\n",
    "energy = 10**12 # eV\n",
    "sphere = 10**14 # [m]\n",
    "\n",
    "def point_source(nr_particles=nr_particles):\n",
    "    return rw.PointSourceIsotropic(energy, source_pos, nr_particles)\n",
    "\n",
    "def sphere_source(nr_particles=nr_particles):\n",
    "    radius = sphere\n",
    "    source = rw.SphereSourceIsotropic(energy, source_pos, nr_particles, radius)\n",
    "    return source"
   ]
  },
  {
   "cell_type": "markdown",
   "id": "1106e41c",
   "metadata": {},
   "source": [
    "### Propagator"
   ]
  },
  {
   "cell_type": "code",
   "execution_count": 9,
   "id": "bf03966e",
   "metadata": {},
   "outputs": [],
   "source": [
    "step_size = 1.0*10**12\n",
    "\n",
    "def propagator(nr_steps=1*10**4, step_size=step_size, diff=1.5*10**21):\n",
    "    speed_of_light = 3*10**8 # [m/s]\n",
    "    diffusion_coefficient = diff # [m^2/s]\n",
    "    mfp_iso = 3*diffusion_coefficient/speed_of_light\n",
    "    mfp = np.array([mfp_iso, mfp_iso, mfp_iso], dtype=np.float32)  # [m]\n",
    "    prop = rw.IsotropicPropagator(mfp, nr_steps, step_size)\n",
    "    return prop"
   ]
  },
  {
   "cell_type": "markdown",
   "id": "9c061026",
   "metadata": {},
   "source": [
    "### Observer"
   ]
  },
  {
   "cell_type": "code",
   "execution_count": 10,
   "id": "472888f8",
   "metadata": {},
   "outputs": [],
   "source": [
    "def time_evolution_observer(nr_steps):\n",
    "    substeps = [False, False, True] # observe only steps (no substeps)\n",
    "    min_step = 1\n",
    "    max_step = nr_steps\n",
    "    nr_obs_steps = 30\n",
    "    observer = rw.TimeEvolutionObserverLog(min_step, max_step, nr_obs_steps, substeps)\n",
    "    return observer\n",
    "\n",
    "def sphere_observer(deactivate=True):\n",
    "    substeps = [False, False, True] # observe only steps (no substeps)\n",
    "    spheres = [sphere]\n",
    "    return rw.SphericalObserver(substeps, spheres, on_detection_deactivate=deactivate)"
   ]
  },
  {
   "cell_type": "markdown",
   "id": "ebdad4ad",
   "metadata": {},
   "source": [
    "### Simulation & Analyze setup"
   ]
  },
  {
   "cell_type": "code",
   "execution_count": 11,
   "id": "0d2479e7",
   "metadata": {},
   "outputs": [],
   "source": [
    "def run_simulation(source, observer, propagator, file_name):\n",
    "    sim = rw.Simulation()\n",
    "    sim.add_source(source)\n",
    "    sim.add_propagator(propagator)\n",
    "    sim.add_observer(observer)\n",
    "    %time sim.run_simulation()\n",
    "    sim.save_data(file_name)"
   ]
  },
  {
   "cell_type": "code",
   "execution_count": 6,
   "id": "28d51674",
   "metadata": {},
   "outputs": [],
   "source": [
    "def analize(file_name, diff, nr_particles=nr_particles):\n",
    "    df = pd.read_pickle(file_name+'.pkl')\n",
    "    bins = 20\n",
    "    trajectory_lengths = df['d']\n",
    "    d = trajectory_lengths/10**14\n",
    "    hist, bins = np.histogram(d, bins=bins)\n",
    "    logbins = np.logspace(np.log10(min(d)),np.log10(max(d)),len(bins))\n",
    "    plt.hist(d, bins=logbins, alpha=0.5, label='$\\kappa =$ {:.1e}m$^2$/s'.format(diff))\n",
    "\n",
    "    plt.title('total # particles = {:.0e}'.format(nr_particles))\n",
    "    plt.xlabel('D/{:.0e}m'.format(sphere))\n",
    "    plt.ylabel('# particles')\n",
    "    plt.loglog()\n",
    "    plt.legend()\n",
    "    plt.show()"
   ]
  },
  {
   "cell_type": "markdown",
   "id": "bb612919",
   "metadata": {},
   "source": [
    "###  Simulation"
   ]
  },
  {
   "cell_type": "code",
   "execution_count": 12,
   "id": "db39b343",
   "metadata": {},
   "outputs": [],
   "source": [
    "diff = 10**21 #[m^2/s]"
   ]
  },
  {
   "cell_type": "code",
   "execution_count": null,
   "id": "d5e2ce54",
   "metadata": {},
   "outputs": [],
   "source": [
    "file_0 = 'data/data_tut_5_point_time_kappa'\n",
    "nr_steps = 3*10**3\n",
    "run_simulation(point_source(nr_particles=10**3), time_evolution_observer(nr_steps=nr_steps), propagator(step_size=step_size, diff=diff, nr_steps=nr_steps), file_0)\n",
    "df = pd.read_pickle(file_0+'.pkl')\n",
    "sta = rw.Statistics(df)\n",
    "df_kappas = sta.plot_diffusion_coefficients(n_points_plateau=5)\n",
    "\n",
    "steps = sorted(list(set(df['i'])))\n",
    "print('\\n-----------------------------------')\n",
    "print('particle distribution after '+str(int(steps[0]))+'. step')\n",
    "sta.plot_distribution('x', steps[0], 50, None)\n",
    "print('\\n-----------------------------------')\n",
    "print('particle distribution after last step')\n",
    "sta.plot_distribution('x', steps[-1], 50, None)\n",
    "df"
   ]
  },
  {
   "cell_type": "code",
   "execution_count": null,
   "id": "e827c971",
   "metadata": {},
   "outputs": [],
   "source": [
    "file_1 = 'data/data_tut_5_source_time_distr'\n",
    "nr_steps=3*10**3\n",
    "run_simulation(sphere_source(nr_particles=10**3), time_evolution_observer(nr_steps=nr_steps), propagator(step_size=step_size, diff=diff, nr_steps=nr_steps), file_1)\n",
    "df = pd.read_pickle(file_1+'.pkl')\n",
    "sta = rw.Statistics(df)\n",
    "steps = sorted(list(set(df['i'])))\n",
    "print('\\n-----------------------------------')\n",
    "print('particle distribution after '+str(int(steps[0]))+'. step')\n",
    "sta.plot_distribution('x', steps[0], 50, None)\n",
    "print('\\n-----------------------------------')\n",
    "print('particle distribution after last step')\n",
    "sta.plot_distribution('x', steps[-1], 50, None)"
   ]
  },
  {
   "cell_type": "code",
   "execution_count": null,
   "id": "af8fabda",
   "metadata": {},
   "outputs": [],
   "source": [
    "file_2 = 'data/data_tut_5_point_sphere_hist'\n",
    "run_simulation(point_source(), sphere_observer(), propagator(step_size=step_size, diff=diff, nr_steps=1*10**4), file_2)\n",
    "analize(file_2, diff)"
   ]
  },
  {
   "cell_type": "code",
   "execution_count": null,
   "id": "a53fc16f",
   "metadata": {
    "scrolled": false
   },
   "outputs": [],
   "source": [
    "file_3 = 'data/data_tut_5_sphere_sphere'\n",
    "run_simulation(sphere_source(), sphere_observer(), propagator(step_size=step_size, diff=diff, nr_steps=1*10**4), file_3)\n",
    "analize(file_3, diff)"
   ]
  },
  {
   "cell_type": "code",
   "execution_count": null,
   "id": "96f50772",
   "metadata": {},
   "outputs": [],
   "source": [
    "file_4 = 'data/data_tut_5_sphere_sphere_active'\n",
    "run_simulation(sphere_source(nr_particles=5), sphere_observer(deactivate=False), propagator(step_size=step_size, diff=diff, nr_steps=1*10**4), file_4)\n",
    "analize(file_4, diff, nr_particles=5)"
   ]
  },
  {
   "cell_type": "code",
   "execution_count": null,
   "id": "5c1fcdab",
   "metadata": {},
   "outputs": [],
   "source": [
    "colors = ['r', 'dodgerblue']\n",
    "labels = ['point source', 'spherical source']\n",
    "bins = 100\n",
    "logbins = np.logspace(np.log10(step_size/sphere), np.log10(step_size*nr_steps/sphere),bins)\n",
    "\n",
    "for i, file in enumerate([file_2, file_3]):\n",
    "    df = pd.read_pickle(file+'.pkl')\n",
    "    trajectory_lengths = df['d']\n",
    "    d = trajectory_lengths/sphere\n",
    "    plt.hist(d, bins=logbins, histtype=u'step', edgecolor=colors[i], linewidth=1., facecolor=\"None\", label=labels[i])\n",
    "\n",
    "plt.axvline(x=step_size/sphere, color='grey', ls='--', label='step length')\n",
    "plt.axvline(x=1, color='k', ls='--', label='plasmoid radius')\n",
    "\n",
    "plt.title('total # particles injected = {:.0e}'.format(nr_particles), size=14)\n",
    "plt.xlabel('$l_\\mathrm{traj}$'+' / {:.0e}m'.format(sphere), size=14)\n",
    "plt.ylabel('# particles', size=14)\n",
    "plt.loglog()\n",
    "plt.legend(loc = \"upper left\")\n",
    "#plt.savefig('traj_lengths_rwpropa_normalized.pdf')\n",
    "plt.show()"
   ]
  },
  {
   "cell_type": "code",
   "execution_count": null,
   "id": "cc663778",
   "metadata": {},
   "outputs": [],
   "source": []
  }
 ],
 "metadata": {
  "kernelspec": {
   "display_name": "Python 3",
   "language": "python",
   "name": "python3"
  },
  "language_info": {
   "codemirror_mode": {
    "name": "ipython",
    "version": 3
   },
   "file_extension": ".py",
   "mimetype": "text/x-python",
   "name": "python",
   "nbconvert_exporter": "python",
   "pygments_lexer": "ipython3",
   "version": "3.8.5"
  }
 },
 "nbformat": 4,
 "nbformat_minor": 5
}
