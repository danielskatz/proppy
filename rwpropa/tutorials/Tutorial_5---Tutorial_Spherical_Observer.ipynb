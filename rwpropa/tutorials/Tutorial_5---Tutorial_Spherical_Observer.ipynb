{
 "cells": [
  {
   "cell_type": "code",
   "execution_count": 1,
   "id": "5045552e",
   "metadata": {},
   "outputs": [],
   "source": [
    "import numpy as np\n",
    "import matplotlib.pyplot as plt\n",
    "import pandas as pd\n",
    "import os\n",
    "os.chdir('..')\n",
    "import rwpropa as rw"
   ]
  },
  {
   "cell_type": "markdown",
   "id": "612c2b8f",
   "metadata": {},
   "source": [
    "### Simulation"
   ]
  },
  {
   "cell_type": "code",
   "execution_count": 2,
   "id": "753756c3",
   "metadata": {},
   "outputs": [
    {
     "name": "stdout",
     "output_type": "stream",
     "text": [
      "start simulation\n",
      "Propagator initialized\n",
      "Observer initialized\n",
      "CPU times: user 2.86 s, sys: 8.79 ms, total: 2.87 s\n",
      "Wall time: 2.87 s\n",
      "saved data file data/data_tut_5.pkl\n"
     ]
    }
   ],
   "source": [
    "sim = rw.Simulation()\n",
    "\n",
    "nr_particles = 1*10**1\n",
    "source_pos = np.array([0.0, 0.0, 0.0], dtype=np.float32)\n",
    "energy = 10**12 # eV\n",
    "source = rw.PointSourceIsotropicPhi(energy, source_pos, nr_particles)\n",
    "sim.add_source(source)\n",
    "\n",
    "nr_steps = 1*10**5\n",
    "step_size = 0.5*10**10 # [m]\n",
    "diffusion_coefficient = 1.5*10**20 # [m^2/s]\n",
    "speed_of_light = 3*10**8 # [m/s]\n",
    "mfp_iso = 3*diffusion_coefficient/speed_of_light\n",
    "mfp = np.array([mfp_iso, mfp_iso, mfp_iso], dtype=np.float32)  # [m]\n",
    "propagator = rw.IsotropicPropagator(mfp, nr_steps, step_size)\n",
    "sim.add_propagator(propagator)\n",
    "\n",
    "substeps = [False, False, True] # observe only steps (no substeps)\n",
    "#min_step = 1\n",
    "#max_step = nr_steps\n",
    "#nr_obs_steps = 200\n",
    "#observer = rw.TimeEvolutionObserverLog(min_step, max_step, nr_obs_steps, substeps)\n",
    "spheres = [10**13]\n",
    "observer = rw.SphericalObserver(substeps, spheres, on_detection_deactivate=True)\n",
    "sim.add_observer(observer)\n",
    "\n",
    "%time sim.run_simulation()\n",
    "sim.save_data('data/data_tut_5')"
   ]
  },
  {
   "cell_type": "markdown",
   "id": "0c3a9aca",
   "metadata": {},
   "source": [
    "### Analysis"
   ]
  },
  {
   "cell_type": "code",
   "execution_count": 4,
   "id": "bd605e1c",
   "metadata": {},
   "outputs": [
    {
     "data": {
      "image/png": "[encoded data removed]",
      "text/plain": [
       "<Figure size 432x288 with 1 Axes>"
      ]
     },
     "metadata": {
      "needs_background": "light"
     },
     "output_type": "display_data"
    }
   ],
   "source": [
    "df = pd.read_pickle(\"data/data_tut_5.pkl\")\n",
    "bins = 10\n",
    "hist, bins = np.histogram(df['d'], bins=bins)\n",
    "logbins = np.logspace(np.log10(min(df['d'])),np.log10(max(df['d'])),len(bins))\n",
    "plt.hist(df['d'], bins=logbins, alpha=0.5)\n",
    "\n",
    "plt.loglog()\n",
    "plt.show()"
   ]
  },
  {
   "cell_type": "code",
   "execution_count": 15,
   "id": "a423d3b8",
   "metadata": {},
   "outputs": [
    {
     "data": {
      "text/html": [
       "<div>\n",
       "<style scoped>\n",
       "    .dataframe tbody tr th:only-of-type {\n",
       "        vertical-align: middle;\n",
       "    }\n",
       "\n",
       "    .dataframe tbody tr th {\n",
       "        vertical-align: top;\n",
       "    }\n",
       "\n",
       "    .dataframe thead th {\n",
       "        text-align: right;\n",
       "    }\n",
       "</style>\n",
       "<table border=\"1\" class=\"dataframe\">\n",
       "  <thead>\n",
       "    <tr style=\"text-align: right;\">\n",
       "      <th></th>\n",
       "      <th>id</th>\n",
       "      <th>i</th>\n",
       "      <th>d</th>\n",
       "      <th>x</th>\n",
       "      <th>y</th>\n",
       "      <th>z</th>\n",
       "      <th>phi</th>\n",
       "      <th>pitch_angle</th>\n",
       "      <th>radius</th>\n",
       "      <th>sub_step</th>\n",
       "    </tr>\n",
       "  </thead>\n",
       "  <tbody>\n",
       "    <tr>\n",
       "      <th>0</th>\n",
       "      <td>0.0</td>\n",
       "      <td>63415.0</td>\n",
       "      <td>2.533771e+16</td>\n",
       "      <td>6.281554e+13</td>\n",
       "      <td>-4.618798e+13</td>\n",
       "      <td>6.281554e+13</td>\n",
       "      <td>4.042288</td>\n",
       "      <td>4.096986</td>\n",
       "      <td>1.000000e+14</td>\n",
       "      <td>2.0</td>\n",
       "    </tr>\n",
       "    <tr>\n",
       "      <th>1</th>\n",
       "      <td>0.0</td>\n",
       "      <td>63417.0</td>\n",
       "      <td>2.533851e+16</td>\n",
       "      <td>6.281554e+13</td>\n",
       "      <td>-4.618798e+13</td>\n",
       "      <td>6.281554e+13</td>\n",
       "      <td>4.042288</td>\n",
       "      <td>4.096986</td>\n",
       "      <td>1.000000e+14</td>\n",
       "      <td>2.0</td>\n",
       "    </tr>\n",
       "    <tr>\n",
       "      <th>2</th>\n",
       "      <td>0.0</td>\n",
       "      <td>63420.0</td>\n",
       "      <td>2.533971e+16</td>\n",
       "      <td>6.258460e+13</td>\n",
       "      <td>-4.595704e+13</td>\n",
       "      <td>6.304648e+13</td>\n",
       "      <td>4.042288</td>\n",
       "      <td>4.096986</td>\n",
       "      <td>1.000000e+14</td>\n",
       "      <td>2.0</td>\n",
       "    </tr>\n",
       "    <tr>\n",
       "      <th>3</th>\n",
       "      <td>0.0</td>\n",
       "      <td>63422.0</td>\n",
       "      <td>2.534051e+16</td>\n",
       "      <td>6.304648e+13</td>\n",
       "      <td>-4.595704e+13</td>\n",
       "      <td>6.304648e+13</td>\n",
       "      <td>4.042288</td>\n",
       "      <td>4.096986</td>\n",
       "      <td>1.000000e+14</td>\n",
       "      <td>2.0</td>\n",
       "    </tr>\n",
       "    <tr>\n",
       "      <th>4</th>\n",
       "      <td>0.0</td>\n",
       "      <td>63423.0</td>\n",
       "      <td>2.534091e+16</td>\n",
       "      <td>6.327742e+13</td>\n",
       "      <td>-4.572610e+13</td>\n",
       "      <td>6.327742e+13</td>\n",
       "      <td>4.042288</td>\n",
       "      <td>4.096986</td>\n",
       "      <td>1.000000e+14</td>\n",
       "      <td>2.0</td>\n",
       "    </tr>\n",
       "    <tr>\n",
       "      <th>...</th>\n",
       "      <td>...</td>\n",
       "      <td>...</td>\n",
       "      <td>...</td>\n",
       "      <td>...</td>\n",
       "      <td>...</td>\n",
       "      <td>...</td>\n",
       "      <td>...</td>\n",
       "      <td>...</td>\n",
       "      <td>...</td>\n",
       "      <td>...</td>\n",
       "    </tr>\n",
       "    <tr>\n",
       "      <th>4572401</th>\n",
       "      <td>19.0</td>\n",
       "      <td>399996.0</td>\n",
       "      <td>1.626086e+17</td>\n",
       "      <td>1.009204e+14</td>\n",
       "      <td>-2.563437e+13</td>\n",
       "      <td>-7.136027e+13</td>\n",
       "      <td>1.252278</td>\n",
       "      <td>0.955393</td>\n",
       "      <td>1.000000e+14</td>\n",
       "      <td>2.0</td>\n",
       "    </tr>\n",
       "    <tr>\n",
       "      <th>4572402</th>\n",
       "      <td>19.0</td>\n",
       "      <td>399997.0</td>\n",
       "      <td>1.626090e+17</td>\n",
       "      <td>1.011513e+14</td>\n",
       "      <td>-2.586531e+13</td>\n",
       "      <td>-7.159121e+13</td>\n",
       "      <td>1.252278</td>\n",
       "      <td>0.955393</td>\n",
       "      <td>1.000000e+14</td>\n",
       "      <td>2.0</td>\n",
       "    </tr>\n",
       "    <tr>\n",
       "      <th>4572403</th>\n",
       "      <td>19.0</td>\n",
       "      <td>399998.0</td>\n",
       "      <td>1.626095e+17</td>\n",
       "      <td>1.009204e+14</td>\n",
       "      <td>-2.563437e+13</td>\n",
       "      <td>-7.136027e+13</td>\n",
       "      <td>1.252278</td>\n",
       "      <td>0.955393</td>\n",
       "      <td>1.000000e+14</td>\n",
       "      <td>2.0</td>\n",
       "    </tr>\n",
       "    <tr>\n",
       "      <th>4572404</th>\n",
       "      <td>19.0</td>\n",
       "      <td>399999.0</td>\n",
       "      <td>1.626099e+17</td>\n",
       "      <td>1.011513e+14</td>\n",
       "      <td>-2.586531e+13</td>\n",
       "      <td>-7.159121e+13</td>\n",
       "      <td>1.252278</td>\n",
       "      <td>0.955393</td>\n",
       "      <td>1.000000e+14</td>\n",
       "      <td>2.0</td>\n",
       "    </tr>\n",
       "    <tr>\n",
       "      <th>4572405</th>\n",
       "      <td>19.0</td>\n",
       "      <td>400000.0</td>\n",
       "      <td>1.626103e+17</td>\n",
       "      <td>1.013823e+14</td>\n",
       "      <td>-2.563437e+13</td>\n",
       "      <td>-7.182215e+13</td>\n",
       "      <td>1.252278</td>\n",
       "      <td>0.955393</td>\n",
       "      <td>1.000000e+14</td>\n",
       "      <td>2.0</td>\n",
       "    </tr>\n",
       "  </tbody>\n",
       "</table>\n",
       "<p>4572406 rows × 10 columns</p>\n",
       "</div>"
      ],
      "text/plain": [
       "           id         i             d             x             y  \\\n",
       "0         0.0   63415.0  2.533771e+16  6.281554e+13 -4.618798e+13   \n",
       "1         0.0   63417.0  2.533851e+16  6.281554e+13 -4.618798e+13   \n",
       "2         0.0   63420.0  2.533971e+16  6.258460e+13 -4.595704e+13   \n",
       "3         0.0   63422.0  2.534051e+16  6.304648e+13 -4.595704e+13   \n",
       "4         0.0   63423.0  2.534091e+16  6.327742e+13 -4.572610e+13   \n",
       "...       ...       ...           ...           ...           ...   \n",
       "4572401  19.0  399996.0  1.626086e+17  1.009204e+14 -2.563437e+13   \n",
       "4572402  19.0  399997.0  1.626090e+17  1.011513e+14 -2.586531e+13   \n",
       "4572403  19.0  399998.0  1.626095e+17  1.009204e+14 -2.563437e+13   \n",
       "4572404  19.0  399999.0  1.626099e+17  1.011513e+14 -2.586531e+13   \n",
       "4572405  19.0  400000.0  1.626103e+17  1.013823e+14 -2.563437e+13   \n",
       "\n",
       "                    z       phi  pitch_angle        radius  sub_step  \n",
       "0        6.281554e+13  4.042288     4.096986  1.000000e+14       2.0  \n",
       "1        6.281554e+13  4.042288     4.096986  1.000000e+14       2.0  \n",
       "2        6.304648e+13  4.042288     4.096986  1.000000e+14       2.0  \n",
       "3        6.304648e+13  4.042288     4.096986  1.000000e+14       2.0  \n",
       "4        6.327742e+13  4.042288     4.096986  1.000000e+14       2.0  \n",
       "...               ...       ...          ...           ...       ...  \n",
       "4572401 -7.136027e+13  1.252278     0.955393  1.000000e+14       2.0  \n",
       "4572402 -7.159121e+13  1.252278     0.955393  1.000000e+14       2.0  \n",
       "4572403 -7.136027e+13  1.252278     0.955393  1.000000e+14       2.0  \n",
       "4572404 -7.159121e+13  1.252278     0.955393  1.000000e+14       2.0  \n",
       "4572405 -7.182215e+13  1.252278     0.955393  1.000000e+14       2.0  \n",
       "\n",
       "[4572406 rows x 10 columns]"
      ]
     },
     "execution_count": 15,
     "metadata": {},
     "output_type": "execute_result"
    }
   ],
   "source": [
    "df"
   ]
  },
  {
   "cell_type": "code",
   "execution_count": 20,
   "id": "dbe2e72d",
   "metadata": {},
   "outputs": [
    {
     "name": "stdout",
     "output_type": "stream",
     "text": [
      "simulate with a diffusion coefficient of  1.5e+20 m²/s\n",
      "start simulation\n",
      "Propagator initialized\n",
      "Observer initialized\n",
      "saved data file isotropic.pkl\n",
      "CPU times: user 2min 37s, sys: 63.9 ms, total: 2min 37s\n",
      "Wall time: 2min 37s\n"
     ]
    }
   ],
   "source": [
    "sim = rw.IsotropicSimulation(nr_particles = 10**2, energy = energy, nr_steps = nr_steps, diffusion_coefficient_para = diffusion_coefficient, nr_obs_steps = 600)\n",
    "%time sim.simulate()"
   ]
  },
  {
   "cell_type": "code",
   "execution_count": 21,
   "id": "85b0e0ab",
   "metadata": {},
   "outputs": [
    {
     "name": "stdout",
     "output_type": "stream",
     "text": [
      "init statistics plotting class\n"
     ]
    },
    {
     "data": {
      "image/png": "[encoded data removed]",
      "text/plain": [
       "<Figure size 216x144 with 1 Axes>"
      ]
     },
     "metadata": {
      "needs_background": "light"
     },
     "output_type": "display_data"
    },
    {
     "name": "stdout",
     "output_type": "stream",
     "text": [
      "diffusion coefficients computed between 1.02e+17m and 1.02e+18m with 100 data points\n",
      "kappa_{xx}: 1.05e+20 m²/s +- 9.1e+18 m²/s\n",
      "kappa_{yy}: 9.88e+19 m²/s +- 1.27e+19 m²/s\n",
      "kappa_{zz}: 9.2e+19 m²/s +- 1.2e+19 m²/s\n"
     ]
    }
   ],
   "source": [
    "df = pd.read_pickle(\"isotropic.pkl\")\n",
    "sta = rw.Statistics(df)\n",
    "df_kappas = sta.plot_diffusion_coefficients(n_points_plateau=100)"
   ]
  },
  {
   "cell_type": "code",
   "execution_count": null,
   "id": "1f974b56",
   "metadata": {},
   "outputs": [],
   "source": []
  }
 ],
 "metadata": {
  "kernelspec": {
   "display_name": "Python 3",
   "language": "python",
   "name": "python3"
  },
  "language_info": {
   "codemirror_mode": {
    "name": "ipython",
    "version": 3
   },
   "file_extension": ".py",
   "mimetype": "text/x-python",
   "name": "python",
   "nbconvert_exporter": "python",
   "pygments_lexer": "ipython3",
   "version": "3.8.5"
  }
 },
 "nbformat": 4,
 "nbformat_minor": 5
}
