{
 "cells": [
  {
   "cell_type": "code",
   "execution_count": 1,
   "id": "5045552e",
   "metadata": {},
   "outputs": [],
   "source": [
    "import numpy as np\n",
    "import matplotlib.pyplot as plt\n",
    "import pandas as pd\n",
    "import os\n",
    "os.chdir('..')\n",
    "import rwpropa as rw"
   ]
  },
  {
   "cell_type": "markdown",
   "id": "612c2b8f",
   "metadata": {},
   "source": [
    "### Simulation"
   ]
  },
  {
   "cell_type": "code",
   "execution_count": 2,
   "id": "82428969",
   "metadata": {},
   "outputs": [
    {
     "name": "stdout",
     "output_type": "stream",
     "text": [
      "start simulation\n",
      "Propagator initialized\n",
      "Observer initialized\n"
     ]
    }
   ],
   "source": [
    "sim = rw.Simulation()\n",
    "\n",
    "nr_particles = 1*10**4\n",
    "source_pos = np.array([0.0, 0.0, 0.0], dtype=np.float32)\n",
    "energy = 10**12 # eV\n",
    "source = rw.PointSourceIsotropicPhi(energy, source_pos, nr_particles)\n",
    "sim.add_source(source)\n",
    "\n",
    "nr_steps = 1*10**5\n",
    "step_size = 1.0*10**11 # [m]\n",
    "diffusion_coefficient = 1.5*10**21 # [m^2/s]\n",
    "speed_of_light = 3*10**8 # [m/s]\n",
    "mfp_iso = 3*diffusion_coefficient/speed_of_light\n",
    "mfp = np.array([mfp_iso, mfp_iso, mfp_iso], dtype=np.float32)  # [m]\n",
    "propagator = rw.IsotropicPropagator(mfp, nr_steps, step_size)\n",
    "sim.add_propagator(propagator)\n",
    "\n",
    "substeps = [False, False, True] # observe only steps (no substeps)\n",
    "sphere = 10**14 # [m]\n",
    "spheres = [sphere]\n",
    "observer = rw.SphericalObserver(substeps, spheres, on_detection_deactivate=True)\n",
    "sim.add_observer(observer)"
   ]
  },
  {
   "cell_type": "code",
   "execution_count": null,
   "id": "753756c3",
   "metadata": {},
   "outputs": [],
   "source": [
    "%time sim.run_simulation()\n",
    "sim.save_data('data/data_tut_5')"
   ]
  },
  {
   "cell_type": "markdown",
   "id": "0c3a9aca",
   "metadata": {},
   "source": [
    "### Analysis"
   ]
  },
  {
   "cell_type": "code",
   "execution_count": 50,
   "id": "e49fb821",
   "metadata": {},
   "outputs": [
    {
     "data": {
      "image/png": "[encoded data removed]",
      "text/plain": [
       "<Figure size 432x288 with 1 Axes>"
      ]
     },
     "metadata": {
      "needs_background": "light"
     },
     "output_type": "display_data"
    }
   ],
   "source": [
    "df = pd.read_pickle(\"data/data_tut_5.pkl\")\n",
    "bins = 20\n",
    "trajectory_lengths = df['d']\n",
    "d = trajectory_lengths/10**14\n",
    "hist, bins = np.histogram(d, bins=bins)\n",
    "logbins = np.logspace(np.log10(min(d)),np.log10(max(d)),len(bins))\n",
    "plt.hist(d, bins=logbins, alpha=0.5, label='$\\kappa =$ {:.1e}m$^2$/s'.format(diffusion_coefficient))\n",
    "\n",
    "plt.title('total # particles = {:.0e}'.format(nr_particles))\n",
    "plt.xlabel('D/{:.0e}m'.format(sphere))\n",
    "plt.ylabel('# particles')\n",
    "plt.loglog()\n",
    "plt.legend()\n",
    "plt.savefig('traj_lengths_rwpropa.png')\n",
    "plt.show()"
   ]
  },
  {
   "cell_type": "markdown",
   "id": "2efdc656",
   "metadata": {},
   "source": [
    "## Sphere source"
   ]
  },
  {
   "cell_type": "code",
   "execution_count": 3,
   "id": "d705e055",
   "metadata": {},
   "outputs": [
    {
     "name": "stdout",
     "output_type": "stream",
     "text": [
      "start simulation\n",
      "Propagator initialized\n",
      "Observer initialized\n"
     ]
    }
   ],
   "source": [
    "sim = rw.Simulation()\n",
    "\n",
    "nr_particles = 2*10**5\n",
    "source_pos = np.array([0.0, 0.0, 0.0], dtype=np.float32)\n",
    "energy = 10**12 # eV\n",
    "sphere = 10**14 # [m]\n",
    "radius = sphere\n",
    "source = rw.SphereSourceIsotropic(energy, source_pos, nr_particles, radius)\n",
    "sim.add_source(source)\n",
    "\n",
    "nr_steps = 1*10**5\n",
    "step_size = 1.0*10**11 # [m]\n",
    "diffusion_coefficient = 1.5*10**21 # [m^2/s]\n",
    "speed_of_light = 3*10**8 # [m/s]\n",
    "mfp_iso = 3*diffusion_coefficient/speed_of_light\n",
    "mfp = np.array([mfp_iso, mfp_iso, mfp_iso], dtype=np.float32)  # [m]\n",
    "propagator = rw.IsotropicPropagator(mfp, nr_steps, step_size)\n",
    "sim.add_propagator(propagator)\n",
    "\n",
    "substeps = [False, False, True] # observe only steps (no substeps)\n",
    "spheres = [sphere]\n",
    "observer = rw.SphericalObserver(substeps, spheres, on_detection_deactivate=True)\n",
    "sim.add_observer(observer)"
   ]
  },
  {
   "cell_type": "code",
   "execution_count": 4,
   "id": "6568c48b",
   "metadata": {},
   "outputs": [
    {
     "name": "stdout",
     "output_type": "stream",
     "text": [
      "CPU times: user 14min 14s, sys: 14.1 s, total: 14min 28s\n",
      "Wall time: 14min 29s\n",
      "saved data file data/data_tut_5_sphere.pkl\n"
     ]
    }
   ],
   "source": [
    "%time sim.run_simulation()\n",
    "sim.save_data('data/data_tut_5_sphere')"
   ]
  },
  {
   "cell_type": "code",
   "execution_count": 22,
   "id": "4db7f2f7",
   "metadata": {},
   "outputs": [
    {
     "name": "stdout",
     "output_type": "stream",
     "text": [
      "start simulation\n",
      "Propagator initialized\n",
      "Observer initialized\n"
     ]
    }
   ],
   "source": [
    "sim = rw.Simulation()\n",
    "\n",
    "nr_particles = 2*10**5\n",
    "source_pos = np.array([0.0, 0.0, 0.0], dtype=np.float32)\n",
    "energy = 10**12 # eV\n",
    "sphere = 10**14 # [m]\n",
    "radius = sphere\n",
    "source = rw.SphereSourceIsotropic(energy, source_pos, nr_particles, radius)\n",
    "sim.add_source(source)\n",
    "\n",
    "nr_steps = 1*10**5\n",
    "step_size = 1.0*10**11 # [m]\n",
    "diffusion_coefficient = 1.5*10**20 # [m^2/s]\n",
    "speed_of_light = 3*10**8 # [m/s]\n",
    "mfp_iso = 3*diffusion_coefficient/speed_of_light\n",
    "mfp = np.array([mfp_iso, mfp_iso, mfp_iso], dtype=np.float32)  # [m]\n",
    "propagator = rw.IsotropicPropagator(mfp, nr_steps, step_size)\n",
    "sim.add_propagator(propagator)\n",
    "\n",
    "substeps = [False, False, True] # observe only steps (no substeps)\n",
    "spheres = [sphere]\n",
    "observer = rw.SphericalObserver(substeps, spheres, on_detection_deactivate=True)\n",
    "sim.add_observer(observer)"
   ]
  },
  {
   "cell_type": "code",
   "execution_count": 7,
   "id": "641d7565",
   "metadata": {},
   "outputs": [
    {
     "name": "stdout",
     "output_type": "stream",
     "text": [
      "CPU times: user 54min 28s, sys: 337 ms, total: 54min 28s\n",
      "Wall time: 54min 28s\n",
      "saved data file data/data_tut_5_sphere_20.pkl\n"
     ]
    }
   ],
   "source": [
    "%time sim.run_simulation()\n",
    "sim.save_data('data/data_tut_5_sphere_20')"
   ]
  },
  {
   "cell_type": "code",
   "execution_count": 8,
   "id": "f99f5e70",
   "metadata": {},
   "outputs": [
    {
     "name": "stdout",
     "output_type": "stream",
     "text": [
      "start simulation\n",
      "Propagator initialized\n",
      "Observer initialized\n"
     ]
    }
   ],
   "source": [
    "sim = rw.Simulation()\n",
    "\n",
    "nr_particles = 2*10**5\n",
    "source_pos = np.array([0.0, 0.0, 0.0], dtype=np.float32)\n",
    "energy = 10**12 # eV\n",
    "sphere = 10**14 # [m]\n",
    "radius = sphere\n",
    "source = rw.SphereSourceIsotropic(energy, source_pos, nr_particles, radius)\n",
    "sim.add_source(source)\n",
    "\n",
    "nr_steps = 1*10**5\n",
    "step_size = 1.0*10**11 # [m]\n",
    "diffusion_coefficient = 1.5*10**19 # [m^2/s]\n",
    "speed_of_light = 3*10**8 # [m/s]\n",
    "mfp_iso = 3*diffusion_coefficient/speed_of_light\n",
    "mfp = np.array([mfp_iso, mfp_iso, mfp_iso], dtype=np.float32)  # [m]\n",
    "propagator = rw.IsotropicPropagator(mfp, nr_steps, step_size)\n",
    "sim.add_propagator(propagator)\n",
    "\n",
    "substeps = [False, False, True] # observe only steps (no substeps)\n",
    "spheres = [sphere]\n",
    "observer = rw.SphericalObserver(substeps, spheres, on_detection_deactivate=True)\n",
    "sim.add_observer(observer)"
   ]
  },
  {
   "cell_type": "code",
   "execution_count": 9,
   "id": "714f1bbe",
   "metadata": {},
   "outputs": [
    {
     "name": "stdout",
     "output_type": "stream",
     "text": [
      "CPU times: user 3h 46min 34s, sys: 1.05 s, total: 3h 46min 35s\n",
      "Wall time: 3h 46min 37s\n",
      "saved data file data/data_tut_5_sphere_19.pkl\n"
     ]
    }
   ],
   "source": [
    "%time sim.run_simulation()\n",
    "sim.save_data('data/data_tut_5_sphere_19')"
   ]
  },
  {
   "cell_type": "code",
   "execution_count": 25,
   "id": "acaef4c5",
   "metadata": {},
   "outputs": [
    {
     "data": {
      "image/png": "[encoded data removed]",
      "text/plain": [
       "<Figure size 432x288 with 1 Axes>"
      ]
     },
     "metadata": {
      "needs_background": "light"
     },
     "output_type": "display_data"
    }
   ],
   "source": [
    "files = [\"data/data_tut_5_sphere.pkl\", \"data/data_tut_5_sphere_20.pkl\", \"data/data_tut_5_sphere_19.pkl\"]\n",
    "colors = ['r', 'dodgerblue', 'green']\n",
    "kappas = [1.5*10**21, 1.5*10**20, 1.5*10**19]\n",
    "transitions = [8*10**13, 8*10**12, 8*10**11]\n",
    "\n",
    "bins = 40\n",
    "logbins = np.logspace(np.log10(step_size/sphere),np.log10(step_size*nr_steps/sphere),bins)\n",
    "\n",
    "for i, file in enumerate(files):\n",
    "    df = pd.read_pickle(file)\n",
    "    trajectory_lengths = df['d']\n",
    "    d = trajectory_lengths/sphere\n",
    "    weights = np.ones_like(d)/nr_particles\n",
    "    plt.hist(d, bins=logbins, weights=weights, histtype=u'step', edgecolor=colors[i], linewidth=1., facecolor=\"None\", label='$\\kappa=$ {:.1e}m$^2$/s'.format(kappas[i]))\n",
    "    plt.axvline(x=transitions[i]/sphere, color=colors[i], ls='--')\n",
    "\n",
    "plt.title('total # particles injected = {:.0e}'.format(nr_particles))\n",
    "plt.xlabel('D/{:.0e}m'.format(sphere))\n",
    "plt.ylabel('$N/N_\\mathrm{inj}$')\n",
    "plt.loglog()\n",
    "plt.legend(loc = \"lower center\")\n",
    "plt.savefig('traj_lengths_rwpropa_normalized.pdf')\n",
    "plt.show()"
   ]
  },
  {
   "cell_type": "code",
   "execution_count": 18,
   "id": "a77abd53",
   "metadata": {},
   "outputs": [
    {
     "data": {
      "image/png": "[encoded data removed]",
      "text/plain": [
       "<Figure size 432x288 with 1 Axes>"
      ]
     },
     "metadata": {
      "needs_background": "light"
     },
     "output_type": "display_data"
    }
   ],
   "source": [
    "df = pd.read_pickle(\"data/data_tut_5_sphere_19.pkl\")\n",
    "bins = 20\n",
    "trajectory_lengths = df['d']\n",
    "d = trajectory_lengths/10**14\n",
    "hist, bins = np.histogram(d, bins=bins)\n",
    "logbins = np.logspace(np.log10(min(d)),np.log10(max(d)),len(bins))\n",
    "plt.hist(d, bins=logbins, alpha=0.5, label='$\\kappa =$ {:.1e}m$^2$/s'.format(diffusion_coefficient))\n",
    "\n",
    "plt.title('total # particles = {:.0e}'.format(nr_particles))\n",
    "plt.xlabel('D/{:.0e}m'.format(sphere))\n",
    "plt.ylabel('# particles')\n",
    "plt.loglog()\n",
    "plt.legend()\n",
    "plt.savefig('traj_lengths_rwpropa.png')\n",
    "plt.show()"
   ]
  },
  {
   "cell_type": "code",
   "execution_count": null,
   "id": "4d6ddb3f",
   "metadata": {},
   "outputs": [],
   "source": []
  },
  {
   "cell_type": "code",
   "execution_count": null,
   "id": "c45cb289",
   "metadata": {},
   "outputs": [],
   "source": []
  },
  {
   "cell_type": "code",
   "execution_count": 51,
   "id": "a423d3b8",
   "metadata": {},
   "outputs": [
    {
     "data": {
      "text/html": [
       "<div>\n",
       "<style scoped>\n",
       "    .dataframe tbody tr th:only-of-type {\n",
       "        vertical-align: middle;\n",
       "    }\n",
       "\n",
       "    .dataframe tbody tr th {\n",
       "        vertical-align: top;\n",
       "    }\n",
       "\n",
       "    .dataframe thead th {\n",
       "        text-align: right;\n",
       "    }\n",
       "</style>\n",
       "<table border=\"1\" class=\"dataframe\">\n",
       "  <thead>\n",
       "    <tr style=\"text-align: right;\">\n",
       "      <th></th>\n",
       "      <th>id</th>\n",
       "      <th>i</th>\n",
       "      <th>d</th>\n",
       "      <th>x</th>\n",
       "      <th>y</th>\n",
       "      <th>z</th>\n",
       "      <th>phi</th>\n",
       "      <th>pitch_angle</th>\n",
       "      <th>radius</th>\n",
       "      <th>sub_step</th>\n",
       "    </tr>\n",
       "  </thead>\n",
       "  <tbody>\n",
       "    <tr>\n",
       "      <th>0</th>\n",
       "      <td>0.0</td>\n",
       "      <td>6331.0</td>\n",
       "      <td>6.331433e+14</td>\n",
       "      <td>-6.408548e+13</td>\n",
       "      <td>7.493991e+13</td>\n",
       "      <td>1.674311e+13</td>\n",
       "      <td>2.104218</td>\n",
       "      <td>0.955393</td>\n",
       "      <td>1.000000e+14</td>\n",
       "      <td>2.0</td>\n",
       "    </tr>\n",
       "    <tr>\n",
       "      <th>1</th>\n",
       "      <td>1.0</td>\n",
       "      <td>4106.0</td>\n",
       "      <td>4.106647e+14</td>\n",
       "      <td>3.290897e+12</td>\n",
       "      <td>-5.733053e+13</td>\n",
       "      <td>8.192631e+13</td>\n",
       "      <td>5.192996</td>\n",
       "      <td>4.096986</td>\n",
       "      <td>1.000000e+14</td>\n",
       "      <td>2.0</td>\n",
       "    </tr>\n",
       "    <tr>\n",
       "      <th>2</th>\n",
       "      <td>2.0</td>\n",
       "      <td>2120.0</td>\n",
       "      <td>2.121119e+14</td>\n",
       "      <td>-4.994050e+13</td>\n",
       "      <td>2.095773e+13</td>\n",
       "      <td>8.412038e+13</td>\n",
       "      <td>3.416327</td>\n",
       "      <td>0.955393</td>\n",
       "      <td>1.000000e+14</td>\n",
       "      <td>2.0</td>\n",
       "    </tr>\n",
       "    <tr>\n",
       "      <th>3</th>\n",
       "      <td>3.0</td>\n",
       "      <td>2362.0</td>\n",
       "      <td>2.363140e+14</td>\n",
       "      <td>4.012562e+13</td>\n",
       "      <td>9.162642e+13</td>\n",
       "      <td>1.212435e+12</td>\n",
       "      <td>3.480489</td>\n",
       "      <td>4.096986</td>\n",
       "      <td>1.000000e+14</td>\n",
       "      <td>2.0</td>\n",
       "    </tr>\n",
       "    <tr>\n",
       "      <th>4</th>\n",
       "      <td>4.0</td>\n",
       "      <td>5480.0</td>\n",
       "      <td>5.480079e+14</td>\n",
       "      <td>7.869294e+13</td>\n",
       "      <td>6.408593e+12</td>\n",
       "      <td>6.137195e+13</td>\n",
       "      <td>3.178626</td>\n",
       "      <td>0.955393</td>\n",
       "      <td>1.000000e+14</td>\n",
       "      <td>2.0</td>\n",
       "    </tr>\n",
       "    <tr>\n",
       "      <th>...</th>\n",
       "      <td>...</td>\n",
       "      <td>...</td>\n",
       "      <td>...</td>\n",
       "      <td>...</td>\n",
       "      <td>...</td>\n",
       "      <td>...</td>\n",
       "      <td>...</td>\n",
       "      <td>...</td>\n",
       "      <td>...</td>\n",
       "      <td>...</td>\n",
       "    </tr>\n",
       "    <tr>\n",
       "      <th>99995</th>\n",
       "      <td>99995.0</td>\n",
       "      <td>3309.0</td>\n",
       "      <td>3.309976e+14</td>\n",
       "      <td>5.692639e+13</td>\n",
       "      <td>-8.152214e+13</td>\n",
       "      <td>-1.073871e+13</td>\n",
       "      <td>3.768871</td>\n",
       "      <td>0.955393</td>\n",
       "      <td>1.000000e+14</td>\n",
       "      <td>2.0</td>\n",
       "    </tr>\n",
       "    <tr>\n",
       "      <th>99996</th>\n",
       "      <td>99996.0</td>\n",
       "      <td>10879.0</td>\n",
       "      <td>1.088213e+15</td>\n",
       "      <td>-3.464100e+12</td>\n",
       "      <td>3.695044e+12</td>\n",
       "      <td>9.988307e+13</td>\n",
       "      <td>5.230603</td>\n",
       "      <td>4.096986</td>\n",
       "      <td>1.000000e+14</td>\n",
       "      <td>2.0</td>\n",
       "    </tr>\n",
       "    <tr>\n",
       "      <th>99997</th>\n",
       "      <td>99997.0</td>\n",
       "      <td>2386.0</td>\n",
       "      <td>2.387143e+14</td>\n",
       "      <td>2.061133e+13</td>\n",
       "      <td>-2.430634e+13</td>\n",
       "      <td>9.485980e+13</td>\n",
       "      <td>5.700218</td>\n",
       "      <td>0.955393</td>\n",
       "      <td>1.000000e+14</td>\n",
       "      <td>2.0</td>\n",
       "    </tr>\n",
       "    <tr>\n",
       "      <th>99998</th>\n",
       "      <td>99998.0</td>\n",
       "      <td>2429.0</td>\n",
       "      <td>2.430147e+14</td>\n",
       "      <td>-5.080652e+13</td>\n",
       "      <td>1.501110e+12</td>\n",
       "      <td>8.614124e+13</td>\n",
       "      <td>5.452890</td>\n",
       "      <td>0.955393</td>\n",
       "      <td>1.000000e+14</td>\n",
       "      <td>2.0</td>\n",
       "    </tr>\n",
       "    <tr>\n",
       "      <th>99999</th>\n",
       "      <td>99999.0</td>\n",
       "      <td>5072.0</td>\n",
       "      <td>5.072247e+14</td>\n",
       "      <td>7.176428e+13</td>\n",
       "      <td>5.121066e+13</td>\n",
       "      <td>4.740018e+13</td>\n",
       "      <td>2.212942</td>\n",
       "      <td>0.955393</td>\n",
       "      <td>1.000000e+14</td>\n",
       "      <td>2.0</td>\n",
       "    </tr>\n",
       "  </tbody>\n",
       "</table>\n",
       "<p>100000 rows × 10 columns</p>\n",
       "</div>"
      ],
      "text/plain": [
       "            id        i             d             x             y  \\\n",
       "0          0.0   6331.0  6.331433e+14 -6.408548e+13  7.493991e+13   \n",
       "1          1.0   4106.0  4.106647e+14  3.290897e+12 -5.733053e+13   \n",
       "2          2.0   2120.0  2.121119e+14 -4.994050e+13  2.095773e+13   \n",
       "3          3.0   2362.0  2.363140e+14  4.012562e+13  9.162642e+13   \n",
       "4          4.0   5480.0  5.480079e+14  7.869294e+13  6.408593e+12   \n",
       "...        ...      ...           ...           ...           ...   \n",
       "99995  99995.0   3309.0  3.309976e+14  5.692639e+13 -8.152214e+13   \n",
       "99996  99996.0  10879.0  1.088213e+15 -3.464100e+12  3.695044e+12   \n",
       "99997  99997.0   2386.0  2.387143e+14  2.061133e+13 -2.430634e+13   \n",
       "99998  99998.0   2429.0  2.430147e+14 -5.080652e+13  1.501110e+12   \n",
       "99999  99999.0   5072.0  5.072247e+14  7.176428e+13  5.121066e+13   \n",
       "\n",
       "                  z       phi  pitch_angle        radius  sub_step  \n",
       "0      1.674311e+13  2.104218     0.955393  1.000000e+14       2.0  \n",
       "1      8.192631e+13  5.192996     4.096986  1.000000e+14       2.0  \n",
       "2      8.412038e+13  3.416327     0.955393  1.000000e+14       2.0  \n",
       "3      1.212435e+12  3.480489     4.096986  1.000000e+14       2.0  \n",
       "4      6.137195e+13  3.178626     0.955393  1.000000e+14       2.0  \n",
       "...             ...       ...          ...           ...       ...  \n",
       "99995 -1.073871e+13  3.768871     0.955393  1.000000e+14       2.0  \n",
       "99996  9.988307e+13  5.230603     4.096986  1.000000e+14       2.0  \n",
       "99997  9.485980e+13  5.700218     0.955393  1.000000e+14       2.0  \n",
       "99998  8.614124e+13  5.452890     0.955393  1.000000e+14       2.0  \n",
       "99999  4.740018e+13  2.212942     0.955393  1.000000e+14       2.0  \n",
       "\n",
       "[100000 rows x 10 columns]"
      ]
     },
     "execution_count": 51,
     "metadata": {},
     "output_type": "execute_result"
    }
   ],
   "source": [
    "df"
   ]
  },
  {
   "cell_type": "code",
   "execution_count": 49,
   "id": "2cd2a49d",
   "metadata": {},
   "outputs": [
    {
     "name": "stdout",
     "output_type": "stream",
     "text": [
      "simulate with a diffusion coefficient of  1.5e+21 m²/s\n",
      "start simulation\n",
      "Propagator initialized\n",
      "Observer initialized\n",
      "saved data file isotropic.pkl\n",
      "CPU times: user 5.94 s, sys: 116 ms, total: 6.05 s\n",
      "Wall time: 6.07 s\n"
     ]
    }
   ],
   "source": [
    "kappas = [1.5*10**21, 1.5*10**20, 1.5*10**19]\n",
    "sim = rw.IsotropicSimulation(nr_particles = 10**3, energy = energy, nr_steps = nr_steps/100, diffusion_coefficient_para = kappas[0], nr_obs_steps = 600)\n",
    "%time sim.simulate()"
   ]
  },
  {
   "cell_type": "code",
   "execution_count": 50,
   "id": "b1220323",
   "metadata": {},
   "outputs": [
    {
     "name": "stdout",
     "output_type": "stream",
     "text": [
      "init statistics plotting class\n"
     ]
    },
    {
     "data": {
      "image/png": "[encoded data removed]",
      "text/plain": [
       "<Figure size 216x144 with 1 Axes>"
      ]
     },
     "metadata": {
      "needs_background": "light"
     },
     "output_type": "display_data"
    },
    {
     "name": "stdout",
     "output_type": "stream",
     "text": [
      "diffusion coefficients computed between 3.20e+14m and 1.00e+15m with 100 data points\n",
      "kappa_{xx}: 1.42e+21 m²/s +- 1.98e+19 m²/s\n",
      "kappa_{yy}: 1.34e+21 m²/s +- 3.41e+19 m²/s\n",
      "kappa_{zz}: 1.43e+21 m²/s +- 4.89e+19 m²/s\n"
     ]
    }
   ],
   "source": [
    "df = pd.read_pickle(\"isotropic.pkl\")\n",
    "sta = rw.Statistics(df)\n",
    "df_kappas = sta.plot_diffusion_coefficients(n_points_plateau=100)"
   ]
  },
  {
   "cell_type": "code",
   "execution_count": 7,
   "id": "147ee06a",
   "metadata": {},
   "outputs": [
    {
     "name": "stdout",
     "output_type": "stream",
     "text": [
      "simulate with a diffusion coefficient of  1.5e+20 m²/s\n",
      "start simulation\n",
      "Propagator initialized\n",
      "Observer initialized\n",
      "saved data file isotropic.pkl\n",
      "CPU times: user 5.52 s, sys: 108 ms, total: 5.63 s\n",
      "Wall time: 5.67 s\n"
     ]
    }
   ],
   "source": [
    "kappa = 1.5*10**20\n",
    "sim = rw.IsotropicSimulation(nr_particles = 10**3, energy = energy, nr_steps = nr_steps/100, step_size = 1*10**11, diffusion_coefficient_para = kappa, nr_obs_steps = 600)\n",
    "%time sim.simulate()"
   ]
  },
  {
   "cell_type": "code",
   "execution_count": 8,
   "id": "9eb29662",
   "metadata": {},
   "outputs": [
    {
     "name": "stdout",
     "output_type": "stream",
     "text": [
      "init statistics plotting class\n"
     ]
    },
    {
     "data": {
      "image/png": "[encoded data removed]",
      "text/plain": [
       "<Figure size 216x144 with 1 Axes>"
      ]
     },
     "metadata": {
      "needs_background": "light"
     },
     "output_type": "display_data"
    },
    {
     "name": "stdout",
     "output_type": "stream",
     "text": [
      "diffusion coefficients computed between 3.20e+13m and 1.00e+14m with 100 data points\n",
      "kappa_{xx}: 1.42e+20 m²/s +- 2.47e+18 m²/s\n",
      "kappa_{yy}: 1.47e+20 m²/s +- 4.12e+18 m²/s\n",
      "kappa_{zz}: 1.32e+20 m²/s +- 1.81e+18 m²/s\n"
     ]
    }
   ],
   "source": [
    "df = pd.read_pickle(\"isotropic.pkl\")\n",
    "sta = rw.Statistics(df)\n",
    "df_kappas = sta.plot_diffusion_coefficients(n_points_plateau=100)"
   ]
  },
  {
   "cell_type": "code",
   "execution_count": 13,
   "id": "43e0db90",
   "metadata": {},
   "outputs": [
    {
     "name": "stdout",
     "output_type": "stream",
     "text": [
      "simulate with a diffusion coefficient of  1.5e+19 m²/s\n",
      "start simulation\n",
      "Propagator initialized\n",
      "Observer initialized\n",
      "saved data file isotropic.pkl\n",
      "CPU times: user 5.65 s, sys: 88.3 ms, total: 5.73 s\n",
      "Wall time: 5.77 s\n"
     ]
    }
   ],
   "source": [
    "kappa = 1.5*10**19\n",
    "sim = rw.IsotropicSimulation(nr_particles = 10**3, energy = energy, nr_steps = nr_steps/100, diffusion_coefficient_para = kappa, nr_obs_steps = 600,  step_size = 1*10**10)\n",
    "%time sim.simulate()"
   ]
  },
  {
   "cell_type": "code",
   "execution_count": 14,
   "id": "ed03ef4d",
   "metadata": {},
   "outputs": [
    {
     "name": "stdout",
     "output_type": "stream",
     "text": [
      "init statistics plotting class\n"
     ]
    },
    {
     "data": {
      "image/png": "[encoded data removed]",
      "text/plain": [
       "<Figure size 216x144 with 1 Axes>"
      ]
     },
     "metadata": {
      "needs_background": "light"
     },
     "output_type": "display_data"
    },
    {
     "name": "stdout",
     "output_type": "stream",
     "text": [
      "diffusion coefficients computed between 3.20e+12m and 1.00e+13m with 100 data points\n",
      "kappa_{xx}: 1.45e+19 m²/s +- 4.88e+17 m²/s\n",
      "kappa_{yy}: 1.41e+19 m²/s +- 1.91e+17 m²/s\n",
      "kappa_{zz}: 1.4e+19 m²/s +- 2.98e+17 m²/s\n"
     ]
    }
   ],
   "source": [
    "df = pd.read_pickle(\"isotropic.pkl\")\n",
    "sta = rw.Statistics(df)\n",
    "df_kappas = sta.plot_diffusion_coefficients(n_points_plateau=100)"
   ]
  },
  {
   "cell_type": "code",
   "execution_count": 62,
   "id": "0fbcd52f",
   "metadata": {},
   "outputs": [
    {
     "data": {
      "text/html": [
       "<div>\n",
       "<style scoped>\n",
       "    .dataframe tbody tr th:only-of-type {\n",
       "        vertical-align: middle;\n",
       "    }\n",
       "\n",
       "    .dataframe tbody tr th {\n",
       "        vertical-align: top;\n",
       "    }\n",
       "\n",
       "    .dataframe thead th {\n",
       "        text-align: right;\n",
       "    }\n",
       "</style>\n",
       "<table border=\"1\" class=\"dataframe\">\n",
       "  <thead>\n",
       "    <tr style=\"text-align: right;\">\n",
       "      <th></th>\n",
       "      <th>id</th>\n",
       "      <th>i</th>\n",
       "      <th>d</th>\n",
       "      <th>x</th>\n",
       "      <th>y</th>\n",
       "      <th>z</th>\n",
       "      <th>phi</th>\n",
       "      <th>pitch_angle</th>\n",
       "      <th>radius</th>\n",
       "      <th>sub_step</th>\n",
       "    </tr>\n",
       "  </thead>\n",
       "  <tbody>\n",
       "    <tr>\n",
       "      <th>0</th>\n",
       "      <td>0.0</td>\n",
       "      <td>1.0</td>\n",
       "      <td>2.000000e+12</td>\n",
       "      <td>0.000000e+00</td>\n",
       "      <td>0.000000e+00</td>\n",
       "      <td>0.000000e+00</td>\n",
       "      <td>0.290132</td>\n",
       "      <td>2.825604</td>\n",
       "      <td>-1.0</td>\n",
       "      <td>2.0</td>\n",
       "    </tr>\n",
       "    <tr>\n",
       "      <th>1</th>\n",
       "      <td>0.0</td>\n",
       "      <td>2.0</td>\n",
       "      <td>3.000000e+12</td>\n",
       "      <td>-5.773503e+11</td>\n",
       "      <td>5.773503e+11</td>\n",
       "      <td>-5.773503e+11</td>\n",
       "      <td>0.290132</td>\n",
       "      <td>2.825604</td>\n",
       "      <td>-1.0</td>\n",
       "      <td>2.0</td>\n",
       "    </tr>\n",
       "    <tr>\n",
       "      <th>2</th>\n",
       "      <td>0.0</td>\n",
       "      <td>3.0</td>\n",
       "      <td>4.000001e+12</td>\n",
       "      <td>0.000000e+00</td>\n",
       "      <td>0.000000e+00</td>\n",
       "      <td>0.000000e+00</td>\n",
       "      <td>0.290132</td>\n",
       "      <td>2.825604</td>\n",
       "      <td>-1.0</td>\n",
       "      <td>2.0</td>\n",
       "    </tr>\n",
       "    <tr>\n",
       "      <th>3</th>\n",
       "      <td>0.0</td>\n",
       "      <td>4.0</td>\n",
       "      <td>5.000000e+12</td>\n",
       "      <td>-5.773503e+11</td>\n",
       "      <td>5.773503e+11</td>\n",
       "      <td>-5.773503e+11</td>\n",
       "      <td>0.290132</td>\n",
       "      <td>2.825604</td>\n",
       "      <td>-1.0</td>\n",
       "      <td>2.0</td>\n",
       "    </tr>\n",
       "    <tr>\n",
       "      <th>4</th>\n",
       "      <td>0.0</td>\n",
       "      <td>5.0</td>\n",
       "      <td>6.000001e+12</td>\n",
       "      <td>0.000000e+00</td>\n",
       "      <td>0.000000e+00</td>\n",
       "      <td>0.000000e+00</td>\n",
       "      <td>0.290132</td>\n",
       "      <td>2.825604</td>\n",
       "      <td>-1.0</td>\n",
       "      <td>2.0</td>\n",
       "    </tr>\n",
       "    <tr>\n",
       "      <th>...</th>\n",
       "      <td>...</td>\n",
       "      <td>...</td>\n",
       "      <td>...</td>\n",
       "      <td>...</td>\n",
       "      <td>...</td>\n",
       "      <td>...</td>\n",
       "      <td>...</td>\n",
       "      <td>...</td>\n",
       "      <td>...</td>\n",
       "      <td>...</td>\n",
       "    </tr>\n",
       "    <tr>\n",
       "      <th>44495</th>\n",
       "      <td>99.0</td>\n",
       "      <td>92600.0</td>\n",
       "      <td>9.284800e+16</td>\n",
       "      <td>5.773503e+11</td>\n",
       "      <td>5.773503e+11</td>\n",
       "      <td>5.773503e+11</td>\n",
       "      <td>2.356968</td>\n",
       "      <td>0.894562</td>\n",
       "      <td>-1.0</td>\n",
       "      <td>2.0</td>\n",
       "    </tr>\n",
       "    <tr>\n",
       "      <th>44496</th>\n",
       "      <td>99.0</td>\n",
       "      <td>94397.0</td>\n",
       "      <td>9.465403e+16</td>\n",
       "      <td>0.000000e+00</td>\n",
       "      <td>0.000000e+00</td>\n",
       "      <td>0.000000e+00</td>\n",
       "      <td>2.356968</td>\n",
       "      <td>0.894562</td>\n",
       "      <td>-1.0</td>\n",
       "      <td>2.0</td>\n",
       "    </tr>\n",
       "    <tr>\n",
       "      <th>44497</th>\n",
       "      <td>99.0</td>\n",
       "      <td>96228.0</td>\n",
       "      <td>9.649422e+16</td>\n",
       "      <td>5.773503e+11</td>\n",
       "      <td>5.773503e+11</td>\n",
       "      <td>5.773503e+11</td>\n",
       "      <td>2.356968</td>\n",
       "      <td>0.894562</td>\n",
       "      <td>-1.0</td>\n",
       "      <td>2.0</td>\n",
       "    </tr>\n",
       "    <tr>\n",
       "      <th>44498</th>\n",
       "      <td>99.0</td>\n",
       "      <td>98096.0</td>\n",
       "      <td>9.837160e+16</td>\n",
       "      <td>5.773503e+11</td>\n",
       "      <td>5.773503e+11</td>\n",
       "      <td>5.773503e+11</td>\n",
       "      <td>2.356968</td>\n",
       "      <td>0.894562</td>\n",
       "      <td>-1.0</td>\n",
       "      <td>2.0</td>\n",
       "    </tr>\n",
       "    <tr>\n",
       "      <th>44499</th>\n",
       "      <td>99.0</td>\n",
       "      <td>100000.0</td>\n",
       "      <td>1.002852e+17</td>\n",
       "      <td>5.773503e+11</td>\n",
       "      <td>5.773503e+11</td>\n",
       "      <td>5.773503e+11</td>\n",
       "      <td>2.356968</td>\n",
       "      <td>0.894562</td>\n",
       "      <td>-1.0</td>\n",
       "      <td>2.0</td>\n",
       "    </tr>\n",
       "  </tbody>\n",
       "</table>\n",
       "<p>44500 rows × 10 columns</p>\n",
       "</div>"
      ],
      "text/plain": [
       "         id         i             d             x             y             z  \\\n",
       "0       0.0       1.0  2.000000e+12  0.000000e+00  0.000000e+00  0.000000e+00   \n",
       "1       0.0       2.0  3.000000e+12 -5.773503e+11  5.773503e+11 -5.773503e+11   \n",
       "2       0.0       3.0  4.000001e+12  0.000000e+00  0.000000e+00  0.000000e+00   \n",
       "3       0.0       4.0  5.000000e+12 -5.773503e+11  5.773503e+11 -5.773503e+11   \n",
       "4       0.0       5.0  6.000001e+12  0.000000e+00  0.000000e+00  0.000000e+00   \n",
       "...     ...       ...           ...           ...           ...           ...   \n",
       "44495  99.0   92600.0  9.284800e+16  5.773503e+11  5.773503e+11  5.773503e+11   \n",
       "44496  99.0   94397.0  9.465403e+16  0.000000e+00  0.000000e+00  0.000000e+00   \n",
       "44497  99.0   96228.0  9.649422e+16  5.773503e+11  5.773503e+11  5.773503e+11   \n",
       "44498  99.0   98096.0  9.837160e+16  5.773503e+11  5.773503e+11  5.773503e+11   \n",
       "44499  99.0  100000.0  1.002852e+17  5.773503e+11  5.773503e+11  5.773503e+11   \n",
       "\n",
       "            phi  pitch_angle  radius  sub_step  \n",
       "0      0.290132     2.825604    -1.0       2.0  \n",
       "1      0.290132     2.825604    -1.0       2.0  \n",
       "2      0.290132     2.825604    -1.0       2.0  \n",
       "3      0.290132     2.825604    -1.0       2.0  \n",
       "4      0.290132     2.825604    -1.0       2.0  \n",
       "...         ...          ...     ...       ...  \n",
       "44495  2.356968     0.894562    -1.0       2.0  \n",
       "44496  2.356968     0.894562    -1.0       2.0  \n",
       "44497  2.356968     0.894562    -1.0       2.0  \n",
       "44498  2.356968     0.894562    -1.0       2.0  \n",
       "44499  2.356968     0.894562    -1.0       2.0  \n",
       "\n",
       "[44500 rows x 10 columns]"
      ]
     },
     "execution_count": 62,
     "metadata": {},
     "output_type": "execute_result"
    }
   ],
   "source": [
    "df"
   ]
  },
  {
   "cell_type": "code",
   "execution_count": 61,
   "id": "9628cd02",
   "metadata": {},
   "outputs": [
    {
     "name": "stdout",
     "output_type": "stream",
     "text": [
      "[1.0, 2.0, 3.0, 4.0, 5.0, 6.0, 7.0, 8.0, 9.0, 10.0, 11.0, 12.0, 13.0, 14.0, 15.0, 16.0, 17.0, 18.0, 19.0, 20.0, 21.0, 22.0, 23.0, 24.0, 25.0, 26.0, 27.0, 28.0, 29.0, 30.0, 31.0, 32.0, 33.0, 34.0, 35.0, 36.0, 37.0, 38.0, 39.0, 40.0, 41.0, 42.0, 43.0, 44.0, 45.0, 46.0, 47.0, 48.0, 49.0, 50.0, 51.0, 52.0, 53.0, 54.0, 55.0, 56.0, 57.0, 58.0, 59.0, 61.0, 62.0, 63.0, 64.0, 66.0, 67.0, 68.0, 69.0, 71.0, 72.0, 74.0, 75.0, 76.0, 78.0, 80.0, 81.0, 83.0, 84.0, 86.0, 88.0, 89.0, 91.0, 93.0, 95.0, 96.0, 98.0, 100.0, 102.0, 104.0, 106.0, 108.0, 110.0, 113.0, 115.0, 117.0, 119.0, 122.0, 124.0, 126.0, 129.0, 131.0, 134.0, 137.0, 139.0, 142.0, 145.0, 148.0, 150.0, 153.0, 156.0, 159.0, 162.0, 166.0, 169.0, 172.0, 175.0, 179.0, 182.0, 186.0, 190.0, 193.0, 197.0, 201.0, 205.0, 209.0, 213.0, 217.0, 221.0, 225.0, 230.0, 234.0, 239.0, 243.0, 248.0, 253.0, 258.0, 263.0, 268.0, 273.0, 279.0, 284.0, 290.0, 295.0, 301.0, 307.0, 313.0, 319.0, 325.0, 331.0, 338.0, 344.0, 351.0, 358.0, 365.0, 372.0, 379.0, 386.0, 394.0, 402.0, 409.0, 417.0, 425.0, 434.0, 442.0, 451.0, 460.0, 468.0, 478.0, 487.0, 496.0, 506.0, 516.0, 526.0, 536.0, 546.0, 557.0, 568.0, 579.0, 590.0, 602.0, 613.0, 625.0, 637.0, 650.0, 662.0, 675.0, 688.0, 702.0, 715.0, 729.0, 743.0, 758.0, 772.0, 787.0, 803.0, 818.0, 834.0, 850.0, 867.0, 884.0, 901.0, 918.0, 936.0, 954.0, 973.0, 992.0, 1011.0, 1031.0, 1051.0, 1071.0, 1092.0, 1113.0, 1135.0, 1157.0, 1179.0, 1202.0, 1225.0, 1249.0, 1274.0, 1298.0, 1323.0, 1349.0, 1375.0, 1402.0, 1429.0, 1457.0, 1485.0, 1514.0, 1544.0, 1573.0, 1604.0, 1635.0, 1667.0, 1699.0, 1732.0, 1766.0, 1800.0, 1835.0, 1871.0, 1907.0, 1944.0, 1982.0, 2020.0, 2059.0, 2099.0, 2140.0, 2182.0, 2224.0, 2267.0, 2311.0, 2356.0, 2402.0, 2448.0, 2496.0, 2544.0, 2594.0, 2644.0, 2695.0, 2748.0, 2801.0, 2856.0, 2911.0, 2967.0, 3025.0, 3084.0, 3144.0, 3205.0, 3267.0, 3330.0, 3395.0, 3461.0, 3528.0, 3596.0, 3666.0, 3737.0, 3810.0, 3884.0, 3959.0, 4036.0, 4114.0, 4194.0, 4276.0, 4359.0, 4443.0, 4529.0, 4617.0, 4707.0, 4798.0, 4891.0, 4986.0, 5083.0, 5182.0, 5282.0, 5385.0, 5489.0, 5596.0, 5705.0, 5815.0, 5928.0, 6043.0, 6160.0, 6280.0, 6402.0, 6526.0, 6653.0, 6782.0, 6914.0, 7048.0, 7185.0, 7324.0, 7466.0, 7611.0, 7759.0, 7909.0, 8063.0, 8219.0, 8379.0, 8541.0, 8707.0, 8876.0, 9048.0, 9224.0, 9403.0, 9585.0, 9771.0, 9961.0, 10154.0, 10352.0, 10552.0, 10757.0, 10966.0, 11179.0, 11396.0, 11617.0, 11842.0, 12072.0, 12306.0, 12545.0, 12789.0, 13037.0, 13290.0, 13548.0, 13811.0, 14079.0, 14352.0, 14631.0, 14914.0, 15204.0, 15499.0, 15800.0, 16106.0, 16419.0, 16738.0, 17062.0, 17394.0, 17731.0, 18075.0, 18426.0, 18784.0, 19148.0, 19520.0, 19899.0, 20285.0, 20678.0, 21080.0, 21489.0, 21906.0, 22331.0, 22764.0, 23206.0, 23656.0, 24115.0, 24583.0, 25060.0, 25547.0, 26043.0, 26548.0, 27063.0, 27588.0, 28124.0, 28670.0, 29226.0, 29793.0, 30371.0, 30961.0, 31562.0, 32174.0, 32798.0, 33435.0, 34084.0, 34745.0, 35420.0, 36107.0, 36808.0, 37522.0, 38250.0, 38992.0, 39749.0, 40520.0, 41307.0, 42108.0, 42926.0, 43759.0, 44608.0, 45473.0, 46356.0, 47256.0, 48173.0, 49107.0, 50060.0, 51032.0, 52022.0, 53032.0, 54061.0, 55110.0, 56180.0, 57270.0, 58381.0, 59514.0, 60669.0, 61847.0, 63047.0, 64270.0, 65517.0, 66789.0, 68085.0, 69406.0, 70753.0, 72126.0, 73526.0, 74953.0, 76407.0, 77890.0, 79402.0, 80943.0, 82513.0, 84115.0, 85747.0, 87411.0, 89107.0, 90837.0, 92600.0, 94397.0, 96228.0, 98096.0, 100000.0]\n"
     ]
    },
    {
     "name": "stderr",
     "output_type": "stream",
     "text": [
      "/home/patrick/.local/lib/python3.8/site-packages/scipy/stats/_distn_infrastructure.py:1870: RuntimeWarning: divide by zero encountered in true_divide\n",
      "  x = np.asarray((x - loc)/scale, dtype=dtyp)\n"
     ]
    },
    {
     "data": {
      "image/png": "[encoded data removed]",
      "text/plain": [
       "<Figure size 288x288 with 1 Axes>"
      ]
     },
     "metadata": {
      "needs_background": "light"
     },
     "output_type": "display_data"
    }
   ],
   "source": [
    "steps = sorted(list(set(df['i'])))\n",
    "print(steps)\n",
    "sta.plot_distribution('y', 1, 20, None)"
   ]
  },
  {
   "cell_type": "code",
   "execution_count": 69,
   "id": "34e81475",
   "metadata": {},
   "outputs": [
    {
     "name": "stdout",
     "output_type": "stream",
     "text": [
      "4.1e+14 +/- 2.5e+14 m\n"
     ]
    }
   ],
   "source": [
    "import pandas as pd\n",
    "df = pd.read_pickle(\"data/data_tut_5.pkl\")\n",
    "d = df['d'].values\n",
    "print('{:.1e}'.format(np.mean(d)),'+/-', '{:.1e}'.format(np.std(d)), 'm')"
   ]
  },
  {
   "cell_type": "code",
   "execution_count": 10,
   "id": "c213cedc",
   "metadata": {},
   "outputs": [
    {
     "data": {
      "text/html": [
       "<div>\n",
       "<style scoped>\n",
       "    .dataframe tbody tr th:only-of-type {\n",
       "        vertical-align: middle;\n",
       "    }\n",
       "\n",
       "    .dataframe tbody tr th {\n",
       "        vertical-align: top;\n",
       "    }\n",
       "\n",
       "    .dataframe thead th {\n",
       "        text-align: right;\n",
       "    }\n",
       "</style>\n",
       "<table border=\"1\" class=\"dataframe\">\n",
       "  <thead>\n",
       "    <tr style=\"text-align: right;\">\n",
       "      <th></th>\n",
       "      <th>id</th>\n",
       "      <th>i</th>\n",
       "      <th>d</th>\n",
       "      <th>x</th>\n",
       "      <th>y</th>\n",
       "      <th>z</th>\n",
       "      <th>phi</th>\n",
       "      <th>pitch_angle</th>\n",
       "      <th>radius</th>\n",
       "      <th>sub_step</th>\n",
       "    </tr>\n",
       "  </thead>\n",
       "  <tbody>\n",
       "    <tr>\n",
       "      <th>0</th>\n",
       "      <td>0.0</td>\n",
       "      <td>1.0</td>\n",
       "      <td>2.000000e+12</td>\n",
       "      <td>1.154701e+12</td>\n",
       "      <td>1.154701e+12</td>\n",
       "      <td>1.154701e+12</td>\n",
       "      <td>6.240908</td>\n",
       "      <td>2.007532</td>\n",
       "      <td>-1.0</td>\n",
       "      <td>2.0</td>\n",
       "    </tr>\n",
       "    <tr>\n",
       "      <th>1</th>\n",
       "      <td>0.0</td>\n",
       "      <td>2.0</td>\n",
       "      <td>3.000000e+12</td>\n",
       "      <td>1.732051e+12</td>\n",
       "      <td>1.732051e+12</td>\n",
       "      <td>1.732051e+12</td>\n",
       "      <td>6.240908</td>\n",
       "      <td>2.007532</td>\n",
       "      <td>-1.0</td>\n",
       "      <td>2.0</td>\n",
       "    </tr>\n",
       "    <tr>\n",
       "      <th>2</th>\n",
       "      <td>0.0</td>\n",
       "      <td>3.0</td>\n",
       "      <td>4.000001e+12</td>\n",
       "      <td>2.309401e+12</td>\n",
       "      <td>2.309401e+12</td>\n",
       "      <td>2.309401e+12</td>\n",
       "      <td>6.240908</td>\n",
       "      <td>2.007532</td>\n",
       "      <td>-1.0</td>\n",
       "      <td>2.0</td>\n",
       "    </tr>\n",
       "    <tr>\n",
       "      <th>3</th>\n",
       "      <td>0.0</td>\n",
       "      <td>4.0</td>\n",
       "      <td>5.000000e+12</td>\n",
       "      <td>1.732051e+12</td>\n",
       "      <td>2.886751e+12</td>\n",
       "      <td>2.886751e+12</td>\n",
       "      <td>6.240908</td>\n",
       "      <td>2.007532</td>\n",
       "      <td>-1.0</td>\n",
       "      <td>2.0</td>\n",
       "    </tr>\n",
       "    <tr>\n",
       "      <th>4</th>\n",
       "      <td>0.0</td>\n",
       "      <td>5.0</td>\n",
       "      <td>6.000001e+12</td>\n",
       "      <td>1.154701e+12</td>\n",
       "      <td>3.464101e+12</td>\n",
       "      <td>3.464101e+12</td>\n",
       "      <td>6.240908</td>\n",
       "      <td>2.007532</td>\n",
       "      <td>-1.0</td>\n",
       "      <td>2.0</td>\n",
       "    </tr>\n",
       "    <tr>\n",
       "      <th>...</th>\n",
       "      <td>...</td>\n",
       "      <td>...</td>\n",
       "      <td>...</td>\n",
       "      <td>...</td>\n",
       "      <td>...</td>\n",
       "      <td>...</td>\n",
       "      <td>...</td>\n",
       "      <td>...</td>\n",
       "      <td>...</td>\n",
       "      <td>...</td>\n",
       "    </tr>\n",
       "    <tr>\n",
       "      <th>297995</th>\n",
       "      <td>999.0</td>\n",
       "      <td>954.0</td>\n",
       "      <td>9.549905e+14</td>\n",
       "      <td>-7.332350e+13</td>\n",
       "      <td>1.137383e+14</td>\n",
       "      <td>-1.691643e+14</td>\n",
       "      <td>2.481308</td>\n",
       "      <td>2.453735</td>\n",
       "      <td>-1.0</td>\n",
       "      <td>2.0</td>\n",
       "    </tr>\n",
       "    <tr>\n",
       "      <th>297996</th>\n",
       "      <td>999.0</td>\n",
       "      <td>965.0</td>\n",
       "      <td>9.659904e+14</td>\n",
       "      <td>-7.967439e+13</td>\n",
       "      <td>1.200892e+14</td>\n",
       "      <td>-1.755152e+14</td>\n",
       "      <td>2.481308</td>\n",
       "      <td>2.453735</td>\n",
       "      <td>-1.0</td>\n",
       "      <td>2.0</td>\n",
       "    </tr>\n",
       "    <tr>\n",
       "      <th>297997</th>\n",
       "      <td>999.0</td>\n",
       "      <td>977.0</td>\n",
       "      <td>9.779903e+14</td>\n",
       "      <td>-8.660265e+13</td>\n",
       "      <td>1.270175e+14</td>\n",
       "      <td>-1.824435e+14</td>\n",
       "      <td>2.481308</td>\n",
       "      <td>2.453735</td>\n",
       "      <td>-1.0</td>\n",
       "      <td>2.0</td>\n",
       "    </tr>\n",
       "    <tr>\n",
       "      <th>297998</th>\n",
       "      <td>999.0</td>\n",
       "      <td>988.0</td>\n",
       "      <td>9.889902e+14</td>\n",
       "      <td>-9.295354e+13</td>\n",
       "      <td>1.333683e+14</td>\n",
       "      <td>-1.887944e+14</td>\n",
       "      <td>2.481308</td>\n",
       "      <td>2.453735</td>\n",
       "      <td>-1.0</td>\n",
       "      <td>2.0</td>\n",
       "    </tr>\n",
       "    <tr>\n",
       "      <th>297999</th>\n",
       "      <td>999.0</td>\n",
       "      <td>1000.0</td>\n",
       "      <td>1.000990e+15</td>\n",
       "      <td>-9.064413e+13</td>\n",
       "      <td>1.402966e+14</td>\n",
       "      <td>-1.957226e+14</td>\n",
       "      <td>2.481308</td>\n",
       "      <td>2.453735</td>\n",
       "      <td>-1.0</td>\n",
       "      <td>2.0</td>\n",
       "    </tr>\n",
       "  </tbody>\n",
       "</table>\n",
       "<p>298000 rows × 10 columns</p>\n",
       "</div>"
      ],
      "text/plain": [
       "           id       i             d             x             y             z  \\\n",
       "0         0.0     1.0  2.000000e+12  1.154701e+12  1.154701e+12  1.154701e+12   \n",
       "1         0.0     2.0  3.000000e+12  1.732051e+12  1.732051e+12  1.732051e+12   \n",
       "2         0.0     3.0  4.000001e+12  2.309401e+12  2.309401e+12  2.309401e+12   \n",
       "3         0.0     4.0  5.000000e+12  1.732051e+12  2.886751e+12  2.886751e+12   \n",
       "4         0.0     5.0  6.000001e+12  1.154701e+12  3.464101e+12  3.464101e+12   \n",
       "...       ...     ...           ...           ...           ...           ...   \n",
       "297995  999.0   954.0  9.549905e+14 -7.332350e+13  1.137383e+14 -1.691643e+14   \n",
       "297996  999.0   965.0  9.659904e+14 -7.967439e+13  1.200892e+14 -1.755152e+14   \n",
       "297997  999.0   977.0  9.779903e+14 -8.660265e+13  1.270175e+14 -1.824435e+14   \n",
       "297998  999.0   988.0  9.889902e+14 -9.295354e+13  1.333683e+14 -1.887944e+14   \n",
       "297999  999.0  1000.0  1.000990e+15 -9.064413e+13  1.402966e+14 -1.957226e+14   \n",
       "\n",
       "             phi  pitch_angle  radius  sub_step  \n",
       "0       6.240908     2.007532    -1.0       2.0  \n",
       "1       6.240908     2.007532    -1.0       2.0  \n",
       "2       6.240908     2.007532    -1.0       2.0  \n",
       "3       6.240908     2.007532    -1.0       2.0  \n",
       "4       6.240908     2.007532    -1.0       2.0  \n",
       "...          ...          ...     ...       ...  \n",
       "297995  2.481308     2.453735    -1.0       2.0  \n",
       "297996  2.481308     2.453735    -1.0       2.0  \n",
       "297997  2.481308     2.453735    -1.0       2.0  \n",
       "297998  2.481308     2.453735    -1.0       2.0  \n",
       "297999  2.481308     2.453735    -1.0       2.0  \n",
       "\n",
       "[298000 rows x 10 columns]"
      ]
     },
     "execution_count": 10,
     "metadata": {},
     "output_type": "execute_result"
    }
   ],
   "source": [
    "df"
   ]
  },
  {
   "cell_type": "code",
   "execution_count": null,
   "id": "ee9fc2fb",
   "metadata": {},
   "outputs": [],
   "source": []
  }
 ],
 "metadata": {
  "kernelspec": {
   "display_name": "Python 3",
   "language": "python",
   "name": "python3"
  },
  "language_info": {
   "codemirror_mode": {
    "name": "ipython",
    "version": 3
   },
   "file_extension": ".py",
   "mimetype": "text/x-python",
   "name": "python",
   "nbconvert_exporter": "python",
   "pygments_lexer": "ipython3",
   "version": "3.8.5"
  }
 },
 "nbformat": 4,
 "nbformat_minor": 5
}
