{
 "cells": [
  {
   "cell_type": "code",
   "execution_count": 1,
   "id": "5045552e",
   "metadata": {},
   "outputs": [],
   "source": [
    "import numpy as np\n",
    "import matplotlib.pyplot as plt\n",
    "import pandas as pd\n",
    "import os\n",
    "os.chdir('..')\n",
    "import rwpropa as rw"
   ]
  },
  {
   "cell_type": "markdown",
   "id": "fdc81a38",
   "metadata": {},
   "source": [
    "### Running diffusion coefficient for $\\kappa = 1.5\\cdot10^{21}$cm$^2$/s"
   ]
  },
  {
   "cell_type": "code",
   "execution_count": 49,
   "id": "2cd2a49d",
   "metadata": {},
   "outputs": [
    {
     "name": "stdout",
     "output_type": "stream",
     "text": [
      "simulate with a diffusion coefficient of  1.5e+21 m²/s\n",
      "start simulation\n",
      "Propagator initialized\n",
      "Observer initialized\n",
      "saved data file isotropic.pkl\n",
      "CPU times: user 5.94 s, sys: 116 ms, total: 6.05 s\n",
      "Wall time: 6.07 s\n"
     ]
    }
   ],
   "source": [
    "kappa = 1.5*10**21\n",
    "sim = rw.IsotropicSimulation(nr_particles = 10**3, energy = energy, nr_steps = nr_steps/100, diffusion_coefficient_para = kappa, nr_obs_steps = 600)\n",
    "%time sim.simulate()"
   ]
  },
  {
   "cell_type": "code",
   "execution_count": 50,
   "id": "b1220323",
   "metadata": {},
   "outputs": [
    {
     "name": "stdout",
     "output_type": "stream",
     "text": [
      "init statistics plotting class\n"
     ]
    },
    {
     "data": {
      "image/png": "[encoded data removed]",
      "text/plain": [
       "<Figure size 216x144 with 1 Axes>"
      ]
     },
     "metadata": {
      "needs_background": "light"
     },
     "output_type": "display_data"
    },
    {
     "name": "stdout",
     "output_type": "stream",
     "text": [
      "diffusion coefficients computed between 3.20e+14m and 1.00e+15m with 100 data points\n",
      "kappa_{xx}: 1.42e+21 m²/s +- 1.98e+19 m²/s\n",
      "kappa_{yy}: 1.34e+21 m²/s +- 3.41e+19 m²/s\n",
      "kappa_{zz}: 1.43e+21 m²/s +- 4.89e+19 m²/s\n"
     ]
    }
   ],
   "source": [
    "df = pd.read_pickle(\"isotropic.pkl\")\n",
    "sta = rw.Statistics(df)\n",
    "df_kappas = sta.plot_diffusion_coefficients(n_points_plateau=100)"
   ]
  },
  {
   "cell_type": "markdown",
   "id": "78699e63",
   "metadata": {},
   "source": [
    "### Running diffusion coefficient for $\\kappa = 1.5\\cdot10^{20}$cm$^2$/s"
   ]
  },
  {
   "cell_type": "code",
   "execution_count": 7,
   "id": "147ee06a",
   "metadata": {},
   "outputs": [
    {
     "name": "stdout",
     "output_type": "stream",
     "text": [
      "simulate with a diffusion coefficient of  1.5e+20 m²/s\n",
      "start simulation\n",
      "Propagator initialized\n",
      "Observer initialized\n",
      "saved data file isotropic.pkl\n",
      "CPU times: user 5.52 s, sys: 108 ms, total: 5.63 s\n",
      "Wall time: 5.67 s\n"
     ]
    }
   ],
   "source": [
    "kappa = 1.5*10**20\n",
    "sim = rw.IsotropicSimulation(nr_particles = 10**3, energy = energy, nr_steps = nr_steps/100, step_size = 1*10**11, diffusion_coefficient_para = kappa, nr_obs_steps = 600)\n",
    "%time sim.simulate()"
   ]
  },
  {
   "cell_type": "code",
   "execution_count": 8,
   "id": "9eb29662",
   "metadata": {},
   "outputs": [
    {
     "name": "stdout",
     "output_type": "stream",
     "text": [
      "init statistics plotting class\n"
     ]
    },
    {
     "data": {
      "image/png": "[encoded data removed]",
      "text/plain": [
       "<Figure size 216x144 with 1 Axes>"
      ]
     },
     "metadata": {
      "needs_background": "light"
     },
     "output_type": "display_data"
    },
    {
     "name": "stdout",
     "output_type": "stream",
     "text": [
      "diffusion coefficients computed between 3.20e+13m and 1.00e+14m with 100 data points\n",
      "kappa_{xx}: 1.42e+20 m²/s +- 2.47e+18 m²/s\n",
      "kappa_{yy}: 1.47e+20 m²/s +- 4.12e+18 m²/s\n",
      "kappa_{zz}: 1.32e+20 m²/s +- 1.81e+18 m²/s\n"
     ]
    }
   ],
   "source": [
    "df = pd.read_pickle(\"isotropic.pkl\")\n",
    "sta = rw.Statistics(df)\n",
    "df_kappas = sta.plot_diffusion_coefficients(n_points_plateau=100)"
   ]
  },
  {
   "cell_type": "markdown",
   "id": "ba9898af",
   "metadata": {},
   "source": [
    "### Running diffusion coefficient for $\\kappa = 1.5\\cdot10^{19}$cm$^2$/s"
   ]
  },
  {
   "cell_type": "code",
   "execution_count": 13,
   "id": "43e0db90",
   "metadata": {},
   "outputs": [
    {
     "name": "stdout",
     "output_type": "stream",
     "text": [
      "simulate with a diffusion coefficient of  1.5e+19 m²/s\n",
      "start simulation\n",
      "Propagator initialized\n",
      "Observer initialized\n",
      "saved data file isotropic.pkl\n",
      "CPU times: user 5.65 s, sys: 88.3 ms, total: 5.73 s\n",
      "Wall time: 5.77 s\n"
     ]
    }
   ],
   "source": [
    "kappa = 1.5*10**19\n",
    "sim = rw.IsotropicSimulation(nr_particles = 10**3, energy = energy, nr_steps = nr_steps/100, diffusion_coefficient_para = kappa, nr_obs_steps = 600,  step_size = 1*10**10)\n",
    "%time sim.simulate()"
   ]
  },
  {
   "cell_type": "code",
   "execution_count": 14,
   "id": "ed03ef4d",
   "metadata": {},
   "outputs": [
    {
     "name": "stdout",
     "output_type": "stream",
     "text": [
      "init statistics plotting class\n"
     ]
    },
    {
     "data": {
      "image/png": "[encoded data removed]",
      "text/plain": [
       "<Figure size 216x144 with 1 Axes>"
      ]
     },
     "metadata": {
      "needs_background": "light"
     },
     "output_type": "display_data"
    },
    {
     "name": "stdout",
     "output_type": "stream",
     "text": [
      "diffusion coefficients computed between 3.20e+12m and 1.00e+13m with 100 data points\n",
      "kappa_{xx}: 1.45e+19 m²/s +- 4.88e+17 m²/s\n",
      "kappa_{yy}: 1.41e+19 m²/s +- 1.91e+17 m²/s\n",
      "kappa_{zz}: 1.4e+19 m²/s +- 2.98e+17 m²/s\n"
     ]
    }
   ],
   "source": [
    "df = pd.read_pickle(\"isotropic.pkl\")\n",
    "sta = rw.Statistics(df)\n",
    "df_kappas = sta.plot_diffusion_coefficients(n_points_plateau=100)"
   ]
  },
  {
   "cell_type": "markdown",
   "id": "612c2b8f",
   "metadata": {},
   "source": [
    "## Plasmoid simulations with escaping particles"
   ]
  },
  {
   "cell_type": "code",
   "execution_count": null,
   "id": "0016a95e",
   "metadata": {},
   "outputs": [],
   "source": [
    "def simulation(diffusion_coefficient):\n",
    "    sim = rw.Simulation()\n",
    "\n",
    "    nr_particles = 2*10**5\n",
    "    source_pos = np.array([0.0, 0.0, 0.0], dtype=np.float32)\n",
    "    energy = 10**12 # eV\n",
    "    sphere = 10**14 # [m]\n",
    "    radius = sphere\n",
    "    source = rw.SphereSourceIsotropic(energy, source_pos, nr_particles, radius)\n",
    "    sim.add_source(source)\n",
    "\n",
    "    nr_steps = 1*10**5\n",
    "    step_size = 1.0*10**11 # [m]\n",
    "    speed_of_light = 3*10**8 # [m/s]\n",
    "    mfp_iso = 3*diffusion_coefficient/speed_of_light\n",
    "    mfp = np.array([mfp_iso, mfp_iso, mfp_iso], dtype=np.float32)  # [m]\n",
    "    propagator = rw.IsotropicPropagator(mfp, nr_steps, step_size)\n",
    "    sim.add_propagator(propagator)\n",
    "\n",
    "    substeps = [False, False, True] # observe only steps (no substeps)\n",
    "    spheres = [sphere]\n",
    "    observer = rw.SphericalObserver(substeps, spheres, on_detection_deactivate=True)\n",
    "    sim.add_observer(observer)\n",
    "    return sim"
   ]
  },
  {
   "cell_type": "markdown",
   "id": "2efdc656",
   "metadata": {},
   "source": [
    "### For $\\kappa = 1.5\\cdot10^{21}$cm$^2$/s"
   ]
  },
  {
   "cell_type": "code",
   "execution_count": 3,
   "id": "d705e055",
   "metadata": {},
   "outputs": [
    {
     "name": "stdout",
     "output_type": "stream",
     "text": [
      "start simulation\n",
      "Propagator initialized\n",
      "Observer initialized\n"
     ]
    }
   ],
   "source": [
    "diffusion_coefficient = 1.5*10**21 # [m^2/s]\n",
    "sim = simultion(diffusion_coefficient)"
   ]
  },
  {
   "cell_type": "code",
   "execution_count": 4,
   "id": "6568c48b",
   "metadata": {},
   "outputs": [
    {
     "name": "stdout",
     "output_type": "stream",
     "text": [
      "CPU times: user 14min 14s, sys: 14.1 s, total: 14min 28s\n",
      "Wall time: 14min 29s\n",
      "saved data file data/data_tut_5_sphere.pkl\n"
     ]
    }
   ],
   "source": [
    "%time sim.run_simulation()\n",
    "sim.save_data('data/data_tut_5_sphere')"
   ]
  },
  {
   "cell_type": "markdown",
   "id": "5a328fb5",
   "metadata": {},
   "source": [
    "### For $\\kappa = 1.5\\cdot10^{20}$cm$^2$/s"
   ]
  },
  {
   "cell_type": "code",
   "execution_count": 22,
   "id": "4db7f2f7",
   "metadata": {},
   "outputs": [
    {
     "name": "stdout",
     "output_type": "stream",
     "text": [
      "start simulation\n",
      "Propagator initialized\n",
      "Observer initialized\n"
     ]
    }
   ],
   "source": [
    "diffusion_coefficient = 1.5*10**20 # [m^2/s]\n",
    "sim = simultion(diffusion_coefficient)"
   ]
  },
  {
   "cell_type": "code",
   "execution_count": 7,
   "id": "641d7565",
   "metadata": {},
   "outputs": [
    {
     "name": "stdout",
     "output_type": "stream",
     "text": [
      "CPU times: user 54min 28s, sys: 337 ms, total: 54min 28s\n",
      "Wall time: 54min 28s\n",
      "saved data file data/data_tut_5_sphere_20.pkl\n"
     ]
    }
   ],
   "source": [
    "%time sim.run_simulation()\n",
    "sim.save_data('data/data_tut_5_sphere_20')"
   ]
  },
  {
   "cell_type": "markdown",
   "id": "8c944e9b",
   "metadata": {},
   "source": [
    "### For $\\kappa = 1.5\\cdot10^{19}$cm$^2$/s"
   ]
  },
  {
   "cell_type": "code",
   "execution_count": 8,
   "id": "f99f5e70",
   "metadata": {},
   "outputs": [
    {
     "name": "stdout",
     "output_type": "stream",
     "text": [
      "start simulation\n",
      "Propagator initialized\n",
      "Observer initialized\n"
     ]
    }
   ],
   "source": [
    "diffusion_coefficient = 1.5*10**19 # [m^2/s]\n",
    "sim = simultion(diffusion_coefficient)"
   ]
  },
  {
   "cell_type": "code",
   "execution_count": 9,
   "id": "714f1bbe",
   "metadata": {},
   "outputs": [
    {
     "name": "stdout",
     "output_type": "stream",
     "text": [
      "CPU times: user 3h 46min 34s, sys: 1.05 s, total: 3h 46min 35s\n",
      "Wall time: 3h 46min 37s\n",
      "saved data file data/data_tut_5_sphere_19.pkl\n"
     ]
    }
   ],
   "source": [
    "%time sim.run_simulation()\n",
    "sim.save_data('data/data_tut_5_sphere_19')"
   ]
  },
  {
   "cell_type": "markdown",
   "id": "b49bbb9d",
   "metadata": {},
   "source": [
    "## Compare the escape times for different diffusion coefficients\n",
    "The transisitons from the ballistic to the diffusive regime can be apprximated in the above figures of the running diffusion coefficients and plotted in the following comparison plot."
   ]
  },
  {
   "cell_type": "code",
   "execution_count": 25,
   "id": "acaef4c5",
   "metadata": {},
   "outputs": [
    {
     "data": {
      "image/png": "[encoded data removed]",
      "text/plain": [
       "<Figure size 432x288 with 1 Axes>"
      ]
     },
     "metadata": {
      "needs_background": "light"
     },
     "output_type": "display_data"
    }
   ],
   "source": [
    "files = [\"data/data_tut_5_sphere.pkl\", \"data/data_tut_5_sphere_20.pkl\", \"data/data_tut_5_sphere_19.pkl\"]\n",
    "colors = ['r', 'dodgerblue', 'green']\n",
    "kappas = [1.5*10**21, 1.5*10**20, 1.5*10**19]\n",
    "transitions = [8*10**13, 8*10**12, 8*10**11]\n",
    "\n",
    "bins = 40\n",
    "logbins = np.logspace(np.log10(step_size/sphere),np.log10(step_size*nr_steps/sphere),bins)\n",
    "\n",
    "for i, file in enumerate(files):\n",
    "    df = pd.read_pickle(file)\n",
    "    trajectory_lengths = df['d']\n",
    "    d = trajectory_lengths/sphere\n",
    "    weights = np.ones_like(d)/nr_particles\n",
    "    plt.hist(d, bins=logbins, weights=weights, histtype=u'step', edgecolor=colors[i], linewidth=1., facecolor=\"None\", label='$\\kappa=$ {:.1e}m$^2$/s'.format(kappas[i]))\n",
    "    plt.axvline(x=transitions[i]/sphere, color=colors[i], ls='--')\n",
    "\n",
    "plt.title('total # particles injected = {:.0e}'.format(nr_particles))\n",
    "plt.xlabel('D/{:.0e}m'.format(sphere))\n",
    "plt.ylabel('$N/N_\\mathrm{inj}$')\n",
    "plt.loglog()\n",
    "plt.legend(loc = \"lower center\")\n",
    "plt.savefig('traj_lengths_rwpropa_normalized.pdf')\n",
    "plt.show()"
   ]
  },
  {
   "cell_type": "markdown",
   "id": "b58ef2aa",
   "metadata": {},
   "source": [
    "The transitions from ballistic to diffusive propagation is evident in this comparison plot, as slope of the histogram changes from a $N(D) \\propto D^1$ to a $N(D) \\propto D^{1/2}$ behaviour -> Particles leave the plasmoid slower when they reach the diffusive propagation regime!"
   ]
  },
  {
   "cell_type": "code",
   "execution_count": null,
   "id": "89de921a",
   "metadata": {},
   "outputs": [],
   "source": []
  }
 ],
 "metadata": {
  "kernelspec": {
   "display_name": "Python 3",
   "language": "python",
   "name": "python3"
  },
  "language_info": {
   "codemirror_mode": {
    "name": "ipython",
    "version": 3
   },
   "file_extension": ".py",
   "mimetype": "text/x-python",
   "name": "python",
   "nbconvert_exporter": "python",
   "pygments_lexer": "ipython3",
   "version": "3.8.5"
  }
 },
 "nbformat": 4,
 "nbformat_minor": 5
}
