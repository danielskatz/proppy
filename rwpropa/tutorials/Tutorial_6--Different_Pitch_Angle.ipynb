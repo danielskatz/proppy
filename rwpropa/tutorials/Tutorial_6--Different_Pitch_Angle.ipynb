{
 "cells": [
  {
   "cell_type": "code",
   "execution_count": 1,
   "id": "5045552e",
   "metadata": {},
   "outputs": [],
   "source": [
    "import numpy as np\n",
    "import matplotlib.pyplot as plt\n",
    "import pandas as pd\n",
    "import os\n",
    "os.chdir('..')\n",
    "import rwpropa as rw"
   ]
  },
  {
   "cell_type": "markdown",
   "id": "612c2b8f",
   "metadata": {},
   "source": [
    "## Simulation setup"
   ]
  },
  {
   "cell_type": "markdown",
   "id": "95bb1fd1",
   "metadata": {},
   "source": [
    "#### Simulation setup"
   ]
  },
  {
   "cell_type": "code",
   "execution_count": 2,
   "id": "753756c3",
   "metadata": {},
   "outputs": [
    {
     "name": "stdout",
     "output_type": "stream",
     "text": [
      "start simulation\n"
     ]
    }
   ],
   "source": [
    "dimensions = 3\n",
    "sim = rw.Simulation()"
   ]
  },
  {
   "cell_type": "markdown",
   "id": "b5615fb2",
   "metadata": {},
   "source": [
    "#### Source "
   ]
  },
  {
   "cell_type": "code",
   "execution_count": 3,
   "id": "e8fa9154",
   "metadata": {},
   "outputs": [
    {
     "name": "stdout",
     "output_type": "stream",
     "text": [
      "Description Source:\n",
      "                The source defines the start conditions of the particles \n",
      "                and covers the position, direction, energy, etc\n",
      "\n",
      "position:  [0. 0. 0.]\n",
      "number particles:  10\n",
      "energy:  10\n",
      "source tpye: PointSourceOriented\n",
      "pitch angle:  0.955393232541696\n",
      "phi:  0.0\n"
     ]
    }
   ],
   "source": [
    "nr_particles = 1*10**1\n",
    "source_pos = np.array([0.0, 0.0, 0.0], dtype=np.float32)\n",
    "delta_rho_div_phi = 1 #1/2**0.5 # (delta_r_rho / delta_r_phi)\n",
    "gyro_radius = 10**11 # [m]; 1pc\n",
    "phi = 0.0\n",
    "pitch_angle = 2*np.pi * 54.74/360 # pitch angle for equal components in all directions\n",
    "        \n",
    "\n",
    "source = rw.PointSourceOriented(gyro_radius, source_pos, nr_particles, pitch_angle, phi)\n",
    "sim.add_source(source)\n",
    "sim.source.get_description()"
   ]
  },
  {
   "cell_type": "markdown",
   "id": "20fdd580",
   "metadata": {},
   "source": [
    "#### Propagator"
   ]
  },
  {
   "cell_type": "code",
   "execution_count": 4,
   "id": "ae4a9f45",
   "metadata": {},
   "outputs": [
    {
     "name": "stdout",
     "output_type": "stream",
     "text": [
      "Propagator initialized\n",
      "Description Propagator:\n",
      "                The propagator is responsible for the movement of the particles. \n",
      "                It performs the change of direction and the movement in the respective direction.\n",
      "                There are two phases:\n",
      "                 - change direction with probability (see below)\n",
      "                 - move in all directions\n",
      "                The movement takes place according to the random walk (RW).\n",
      "\n",
      "propagation tpye: AnisotropicPropagator\n",
      "Description Propagator:\n",
      "                The propagator is responsible for the movement of the particles. \n",
      "                It performs the change of direction and the movement in the respective direction.\n",
      "                There are two phases:\n",
      "                 - change direction with probability (see below)\n",
      "                 - move in all directions\n",
      "                The movement takes place according to the random walk (RW).\n",
      "\n",
      "coordinates: Cylindrical coordinates\n",
      "dimensions:  3\n",
      "pitch angle: constant\n",
      "particle speed:  299800000.0  m/s\n",
      "number steps:  200000\n",
      "step size:  5000000000.0  m\n",
      "step duration:  16.677785873413086  s\n",
      "total distance:  1000000000000000.0  m\n",
      "total duration:  3335557.0380253503  s\n",
      "probability to change directions in step:  [0.23474179 0.23474179 0.11860707] %\n"
     ]
    }
   ],
   "source": [
    "nr_steps = 2*10**5\n",
    "step_size = 0.5*10**10 # [m]\n",
    "mfp = np.array([2.13*10**12/2.0, 2.13*10**12/2.0, 2.1078*10**12], dtype=np.float32)  # [m]\n",
    "magnetic_field = rw.OrderedBackgroundField(10, [0,0,1]).magnetic_field\n",
    "\n",
    "propagator = rw.AnisotropicPropagator(magnetic_field, mfp, nr_steps, step_size)\n",
    "#propagator.set_pitch_angle_const(False)\n",
    "sim.add_propagator(propagator)\n",
    "sim.propagator.get_description()"
   ]
  },
  {
   "cell_type": "markdown",
   "id": "d89ac241",
   "metadata": {},
   "source": [
    "#### Observer"
   ]
  },
  {
   "cell_type": "code",
   "execution_count": 5,
   "id": "cfd6400f",
   "metadata": {},
   "outputs": [
    {
     "name": "stdout",
     "output_type": "stream",
     "text": [
      "number steps:  169\n",
      "Observer initialized\n",
      "Description Observer:\n",
      "                The observer defines the conditions for when to write data to the output.\n",
      "\n",
      "observer tpye: TimeEvolutionObserverLog\n",
      "steps [0:10]:  [ 1  2  3  4  5  6  7  8  9 10]\n",
      "steps [-11:-1]:  [108304 115155 122439 130185 138420 147176 156486 166385 176910 188101]\n",
      "nr steps:  169\n",
      "substeps:  [False False  True]\n",
      "all_steps:  False\n"
     ]
    }
   ],
   "source": [
    "substeps = [False, False, True] # observe only steps (no substeps)\n",
    "min_step = 1\n",
    "max_step = nr_steps\n",
    "nr_obs_steps = 200\n",
    "\n",
    "observer = rw.TimeEvolutionObserverLog(min_step, max_step, nr_obs_steps, substeps)\n",
    "sim.add_observer(observer)\n",
    "sim.observer.get_description()"
   ]
  },
  {
   "cell_type": "code",
   "execution_count": 10,
   "id": "f1541944",
   "metadata": {},
   "outputs": [
    {
     "name": "stdout",
     "output_type": "stream",
     "text": [
      "CPU times: user 2.69 s, sys: 0 ns, total: 2.69 s\n",
      "Wall time: 2.7 s\n"
     ]
    }
   ],
   "source": [
    "%time sim.run_simulation()\n",
    "sim.save_data('data/data_sim')"
   ]
  },
  {
   "cell_type": "markdown",
   "id": "523b23ff",
   "metadata": {},
   "source": [
    "## Analyze statistics\n"
   ]
  },
  {
   "cell_type": "code",
   "execution_count": 11,
   "id": "10e57f70",
   "metadata": {},
   "outputs": [
    {
     "name": "stdout",
     "output_type": "stream",
     "text": [
      "init statistics plotting class\n"
     ]
    },
    {
     "data": {
      "image/png": "[encoded data removed]",
      "text/plain": [
       "<Figure size 288x288 with 1 Axes>"
      ]
     },
     "metadata": {
      "needs_background": "light"
     },
     "output_type": "display_data"
    }
   ],
   "source": [
    "df = pd.read_pickle(\"data/data_sim.pkl\")\n",
    "df_time_evolution_observer = df.loc[df['radius'] == -1.0]\n",
    "dimensions = 3\n",
    "sta = rw.Statistics(df_time_evolution_observer, dimensions)\n",
    "errors = False\n",
    "df_kappas = sta.plot_diffusion_coefficients(errors)"
   ]
  },
  {
   "cell_type": "code",
   "execution_count": 9,
   "id": "e26127fc",
   "metadata": {},
   "outputs": [
    {
     "name": "stderr",
     "output_type": "stream",
     "text": [
      "/home/patrick/.local/lib/python3.8/site-packages/scipy/stats/_distn_infrastructure.py:1870: RuntimeWarning: divide by zero encountered in true_divide\n",
      "  x = np.asarray((x - loc)/scale, dtype=dtyp)\n"
     ]
    },
    {
     "data": {
      "image/png": "[encoded data removed]",
      "text/plain": [
       "<Figure size 288x288 with 1 Axes>"
      ]
     },
     "metadata": {
      "needs_background": "light"
     },
     "output_type": "display_data"
    }
   ],
   "source": [
    "bins = 30\n",
    "file_name = None\n",
    "df_kappas = sta.plot_distribution('pitch_angle', -1, bins, file_name)"
   ]
  },
  {
   "cell_type": "code",
   "execution_count": null,
   "id": "e38f784b",
   "metadata": {},
   "outputs": [],
   "source": [
    "df"
   ]
  },
  {
   "cell_type": "code",
   "execution_count": 12,
   "id": "86fdfd47",
   "metadata": {},
   "outputs": [
    {
     "name": "stdout",
     "output_type": "stream",
     "text": [
      "init trajectory plotting class\n"
     ]
    },
    {
     "data": {
      "image/png": "[encoded data removed]",
      "text/plain": [
       "<Figure size 324x288 with 2 Axes>"
      ]
     },
     "metadata": {
      "needs_background": "light"
     },
     "output_type": "display_data"
    },
    {
     "data": {
      "image/png": "[encoded data removed]",
      "text/plain": [
       "<Figure size 324x288 with 2 Axes>"
      ]
     },
     "metadata": {
      "needs_background": "light"
     },
     "output_type": "display_data"
    }
   ],
   "source": [
    "tra = Trajectory(df_time_evolution_observer, dimensions)\n",
    "particle_ids = tra.get_particle_ids()\n",
    "nr_steps = 100\n",
    "tra.plot_trajectory('x', 'y', 'd', particle_ids[0], nr_steps, None)\n",
    "tra.plot_trajectory('d', 'z', 'd', particle_ids[0], nr_steps, None)"
   ]
  },
  {
   "cell_type": "code",
   "execution_count": 8,
   "id": "080ab728",
   "metadata": {},
   "outputs": [
    {
     "ename": "TypeError",
     "evalue": "object of type 'float' has no len()",
     "output_type": "error",
     "traceback": [
      "\u001b[0;31m---------------------------------------------------------------------------\u001b[0m",
      "\u001b[0;31mTypeError\u001b[0m                                 Traceback (most recent call last)",
      "\u001b[0;32m<ipython-input-8-7848bf487e93>\u001b[0m in \u001b[0;36m<module>\u001b[0;34m\u001b[0m\n\u001b[1;32m      1\u001b[0m \u001b[0ma\u001b[0m \u001b[0;34m=\u001b[0m \u001b[0;36m5.0\u001b[0m\u001b[0;34m\u001b[0m\u001b[0;34m\u001b[0m\u001b[0m\n\u001b[0;32m----> 2\u001b[0;31m \u001b[0mlen\u001b[0m\u001b[0;34m(\u001b[0m\u001b[0ma\u001b[0m\u001b[0;34m)\u001b[0m\u001b[0;34m\u001b[0m\u001b[0;34m\u001b[0m\u001b[0m\n\u001b[0m",
      "\u001b[0;31mTypeError\u001b[0m: object of type 'float' has no len()"
     ]
    }
   ],
   "source": []
  },
  {
   "cell_type": "code",
   "execution_count": null,
   "id": "474863eb",
   "metadata": {},
   "outputs": [],
   "source": []
  }
 ],
 "metadata": {
  "kernelspec": {
   "display_name": "Python 3",
   "language": "python",
   "name": "python3"
  },
  "language_info": {
   "codemirror_mode": {
    "name": "ipython",
    "version": 3
   },
   "file_extension": ".py",
   "mimetype": "text/x-python",
   "name": "python",
   "nbconvert_exporter": "python",
   "pygments_lexer": "ipython3",
   "version": "3.8.5"
  }
 },
 "nbformat": 4,
 "nbformat_minor": 5
}
