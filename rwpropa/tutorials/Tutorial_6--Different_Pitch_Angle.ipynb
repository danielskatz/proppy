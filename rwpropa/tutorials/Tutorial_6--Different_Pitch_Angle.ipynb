{
 "cells": [
  {
   "cell_type": "code",
   "execution_count": 1,
   "id": "5045552e",
   "metadata": {},
   "outputs": [],
   "source": [
    "import numpy as np\n",
    "import matplotlib.pyplot as plt\n",
    "import pandas as pd\n",
    "import os\n",
    "os.chdir('..')\n",
    "import rwpropa as rw"
   ]
  },
  {
   "cell_type": "markdown",
   "id": "612c2b8f",
   "metadata": {},
   "source": [
    "## Simulation setup"
   ]
  },
  {
   "cell_type": "markdown",
   "id": "95bb1fd1",
   "metadata": {},
   "source": [
    "#### Simulation setup"
   ]
  },
  {
   "cell_type": "code",
   "execution_count": 2,
   "id": "753756c3",
   "metadata": {},
   "outputs": [
    {
     "name": "stdout",
     "output_type": "stream",
     "text": [
      "start simulation\n"
     ]
    }
   ],
   "source": [
    "sim = rw.Simulation()"
   ]
  },
  {
   "cell_type": "markdown",
   "id": "b5615fb2",
   "metadata": {},
   "source": [
    "#### Source "
   ]
  },
  {
   "cell_type": "code",
   "execution_count": 3,
   "id": "e8fa9154",
   "metadata": {},
   "outputs": [
    {
     "name": "stdout",
     "output_type": "stream",
     "text": [
      "Description Source:\n",
      "                The source defines the start conditions of the particles \n",
      "                and covers the position, direction, energy, etc\n",
      "\n",
      "position:  [0. 0. 0.]\n",
      "number particles:  10\n",
      "energy:  3000000000000000  eV\n",
      "source tpye: PointSourceOriented\n",
      "pitch angle:  0.955393232541696\n",
      "phi:  0.0\n"
     ]
    }
   ],
   "source": [
    "nr_particles = 1*10**1\n",
    "source_pos = np.array([0.0, 0.0, 0.0], dtype=np.float32)\n",
    "delta_rho_div_phi = 1 #1/2**0.5 # (delta_r_rho / delta_r_phi)\n",
    "energy = 3*10**15 # eV\n",
    "phi = 0.0\n",
    "pitch_angle = 2*np.pi * 54.74/360 # pitch angle for equal components in all directions\n",
    "        \n",
    "\n",
    "source = rw.PointSourceOriented(energy, source_pos, nr_particles, pitch_angle, phi)\n",
    "sim.add_source(source)\n",
    "sim.source.get_description()"
   ]
  },
  {
   "cell_type": "markdown",
   "id": "20fdd580",
   "metadata": {},
   "source": [
    "#### Propagator"
   ]
  },
  {
   "cell_type": "code",
   "execution_count": 4,
   "id": "ae4a9f45",
   "metadata": {},
   "outputs": [
    {
     "name": "stdout",
     "output_type": "stream",
     "text": [
      "Propagator initialized\n",
      "Description Propagator:\n",
      "                The propagator is responsible for the movement of the particles. \n",
      "                It performs the change of direction and the movement in the respective direction.\n",
      "                There are two phases:\n",
      "                 - change direction with probability (see below)\n",
      "                 - move in all directions\n",
      "                The movement takes place according to the random walk (RW).\n",
      "\n",
      "propagation tpye: AnisotropicPropagator\n",
      "Description Propagator:\n",
      "                The propagator is responsible for the movement of the particles. \n",
      "                It performs the change of direction and the movement in the respective direction.\n",
      "                There are two phases:\n",
      "                 - change direction with probability (see below)\n",
      "                 - move in all directions\n",
      "                The movement takes place according to the random walk (RW).\n",
      "\n",
      "coordinates: Cylindrical coordinates\n",
      "dimensions:  3\n",
      "pitch angle: constant\n",
      "particle speed:  299800000.0  m/s\n",
      "number steps:  100000\n",
      "step size:  5000000000.0  m\n",
      "step duration:  16.677785873413086  s\n",
      "total distance:  500000000000000.0  m\n",
      "total duration:  1667778.5190126752  s\n",
      "probability to change directions in step:  [0.23474179 0.23474179 0.11860707] %\n"
     ]
    }
   ],
   "source": [
    "nr_steps = 1*10**5\n",
    "step_size = 0.5*10**10 # [m]\n",
    "mfp = np.array([2.13*10**12/2.0, 2.13*10**12/2.0, 2.1078*10**12], dtype=np.float32)  # [m]\n",
    "rms = 1 # Gaus\n",
    "magnetic_field = rw.OrderedBackgroundField(rms, [0,0,1]).magnetic_field\n",
    "\n",
    "propagator = rw.AnisotropicPropagator(magnetic_field, mfp, nr_steps, step_size)\n",
    "#propagator.set_pitch_angle_const(False)\n",
    "sim.add_propagator(propagator)\n",
    "sim.propagator.get_description()"
   ]
  },
  {
   "cell_type": "markdown",
   "id": "d89ac241",
   "metadata": {},
   "source": [
    "#### Observer"
   ]
  },
  {
   "cell_type": "code",
   "execution_count": 5,
   "id": "cfd6400f",
   "metadata": {},
   "outputs": [
    {
     "name": "stdout",
     "output_type": "stream",
     "text": [
      "number steps:  167\n",
      "Observer initialized\n",
      "Description Observer:\n",
      "                The observer defines the conditions for when to write data to the output.\n",
      "\n",
      "observer tpye: TimeEvolutionObserverLog\n",
      "steps [0:10]:  [ 1  2  3  4  5  6  7  8  9 10]\n",
      "steps [-11:-1]:  [56071 59411 62949 66699 70671 74881 79340 84066 89073 94378]\n",
      "nr steps:  167\n",
      "substeps:  [False False  True]\n",
      "all_steps:  False\n"
     ]
    }
   ],
   "source": [
    "substeps = [False, False, True] # observe only steps (no substeps)\n",
    "min_step = 1\n",
    "max_step = nr_steps\n",
    "nr_obs_steps = 200\n",
    "\n",
    "observer = rw.TimeEvolutionObserverLog(min_step, max_step, nr_obs_steps, substeps)\n",
    "sim.add_observer(observer)\n",
    "sim.observer.get_description()"
   ]
  },
  {
   "cell_type": "code",
   "execution_count": 8,
   "id": "f1541944",
   "metadata": {},
   "outputs": [
    {
     "name": "stdout",
     "output_type": "stream",
     "text": [
      "CPU times: user 1.78 s, sys: 904 µs, total: 1.78 s\n",
      "Wall time: 1.77 s\n"
     ]
    }
   ],
   "source": [
    "%time sim.run_simulation()\n",
    "sim.save_data('data/data_sim')"
   ]
  },
  {
   "cell_type": "markdown",
   "id": "523b23ff",
   "metadata": {},
   "source": [
    "## Analyze statistics\n"
   ]
  },
  {
   "cell_type": "code",
   "execution_count": 7,
   "id": "10e57f70",
   "metadata": {},
   "outputs": [
    {
     "name": "stdout",
     "output_type": "stream",
     "text": [
      "init statistics plotting class\n"
     ]
    },
    {
     "data": {
      "image/png": "[encoded data removed]",
      "text/plain": [
       "<Figure size 288x288 with 1 Axes>"
      ]
     },
     "metadata": {
      "needs_background": "light"
     },
     "output_type": "display_data"
    }
   ],
   "source": [
    "df = pd.read_pickle(\"data/data_sim.pkl\")\n",
    "df_time_evolution_observer = df.loc[df['radius'] == -1.0]\n",
    "sta = rw.Statistics(df_time_evolution_observer)\n",
    "errors = False\n",
    "df_kappas = sta.plot_diffusion_coefficients(errors)"
   ]
  },
  {
   "cell_type": "code",
   "execution_count": 9,
   "id": "e26127fc",
   "metadata": {},
   "outputs": [
    {
     "name": "stderr",
     "output_type": "stream",
     "text": [
      "/home/patrick/.local/lib/python3.8/site-packages/scipy/stats/_distn_infrastructure.py:1870: RuntimeWarning: divide by zero encountered in true_divide\n",
      "  x = np.asarray((x - loc)/scale, dtype=dtyp)\n"
     ]
    },
    {
     "data": {
      "image/png": "[encoded data removed]",
      "text/plain": [
       "<Figure size 288x288 with 1 Axes>"
      ]
     },
     "metadata": {
      "needs_background": "light"
     },
     "output_type": "display_data"
    }
   ],
   "source": [
    "bins = 30\n",
    "file_name = None\n",
    "df_kappas = sta.plot_distribution('pitch_angle', -1, bins, file_name)"
   ]
  },
  {
   "cell_type": "code",
   "execution_count": 10,
   "id": "e38f784b",
   "metadata": {},
   "outputs": [
    {
     "data": {
      "text/html": [
       "<div>\n",
       "<style scoped>\n",
       "    .dataframe tbody tr th:only-of-type {\n",
       "        vertical-align: middle;\n",
       "    }\n",
       "\n",
       "    .dataframe tbody tr th {\n",
       "        vertical-align: top;\n",
       "    }\n",
       "\n",
       "    .dataframe thead th {\n",
       "        text-align: right;\n",
       "    }\n",
       "</style>\n",
       "<table border=\"1\" class=\"dataframe\">\n",
       "  <thead>\n",
       "    <tr style=\"text-align: right;\">\n",
       "      <th></th>\n",
       "      <th>id</th>\n",
       "      <th>i</th>\n",
       "      <th>d</th>\n",
       "      <th>x</th>\n",
       "      <th>y</th>\n",
       "      <th>z</th>\n",
       "      <th>phi</th>\n",
       "      <th>pitch_angle</th>\n",
       "      <th>radius</th>\n",
       "      <th>sub_step</th>\n",
       "    </tr>\n",
       "  </thead>\n",
       "  <tbody>\n",
       "    <tr>\n",
       "      <th>0</th>\n",
       "      <td>0.0</td>\n",
       "      <td>0.0</td>\n",
       "      <td>0.000000e+00</td>\n",
       "      <td>0.000000e+00</td>\n",
       "      <td>0.000000e+00</td>\n",
       "      <td>0.000000e+00</td>\n",
       "      <td>0.000000</td>\n",
       "      <td>0.955393</td>\n",
       "      <td>-1.0</td>\n",
       "      <td>0.0</td>\n",
       "    </tr>\n",
       "    <tr>\n",
       "      <th>1</th>\n",
       "      <td>0.0</td>\n",
       "      <td>1.0</td>\n",
       "      <td>8.660254e+09</td>\n",
       "      <td>2.811186e+09</td>\n",
       "      <td>3.030200e+09</td>\n",
       "      <td>2.886438e+09</td>\n",
       "      <td>0.049968</td>\n",
       "      <td>0.955393</td>\n",
       "      <td>-1.0</td>\n",
       "      <td>2.0</td>\n",
       "    </tr>\n",
       "    <tr>\n",
       "      <th>2</th>\n",
       "      <td>0.0</td>\n",
       "      <td>2.0</td>\n",
       "      <td>1.732051e+10</td>\n",
       "      <td>5.467512e+09</td>\n",
       "      <td>6.197028e+09</td>\n",
       "      <td>5.772877e+09</td>\n",
       "      <td>0.099936</td>\n",
       "      <td>0.955393</td>\n",
       "      <td>-1.0</td>\n",
       "      <td>2.0</td>\n",
       "    </tr>\n",
       "    <tr>\n",
       "      <th>3</th>\n",
       "      <td>0.0</td>\n",
       "      <td>3.0</td>\n",
       "      <td>2.598076e+10</td>\n",
       "      <td>7.962350e+09</td>\n",
       "      <td>9.492579e+09</td>\n",
       "      <td>8.659315e+09</td>\n",
       "      <td>0.149904</td>\n",
       "      <td>0.955393</td>\n",
       "      <td>-1.0</td>\n",
       "      <td>2.0</td>\n",
       "    </tr>\n",
       "    <tr>\n",
       "      <th>4</th>\n",
       "      <td>0.0</td>\n",
       "      <td>4.0</td>\n",
       "      <td>3.464101e+10</td>\n",
       "      <td>1.028947e+10</td>\n",
       "      <td>1.290863e+10</td>\n",
       "      <td>1.154575e+10</td>\n",
       "      <td>0.199872</td>\n",
       "      <td>0.955393</td>\n",
       "      <td>-1.0</td>\n",
       "      <td>2.0</td>\n",
       "    </tr>\n",
       "    <tr>\n",
       "      <th>...</th>\n",
       "      <td>...</td>\n",
       "      <td>...</td>\n",
       "      <td>...</td>\n",
       "      <td>...</td>\n",
       "      <td>...</td>\n",
       "      <td>...</td>\n",
       "      <td>...</td>\n",
       "      <td>...</td>\n",
       "      <td>...</td>\n",
       "      <td>...</td>\n",
       "    </tr>\n",
       "    <tr>\n",
       "      <th>1685</th>\n",
       "      <td>9.0</td>\n",
       "      <td>147176.0</td>\n",
       "      <td>8.459753e+14</td>\n",
       "      <td>-6.497339e+11</td>\n",
       "      <td>1.341753e+12</td>\n",
       "      <td>-3.446436e+12</td>\n",
       "      <td>-461.868286</td>\n",
       "      <td>0.955393</td>\n",
       "      <td>-1.0</td>\n",
       "      <td>2.0</td>\n",
       "    </tr>\n",
       "    <tr>\n",
       "      <th>1686</th>\n",
       "      <td>9.0</td>\n",
       "      <td>156486.0</td>\n",
       "      <td>9.053395e+14</td>\n",
       "      <td>-8.019469e+11</td>\n",
       "      <td>3.055594e+11</td>\n",
       "      <td>2.187936e+12</td>\n",
       "      <td>-492.242310</td>\n",
       "      <td>0.955393</td>\n",
       "      <td>-1.0</td>\n",
       "      <td>2.0</td>\n",
       "    </tr>\n",
       "    <tr>\n",
       "      <th>1687</th>\n",
       "      <td>9.0</td>\n",
       "      <td>166385.0</td>\n",
       "      <td>9.572039e+14</td>\n",
       "      <td>-1.095700e+12</td>\n",
       "      <td>9.525145e+11</td>\n",
       "      <td>-3.079855e+12</td>\n",
       "      <td>-497.587738</td>\n",
       "      <td>0.955393</td>\n",
       "      <td>-1.0</td>\n",
       "      <td>2.0</td>\n",
       "    </tr>\n",
       "    <tr>\n",
       "      <th>1688</th>\n",
       "      <td>9.0</td>\n",
       "      <td>176910.0</td>\n",
       "      <td>1.018199e+15</td>\n",
       "      <td>-1.996943e+12</td>\n",
       "      <td>6.441347e+11</td>\n",
       "      <td>-2.828732e+12</td>\n",
       "      <td>-501.234619</td>\n",
       "      <td>0.955393</td>\n",
       "      <td>-1.0</td>\n",
       "      <td>2.0</td>\n",
       "    </tr>\n",
       "    <tr>\n",
       "      <th>1689</th>\n",
       "      <td>9.0</td>\n",
       "      <td>188101.0</td>\n",
       "      <td>1.076175e+15</td>\n",
       "      <td>-1.215369e+12</td>\n",
       "      <td>4.412396e+10</td>\n",
       "      <td>-9.441288e+12</td>\n",
       "      <td>-437.039520</td>\n",
       "      <td>0.955393</td>\n",
       "      <td>-1.0</td>\n",
       "      <td>2.0</td>\n",
       "    </tr>\n",
       "  </tbody>\n",
       "</table>\n",
       "<p>1690 rows × 10 columns</p>\n",
       "</div>"
      ],
      "text/plain": [
       "       id         i             d             x             y             z  \\\n",
       "0     0.0       0.0  0.000000e+00  0.000000e+00  0.000000e+00  0.000000e+00   \n",
       "1     0.0       1.0  8.660254e+09  2.811186e+09  3.030200e+09  2.886438e+09   \n",
       "2     0.0       2.0  1.732051e+10  5.467512e+09  6.197028e+09  5.772877e+09   \n",
       "3     0.0       3.0  2.598076e+10  7.962350e+09  9.492579e+09  8.659315e+09   \n",
       "4     0.0       4.0  3.464101e+10  1.028947e+10  1.290863e+10  1.154575e+10   \n",
       "...   ...       ...           ...           ...           ...           ...   \n",
       "1685  9.0  147176.0  8.459753e+14 -6.497339e+11  1.341753e+12 -3.446436e+12   \n",
       "1686  9.0  156486.0  9.053395e+14 -8.019469e+11  3.055594e+11  2.187936e+12   \n",
       "1687  9.0  166385.0  9.572039e+14 -1.095700e+12  9.525145e+11 -3.079855e+12   \n",
       "1688  9.0  176910.0  1.018199e+15 -1.996943e+12  6.441347e+11 -2.828732e+12   \n",
       "1689  9.0  188101.0  1.076175e+15 -1.215369e+12  4.412396e+10 -9.441288e+12   \n",
       "\n",
       "             phi  pitch_angle  radius  sub_step  \n",
       "0       0.000000     0.955393    -1.0       0.0  \n",
       "1       0.049968     0.955393    -1.0       2.0  \n",
       "2       0.099936     0.955393    -1.0       2.0  \n",
       "3       0.149904     0.955393    -1.0       2.0  \n",
       "4       0.199872     0.955393    -1.0       2.0  \n",
       "...          ...          ...     ...       ...  \n",
       "1685 -461.868286     0.955393    -1.0       2.0  \n",
       "1686 -492.242310     0.955393    -1.0       2.0  \n",
       "1687 -497.587738     0.955393    -1.0       2.0  \n",
       "1688 -501.234619     0.955393    -1.0       2.0  \n",
       "1689 -437.039520     0.955393    -1.0       2.0  \n",
       "\n",
       "[1690 rows x 10 columns]"
      ]
     },
     "execution_count": 10,
     "metadata": {},
     "output_type": "execute_result"
    }
   ],
   "source": [
    "df"
   ]
  },
  {
   "cell_type": "code",
   "execution_count": 11,
   "id": "86fdfd47",
   "metadata": {},
   "outputs": [
    {
     "name": "stdout",
     "output_type": "stream",
     "text": [
      "init trajectory plotting class\n"
     ]
    },
    {
     "data": {
      "image/png": "[encoded data removed]",
      "text/plain": [
       "<Figure size 324x288 with 2 Axes>"
      ]
     },
     "metadata": {
      "needs_background": "light"
     },
     "output_type": "display_data"
    },
    {
     "data": {
      "image/png": "[encoded data removed]",
      "text/plain": [
       "<Figure size 324x288 with 2 Axes>"
      ]
     },
     "metadata": {
      "needs_background": "light"
     },
     "output_type": "display_data"
    }
   ],
   "source": [
    "tra = rw.Trajectory(df_time_evolution_observer)\n",
    "particle_ids = tra.get_particle_ids()\n",
    "nr_steps = 100\n",
    "tra.plot_trajectory('x', 'y', 'd', particle_ids[0], nr_steps, None)\n",
    "tra.plot_trajectory('d', 'z', 'd', particle_ids[0], nr_steps, None)"
   ]
  },
  {
   "cell_type": "code",
   "execution_count": null,
   "id": "080ab728",
   "metadata": {},
   "outputs": [],
   "source": []
  },
  {
   "cell_type": "code",
   "execution_count": null,
   "id": "474863eb",
   "metadata": {},
   "outputs": [],
   "source": []
  }
 ],
 "metadata": {
  "kernelspec": {
   "display_name": "Python 3",
   "language": "python",
   "name": "python3"
  },
  "language_info": {
   "codemirror_mode": {
    "name": "ipython",
    "version": 3
   },
   "file_extension": ".py",
   "mimetype": "text/x-python",
   "name": "python",
   "nbconvert_exporter": "python",
   "pygments_lexer": "ipython3",
   "version": "3.8.5"
  }
 },
 "nbformat": 4,
 "nbformat_minor": 5
}
