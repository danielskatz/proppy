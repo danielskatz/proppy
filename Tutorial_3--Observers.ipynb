{
 "cells": [
  {
   "cell_type": "code",
   "execution_count": 1,
   "id": "5045552e",
   "metadata": {},
   "outputs": [],
   "source": [
    "import numpy as np\n",
    "import matplotlib.pyplot as plt\n",
    "import pandas as pd\n",
    "from files.Simulation import Simulation\n",
    "from files.Source import Source\n",
    "from files.Observer import Observer\n",
    "from plot.Trajectory import Trajectory\n",
    "from plot.Statistics import Statistics"
   ]
  },
  {
   "cell_type": "markdown",
   "id": "612c2b8f",
   "metadata": {},
   "source": [
    "## Simulation setup"
   ]
  },
  {
   "cell_type": "markdown",
   "id": "95bb1fd1",
   "metadata": {},
   "source": [
    "#### Parameters"
   ]
  },
  {
   "cell_type": "code",
   "execution_count": 2,
   "id": "753756c3",
   "metadata": {},
   "outputs": [],
   "source": [
    "nr_particles = 10**2\n",
    "nr_steps = 3*10**4\n",
    "source_pos = np.array([0.0, 0.0, 0.0], dtype=np.float32)\n",
    "mfp = np.array([3.75*10**13/4.0, 3.75*10**13/4.0, 7.2*10**13])  # [m]\n",
    "delta_rho_div_phi = 1 # (delta_r_rho / delta_r_phi)\n",
    "gyro_radius = 10**11 # [m]; 1pc\n",
    "all_steps = False"
   ]
  },
  {
   "cell_type": "code",
   "execution_count": 3,
   "id": "68e09726",
   "metadata": {},
   "outputs": [
    {
     "name": "stdout",
     "output_type": "stream",
     "text": [
      "start simulation\n",
      "source\n"
     ]
    }
   ],
   "source": [
    "sim = Simulation()\n",
    "\n",
    "source = Source(gyro_radius, mfp, source_pos, nr_particles)\n",
    "sim.add_source(source)"
   ]
  },
  {
   "cell_type": "code",
   "execution_count": 8,
   "id": "d23a0edc",
   "metadata": {},
   "outputs": [
    {
     "name": "stdout",
     "output_type": "stream",
     "text": [
      "observer\n"
     ]
    }
   ],
   "source": [
    "substeps = np.array([False, False, True]) # observe only steps (no substeps)\n",
    "steps = [0,1,2] # [-1] to observe all\n",
    "steps_int32 = np.array(steps, dtype=np.int32) # np.array([-1])\n",
    "observer = Observer(steps_int32, substeps)\n",
    "sim.add_observer(observer)"
   ]
  },
  {
   "cell_type": "code",
   "execution_count": 9,
   "id": "f1541944",
   "metadata": {},
   "outputs": [
    {
     "name": "stdout",
     "output_type": "stream",
     "text": [
      "CPU times: user 28.9 s, sys: 1.27 s, total: 30.2 s\n",
      "Wall time: 30.2 s\n"
     ]
    }
   ],
   "source": [
    "%time sim.run_simulation(nr_steps)\n",
    "sim.save_data('data')"
   ]
  },
  {
   "cell_type": "markdown",
   "id": "523b23ff",
   "metadata": {},
   "source": [
    "## Analyze statistics\n"
   ]
  },
  {
   "cell_type": "code",
   "execution_count": 10,
   "id": "10e57f70",
   "metadata": {},
   "outputs": [
    {
     "name": "stdout",
     "output_type": "stream",
     "text": [
      "init statistics plotting class\n",
      "init trajectory plotting class\n"
     ]
    },
    {
     "data": {
      "text/html": [
       "<div>\n",
       "<style scoped>\n",
       "    .dataframe tbody tr th:only-of-type {\n",
       "        vertical-align: middle;\n",
       "    }\n",
       "\n",
       "    .dataframe tbody tr th {\n",
       "        vertical-align: top;\n",
       "    }\n",
       "\n",
       "    .dataframe thead th {\n",
       "        text-align: right;\n",
       "    }\n",
       "</style>\n",
       "<table border=\"1\" class=\"dataframe\">\n",
       "  <thead>\n",
       "    <tr style=\"text-align: right;\">\n",
       "      <th></th>\n",
       "      <th>id</th>\n",
       "      <th>i</th>\n",
       "      <th>d</th>\n",
       "      <th>x</th>\n",
       "      <th>y</th>\n",
       "      <th>z</th>\n",
       "      <th>radius</th>\n",
       "      <th>step</th>\n",
       "    </tr>\n",
       "  </thead>\n",
       "  <tbody>\n",
       "    <tr>\n",
       "      <th>0</th>\n",
       "      <td>0.0</td>\n",
       "      <td>0.0</td>\n",
       "      <td>0.000000e+00</td>\n",
       "      <td>0.000000e+00</td>\n",
       "      <td>0.000000e+00</td>\n",
       "      <td>0.000000e+00</td>\n",
       "      <td>-1.0</td>\n",
       "      <td>2.0</td>\n",
       "    </tr>\n",
       "    <tr>\n",
       "      <th>1</th>\n",
       "      <td>0.0</td>\n",
       "      <td>1.0</td>\n",
       "      <td>5.000000e+09</td>\n",
       "      <td>2.810974e+09</td>\n",
       "      <td>3.030141e+09</td>\n",
       "      <td>2.886751e+09</td>\n",
       "      <td>-1.0</td>\n",
       "      <td>2.0</td>\n",
       "    </tr>\n",
       "    <tr>\n",
       "      <th>2</th>\n",
       "      <td>0.0</td>\n",
       "      <td>2.0</td>\n",
       "      <td>1.000000e+10</td>\n",
       "      <td>5.466976e+09</td>\n",
       "      <td>6.197000e+09</td>\n",
       "      <td>5.773502e+09</td>\n",
       "      <td>-1.0</td>\n",
       "      <td>2.0</td>\n",
       "    </tr>\n",
       "    <tr>\n",
       "      <th>3</th>\n",
       "      <td>1.0</td>\n",
       "      <td>0.0</td>\n",
       "      <td>0.000000e+00</td>\n",
       "      <td>0.000000e+00</td>\n",
       "      <td>0.000000e+00</td>\n",
       "      <td>0.000000e+00</td>\n",
       "      <td>-1.0</td>\n",
       "      <td>2.0</td>\n",
       "    </tr>\n",
       "    <tr>\n",
       "      <th>4</th>\n",
       "      <td>1.0</td>\n",
       "      <td>1.0</td>\n",
       "      <td>5.000000e+09</td>\n",
       "      <td>2.810974e+09</td>\n",
       "      <td>3.030141e+09</td>\n",
       "      <td>2.886751e+09</td>\n",
       "      <td>-1.0</td>\n",
       "      <td>2.0</td>\n",
       "    </tr>\n",
       "    <tr>\n",
       "      <th>...</th>\n",
       "      <td>...</td>\n",
       "      <td>...</td>\n",
       "      <td>...</td>\n",
       "      <td>...</td>\n",
       "      <td>...</td>\n",
       "      <td>...</td>\n",
       "      <td>...</td>\n",
       "      <td>...</td>\n",
       "    </tr>\n",
       "    <tr>\n",
       "      <th>3000295</th>\n",
       "      <td>99.0</td>\n",
       "      <td>29995.0</td>\n",
       "      <td>2.996889e+14</td>\n",
       "      <td>5.608999e+09</td>\n",
       "      <td>5.800944e+11</td>\n",
       "      <td>8.657518e+13</td>\n",
       "      <td>-1.0</td>\n",
       "      <td>2.0</td>\n",
       "    </tr>\n",
       "    <tr>\n",
       "      <th>3000296</th>\n",
       "      <td>99.0</td>\n",
       "      <td>29996.0</td>\n",
       "      <td>2.996940e+14</td>\n",
       "      <td>1.832659e+09</td>\n",
       "      <td>5.786841e+11</td>\n",
       "      <td>8.657807e+13</td>\n",
       "      <td>-1.0</td>\n",
       "      <td>2.0</td>\n",
       "    </tr>\n",
       "    <tr>\n",
       "      <th>3000297</th>\n",
       "      <td>99.0</td>\n",
       "      <td>29997.0</td>\n",
       "      <td>2.996990e+14</td>\n",
       "      <td>-1.868446e+09</td>\n",
       "      <td>5.770867e+11</td>\n",
       "      <td>8.658095e+13</td>\n",
       "      <td>-1.0</td>\n",
       "      <td>2.0</td>\n",
       "    </tr>\n",
       "    <tr>\n",
       "      <th>3000298</th>\n",
       "      <td>99.0</td>\n",
       "      <td>29998.0</td>\n",
       "      <td>2.997040e+14</td>\n",
       "      <td>-5.485058e+09</td>\n",
       "      <td>5.753063e+11</td>\n",
       "      <td>8.658384e+13</td>\n",
       "      <td>-1.0</td>\n",
       "      <td>2.0</td>\n",
       "    </tr>\n",
       "    <tr>\n",
       "      <th>3000299</th>\n",
       "      <td>99.0</td>\n",
       "      <td>29999.0</td>\n",
       "      <td>2.997091e+14</td>\n",
       "      <td>-9.008129e+09</td>\n",
       "      <td>5.733473e+11</td>\n",
       "      <td>8.658673e+13</td>\n",
       "      <td>-1.0</td>\n",
       "      <td>2.0</td>\n",
       "    </tr>\n",
       "  </tbody>\n",
       "</table>\n",
       "<p>3000300 rows × 8 columns</p>\n",
       "</div>"
      ],
      "text/plain": [
       "           id        i             d             x             y  \\\n",
       "0         0.0      0.0  0.000000e+00  0.000000e+00  0.000000e+00   \n",
       "1         0.0      1.0  5.000000e+09  2.810974e+09  3.030141e+09   \n",
       "2         0.0      2.0  1.000000e+10  5.466976e+09  6.197000e+09   \n",
       "3         1.0      0.0  0.000000e+00  0.000000e+00  0.000000e+00   \n",
       "4         1.0      1.0  5.000000e+09  2.810974e+09  3.030141e+09   \n",
       "...       ...      ...           ...           ...           ...   \n",
       "3000295  99.0  29995.0  2.996889e+14  5.608999e+09  5.800944e+11   \n",
       "3000296  99.0  29996.0  2.996940e+14  1.832659e+09  5.786841e+11   \n",
       "3000297  99.0  29997.0  2.996990e+14 -1.868446e+09  5.770867e+11   \n",
       "3000298  99.0  29998.0  2.997040e+14 -5.485058e+09  5.753063e+11   \n",
       "3000299  99.0  29999.0  2.997091e+14 -9.008129e+09  5.733473e+11   \n",
       "\n",
       "                    z  radius  step  \n",
       "0        0.000000e+00    -1.0   2.0  \n",
       "1        2.886751e+09    -1.0   2.0  \n",
       "2        5.773502e+09    -1.0   2.0  \n",
       "3        0.000000e+00    -1.0   2.0  \n",
       "4        2.886751e+09    -1.0   2.0  \n",
       "...               ...     ...   ...  \n",
       "3000295  8.657518e+13    -1.0   2.0  \n",
       "3000296  8.657807e+13    -1.0   2.0  \n",
       "3000297  8.658095e+13    -1.0   2.0  \n",
       "3000298  8.658384e+13    -1.0   2.0  \n",
       "3000299  8.658673e+13    -1.0   2.0  \n",
       "\n",
       "[3000300 rows x 8 columns]"
      ]
     },
     "execution_count": 10,
     "metadata": {},
     "output_type": "execute_result"
    }
   ],
   "source": [
    "#from plot.Trajectory import Trajectory\n",
    "\n",
    "df = pd.read_pickle(\"data.pkl\")\n",
    "df_time_evolution_observer = df.loc[df['radius'] == -1.0]\n",
    "dimensions = 3\n",
    "sta = Statistics(df_time_evolution_observer, dimensions)\n",
    "tra = Trajectory(df_time_evolution_observer, dimensions)\n",
    "particle_ids = tra.get_particle_ids()\n",
    "df"
   ]
  },
  {
   "cell_type": "code",
   "execution_count": 12,
   "id": "f3d29923",
   "metadata": {},
   "outputs": [
    {
     "data": {
      "image/png": "[encoded data removed]",
      "text/plain": [
       "<Figure size 324x288 with 2 Axes>"
      ]
     },
     "metadata": {
      "needs_background": "light"
     },
     "output_type": "display_data"
    }
   ],
   "source": [
    "nr_steps = 3*10**4\n",
    "tra.plot_trajectory('x', 'y', 'd', particle_ids[0], nr_steps, None)"
   ]
  },
  {
   "cell_type": "code",
   "execution_count": 9,
   "id": "7fe0fa41",
   "metadata": {},
   "outputs": [
    {
     "data": {
      "image/png": "[encoded data removed]",
      "text/plain": [
       "<Figure size 288x288 with 1 Axes>"
      ]
     },
     "metadata": {
      "needs_background": "light"
     },
     "output_type": "display_data"
    }
   ],
   "source": [
    "bins = 20\n",
    "file_name = None\n",
    "sta.plot_distribution('x', -1, bins, file_name)"
   ]
  },
  {
   "cell_type": "code",
   "execution_count": 8,
   "id": "8bd78bf4",
   "metadata": {},
   "outputs": [
    {
     "data": {
      "image/png": "[encoded data removed]",
      "text/plain": [
       "<Figure size 288x288 with 1 Axes>"
      ]
     },
     "metadata": {
      "needs_background": "light"
     },
     "output_type": "display_data"
    }
   ],
   "source": [
    "errors = False\n",
    "df_kappas = sta.plot_diffusion_coefficients(errors)"
   ]
  },
  {
   "cell_type": "code",
   "execution_count": 8,
   "id": "6324c106",
   "metadata": {},
   "outputs": [
    {
     "data": {
      "text/html": [
       "<div>\n",
       "<style scoped>\n",
       "    .dataframe tbody tr th:only-of-type {\n",
       "        vertical-align: middle;\n",
       "    }\n",
       "\n",
       "    .dataframe tbody tr th {\n",
       "        vertical-align: top;\n",
       "    }\n",
       "\n",
       "    .dataframe thead th {\n",
       "        text-align: right;\n",
       "    }\n",
       "</style>\n",
       "<table border=\"1\" class=\"dataframe\">\n",
       "  <thead>\n",
       "    <tr style=\"text-align: right;\">\n",
       "      <th></th>\n",
       "      <th>kappa_perp</th>\n",
       "      <th>kappa_para</th>\n",
       "    </tr>\n",
       "  </thead>\n",
       "  <tbody>\n",
       "    <tr>\n",
       "      <th>0</th>\n",
       "      <td>2.560727e+17</td>\n",
       "      <td>2.498270e+17</td>\n",
       "    </tr>\n",
       "    <tr>\n",
       "      <th>1</th>\n",
       "      <td>5.118255e+17</td>\n",
       "      <td>4.996541e+17</td>\n",
       "    </tr>\n",
       "    <tr>\n",
       "      <th>2</th>\n",
       "      <td>7.669386e+17</td>\n",
       "      <td>7.494811e+17</td>\n",
       "    </tr>\n",
       "    <tr>\n",
       "      <th>3</th>\n",
       "      <td>1.021093e+18</td>\n",
       "      <td>9.993081e+17</td>\n",
       "    </tr>\n",
       "    <tr>\n",
       "      <th>4</th>\n",
       "      <td>1.273973e+18</td>\n",
       "      <td>1.249135e+18</td>\n",
       "    </tr>\n",
       "    <tr>\n",
       "      <th>...</th>\n",
       "      <td>...</td>\n",
       "      <td>...</td>\n",
       "    </tr>\n",
       "    <tr>\n",
       "      <th>3174</th>\n",
       "      <td>1.290582e+17</td>\n",
       "      <td>4.386411e+21</td>\n",
       "    </tr>\n",
       "    <tr>\n",
       "      <th>3175</th>\n",
       "      <td>1.298575e+17</td>\n",
       "      <td>4.387496e+21</td>\n",
       "    </tr>\n",
       "    <tr>\n",
       "      <th>3176</th>\n",
       "      <td>1.317737e+17</td>\n",
       "      <td>4.388582e+21</td>\n",
       "    </tr>\n",
       "    <tr>\n",
       "      <th>3177</th>\n",
       "      <td>1.343293e+17</td>\n",
       "      <td>4.389669e+21</td>\n",
       "    </tr>\n",
       "    <tr>\n",
       "      <th>3178</th>\n",
       "      <td>1.369391e+17</td>\n",
       "      <td>4.390757e+21</td>\n",
       "    </tr>\n",
       "  </tbody>\n",
       "</table>\n",
       "<p>3179 rows × 2 columns</p>\n",
       "</div>"
      ],
      "text/plain": [
       "        kappa_perp    kappa_para\n",
       "0     2.560727e+17  2.498270e+17\n",
       "1     5.118255e+17  4.996541e+17\n",
       "2     7.669386e+17  7.494811e+17\n",
       "3     1.021093e+18  9.993081e+17\n",
       "4     1.273973e+18  1.249135e+18\n",
       "...            ...           ...\n",
       "3174  1.290582e+17  4.386411e+21\n",
       "3175  1.298575e+17  4.387496e+21\n",
       "3176  1.317737e+17  4.388582e+21\n",
       "3177  1.343293e+17  4.389669e+21\n",
       "3178  1.369391e+17  4.390757e+21\n",
       "\n",
       "[3179 rows x 2 columns]"
      ]
     },
     "execution_count": 8,
     "metadata": {},
     "output_type": "execute_result"
    }
   ],
   "source": [
    "df_kappas"
   ]
  },
  {
   "cell_type": "code",
   "execution_count": null,
   "id": "a17648a8",
   "metadata": {},
   "outputs": [],
   "source": []
  }
 ],
 "metadata": {
  "kernelspec": {
   "display_name": "Python 3",
   "language": "python",
   "name": "python3"
  },
  "language_info": {
   "codemirror_mode": {
    "name": "ipython",
    "version": 3
   },
   "file_extension": ".py",
   "mimetype": "text/x-python",
   "name": "python",
   "nbconvert_exporter": "python",
   "pygments_lexer": "ipython3",
   "version": "3.8.5"
  }
 },
 "nbformat": 4,
 "nbformat_minor": 5
}
